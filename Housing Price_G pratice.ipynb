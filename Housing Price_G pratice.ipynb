{
 "cells": [
  {
   "cell_type": "code",
   "execution_count": 5,
   "metadata": {},
   "outputs": [],
   "source": [
    "import pandas as pd\n",
    "import numpy as np\n",
    "import matplotlib.pyplot as plt\n",
    "% matplotlib inline\n",
    "import matplotlib.image as mpimg\n",
    "import seaborn as sns\n",
    "import statsmodels.formula.api as smf\n",
    "from statsmodels.graphics.gofplots import qqplot\n",
    "from scipy import stats\n",
    "import warnings\n",
    "warnings.filterwarnings('ignore')"
   ]
  },
  {
   "cell_type": "code",
   "execution_count": 6,
   "metadata": {},
   "outputs": [
    {
     "data": {
      "text/plain": [
       "(1460, 81)"
      ]
     },
     "execution_count": 6,
     "metadata": {},
     "output_type": "execute_result"
    }
   ],
   "source": [
    "housing_data = pd.read_csv('C:/Girish_File/Girish_DS_pratice/housing_price.csv')\n",
    "housing_data.shape"
   ]
  },
  {
   "cell_type": "markdown",
   "metadata": {},
   "source": [
    "sample split - StratifiedShuffleSplit"
   ]
  },
  {
   "cell_type": "code",
   "execution_count": 7,
   "metadata": {},
   "outputs": [],
   "source": [
    "from sklearn.model_selection import StratifiedShuffleSplit"
   ]
  },
  {
   "cell_type": "code",
   "execution_count": 8,
   "metadata": {},
   "outputs": [
    {
     "name": "stdout",
     "output_type": "stream",
     "text": [
      "housing_train_data_shape (1168, 81)\n",
      "housing_test_data (292, 81)\n"
     ]
    }
   ],
   "source": [
    "div =StratifiedShuffleSplit(n_splits=1,test_size=0.2,random_state=42)\n",
    "for train_index,test_index in div.split(housing_data,housing_data['Neighborhood']):\n",
    "    housing_train_set = housing_data.loc[train_index]\n",
    "    housing_test_set = housing_data.loc[test_index]\n",
    "print('housing_train_data_shape',housing_train_set.shape)\n",
    "print('housing_test_data',housing_test_set.shape)"
   ]
  },
  {
   "cell_type": "markdown",
   "metadata": {},
   "source": [
    "custom Sampling code"
   ]
  },
  {
   "cell_type": "code",
   "execution_count": 9,
   "metadata": {},
   "outputs": [
    {
     "name": "stdout",
     "output_type": "stream",
     "text": [
      "max_index 1460\n",
      "number 1168.0\n"
     ]
    }
   ],
   "source": [
    "max_index = housing_data.shape[0]\n",
    "print('max_index',max_index)\n",
    "number = max_index*80/100\n",
    "print('number', number)"
   ]
  },
  {
   "cell_type": "code",
   "execution_count": 10,
   "metadata": {},
   "outputs": [
    {
     "data": {
      "text/plain": [
       "array([   0,    1,    2, ..., 1457, 1458, 1460])"
      ]
     },
     "execution_count": 10,
     "metadata": {},
     "output_type": "execute_result"
    }
   ],
   "source": [
    "train_index_c = np.linspace(start=0,stop=max_index,num=number,dtype=int)\n",
    "train_index_c"
   ]
  },
  {
   "cell_type": "code",
   "execution_count": 11,
   "metadata": {},
   "outputs": [
    {
     "data": {
      "text/plain": [
       "292"
      ]
     },
     "execution_count": 11,
     "metadata": {},
     "output_type": "execute_result"
    }
   ],
   "source": [
    "test_index_c = [x for x in range(max_index) if x not in train_index]\n",
    "len(test_index_c)"
   ]
  },
  {
   "cell_type": "code",
   "execution_count": 12,
   "metadata": {},
   "outputs": [
    {
     "data": {
      "text/html": [
       "<div>\n",
       "<style scoped>\n",
       "    .dataframe tbody tr th:only-of-type {\n",
       "        vertical-align: middle;\n",
       "    }\n",
       "\n",
       "    .dataframe tbody tr th {\n",
       "        vertical-align: top;\n",
       "    }\n",
       "\n",
       "    .dataframe thead th {\n",
       "        text-align: right;\n",
       "    }\n",
       "</style>\n",
       "<table border=\"1\" class=\"dataframe\">\n",
       "  <thead>\n",
       "    <tr style=\"text-align: right;\">\n",
       "      <th></th>\n",
       "      <th>Id</th>\n",
       "      <th>MSSubClass</th>\n",
       "      <th>MSZoning</th>\n",
       "      <th>LotFrontage</th>\n",
       "      <th>LotArea</th>\n",
       "      <th>Street</th>\n",
       "      <th>Alley</th>\n",
       "      <th>LotShape</th>\n",
       "      <th>LandContour</th>\n",
       "      <th>Utilities</th>\n",
       "      <th>...</th>\n",
       "      <th>PoolArea</th>\n",
       "      <th>PoolQC</th>\n",
       "      <th>Fence</th>\n",
       "      <th>MiscFeature</th>\n",
       "      <th>MiscVal</th>\n",
       "      <th>MoSold</th>\n",
       "      <th>YrSold</th>\n",
       "      <th>SaleType</th>\n",
       "      <th>SaleCondition</th>\n",
       "      <th>SalePrice</th>\n",
       "    </tr>\n",
       "  </thead>\n",
       "  <tbody>\n",
       "    <tr>\n",
       "      <th>0</th>\n",
       "      <td>1.0</td>\n",
       "      <td>60.0</td>\n",
       "      <td>RL</td>\n",
       "      <td>65.0</td>\n",
       "      <td>8450.0</td>\n",
       "      <td>Pave</td>\n",
       "      <td>NaN</td>\n",
       "      <td>Reg</td>\n",
       "      <td>Lvl</td>\n",
       "      <td>AllPub</td>\n",
       "      <td>...</td>\n",
       "      <td>0.0</td>\n",
       "      <td>NaN</td>\n",
       "      <td>NaN</td>\n",
       "      <td>NaN</td>\n",
       "      <td>0.0</td>\n",
       "      <td>2.0</td>\n",
       "      <td>2008.0</td>\n",
       "      <td>WD</td>\n",
       "      <td>Normal</td>\n",
       "      <td>208500.0</td>\n",
       "    </tr>\n",
       "    <tr>\n",
       "      <th>1</th>\n",
       "      <td>2.0</td>\n",
       "      <td>20.0</td>\n",
       "      <td>RL</td>\n",
       "      <td>80.0</td>\n",
       "      <td>9600.0</td>\n",
       "      <td>Pave</td>\n",
       "      <td>NaN</td>\n",
       "      <td>Reg</td>\n",
       "      <td>Lvl</td>\n",
       "      <td>AllPub</td>\n",
       "      <td>...</td>\n",
       "      <td>0.0</td>\n",
       "      <td>NaN</td>\n",
       "      <td>NaN</td>\n",
       "      <td>NaN</td>\n",
       "      <td>0.0</td>\n",
       "      <td>5.0</td>\n",
       "      <td>2007.0</td>\n",
       "      <td>WD</td>\n",
       "      <td>Normal</td>\n",
       "      <td>181500.0</td>\n",
       "    </tr>\n",
       "    <tr>\n",
       "      <th>2</th>\n",
       "      <td>3.0</td>\n",
       "      <td>60.0</td>\n",
       "      <td>RL</td>\n",
       "      <td>68.0</td>\n",
       "      <td>11250.0</td>\n",
       "      <td>Pave</td>\n",
       "      <td>NaN</td>\n",
       "      <td>IR1</td>\n",
       "      <td>Lvl</td>\n",
       "      <td>AllPub</td>\n",
       "      <td>...</td>\n",
       "      <td>0.0</td>\n",
       "      <td>NaN</td>\n",
       "      <td>NaN</td>\n",
       "      <td>NaN</td>\n",
       "      <td>0.0</td>\n",
       "      <td>9.0</td>\n",
       "      <td>2008.0</td>\n",
       "      <td>WD</td>\n",
       "      <td>Normal</td>\n",
       "      <td>223500.0</td>\n",
       "    </tr>\n",
       "    <tr>\n",
       "      <th>3</th>\n",
       "      <td>4.0</td>\n",
       "      <td>70.0</td>\n",
       "      <td>RL</td>\n",
       "      <td>60.0</td>\n",
       "      <td>9550.0</td>\n",
       "      <td>Pave</td>\n",
       "      <td>NaN</td>\n",
       "      <td>IR1</td>\n",
       "      <td>Lvl</td>\n",
       "      <td>AllPub</td>\n",
       "      <td>...</td>\n",
       "      <td>0.0</td>\n",
       "      <td>NaN</td>\n",
       "      <td>NaN</td>\n",
       "      <td>NaN</td>\n",
       "      <td>0.0</td>\n",
       "      <td>2.0</td>\n",
       "      <td>2006.0</td>\n",
       "      <td>WD</td>\n",
       "      <td>Abnorml</td>\n",
       "      <td>140000.0</td>\n",
       "    </tr>\n",
       "    <tr>\n",
       "      <th>5</th>\n",
       "      <td>6.0</td>\n",
       "      <td>50.0</td>\n",
       "      <td>RL</td>\n",
       "      <td>85.0</td>\n",
       "      <td>14115.0</td>\n",
       "      <td>Pave</td>\n",
       "      <td>NaN</td>\n",
       "      <td>IR1</td>\n",
       "      <td>Lvl</td>\n",
       "      <td>AllPub</td>\n",
       "      <td>...</td>\n",
       "      <td>0.0</td>\n",
       "      <td>NaN</td>\n",
       "      <td>MnPrv</td>\n",
       "      <td>Shed</td>\n",
       "      <td>700.0</td>\n",
       "      <td>10.0</td>\n",
       "      <td>2009.0</td>\n",
       "      <td>WD</td>\n",
       "      <td>Normal</td>\n",
       "      <td>143000.0</td>\n",
       "    </tr>\n",
       "  </tbody>\n",
       "</table>\n",
       "<p>5 rows × 81 columns</p>\n",
       "</div>"
      ],
      "text/plain": [
       "    Id  MSSubClass MSZoning  LotFrontage  LotArea Street Alley LotShape  \\\n",
       "0  1.0        60.0       RL         65.0   8450.0   Pave   NaN      Reg   \n",
       "1  2.0        20.0       RL         80.0   9600.0   Pave   NaN      Reg   \n",
       "2  3.0        60.0       RL         68.0  11250.0   Pave   NaN      IR1   \n",
       "3  4.0        70.0       RL         60.0   9550.0   Pave   NaN      IR1   \n",
       "5  6.0        50.0       RL         85.0  14115.0   Pave   NaN      IR1   \n",
       "\n",
       "  LandContour Utilities    ...     PoolArea PoolQC  Fence MiscFeature MiscVal  \\\n",
       "0         Lvl    AllPub    ...          0.0    NaN    NaN         NaN     0.0   \n",
       "1         Lvl    AllPub    ...          0.0    NaN    NaN         NaN     0.0   \n",
       "2         Lvl    AllPub    ...          0.0    NaN    NaN         NaN     0.0   \n",
       "3         Lvl    AllPub    ...          0.0    NaN    NaN         NaN     0.0   \n",
       "5         Lvl    AllPub    ...          0.0    NaN  MnPrv        Shed   700.0   \n",
       "\n",
       "  MoSold  YrSold  SaleType  SaleCondition  SalePrice  \n",
       "0    2.0  2008.0        WD         Normal   208500.0  \n",
       "1    5.0  2007.0        WD         Normal   181500.0  \n",
       "2    9.0  2008.0        WD         Normal   223500.0  \n",
       "3    2.0  2006.0        WD        Abnorml   140000.0  \n",
       "5   10.0  2009.0        WD         Normal   143000.0  \n",
       "\n",
       "[5 rows x 81 columns]"
      ]
     },
     "execution_count": 12,
     "metadata": {},
     "output_type": "execute_result"
    }
   ],
   "source": [
    "housing_train_set_c = housing_data.loc[train_index_c]\n",
    "housing_test_set_c = housing_data.loc[test_index_c]\n",
    "housing_train_set_c.head()"
   ]
  },
  {
   "cell_type": "code",
   "execution_count": 13,
   "metadata": {},
   "outputs": [
    {
     "data": {
      "text/html": [
       "<div>\n",
       "<style scoped>\n",
       "    .dataframe tbody tr th:only-of-type {\n",
       "        vertical-align: middle;\n",
       "    }\n",
       "\n",
       "    .dataframe tbody tr th {\n",
       "        vertical-align: top;\n",
       "    }\n",
       "\n",
       "    .dataframe thead th {\n",
       "        text-align: right;\n",
       "    }\n",
       "</style>\n",
       "<table border=\"1\" class=\"dataframe\">\n",
       "  <thead>\n",
       "    <tr style=\"text-align: right;\">\n",
       "      <th></th>\n",
       "      <th>Id</th>\n",
       "      <th>MSSubClass</th>\n",
       "      <th>MSZoning</th>\n",
       "      <th>LotFrontage</th>\n",
       "      <th>LotArea</th>\n",
       "      <th>Street</th>\n",
       "      <th>Alley</th>\n",
       "      <th>LotShape</th>\n",
       "      <th>LandContour</th>\n",
       "      <th>Utilities</th>\n",
       "      <th>...</th>\n",
       "      <th>PoolArea</th>\n",
       "      <th>PoolQC</th>\n",
       "      <th>Fence</th>\n",
       "      <th>MiscFeature</th>\n",
       "      <th>MiscVal</th>\n",
       "      <th>MoSold</th>\n",
       "      <th>YrSold</th>\n",
       "      <th>SaleType</th>\n",
       "      <th>SaleCondition</th>\n",
       "      <th>SalePrice</th>\n",
       "    </tr>\n",
       "  </thead>\n",
       "  <tbody>\n",
       "    <tr>\n",
       "      <th>0</th>\n",
       "      <td>1</td>\n",
       "      <td>60</td>\n",
       "      <td>RL</td>\n",
       "      <td>65.0</td>\n",
       "      <td>8450</td>\n",
       "      <td>Pave</td>\n",
       "      <td>NaN</td>\n",
       "      <td>Reg</td>\n",
       "      <td>Lvl</td>\n",
       "      <td>AllPub</td>\n",
       "      <td>...</td>\n",
       "      <td>0</td>\n",
       "      <td>NaN</td>\n",
       "      <td>NaN</td>\n",
       "      <td>NaN</td>\n",
       "      <td>0</td>\n",
       "      <td>2</td>\n",
       "      <td>2008</td>\n",
       "      <td>WD</td>\n",
       "      <td>Normal</td>\n",
       "      <td>208500</td>\n",
       "    </tr>\n",
       "    <tr>\n",
       "      <th>7</th>\n",
       "      <td>8</td>\n",
       "      <td>60</td>\n",
       "      <td>RL</td>\n",
       "      <td>NaN</td>\n",
       "      <td>10382</td>\n",
       "      <td>Pave</td>\n",
       "      <td>NaN</td>\n",
       "      <td>IR1</td>\n",
       "      <td>Lvl</td>\n",
       "      <td>AllPub</td>\n",
       "      <td>...</td>\n",
       "      <td>0</td>\n",
       "      <td>NaN</td>\n",
       "      <td>NaN</td>\n",
       "      <td>Shed</td>\n",
       "      <td>350</td>\n",
       "      <td>11</td>\n",
       "      <td>2009</td>\n",
       "      <td>WD</td>\n",
       "      <td>Normal</td>\n",
       "      <td>200000</td>\n",
       "    </tr>\n",
       "    <tr>\n",
       "      <th>11</th>\n",
       "      <td>12</td>\n",
       "      <td>60</td>\n",
       "      <td>RL</td>\n",
       "      <td>85.0</td>\n",
       "      <td>11924</td>\n",
       "      <td>Pave</td>\n",
       "      <td>NaN</td>\n",
       "      <td>IR1</td>\n",
       "      <td>Lvl</td>\n",
       "      <td>AllPub</td>\n",
       "      <td>...</td>\n",
       "      <td>0</td>\n",
       "      <td>NaN</td>\n",
       "      <td>NaN</td>\n",
       "      <td>NaN</td>\n",
       "      <td>0</td>\n",
       "      <td>7</td>\n",
       "      <td>2006</td>\n",
       "      <td>New</td>\n",
       "      <td>Partial</td>\n",
       "      <td>345000</td>\n",
       "    </tr>\n",
       "    <tr>\n",
       "      <th>12</th>\n",
       "      <td>13</td>\n",
       "      <td>20</td>\n",
       "      <td>RL</td>\n",
       "      <td>NaN</td>\n",
       "      <td>12968</td>\n",
       "      <td>Pave</td>\n",
       "      <td>NaN</td>\n",
       "      <td>IR2</td>\n",
       "      <td>Lvl</td>\n",
       "      <td>AllPub</td>\n",
       "      <td>...</td>\n",
       "      <td>0</td>\n",
       "      <td>NaN</td>\n",
       "      <td>NaN</td>\n",
       "      <td>NaN</td>\n",
       "      <td>0</td>\n",
       "      <td>9</td>\n",
       "      <td>2008</td>\n",
       "      <td>WD</td>\n",
       "      <td>Normal</td>\n",
       "      <td>144000</td>\n",
       "    </tr>\n",
       "    <tr>\n",
       "      <th>18</th>\n",
       "      <td>19</td>\n",
       "      <td>20</td>\n",
       "      <td>RL</td>\n",
       "      <td>66.0</td>\n",
       "      <td>13695</td>\n",
       "      <td>Pave</td>\n",
       "      <td>NaN</td>\n",
       "      <td>Reg</td>\n",
       "      <td>Lvl</td>\n",
       "      <td>AllPub</td>\n",
       "      <td>...</td>\n",
       "      <td>0</td>\n",
       "      <td>NaN</td>\n",
       "      <td>NaN</td>\n",
       "      <td>NaN</td>\n",
       "      <td>0</td>\n",
       "      <td>6</td>\n",
       "      <td>2008</td>\n",
       "      <td>WD</td>\n",
       "      <td>Normal</td>\n",
       "      <td>159000</td>\n",
       "    </tr>\n",
       "  </tbody>\n",
       "</table>\n",
       "<p>5 rows × 81 columns</p>\n",
       "</div>"
      ],
      "text/plain": [
       "    Id  MSSubClass MSZoning  LotFrontage  LotArea Street Alley LotShape  \\\n",
       "0    1          60       RL         65.0     8450   Pave   NaN      Reg   \n",
       "7    8          60       RL          NaN    10382   Pave   NaN      IR1   \n",
       "11  12          60       RL         85.0    11924   Pave   NaN      IR1   \n",
       "12  13          20       RL          NaN    12968   Pave   NaN      IR2   \n",
       "18  19          20       RL         66.0    13695   Pave   NaN      Reg   \n",
       "\n",
       "   LandContour Utilities    ...     PoolArea PoolQC Fence MiscFeature MiscVal  \\\n",
       "0          Lvl    AllPub    ...            0    NaN   NaN         NaN       0   \n",
       "7          Lvl    AllPub    ...            0    NaN   NaN        Shed     350   \n",
       "11         Lvl    AllPub    ...            0    NaN   NaN         NaN       0   \n",
       "12         Lvl    AllPub    ...            0    NaN   NaN         NaN       0   \n",
       "18         Lvl    AllPub    ...            0    NaN   NaN         NaN       0   \n",
       "\n",
       "   MoSold YrSold  SaleType  SaleCondition  SalePrice  \n",
       "0       2   2008        WD         Normal     208500  \n",
       "7      11   2009        WD         Normal     200000  \n",
       "11      7   2006       New        Partial     345000  \n",
       "12      9   2008        WD         Normal     144000  \n",
       "18      6   2008        WD         Normal     159000  \n",
       "\n",
       "[5 rows x 81 columns]"
      ]
     },
     "execution_count": 13,
     "metadata": {},
     "output_type": "execute_result"
    }
   ],
   "source": [
    "housing_test_set_c.head()"
   ]
  },
  {
   "cell_type": "markdown",
   "metadata": {},
   "source": [
    "Random Shuffle Split"
   ]
  },
  {
   "cell_type": "code",
   "execution_count": 14,
   "metadata": {},
   "outputs": [
    {
     "name": "stdout",
     "output_type": "stream",
     "text": [
      "(1168, 81)\n",
      "(292, 81)\n"
     ]
    }
   ],
   "source": [
    "from sklearn.model_selection import ShuffleSplit\n",
    "div2 = ShuffleSplit(n_splits=1,random_state=42,test_size=0.2)\n",
    "for train_index_rnd, test_index_rnd in div2.split(housing_data):\n",
    "    housing_train_set_rnd = housing_data.loc[train_index_rnd]\n",
    "    housing_test_set_rnd = housing_data.loc[test_index_rnd]\n",
    "print(housing_train_set_rnd.shape)\n",
    "print(housing_test_set_rnd.shape)"
   ]
  },
  {
   "cell_type": "markdown",
   "metadata": {},
   "source": [
    "sample split - StratifiedShuffleSplit - will refer going forward"
   ]
  },
  {
   "cell_type": "code",
   "execution_count": 15,
   "metadata": {},
   "outputs": [
    {
     "data": {
      "text/plain": [
       "Index(['Id', 'MSSubClass', 'MSZoning', 'LotFrontage', 'LotArea', 'Street',\n",
       "       'Alley', 'LotShape', 'LandContour', 'Utilities', 'LotConfig',\n",
       "       'LandSlope', 'Neighborhood', 'Condition1', 'Condition2', 'BldgType',\n",
       "       'HouseStyle', 'OverallQual', 'OverallCond', 'YearBuilt', 'YearRemodAdd',\n",
       "       'RoofStyle', 'RoofMatl', 'Exterior1st', 'Exterior2nd', 'MasVnrType',\n",
       "       'MasVnrArea', 'ExterQual', 'ExterCond', 'Foundation', 'BsmtQual',\n",
       "       'BsmtCond', 'BsmtExposure', 'BsmtFinType1', 'BsmtFinSF1',\n",
       "       'BsmtFinType2', 'BsmtFinSF2', 'BsmtUnfSF', 'TotalBsmtSF', 'Heating',\n",
       "       'HeatingQC', 'CentralAir', 'Electrical', '1stFlrSF', '2ndFlrSF',\n",
       "       'LowQualFinSF', 'GrLivArea', 'BsmtFullBath', 'BsmtHalfBath', 'FullBath',\n",
       "       'HalfBath', 'BedroomAbvGr', 'KitchenAbvGr', 'KitchenQual',\n",
       "       'TotRmsAbvGrd', 'Functional', 'Fireplaces', 'FireplaceQu', 'GarageType',\n",
       "       'GarageYrBlt', 'GarageFinish', 'GarageCars', 'GarageArea', 'GarageQual',\n",
       "       'GarageCond', 'PavedDrive', 'WoodDeckSF', 'OpenPorchSF',\n",
       "       'EnclosedPorch', '3SsnPorch', 'ScreenPorch', 'PoolArea', 'PoolQC',\n",
       "       'Fence', 'MiscFeature', 'MiscVal', 'MoSold', 'YrSold', 'SaleType',\n",
       "       'SaleCondition', 'SalePrice'],\n",
       "      dtype='object')"
      ]
     },
     "execution_count": 15,
     "metadata": {},
     "output_type": "execute_result"
    }
   ],
   "source": [
    "housing_train_set.columns"
   ]
  },
  {
   "cell_type": "markdown",
   "metadata": {},
   "source": [
    "Now look out for column name if need changes it accordingly '1stFlrSF', '2ndFlrSF',3SsnPorch"
   ]
  },
  {
   "cell_type": "code",
   "execution_count": 16,
   "metadata": {},
   "outputs": [
    {
     "data": {
      "text/plain": [
       "Index(['Id', 'MSSubClass', 'MSZoning', 'LotFrontage', 'LotArea', 'Street',\n",
       "       'Alley', 'LotShape', 'LandContour', 'Utilities', 'LotConfig',\n",
       "       'LandSlope', 'Neighborhood', 'Condition1', 'Condition2', 'BldgType',\n",
       "       'HouseStyle', 'OverallQual', 'OverallCond', 'YearBuilt', 'YearRemodAdd',\n",
       "       'RoofStyle', 'RoofMatl', 'Exterior1st', 'Exterior2nd', 'MasVnrType',\n",
       "       'MasVnrArea', 'ExterQual', 'ExterCond', 'Foundation', 'BsmtQual',\n",
       "       'BsmtCond', 'BsmtExposure', 'BsmtFinType1', 'BsmtFinSF1',\n",
       "       'BsmtFinType2', 'BsmtFinSF2', 'BsmtUnfSF', 'TotalBsmtSF', 'Heating',\n",
       "       'HeatingQC', 'CentralAir', 'Electrical', 'FstFlrSF', 'SndFlrSF',\n",
       "       'LowQualFinSF', 'GrLivArea', 'BsmtFullBath', 'BsmtHalfBath', 'FullBath',\n",
       "       'HalfBath', 'BedroomAbvGr', 'KitchenAbvGr', 'KitchenQual',\n",
       "       'TotRmsAbvGrd', 'Functional', 'Fireplaces', 'FireplaceQu', 'GarageType',\n",
       "       'GarageYrBlt', 'GarageFinish', 'GarageCars', 'GarageArea', 'GarageQual',\n",
       "       'GarageCond', 'PavedDrive', 'WoodDeckSF', 'OpenPorchSF',\n",
       "       'EnclosedPorch', 'TrdSsnPorch', 'ScreenPorch', 'PoolArea', 'PoolQC',\n",
       "       'Fence', 'MiscFeature', 'MiscVal', 'MoSold', 'YrSold', 'SaleType',\n",
       "       'SaleCondition', 'SalePrice'],\n",
       "      dtype='object')"
      ]
     },
     "execution_count": 16,
     "metadata": {},
     "output_type": "execute_result"
    }
   ],
   "source": [
    "housing_train_set.rename(columns = {'1stFlrSF':'FstFlrSF','2ndFlrSF':'SndFlrSF','3SsnPorch':'TrdSsnPorch'},\\\n",
    "                                    inplace = True)\n",
    "housing_train_set.columns"
   ]
  },
  {
   "cell_type": "markdown",
   "metadata": {},
   "source": [
    "Now lets look at missing data isnull and isall"
   ]
  },
  {
   "cell_type": "code",
   "execution_count": 17,
   "metadata": {},
   "outputs": [
    {
     "data": {
      "text/html": [
       "<div>\n",
       "<style scoped>\n",
       "    .dataframe tbody tr th:only-of-type {\n",
       "        vertical-align: middle;\n",
       "    }\n",
       "\n",
       "    .dataframe tbody tr th {\n",
       "        vertical-align: top;\n",
       "    }\n",
       "\n",
       "    .dataframe thead th {\n",
       "        text-align: right;\n",
       "    }\n",
       "</style>\n",
       "<table border=\"1\" class=\"dataframe\">\n",
       "  <thead>\n",
       "    <tr style=\"text-align: right;\">\n",
       "      <th></th>\n",
       "      <th>Id</th>\n",
       "      <th>MSSubClass</th>\n",
       "      <th>MSZoning</th>\n",
       "      <th>LotFrontage</th>\n",
       "      <th>LotArea</th>\n",
       "      <th>Street</th>\n",
       "      <th>Alley</th>\n",
       "      <th>LotShape</th>\n",
       "      <th>LandContour</th>\n",
       "      <th>Utilities</th>\n",
       "      <th>...</th>\n",
       "      <th>PoolArea</th>\n",
       "      <th>PoolQC</th>\n",
       "      <th>Fence</th>\n",
       "      <th>MiscFeature</th>\n",
       "      <th>MiscVal</th>\n",
       "      <th>MoSold</th>\n",
       "      <th>YrSold</th>\n",
       "      <th>SaleType</th>\n",
       "      <th>SaleCondition</th>\n",
       "      <th>SalePrice</th>\n",
       "    </tr>\n",
       "  </thead>\n",
       "  <tbody>\n",
       "    <tr>\n",
       "      <th>976</th>\n",
       "      <td>False</td>\n",
       "      <td>False</td>\n",
       "      <td>False</td>\n",
       "      <td>False</td>\n",
       "      <td>False</td>\n",
       "      <td>False</td>\n",
       "      <td>True</td>\n",
       "      <td>False</td>\n",
       "      <td>False</td>\n",
       "      <td>False</td>\n",
       "      <td>...</td>\n",
       "      <td>False</td>\n",
       "      <td>True</td>\n",
       "      <td>True</td>\n",
       "      <td>True</td>\n",
       "      <td>False</td>\n",
       "      <td>False</td>\n",
       "      <td>False</td>\n",
       "      <td>False</td>\n",
       "      <td>False</td>\n",
       "      <td>False</td>\n",
       "    </tr>\n",
       "    <tr>\n",
       "      <th>130</th>\n",
       "      <td>False</td>\n",
       "      <td>False</td>\n",
       "      <td>False</td>\n",
       "      <td>False</td>\n",
       "      <td>False</td>\n",
       "      <td>False</td>\n",
       "      <td>True</td>\n",
       "      <td>False</td>\n",
       "      <td>False</td>\n",
       "      <td>False</td>\n",
       "      <td>...</td>\n",
       "      <td>False</td>\n",
       "      <td>True</td>\n",
       "      <td>False</td>\n",
       "      <td>True</td>\n",
       "      <td>False</td>\n",
       "      <td>False</td>\n",
       "      <td>False</td>\n",
       "      <td>False</td>\n",
       "      <td>False</td>\n",
       "      <td>False</td>\n",
       "    </tr>\n",
       "    <tr>\n",
       "      <th>341</th>\n",
       "      <td>False</td>\n",
       "      <td>False</td>\n",
       "      <td>False</td>\n",
       "      <td>False</td>\n",
       "      <td>False</td>\n",
       "      <td>False</td>\n",
       "      <td>True</td>\n",
       "      <td>False</td>\n",
       "      <td>False</td>\n",
       "      <td>False</td>\n",
       "      <td>...</td>\n",
       "      <td>False</td>\n",
       "      <td>True</td>\n",
       "      <td>True</td>\n",
       "      <td>True</td>\n",
       "      <td>False</td>\n",
       "      <td>False</td>\n",
       "      <td>False</td>\n",
       "      <td>False</td>\n",
       "      <td>False</td>\n",
       "      <td>False</td>\n",
       "    </tr>\n",
       "    <tr>\n",
       "      <th>1106</th>\n",
       "      <td>False</td>\n",
       "      <td>False</td>\n",
       "      <td>False</td>\n",
       "      <td>False</td>\n",
       "      <td>False</td>\n",
       "      <td>False</td>\n",
       "      <td>True</td>\n",
       "      <td>False</td>\n",
       "      <td>False</td>\n",
       "      <td>False</td>\n",
       "      <td>...</td>\n",
       "      <td>False</td>\n",
       "      <td>True</td>\n",
       "      <td>True</td>\n",
       "      <td>True</td>\n",
       "      <td>False</td>\n",
       "      <td>False</td>\n",
       "      <td>False</td>\n",
       "      <td>False</td>\n",
       "      <td>False</td>\n",
       "      <td>False</td>\n",
       "    </tr>\n",
       "    <tr>\n",
       "      <th>1324</th>\n",
       "      <td>False</td>\n",
       "      <td>False</td>\n",
       "      <td>False</td>\n",
       "      <td>False</td>\n",
       "      <td>False</td>\n",
       "      <td>False</td>\n",
       "      <td>True</td>\n",
       "      <td>False</td>\n",
       "      <td>False</td>\n",
       "      <td>False</td>\n",
       "      <td>...</td>\n",
       "      <td>False</td>\n",
       "      <td>True</td>\n",
       "      <td>True</td>\n",
       "      <td>True</td>\n",
       "      <td>False</td>\n",
       "      <td>False</td>\n",
       "      <td>False</td>\n",
       "      <td>False</td>\n",
       "      <td>False</td>\n",
       "      <td>False</td>\n",
       "    </tr>\n",
       "  </tbody>\n",
       "</table>\n",
       "<p>5 rows × 81 columns</p>\n",
       "</div>"
      ],
      "text/plain": [
       "         Id  MSSubClass  MSZoning  LotFrontage  LotArea  Street  Alley  \\\n",
       "976   False       False     False        False    False   False   True   \n",
       "130   False       False     False        False    False   False   True   \n",
       "341   False       False     False        False    False   False   True   \n",
       "1106  False       False     False        False    False   False   True   \n",
       "1324  False       False     False        False    False   False   True   \n",
       "\n",
       "      LotShape  LandContour  Utilities    ...      PoolArea  PoolQC  Fence  \\\n",
       "976      False        False      False    ...         False    True   True   \n",
       "130      False        False      False    ...         False    True  False   \n",
       "341      False        False      False    ...         False    True   True   \n",
       "1106     False        False      False    ...         False    True   True   \n",
       "1324     False        False      False    ...         False    True   True   \n",
       "\n",
       "      MiscFeature  MiscVal  MoSold  YrSold  SaleType  SaleCondition  SalePrice  \n",
       "976          True    False   False   False     False          False      False  \n",
       "130          True    False   False   False     False          False      False  \n",
       "341          True    False   False   False     False          False      False  \n",
       "1106         True    False   False   False     False          False      False  \n",
       "1324         True    False   False   False     False          False      False  \n",
       "\n",
       "[5 rows x 81 columns]"
      ]
     },
     "execution_count": 17,
     "metadata": {},
     "output_type": "execute_result"
    }
   ],
   "source": [
    "housing_train_set.isnull().head()"
   ]
  },
  {
   "cell_type": "code",
   "execution_count": 18,
   "metadata": {},
   "outputs": [
    {
     "data": {
      "text/plain": [
       "Id             False\n",
       "MSSubClass     False\n",
       "MSZoning       False\n",
       "LotFrontage     True\n",
       "LotArea        False\n",
       "dtype: bool"
      ]
     },
     "execution_count": 18,
     "metadata": {},
     "output_type": "execute_result"
    }
   ],
   "source": [
    "housing_train_set.isnull().any().head()"
   ]
  },
  {
   "cell_type": "code",
   "execution_count": 19,
   "metadata": {},
   "outputs": [
    {
     "data": {
      "text/plain": [
       "True"
      ]
     },
     "execution_count": 19,
     "metadata": {},
     "output_type": "execute_result"
    }
   ],
   "source": [
    "housing_train_set.isnull().any().any()"
   ]
  },
  {
   "cell_type": "code",
   "execution_count": 20,
   "metadata": {},
   "outputs": [
    {
     "data": {
      "text/plain": [
       "Id               False\n",
       "MSSubClass       False\n",
       "MSZoning         False\n",
       "LotFrontage      False\n",
       "LotArea          False\n",
       "Street           False\n",
       "Alley            False\n",
       "LotShape         False\n",
       "LandContour      False\n",
       "Utilities        False\n",
       "LotConfig        False\n",
       "LandSlope        False\n",
       "Neighborhood     False\n",
       "Condition1       False\n",
       "Condition2       False\n",
       "BldgType         False\n",
       "HouseStyle       False\n",
       "OverallQual      False\n",
       "OverallCond      False\n",
       "YearBuilt        False\n",
       "YearRemodAdd     False\n",
       "RoofStyle        False\n",
       "RoofMatl         False\n",
       "Exterior1st      False\n",
       "Exterior2nd      False\n",
       "MasVnrType       False\n",
       "MasVnrArea       False\n",
       "ExterQual        False\n",
       "ExterCond        False\n",
       "Foundation       False\n",
       "                 ...  \n",
       "BedroomAbvGr     False\n",
       "KitchenAbvGr     False\n",
       "KitchenQual      False\n",
       "TotRmsAbvGrd     False\n",
       "Functional       False\n",
       "Fireplaces       False\n",
       "FireplaceQu      False\n",
       "GarageType       False\n",
       "GarageYrBlt      False\n",
       "GarageFinish     False\n",
       "GarageCars       False\n",
       "GarageArea       False\n",
       "GarageQual       False\n",
       "GarageCond       False\n",
       "PavedDrive       False\n",
       "WoodDeckSF       False\n",
       "OpenPorchSF      False\n",
       "EnclosedPorch    False\n",
       "TrdSsnPorch      False\n",
       "ScreenPorch      False\n",
       "PoolArea         False\n",
       "PoolQC           False\n",
       "Fence            False\n",
       "MiscFeature      False\n",
       "MiscVal          False\n",
       "MoSold           False\n",
       "YrSold           False\n",
       "SaleType         False\n",
       "SaleCondition    False\n",
       "SalePrice        False\n",
       "Length: 81, dtype: bool"
      ]
     },
     "execution_count": 20,
     "metadata": {},
     "output_type": "execute_result"
    }
   ],
   "source": [
    "housing_train_set.isnull().all()"
   ]
  },
  {
   "cell_type": "markdown",
   "metadata": {},
   "source": [
    "MCAR - independent , MAR - dependent, MNAR - dependent on another missing data"
   ]
  },
  {
   "cell_type": "code",
   "execution_count": 21,
   "metadata": {},
   "outputs": [
    {
     "data": {
      "text/plain": [
       "Id               1168\n",
       "MSSubClass       1168\n",
       "MSZoning         1168\n",
       "LotFrontage       957\n",
       "LotArea          1168\n",
       "Street           1168\n",
       "Alley              77\n",
       "LotShape         1168\n",
       "LandContour      1168\n",
       "Utilities        1168\n",
       "LotConfig        1168\n",
       "LandSlope        1168\n",
       "Neighborhood     1168\n",
       "Condition1       1168\n",
       "Condition2       1168\n",
       "BldgType         1168\n",
       "HouseStyle       1168\n",
       "OverallQual      1168\n",
       "OverallCond      1168\n",
       "YearBuilt        1168\n",
       "YearRemodAdd     1168\n",
       "RoofStyle        1168\n",
       "RoofMatl         1168\n",
       "Exterior1st      1168\n",
       "Exterior2nd      1168\n",
       "MasVnrType       1160\n",
       "MasVnrArea       1160\n",
       "ExterQual        1168\n",
       "ExterCond        1168\n",
       "Foundation       1168\n",
       "                 ... \n",
       "BedroomAbvGr     1168\n",
       "KitchenAbvGr     1168\n",
       "KitchenQual      1168\n",
       "TotRmsAbvGrd     1168\n",
       "Functional       1168\n",
       "Fireplaces       1168\n",
       "FireplaceQu       626\n",
       "GarageType       1105\n",
       "GarageYrBlt      1105\n",
       "GarageFinish     1105\n",
       "GarageCars       1168\n",
       "GarageArea       1168\n",
       "GarageQual       1105\n",
       "GarageCond       1105\n",
       "PavedDrive       1168\n",
       "WoodDeckSF       1168\n",
       "OpenPorchSF      1168\n",
       "EnclosedPorch    1168\n",
       "TrdSsnPorch      1168\n",
       "ScreenPorch      1168\n",
       "PoolArea         1168\n",
       "PoolQC              7\n",
       "Fence             230\n",
       "MiscFeature        45\n",
       "MiscVal          1168\n",
       "MoSold           1168\n",
       "YrSold           1168\n",
       "SaleType         1168\n",
       "SaleCondition    1168\n",
       "SalePrice        1168\n",
       "Length: 81, dtype: int64"
      ]
     },
     "execution_count": 21,
     "metadata": {},
     "output_type": "execute_result"
    }
   ],
   "source": [
    "housing_train_set.count()"
   ]
  },
  {
   "cell_type": "code",
   "execution_count": 22,
   "metadata": {},
   "outputs": [
    {
     "data": {
      "text/plain": [
       "1168"
      ]
     },
     "execution_count": 22,
     "metadata": {},
     "output_type": "execute_result"
    }
   ],
   "source": [
    "max_index = housing_train_set.shape[0]\n",
    "max_index"
   ]
  },
  {
   "cell_type": "code",
   "execution_count": 27,
   "metadata": {},
   "outputs": [
    {
     "name": "stdout",
     "output_type": "stream",
     "text": [
      "total 1168\n",
      "column_count Id             1168\n",
      "MSSubClass     1168\n",
      "MSZoning       1168\n",
      "LotFrontage     957\n",
      "LotArea        1168\n",
      "dtype: int64\n",
      "['LotFrontage', 'Alley', 'MasVnrType', 'MasVnrArea', 'BsmtQual', 'BsmtCond', 'BsmtExposure', 'BsmtFinType1', 'BsmtFinType2', 'Electrical', 'FireplaceQu', 'GarageType', 'GarageYrBlt', 'GarageFinish', 'GarageQual', 'GarageCond', 'PoolQC', 'Fence', 'MiscFeature']\n"
     ]
    },
    {
     "data": {
      "text/plain": [
       "19"
      ]
     },
     "execution_count": 27,
     "metadata": {},
     "output_type": "execute_result"
    }
   ],
   "source": [
    "max_index = housing_train_set.shape[0]\n",
    "print('total', max_index)\n",
    "col_cnt = housing_train_set.count()\n",
    "print('column_count',col_cnt.head())\n",
    "miss_column=[]\n",
    "for x in col_cnt.index:\n",
    "    if col_cnt[x]<max_index:\n",
    "        miss_column.append(x)\n",
    "print(miss_column)\n",
    "len(miss_column)\n"
   ]
  },
  {
   "cell_type": "markdown",
   "metadata": {},
   "source": [
    "now lets look at the data type of missing columns"
   ]
  },
  {
   "cell_type": "code",
   "execution_count": 23,
   "metadata": {},
   "outputs": [
    {
     "data": {
      "text/plain": [
       "LotFrontage      957\n",
       "Alley             77\n",
       "MasVnrType      1160\n",
       "MasVnrArea      1160\n",
       "BsmtQual        1137\n",
       "BsmtCond        1137\n",
       "BsmtExposure    1136\n",
       "BsmtFinType1    1137\n",
       "BsmtFinType2    1136\n",
       "Electrical      1167\n",
       "FireplaceQu      626\n",
       "GarageType      1105\n",
       "GarageYrBlt     1105\n",
       "GarageFinish    1105\n",
       "GarageQual      1105\n",
       "GarageCond      1105\n",
       "PoolQC             7\n",
       "Fence            230\n",
       "MiscFeature       45\n",
       "dtype: int64"
      ]
     },
     "execution_count": 23,
     "metadata": {},
     "output_type": "execute_result"
    }
   ],
   "source": [
    "housing_train_set.count()[['LotFrontage', 'Alley', 'MasVnrType', 'MasVnrArea', 'BsmtQual', 'BsmtCond', 'BsmtExposure', 'BsmtFinType1', 'BsmtFinType2', 'Electrical', 'FireplaceQu', 'GarageType', 'GarageYrBlt', 'GarageFinish', 'GarageQual', 'GarageCond', 'PoolQC', 'Fence', 'MiscFeature']]"
   ]
  },
  {
   "cell_type": "markdown",
   "metadata": {},
   "source": [
    "Function for missingdatafeature"
   ]
  },
  {
   "cell_type": "code",
   "execution_count": 45,
   "metadata": {},
   "outputs": [],
   "source": [
    "def MissingFeature(df):\n",
    "    feat_count = df.count()\n",
    "    feat_shape = df.shape[0]\n",
    "    data_missing_feature =[]\n",
    "    for x in feat_count.index:\n",
    "        if feat_count[x]<feat_shape:\n",
    "            data_missing_feature.append(x)\n",
    "    return data_missing_feature"
   ]
  },
  {
   "cell_type": "code",
   "execution_count": 25,
   "metadata": {},
   "outputs": [
    {
     "name": "stdout",
     "output_type": "stream",
     "text": [
      "['LotFrontage', 'Alley', 'MasVnrType', 'MasVnrArea', 'BsmtQual', 'BsmtCond', 'BsmtExposure', 'BsmtFinType1', 'BsmtFinType2', 'Electrical', 'FireplaceQu', 'GarageType', 'GarageYrBlt', 'GarageFinish', 'GarageQual', 'GarageCond', 'PoolQC', 'Fence', 'MiscFeature']\n"
     ]
    }
   ],
   "source": [
    "print (MissingFeature(housing_train_set))"
   ]
  },
  {
   "cell_type": "code",
   "execution_count": 26,
   "metadata": {
    "scrolled": true
   },
   "outputs": [
    {
     "data": {
      "text/plain": [
       "Index(['LotFrontage', 'Alley', 'MasVnrType', 'MasVnrArea', 'BsmtQual',\n",
       "       'BsmtCond', 'BsmtExposure', 'BsmtFinType1', 'BsmtFinType2',\n",
       "       'Electrical', 'FireplaceQu', 'GarageType', 'GarageYrBlt',\n",
       "       'GarageFinish', 'GarageQual', 'GarageCond', 'PoolQC', 'Fence',\n",
       "       'MiscFeature'],\n",
       "      dtype='object')"
      ]
     },
     "execution_count": 26,
     "metadata": {},
     "output_type": "execute_result"
    }
   ],
   "source": [
    "housing_train_set.columns[housing_train_set.isnull().any()]"
   ]
  },
  {
   "cell_type": "code",
   "execution_count": 27,
   "metadata": {},
   "outputs": [
    {
     "data": {
      "text/plain": [
       "(1168, 81)"
      ]
     },
     "execution_count": 27,
     "metadata": {},
     "output_type": "execute_result"
    }
   ],
   "source": [
    "housing_train_set.shape"
   ]
  },
  {
   "cell_type": "code",
   "execution_count": 28,
   "metadata": {},
   "outputs": [],
   "source": [
    "housing_train_set.dropna(axis=1,how='all',inplace=True)"
   ]
  },
  {
   "cell_type": "code",
   "execution_count": 29,
   "metadata": {},
   "outputs": [
    {
     "data": {
      "text/plain": [
       "(1168, 81)"
      ]
     },
     "execution_count": 29,
     "metadata": {},
     "output_type": "execute_result"
    }
   ],
   "source": [
    "housing_train_set.shape"
   ]
  },
  {
   "cell_type": "markdown",
   "metadata": {},
   "source": [
    "Now lets look at the datatype of null column"
   ]
  },
  {
   "cell_type": "code",
   "execution_count": 30,
   "metadata": {},
   "outputs": [
    {
     "data": {
      "text/plain": [
       "LotFrontage     float64\n",
       "Alley            object\n",
       "MasVnrType       object\n",
       "MasVnrArea      float64\n",
       "BsmtQual         object\n",
       "BsmtCond         object\n",
       "BsmtExposure     object\n",
       "BsmtFinType1     object\n",
       "BsmtFinType2     object\n",
       "Electrical       object\n",
       "FireplaceQu      object\n",
       "GarageType       object\n",
       "GarageYrBlt     float64\n",
       "GarageFinish     object\n",
       "GarageQual       object\n",
       "GarageCond       object\n",
       "PoolQC           object\n",
       "Fence            object\n",
       "MiscFeature      object\n",
       "dtype: object"
      ]
     },
     "execution_count": 30,
     "metadata": {},
     "output_type": "execute_result"
    }
   ],
   "source": [
    "housing_train_set[['LotFrontage', 'Alley', 'MasVnrType', 'MasVnrArea', 'BsmtQual',\\\n",
    "                   'BsmtCond', 'BsmtExposure', 'BsmtFinType1', 'BsmtFinType2', 'Electrical',\\\n",
    "                   'FireplaceQu', 'GarageType', 'GarageYrBlt', 'GarageFinish', 'GarageQual', 'GarageCond',\\\n",
    "                   'PoolQC', 'Fence', 'MiscFeature']].dtypes"
   ]
  },
  {
   "cell_type": "code",
   "execution_count": 31,
   "metadata": {},
   "outputs": [
    {
     "data": {
      "text/plain": [
       "LotFrontage     957\n",
       "MasVnrArea     1160\n",
       "GarageYrBlt    1105\n",
       "dtype: int64"
      ]
     },
     "execution_count": 31,
     "metadata": {},
     "output_type": "execute_result"
    }
   ],
   "source": [
    "housing_train_set.count()[['LotFrontage','MasVnrArea','GarageYrBlt']]"
   ]
  },
  {
   "cell_type": "code",
   "execution_count": 32,
   "metadata": {},
   "outputs": [
    {
     "data": {
      "text/plain": [
       "1168"
      ]
     },
     "execution_count": 32,
     "metadata": {},
     "output_type": "execute_result"
    }
   ],
   "source": [
    "housing_train_set.shape[0]"
   ]
  },
  {
   "cell_type": "code",
   "execution_count": 29,
   "metadata": {},
   "outputs": [
    {
     "data": {
      "text/plain": [
       "LotFrontage      70.134796\n",
       "MasVnrArea      103.018103\n",
       "GarageYrBlt    1978.163801\n",
       "dtype: float64"
      ]
     },
     "execution_count": 29,
     "metadata": {},
     "output_type": "execute_result"
    }
   ],
   "source": [
    "housing_train_set.mean()[['LotFrontage','MasVnrArea','GarageYrBlt']]"
   ]
  },
  {
   "cell_type": "code",
   "execution_count": 30,
   "metadata": {},
   "outputs": [
    {
     "data": {
      "text/html": [
       "<div>\n",
       "<style scoped>\n",
       "    .dataframe tbody tr th:only-of-type {\n",
       "        vertical-align: middle;\n",
       "    }\n",
       "\n",
       "    .dataframe tbody tr th {\n",
       "        vertical-align: top;\n",
       "    }\n",
       "\n",
       "    .dataframe thead th {\n",
       "        text-align: right;\n",
       "    }\n",
       "</style>\n",
       "<table border=\"1\" class=\"dataframe\">\n",
       "  <thead>\n",
       "    <tr style=\"text-align: right;\">\n",
       "      <th></th>\n",
       "      <th>Id</th>\n",
       "      <th>MSSubClass</th>\n",
       "      <th>MSZoning</th>\n",
       "      <th>LotFrontage</th>\n",
       "      <th>LotArea</th>\n",
       "      <th>Street</th>\n",
       "      <th>Alley</th>\n",
       "      <th>LotShape</th>\n",
       "      <th>LandContour</th>\n",
       "      <th>Utilities</th>\n",
       "      <th>...</th>\n",
       "      <th>PoolArea</th>\n",
       "      <th>PoolQC</th>\n",
       "      <th>Fence</th>\n",
       "      <th>MiscFeature</th>\n",
       "      <th>MiscVal</th>\n",
       "      <th>MoSold</th>\n",
       "      <th>YrSold</th>\n",
       "      <th>SaleType</th>\n",
       "      <th>SaleCondition</th>\n",
       "      <th>SalePrice</th>\n",
       "    </tr>\n",
       "  </thead>\n",
       "  <tbody>\n",
       "    <tr>\n",
       "      <th>976</th>\n",
       "      <td>977</td>\n",
       "      <td>30</td>\n",
       "      <td>RL</td>\n",
       "      <td>51.000000</td>\n",
       "      <td>5900</td>\n",
       "      <td>Pave</td>\n",
       "      <td>NaN</td>\n",
       "      <td>IR1</td>\n",
       "      <td>Bnk</td>\n",
       "      <td>AllPub</td>\n",
       "      <td>...</td>\n",
       "      <td>0</td>\n",
       "      <td>NaN</td>\n",
       "      <td>NaN</td>\n",
       "      <td>NaN</td>\n",
       "      <td>0</td>\n",
       "      <td>8</td>\n",
       "      <td>2006</td>\n",
       "      <td>WD</td>\n",
       "      <td>Normal</td>\n",
       "      <td>85500</td>\n",
       "    </tr>\n",
       "    <tr>\n",
       "      <th>130</th>\n",
       "      <td>131</td>\n",
       "      <td>60</td>\n",
       "      <td>RL</td>\n",
       "      <td>88.000000</td>\n",
       "      <td>14200</td>\n",
       "      <td>Pave</td>\n",
       "      <td>NaN</td>\n",
       "      <td>Reg</td>\n",
       "      <td>Lvl</td>\n",
       "      <td>AllPub</td>\n",
       "      <td>...</td>\n",
       "      <td>0</td>\n",
       "      <td>NaN</td>\n",
       "      <td>GdPrv</td>\n",
       "      <td>NaN</td>\n",
       "      <td>0</td>\n",
       "      <td>5</td>\n",
       "      <td>2006</td>\n",
       "      <td>WD</td>\n",
       "      <td>Normal</td>\n",
       "      <td>226000</td>\n",
       "    </tr>\n",
       "    <tr>\n",
       "      <th>341</th>\n",
       "      <td>342</td>\n",
       "      <td>20</td>\n",
       "      <td>RH</td>\n",
       "      <td>60.000000</td>\n",
       "      <td>8400</td>\n",
       "      <td>Pave</td>\n",
       "      <td>NaN</td>\n",
       "      <td>Reg</td>\n",
       "      <td>Lvl</td>\n",
       "      <td>AllPub</td>\n",
       "      <td>...</td>\n",
       "      <td>0</td>\n",
       "      <td>NaN</td>\n",
       "      <td>NaN</td>\n",
       "      <td>NaN</td>\n",
       "      <td>0</td>\n",
       "      <td>9</td>\n",
       "      <td>2009</td>\n",
       "      <td>WD</td>\n",
       "      <td>Normal</td>\n",
       "      <td>82000</td>\n",
       "    </tr>\n",
       "    <tr>\n",
       "      <th>1106</th>\n",
       "      <td>1107</td>\n",
       "      <td>20</td>\n",
       "      <td>RL</td>\n",
       "      <td>114.000000</td>\n",
       "      <td>10357</td>\n",
       "      <td>Pave</td>\n",
       "      <td>NaN</td>\n",
       "      <td>IR1</td>\n",
       "      <td>Lvl</td>\n",
       "      <td>AllPub</td>\n",
       "      <td>...</td>\n",
       "      <td>0</td>\n",
       "      <td>NaN</td>\n",
       "      <td>NaN</td>\n",
       "      <td>NaN</td>\n",
       "      <td>0</td>\n",
       "      <td>5</td>\n",
       "      <td>2007</td>\n",
       "      <td>WD</td>\n",
       "      <td>Normal</td>\n",
       "      <td>179900</td>\n",
       "    </tr>\n",
       "    <tr>\n",
       "      <th>1324</th>\n",
       "      <td>1325</td>\n",
       "      <td>20</td>\n",
       "      <td>RL</td>\n",
       "      <td>75.000000</td>\n",
       "      <td>9986</td>\n",
       "      <td>Pave</td>\n",
       "      <td>NaN</td>\n",
       "      <td>Reg</td>\n",
       "      <td>Lvl</td>\n",
       "      <td>AllPub</td>\n",
       "      <td>...</td>\n",
       "      <td>0</td>\n",
       "      <td>NaN</td>\n",
       "      <td>NaN</td>\n",
       "      <td>NaN</td>\n",
       "      <td>0</td>\n",
       "      <td>2</td>\n",
       "      <td>2007</td>\n",
       "      <td>New</td>\n",
       "      <td>Partial</td>\n",
       "      <td>147000</td>\n",
       "    </tr>\n",
       "    <tr>\n",
       "      <th>479</th>\n",
       "      <td>480</td>\n",
       "      <td>30</td>\n",
       "      <td>RM</td>\n",
       "      <td>50.000000</td>\n",
       "      <td>5925</td>\n",
       "      <td>Pave</td>\n",
       "      <td>NaN</td>\n",
       "      <td>Reg</td>\n",
       "      <td>Bnk</td>\n",
       "      <td>AllPub</td>\n",
       "      <td>...</td>\n",
       "      <td>0</td>\n",
       "      <td>NaN</td>\n",
       "      <td>MnPrv</td>\n",
       "      <td>NaN</td>\n",
       "      <td>0</td>\n",
       "      <td>3</td>\n",
       "      <td>2007</td>\n",
       "      <td>WD</td>\n",
       "      <td>Alloca</td>\n",
       "      <td>89471</td>\n",
       "    </tr>\n",
       "    <tr>\n",
       "      <th>199</th>\n",
       "      <td>200</td>\n",
       "      <td>20</td>\n",
       "      <td>RL</td>\n",
       "      <td>76.000000</td>\n",
       "      <td>9591</td>\n",
       "      <td>Pave</td>\n",
       "      <td>NaN</td>\n",
       "      <td>Reg</td>\n",
       "      <td>Lvl</td>\n",
       "      <td>AllPub</td>\n",
       "      <td>...</td>\n",
       "      <td>0</td>\n",
       "      <td>NaN</td>\n",
       "      <td>NaN</td>\n",
       "      <td>NaN</td>\n",
       "      <td>0</td>\n",
       "      <td>1</td>\n",
       "      <td>2009</td>\n",
       "      <td>WD</td>\n",
       "      <td>Normal</td>\n",
       "      <td>274900</td>\n",
       "    </tr>\n",
       "    <tr>\n",
       "      <th>557</th>\n",
       "      <td>558</td>\n",
       "      <td>50</td>\n",
       "      <td>C (all)</td>\n",
       "      <td>60.000000</td>\n",
       "      <td>11040</td>\n",
       "      <td>Pave</td>\n",
       "      <td>NaN</td>\n",
       "      <td>Reg</td>\n",
       "      <td>Low</td>\n",
       "      <td>AllPub</td>\n",
       "      <td>...</td>\n",
       "      <td>0</td>\n",
       "      <td>NaN</td>\n",
       "      <td>NaN</td>\n",
       "      <td>NaN</td>\n",
       "      <td>0</td>\n",
       "      <td>9</td>\n",
       "      <td>2006</td>\n",
       "      <td>COD</td>\n",
       "      <td>Normal</td>\n",
       "      <td>108000</td>\n",
       "    </tr>\n",
       "    <tr>\n",
       "      <th>768</th>\n",
       "      <td>769</td>\n",
       "      <td>20</td>\n",
       "      <td>RL</td>\n",
       "      <td>70.000000</td>\n",
       "      <td>9100</td>\n",
       "      <td>Pave</td>\n",
       "      <td>NaN</td>\n",
       "      <td>Reg</td>\n",
       "      <td>Lvl</td>\n",
       "      <td>AllPub</td>\n",
       "      <td>...</td>\n",
       "      <td>0</td>\n",
       "      <td>NaN</td>\n",
       "      <td>NaN</td>\n",
       "      <td>NaN</td>\n",
       "      <td>0</td>\n",
       "      <td>10</td>\n",
       "      <td>2006</td>\n",
       "      <td>WD</td>\n",
       "      <td>Normal</td>\n",
       "      <td>216837</td>\n",
       "    </tr>\n",
       "    <tr>\n",
       "      <th>1116</th>\n",
       "      <td>1117</td>\n",
       "      <td>80</td>\n",
       "      <td>RL</td>\n",
       "      <td>70.134796</td>\n",
       "      <td>7750</td>\n",
       "      <td>Pave</td>\n",
       "      <td>NaN</td>\n",
       "      <td>Reg</td>\n",
       "      <td>Lvl</td>\n",
       "      <td>AllPub</td>\n",
       "      <td>...</td>\n",
       "      <td>0</td>\n",
       "      <td>NaN</td>\n",
       "      <td>NaN</td>\n",
       "      <td>NaN</td>\n",
       "      <td>0</td>\n",
       "      <td>3</td>\n",
       "      <td>2009</td>\n",
       "      <td>WD</td>\n",
       "      <td>Normal</td>\n",
       "      <td>184100</td>\n",
       "    </tr>\n",
       "  </tbody>\n",
       "</table>\n",
       "<p>10 rows × 81 columns</p>\n",
       "</div>"
      ],
      "text/plain": [
       "        Id  MSSubClass MSZoning  LotFrontage  LotArea Street Alley LotShape  \\\n",
       "976    977          30       RL    51.000000     5900   Pave   NaN      IR1   \n",
       "130    131          60       RL    88.000000    14200   Pave   NaN      Reg   \n",
       "341    342          20       RH    60.000000     8400   Pave   NaN      Reg   \n",
       "1106  1107          20       RL   114.000000    10357   Pave   NaN      IR1   \n",
       "1324  1325          20       RL    75.000000     9986   Pave   NaN      Reg   \n",
       "479    480          30       RM    50.000000     5925   Pave   NaN      Reg   \n",
       "199    200          20       RL    76.000000     9591   Pave   NaN      Reg   \n",
       "557    558          50  C (all)    60.000000    11040   Pave   NaN      Reg   \n",
       "768    769          20       RL    70.000000     9100   Pave   NaN      Reg   \n",
       "1116  1117          80       RL    70.134796     7750   Pave   NaN      Reg   \n",
       "\n",
       "     LandContour Utilities    ...     PoolArea PoolQC  Fence MiscFeature  \\\n",
       "976          Bnk    AllPub    ...            0    NaN    NaN         NaN   \n",
       "130          Lvl    AllPub    ...            0    NaN  GdPrv         NaN   \n",
       "341          Lvl    AllPub    ...            0    NaN    NaN         NaN   \n",
       "1106         Lvl    AllPub    ...            0    NaN    NaN         NaN   \n",
       "1324         Lvl    AllPub    ...            0    NaN    NaN         NaN   \n",
       "479          Bnk    AllPub    ...            0    NaN  MnPrv         NaN   \n",
       "199          Lvl    AllPub    ...            0    NaN    NaN         NaN   \n",
       "557          Low    AllPub    ...            0    NaN    NaN         NaN   \n",
       "768          Lvl    AllPub    ...            0    NaN    NaN         NaN   \n",
       "1116         Lvl    AllPub    ...            0    NaN    NaN         NaN   \n",
       "\n",
       "     MiscVal MoSold YrSold  SaleType  SaleCondition  SalePrice  \n",
       "976        0      8   2006        WD         Normal      85500  \n",
       "130        0      5   2006        WD         Normal     226000  \n",
       "341        0      9   2009        WD         Normal      82000  \n",
       "1106       0      5   2007        WD         Normal     179900  \n",
       "1324       0      2   2007       New        Partial     147000  \n",
       "479        0      3   2007        WD         Alloca      89471  \n",
       "199        0      1   2009        WD         Normal     274900  \n",
       "557        0      9   2006       COD         Normal     108000  \n",
       "768        0     10   2006        WD         Normal     216837  \n",
       "1116       0      3   2009        WD         Normal     184100  \n",
       "\n",
       "[10 rows x 81 columns]"
      ]
     },
     "execution_count": 30,
     "metadata": {},
     "output_type": "execute_result"
    }
   ],
   "source": [
    "housing_train_set.fillna(value=housing_train_set.mean()[['LotFrontage','MasVnrArea','GarageYrBlt']]).head(10)"
   ]
  },
  {
   "cell_type": "code",
   "execution_count": 35,
   "metadata": {},
   "outputs": [
    {
     "data": {
      "text/plain": [
       "LotFrontage    True\n",
       "MasVnrArea     True\n",
       "GarageYrBlt    True\n",
       "dtype: bool"
      ]
     },
     "execution_count": 35,
     "metadata": {},
     "output_type": "execute_result"
    }
   ],
   "source": [
    "housing_train_set.isnull().any()[['LotFrontage','MasVnrArea','GarageYrBlt']]"
   ]
  },
  {
   "cell_type": "code",
   "execution_count": 37,
   "metadata": {},
   "outputs": [
    {
     "data": {
      "text/plain": [
       "<matplotlib.axes._subplots.AxesSubplot at 0x21a854f2438>"
      ]
     },
     "execution_count": 37,
     "metadata": {},
     "output_type": "execute_result"
    },
    {
     "data": {
      "image/png": "[encoded data removed]",
      "text/plain": [
       "<Figure size 432x288 with 1 Axes>"
      ]
     },
     "metadata": {},
     "output_type": "display_data"
    }
   ],
   "source": [
    "housing_train_set['LotFrontage'].hist(bins=10)"
   ]
  },
  {
   "cell_type": "code",
   "execution_count": 37,
   "metadata": {},
   "outputs": [
    {
     "data": {
      "text/plain": [
       "976      51.0\n",
       "130      88.0\n",
       "341      60.0\n",
       "1106    114.0\n",
       "1324     75.0\n",
       "479      50.0\n",
       "199      76.0\n",
       "557      60.0\n",
       "768      70.0\n",
       "1116      NaN\n",
       "559       NaN\n",
       "409      85.0\n",
       "1278     75.0\n",
       "1309      NaN\n",
       "473     110.0\n",
       "1069     60.0\n",
       "568      79.0\n",
       "572      83.0\n",
       "207       NaN\n",
       "602      80.0\n",
       "928       NaN\n",
       "1366     68.0\n",
       "977      35.0\n",
       "1235     96.0\n",
       "905      80.0\n",
       "89       60.0\n",
       "550      53.0\n",
       "423      80.0\n",
       "393       NaN\n",
       "375       NaN\n",
       "        ...  \n",
       "402      60.0\n",
       "225      21.0\n",
       "35      108.0\n",
       "885      50.0\n",
       "4        84.0\n",
       "514      55.0\n",
       "1279     60.0\n",
       "1171     76.0\n",
       "524      95.0\n",
       "1088     24.0\n",
       "637      50.0\n",
       "133       NaN\n",
       "919      87.0\n",
       "956      24.0\n",
       "1044     80.0\n",
       "681      55.0\n",
       "668       NaN\n",
       "40       84.0\n",
       "761      60.0\n",
       "1195     51.0\n",
       "714       NaN\n",
       "1338     95.0\n",
       "1445     70.0\n",
       "144      70.0\n",
       "554      85.0\n",
       "652      70.0\n",
       "378      88.0\n",
       "1441      NaN\n",
       "140      70.0\n",
       "188      64.0\n",
       "Name: LotFrontage, Length: 1168, dtype: float64"
      ]
     },
     "execution_count": 37,
     "metadata": {},
     "output_type": "execute_result"
    }
   ],
   "source": [
    "housing_train_set['LotFrontage']"
   ]
  },
  {
   "cell_type": "code",
   "execution_count": 38,
   "metadata": {},
   "outputs": [
    {
     "data": {
      "text/plain": [
       "957"
      ]
     },
     "execution_count": 38,
     "metadata": {},
     "output_type": "execute_result"
    }
   ],
   "source": [
    "housing_train_set.LotFrontage.count()"
   ]
  },
  {
   "cell_type": "code",
   "execution_count": 39,
   "metadata": {},
   "outputs": [
    {
     "data": {
      "text/plain": [
       "False"
      ]
     },
     "execution_count": 39,
     "metadata": {},
     "output_type": "execute_result"
    }
   ],
   "source": [
    "housing_train_set.fillna(value=housing_train_set.mean()[['LotFrontage']],inplace=True)\n",
    "housing_train_set.LotFrontage.isnull().any()"
   ]
  },
  {
   "cell_type": "code",
   "execution_count": 40,
   "metadata": {},
   "outputs": [
    {
     "data": {
      "text/plain": [
       "976     False\n",
       "130     False\n",
       "341     False\n",
       "1106    False\n",
       "1324    False\n",
       "Name: LotFrontage, dtype: bool"
      ]
     },
     "execution_count": 40,
     "metadata": {},
     "output_type": "execute_result"
    }
   ],
   "source": [
    "housing_train_set.LotFrontage.isnull().head()"
   ]
  },
  {
   "cell_type": "code",
   "execution_count": 41,
   "metadata": {},
   "outputs": [
    {
     "data": {
      "text/html": [
       "<div>\n",
       "<style scoped>\n",
       "    .dataframe tbody tr th:only-of-type {\n",
       "        vertical-align: middle;\n",
       "    }\n",
       "\n",
       "    .dataframe tbody tr th {\n",
       "        vertical-align: top;\n",
       "    }\n",
       "\n",
       "    .dataframe thead th {\n",
       "        text-align: right;\n",
       "    }\n",
       "</style>\n",
       "<table border=\"1\" class=\"dataframe\">\n",
       "  <thead>\n",
       "    <tr style=\"text-align: right;\">\n",
       "      <th></th>\n",
       "      <th>Id</th>\n",
       "      <th>MSSubClass</th>\n",
       "      <th>MSZoning</th>\n",
       "      <th>LotFrontage</th>\n",
       "      <th>LotArea</th>\n",
       "      <th>Street</th>\n",
       "      <th>Alley</th>\n",
       "      <th>LotShape</th>\n",
       "      <th>LandContour</th>\n",
       "      <th>Utilities</th>\n",
       "      <th>...</th>\n",
       "      <th>PoolArea</th>\n",
       "      <th>PoolQC</th>\n",
       "      <th>Fence</th>\n",
       "      <th>MiscFeature</th>\n",
       "      <th>MiscVal</th>\n",
       "      <th>MoSold</th>\n",
       "      <th>YrSold</th>\n",
       "      <th>SaleType</th>\n",
       "      <th>SaleCondition</th>\n",
       "      <th>SalePrice</th>\n",
       "    </tr>\n",
       "  </thead>\n",
       "  <tbody>\n",
       "  </tbody>\n",
       "</table>\n",
       "<p>0 rows × 81 columns</p>\n",
       "</div>"
      ],
      "text/plain": [
       "Empty DataFrame\n",
       "Columns: [Id, MSSubClass, MSZoning, LotFrontage, LotArea, Street, Alley, LotShape, LandContour, Utilities, LotConfig, LandSlope, Neighborhood, Condition1, Condition2, BldgType, HouseStyle, OverallQual, OverallCond, YearBuilt, YearRemodAdd, RoofStyle, RoofMatl, Exterior1st, Exterior2nd, MasVnrType, MasVnrArea, ExterQual, ExterCond, Foundation, BsmtQual, BsmtCond, BsmtExposure, BsmtFinType1, BsmtFinSF1, BsmtFinType2, BsmtFinSF2, BsmtUnfSF, TotalBsmtSF, Heating, HeatingQC, CentralAir, Electrical, FstFlrSF, SndFlrSF, LowQualFinSF, GrLivArea, BsmtFullBath, BsmtHalfBath, FullBath, HalfBath, BedroomAbvGr, KitchenAbvGr, KitchenQual, TotRmsAbvGrd, Functional, Fireplaces, FireplaceQu, GarageType, GarageYrBlt, GarageFinish, GarageCars, GarageArea, GarageQual, GarageCond, PavedDrive, WoodDeckSF, OpenPorchSF, EnclosedPorch, TrdSsnPorch, ScreenPorch, PoolArea, PoolQC, Fence, MiscFeature, MiscVal, MoSold, YrSold, SaleType, SaleCondition, SalePrice]\n",
       "Index: []\n",
       "\n",
       "[0 rows x 81 columns]"
      ]
     },
     "execution_count": 41,
     "metadata": {},
     "output_type": "execute_result"
    }
   ],
   "source": [
    "housing_train_set[housing_train_set.LotFrontage.isnull()]"
   ]
  },
  {
   "cell_type": "code",
   "execution_count": 42,
   "metadata": {},
   "outputs": [
    {
     "name": "stdout",
     "output_type": "stream",
     "text": [
      "['Alley', 'MasVnrType', 'MasVnrArea', 'BsmtQual', 'BsmtCond', 'BsmtExposure', 'BsmtFinType1', 'BsmtFinType2', 'Electrical', 'FireplaceQu', 'GarageType', 'GarageYrBlt', 'GarageFinish', 'GarageQual', 'GarageCond', 'PoolQC', 'Fence', 'MiscFeature']\n"
     ]
    }
   ],
   "source": [
    "print(MissingFeature(housing_train_set))"
   ]
  },
  {
   "cell_type": "code",
   "execution_count": 43,
   "metadata": {},
   "outputs": [
    {
     "data": {
      "text/plain": [
       "Alley            object\n",
       "MasVnrType       object\n",
       "MasVnrArea      float64\n",
       "BsmtQual         object\n",
       "BsmtCond         object\n",
       "BsmtExposure     object\n",
       "BsmtFinType1     object\n",
       "BsmtFinType2     object\n",
       "Electrical       object\n",
       "FireplaceQu      object\n",
       "GarageType       object\n",
       "GarageYrBlt     float64\n",
       "GarageFinish     object\n",
       "GarageQual       object\n",
       "GarageCond       object\n",
       "PoolQC           object\n",
       "Fence            object\n",
       "MiscFeature      object\n",
       "dtype: object"
      ]
     },
     "execution_count": 43,
     "metadata": {},
     "output_type": "execute_result"
    }
   ],
   "source": [
    "housing_train_set[['Alley', 'MasVnrType', 'MasVnrArea', 'BsmtQual', 'BsmtCond', 'BsmtExposure', 'BsmtFinType1', 'BsmtFinType2', 'Electrical', 'FireplaceQu', 'GarageType', 'GarageYrBlt', 'GarageFinish', 'GarageQual', 'GarageCond', 'PoolQC', 'Fence', 'MiscFeature']].dtypes"
   ]
  },
  {
   "cell_type": "code",
   "execution_count": 44,
   "metadata": {},
   "outputs": [
    {
     "data": {
      "text/plain": [
       "1160"
      ]
     },
     "execution_count": 44,
     "metadata": {},
     "output_type": "execute_result"
    }
   ],
   "source": [
    "housing_train_set.MasVnrArea.count()"
   ]
  },
  {
   "cell_type": "code",
   "execution_count": 45,
   "metadata": {},
   "outputs": [
    {
     "data": {
      "text/plain": [
       "103.01810344827587"
      ]
     },
     "execution_count": 45,
     "metadata": {},
     "output_type": "execute_result"
    }
   ],
   "source": [
    "housing_train_set.MasVnrArea.mean()"
   ]
  },
  {
   "cell_type": "code",
   "execution_count": 42,
   "metadata": {},
   "outputs": [
    {
     "data": {
      "text/plain": [
       "<matplotlib.axes._subplots.AxesSubplot at 0x21a85541438>"
      ]
     },
     "execution_count": 42,
     "metadata": {},
     "output_type": "execute_result"
    },
    {
     "data": {
      "image/png": "[encoded data removed]",
      "text/plain": [
       "<Figure size 432x288 with 1 Axes>"
      ]
     },
     "metadata": {},
     "output_type": "display_data"
    }
   ],
   "source": [
    "housing_train_set.MasVnrArea.hist(bins=30)"
   ]
  },
  {
   "cell_type": "code",
   "execution_count": 47,
   "metadata": {},
   "outputs": [],
   "source": [
    "housing_train_set.MasVnrArea.fillna(value=0,inplace = True)"
   ]
  },
  {
   "cell_type": "code",
   "execution_count": 48,
   "metadata": {},
   "outputs": [
    {
     "data": {
      "text/plain": [
       "False"
      ]
     },
     "execution_count": 48,
     "metadata": {},
     "output_type": "execute_result"
    }
   ],
   "source": [
    "housing_train_set.MasVnrArea.isnull().any()"
   ]
  },
  {
   "cell_type": "code",
   "execution_count": 49,
   "metadata": {},
   "outputs": [
    {
     "data": {
      "text/plain": [
       "<matplotlib.axes._subplots.AxesSubplot at 0x2323c005eb8>"
      ]
     },
     "execution_count": 49,
     "metadata": {},
     "output_type": "execute_result"
    },
    {
     "data": {
      "image/png": "[encoded data removed]",
      "text/plain": [
       "<Figure size 432x288 with 1 Axes>"
      ]
     },
     "metadata": {},
     "output_type": "display_data"
    }
   ],
   "source": [
    "housing_train_set.MasVnrArea.hist(bins=25)"
   ]
  },
  {
   "cell_type": "code",
   "execution_count": 50,
   "metadata": {},
   "outputs": [
    {
     "name": "stdout",
     "output_type": "stream",
     "text": [
      "['Alley', 'MasVnrType', 'BsmtQual', 'BsmtCond', 'BsmtExposure', 'BsmtFinType1', 'BsmtFinType2', 'Electrical', 'FireplaceQu', 'GarageType', 'GarageYrBlt', 'GarageFinish', 'GarageQual', 'GarageCond', 'PoolQC', 'Fence', 'MiscFeature']\n"
     ]
    }
   ],
   "source": [
    "print(MissingFeature(housing_train_set))"
   ]
  },
  {
   "cell_type": "code",
   "execution_count": 51,
   "metadata": {},
   "outputs": [
    {
     "data": {
      "text/plain": [
       "Alley            object\n",
       "MasVnrType       object\n",
       "BsmtQual         object\n",
       "BsmtCond         object\n",
       "BsmtExposure     object\n",
       "BsmtFinType1     object\n",
       "BsmtFinType2     object\n",
       "Electrical       object\n",
       "FireplaceQu      object\n",
       "GarageType       object\n",
       "GarageYrBlt     float64\n",
       "GarageFinish     object\n",
       "GarageQual       object\n",
       "GarageCond       object\n",
       "PoolQC           object\n",
       "Fence            object\n",
       "MiscFeature      object\n",
       "dtype: object"
      ]
     },
     "execution_count": 51,
     "metadata": {},
     "output_type": "execute_result"
    }
   ],
   "source": [
    "housing_train_set[['Alley', 'MasVnrType', 'BsmtQual', 'BsmtCond', 'BsmtExposure', 'BsmtFinType1', 'BsmtFinType2', 'Electrical', 'FireplaceQu', 'GarageType', 'GarageYrBlt', 'GarageFinish', 'GarageQual', 'GarageCond', 'PoolQC', 'Fence', 'MiscFeature']\n",
    "].dtypes"
   ]
  },
  {
   "cell_type": "code",
   "execution_count": 52,
   "metadata": {},
   "outputs": [
    {
     "data": {
      "text/plain": [
       "1105"
      ]
     },
     "execution_count": 52,
     "metadata": {},
     "output_type": "execute_result"
    }
   ],
   "source": [
    "housing_train_set.GarageYrBlt.count()"
   ]
  },
  {
   "cell_type": "code",
   "execution_count": 44,
   "metadata": {},
   "outputs": [
    {
     "data": {
      "text/plain": [
       "<matplotlib.axes._subplots.AxesSubplot at 0x21a85624e48>"
      ]
     },
     "execution_count": 44,
     "metadata": {},
     "output_type": "execute_result"
    },
    {
     "data": {
      "image/png": "[encoded data removed]",
      "text/plain": [
       "<Figure size 432x288 with 1 Axes>"
      ]
     },
     "metadata": {},
     "output_type": "display_data"
    }
   ],
   "source": [
    "housing_train_set.GarageYrBlt.hist(bins=30)"
   ]
  },
  {
   "cell_type": "code",
   "execution_count": 54,
   "metadata": {},
   "outputs": [
    {
     "data": {
      "text/plain": [
       "976        NaN\n",
       "130     1966.0\n",
       "341     1950.0\n",
       "1106    1990.0\n",
       "1324    2007.0\n",
       "479     1995.0\n",
       "199     2004.0\n",
       "557     1994.0\n",
       "768     2004.0\n",
       "1116    2002.0\n",
       "559     2003.0\n",
       "409     2008.0\n",
       "1278    2002.0\n",
       "1309    1991.0\n",
       "473     2006.0\n",
       "1069    1985.0\n",
       "568     1983.0\n",
       "572     2009.0\n",
       "207     1960.0\n",
       "602     1992.0\n",
       "928     2001.0\n",
       "1366    1999.0\n",
       "977     2007.0\n",
       "1235    1914.0\n",
       "905     1954.0\n",
       "89         NaN\n",
       "550     1977.0\n",
       "423     1998.0\n",
       "393        NaN\n",
       "375        NaN\n",
       "         ...  \n",
       "684     1998.0\n",
       "51      1985.0\n",
       "1027    2008.0\n",
       "742     2000.0\n",
       "1374    2005.0\n",
       "1320    1957.0\n",
       "854     1955.0\n",
       "1103    1954.0\n",
       "106     1954.0\n",
       "849     1976.0\n",
       "634     1980.0\n",
       "1307    2000.0\n",
       "1348    1998.0\n",
       "437     1926.0\n",
       "872     1953.0\n",
       "1455    1999.0\n",
       "786     1961.0\n",
       "1009       NaN\n",
       "970        NaN\n",
       "981     1998.0\n",
       "1308    1948.0\n",
       "45      2005.0\n",
       "1291    1972.0\n",
       "1180    1990.0\n",
       "168     2004.0\n",
       "599     1980.0\n",
       "1142    2006.0\n",
       "510     1951.0\n",
       "1121    2005.0\n",
       "1288    2000.0\n",
       "Name: GarageYrBlt, Length: 100, dtype: float64"
      ]
     },
     "execution_count": 54,
     "metadata": {},
     "output_type": "execute_result"
    }
   ],
   "source": [
    "housing_train_set.GarageYrBlt.head(100)"
   ]
  },
  {
   "cell_type": "code",
   "execution_count": 48,
   "metadata": {},
   "outputs": [
    {
     "data": {
      "text/plain": [
       "976     1966.0\n",
       "130     1966.0\n",
       "341     1950.0\n",
       "1106    1990.0\n",
       "1324    2007.0\n",
       "479     1995.0\n",
       "199     2004.0\n",
       "557     1994.0\n",
       "768     2004.0\n",
       "1116    2002.0\n",
       "559     2003.0\n",
       "409     2008.0\n",
       "1278    2002.0\n",
       "1309    1991.0\n",
       "473     2006.0\n",
       "1069    1985.0\n",
       "568     1983.0\n",
       "572     2009.0\n",
       "207     1960.0\n",
       "602     1992.0\n",
       "928     2001.0\n",
       "1366    1999.0\n",
       "977     2007.0\n",
       "1235    1914.0\n",
       "905     1954.0\n",
       "89      2009.0\n",
       "550     1977.0\n",
       "423     1998.0\n",
       "393     1959.0\n",
       "375     2003.0\n",
       "         ...  \n",
       "402     1940.0\n",
       "225     1991.0\n",
       "35      2004.0\n",
       "885     1999.0\n",
       "4       2000.0\n",
       "514     1926.0\n",
       "1279    1980.0\n",
       "1171    1958.0\n",
       "524     1996.0\n",
       "1088    2004.0\n",
       "637     1954.0\n",
       "133     2001.0\n",
       "919     1990.0\n",
       "956     1980.0\n",
       "1044    1981.0\n",
       "681     1968.0\n",
       "668     1999.0\n",
       "40      1965.0\n",
       "761     1965.0\n",
       "1195    2005.0\n",
       "714     1976.0\n",
       "1338    2002.0\n",
       "1445    1990.0\n",
       "144     1963.0\n",
       "554     2003.0\n",
       "652     1996.0\n",
       "378     2010.0\n",
       "1441    2004.0\n",
       "140     1997.0\n",
       "188     1979.0\n",
       "Name: GarageYrBlt, Length: 1168, dtype: float64"
      ]
     },
     "execution_count": 48,
     "metadata": {},
     "output_type": "execute_result"
    }
   ],
   "source": [
    "interpol_dumb = housing_train_set.GarageYrBlt.interpolate(method='nearest').ffill().bfill()\n",
    "interpol_dumb.values[970]\n",
    "housing_train_set.GarageYrBlt.count()\n",
    "interpol_dumb\n",
    "\n",
    "#need more clarification - Giri\n"
   ]
  },
  {
   "cell_type": "markdown",
   "metadata": {},
   "source": [
    "let now try with correction "
   ]
  },
  {
   "cell_type": "code",
   "execution_count": 78,
   "metadata": {},
   "outputs": [
    {
     "data": {
      "text/html": [
       "<div>\n",
       "<style scoped>\n",
       "    .dataframe tbody tr th:only-of-type {\n",
       "        vertical-align: middle;\n",
       "    }\n",
       "\n",
       "    .dataframe tbody tr th {\n",
       "        vertical-align: top;\n",
       "    }\n",
       "\n",
       "    .dataframe thead th {\n",
       "        text-align: right;\n",
       "    }\n",
       "</style>\n",
       "<table border=\"1\" class=\"dataframe\">\n",
       "  <thead>\n",
       "    <tr style=\"text-align: right;\">\n",
       "      <th></th>\n",
       "      <th>Id</th>\n",
       "      <th>MSSubClass</th>\n",
       "      <th>LotFrontage</th>\n",
       "      <th>LotArea</th>\n",
       "      <th>OverallQual</th>\n",
       "      <th>OverallCond</th>\n",
       "      <th>YearBuilt</th>\n",
       "      <th>YearRemodAdd</th>\n",
       "      <th>MasVnrArea</th>\n",
       "      <th>BsmtFinSF1</th>\n",
       "      <th>...</th>\n",
       "      <th>WoodDeckSF</th>\n",
       "      <th>OpenPorchSF</th>\n",
       "      <th>EnclosedPorch</th>\n",
       "      <th>TrdSsnPorch</th>\n",
       "      <th>ScreenPorch</th>\n",
       "      <th>PoolArea</th>\n",
       "      <th>MiscVal</th>\n",
       "      <th>MoSold</th>\n",
       "      <th>YrSold</th>\n",
       "      <th>SalePrice</th>\n",
       "    </tr>\n",
       "  </thead>\n",
       "  <tbody>\n",
       "    <tr>\n",
       "      <th>Id</th>\n",
       "      <td>1.000000</td>\n",
       "      <td>0.004042</td>\n",
       "      <td>-0.010030</td>\n",
       "      <td>-0.032786</td>\n",
       "      <td>-0.016300</td>\n",
       "      <td>0.009043</td>\n",
       "      <td>-0.004670</td>\n",
       "      <td>-0.022686</td>\n",
       "      <td>-0.054229</td>\n",
       "      <td>0.005273</td>\n",
       "      <td>...</td>\n",
       "      <td>-0.032670</td>\n",
       "      <td>0.024923</td>\n",
       "      <td>-0.002723</td>\n",
       "      <td>-0.068839</td>\n",
       "      <td>0.010858</td>\n",
       "      <td>0.062212</td>\n",
       "      <td>-0.006240</td>\n",
       "      <td>0.041707</td>\n",
       "      <td>0.006896</td>\n",
       "      <td>-0.017679</td>\n",
       "    </tr>\n",
       "    <tr>\n",
       "      <th>MSSubClass</th>\n",
       "      <td>0.004042</td>\n",
       "      <td>1.000000</td>\n",
       "      <td>-0.361357</td>\n",
       "      <td>-0.123985</td>\n",
       "      <td>0.012862</td>\n",
       "      <td>-0.068393</td>\n",
       "      <td>0.046020</td>\n",
       "      <td>0.053515</td>\n",
       "      <td>0.024875</td>\n",
       "      <td>-0.080225</td>\n",
       "      <td>...</td>\n",
       "      <td>-0.005901</td>\n",
       "      <td>-0.007723</td>\n",
       "      <td>-0.018649</td>\n",
       "      <td>-0.048256</td>\n",
       "      <td>-0.035605</td>\n",
       "      <td>0.009390</td>\n",
       "      <td>-0.004994</td>\n",
       "      <td>0.014728</td>\n",
       "      <td>-0.019497</td>\n",
       "      <td>-0.093199</td>\n",
       "    </tr>\n",
       "    <tr>\n",
       "      <th>LotFrontage</th>\n",
       "      <td>-0.010030</td>\n",
       "      <td>-0.361357</td>\n",
       "      <td>1.000000</td>\n",
       "      <td>0.305660</td>\n",
       "      <td>0.232551</td>\n",
       "      <td>-0.039514</td>\n",
       "      <td>0.108152</td>\n",
       "      <td>0.078415</td>\n",
       "      <td>0.177579</td>\n",
       "      <td>0.240806</td>\n",
       "      <td>...</td>\n",
       "      <td>0.072516</td>\n",
       "      <td>0.129800</td>\n",
       "      <td>0.003532</td>\n",
       "      <td>0.051023</td>\n",
       "      <td>0.038259</td>\n",
       "      <td>0.194694</td>\n",
       "      <td>0.002020</td>\n",
       "      <td>0.003151</td>\n",
       "      <td>-0.004545</td>\n",
       "      <td>0.341098</td>\n",
       "    </tr>\n",
       "    <tr>\n",
       "      <th>LotArea</th>\n",
       "      <td>-0.032786</td>\n",
       "      <td>-0.123985</td>\n",
       "      <td>0.305660</td>\n",
       "      <td>1.000000</td>\n",
       "      <td>0.087840</td>\n",
       "      <td>0.003240</td>\n",
       "      <td>0.006101</td>\n",
       "      <td>0.009516</td>\n",
       "      <td>0.098801</td>\n",
       "      <td>0.211566</td>\n",
       "      <td>...</td>\n",
       "      <td>0.156170</td>\n",
       "      <td>0.068481</td>\n",
       "      <td>-0.011862</td>\n",
       "      <td>0.014013</td>\n",
       "      <td>0.044695</td>\n",
       "      <td>0.080507</td>\n",
       "      <td>0.040346</td>\n",
       "      <td>-0.020762</td>\n",
       "      <td>0.001316</td>\n",
       "      <td>0.252393</td>\n",
       "    </tr>\n",
       "    <tr>\n",
       "      <th>OverallQual</th>\n",
       "      <td>-0.016300</td>\n",
       "      <td>0.012862</td>\n",
       "      <td>0.232551</td>\n",
       "      <td>0.087840</td>\n",
       "      <td>1.000000</td>\n",
       "      <td>-0.077139</td>\n",
       "      <td>0.581078</td>\n",
       "      <td>0.555063</td>\n",
       "      <td>0.412149</td>\n",
       "      <td>0.258400</td>\n",
       "      <td>...</td>\n",
       "      <td>0.229156</td>\n",
       "      <td>0.302299</td>\n",
       "      <td>-0.100237</td>\n",
       "      <td>0.022916</td>\n",
       "      <td>0.043778</td>\n",
       "      <td>0.074022</td>\n",
       "      <td>-0.029203</td>\n",
       "      <td>0.054373</td>\n",
       "      <td>-0.020102</td>\n",
       "      <td>0.791682</td>\n",
       "    </tr>\n",
       "    <tr>\n",
       "      <th>OverallCond</th>\n",
       "      <td>0.009043</td>\n",
       "      <td>-0.068393</td>\n",
       "      <td>-0.039514</td>\n",
       "      <td>0.003240</td>\n",
       "      <td>-0.077139</td>\n",
       "      <td>1.000000</td>\n",
       "      <td>-0.351883</td>\n",
       "      <td>0.102381</td>\n",
       "      <td>-0.120195</td>\n",
       "      <td>-0.046007</td>\n",
       "      <td>...</td>\n",
       "      <td>0.009187</td>\n",
       "      <td>-0.036861</td>\n",
       "      <td>0.051643</td>\n",
       "      <td>0.015226</td>\n",
       "      <td>0.053720</td>\n",
       "      <td>-0.001094</td>\n",
       "      <td>0.071223</td>\n",
       "      <td>-0.018803</td>\n",
       "      <td>0.058343</td>\n",
       "      <td>-0.060165</td>\n",
       "    </tr>\n",
       "    <tr>\n",
       "      <th>YearBuilt</th>\n",
       "      <td>-0.004670</td>\n",
       "      <td>0.046020</td>\n",
       "      <td>0.108152</td>\n",
       "      <td>0.006101</td>\n",
       "      <td>0.581078</td>\n",
       "      <td>-0.351883</td>\n",
       "      <td>1.000000</td>\n",
       "      <td>0.589805</td>\n",
       "      <td>0.306555</td>\n",
       "      <td>0.250015</td>\n",
       "      <td>...</td>\n",
       "      <td>0.232441</td>\n",
       "      <td>0.195812</td>\n",
       "      <td>-0.389842</td>\n",
       "      <td>0.022267</td>\n",
       "      <td>-0.045727</td>\n",
       "      <td>0.006197</td>\n",
       "      <td>-0.032909</td>\n",
       "      <td>-0.007801</td>\n",
       "      <td>-0.026309</td>\n",
       "      <td>0.526712</td>\n",
       "    </tr>\n",
       "    <tr>\n",
       "      <th>YearRemodAdd</th>\n",
       "      <td>-0.022686</td>\n",
       "      <td>0.053515</td>\n",
       "      <td>0.078415</td>\n",
       "      <td>0.009516</td>\n",
       "      <td>0.555063</td>\n",
       "      <td>0.102381</td>\n",
       "      <td>0.589805</td>\n",
       "      <td>1.000000</td>\n",
       "      <td>0.171946</td>\n",
       "      <td>0.132358</td>\n",
       "      <td>...</td>\n",
       "      <td>0.211034</td>\n",
       "      <td>0.213531</td>\n",
       "      <td>-0.198599</td>\n",
       "      <td>0.027320</td>\n",
       "      <td>-0.051362</td>\n",
       "      <td>0.006577</td>\n",
       "      <td>-0.012715</td>\n",
       "      <td>0.010372</td>\n",
       "      <td>0.042851</td>\n",
       "      <td>0.507532</td>\n",
       "    </tr>\n",
       "    <tr>\n",
       "      <th>MasVnrArea</th>\n",
       "      <td>-0.054229</td>\n",
       "      <td>0.024875</td>\n",
       "      <td>0.177579</td>\n",
       "      <td>0.098801</td>\n",
       "      <td>0.412149</td>\n",
       "      <td>-0.120195</td>\n",
       "      <td>0.306555</td>\n",
       "      <td>0.171946</td>\n",
       "      <td>1.000000</td>\n",
       "      <td>0.246291</td>\n",
       "      <td>...</td>\n",
       "      <td>0.149873</td>\n",
       "      <td>0.086096</td>\n",
       "      <td>-0.113800</td>\n",
       "      <td>-0.003235</td>\n",
       "      <td>0.071825</td>\n",
       "      <td>0.013458</td>\n",
       "      <td>-0.028203</td>\n",
       "      <td>-0.014943</td>\n",
       "      <td>-0.010435</td>\n",
       "      <td>0.474407</td>\n",
       "    </tr>\n",
       "    <tr>\n",
       "      <th>BsmtFinSF1</th>\n",
       "      <td>0.005273</td>\n",
       "      <td>-0.080225</td>\n",
       "      <td>0.240806</td>\n",
       "      <td>0.211566</td>\n",
       "      <td>0.258400</td>\n",
       "      <td>-0.046007</td>\n",
       "      <td>0.250015</td>\n",
       "      <td>0.132358</td>\n",
       "      <td>0.246291</td>\n",
       "      <td>1.000000</td>\n",
       "      <td>...</td>\n",
       "      <td>0.200977</td>\n",
       "      <td>0.095193</td>\n",
       "      <td>-0.110568</td>\n",
       "      <td>0.009165</td>\n",
       "      <td>0.063206</td>\n",
       "      <td>0.155582</td>\n",
       "      <td>0.006685</td>\n",
       "      <td>-0.050962</td>\n",
       "      <td>0.019481</td>\n",
       "      <td>0.401410</td>\n",
       "    </tr>\n",
       "    <tr>\n",
       "      <th>BsmtFinSF2</th>\n",
       "      <td>-0.009473</td>\n",
       "      <td>-0.077908</td>\n",
       "      <td>0.048184</td>\n",
       "      <td>0.128963</td>\n",
       "      <td>-0.070068</td>\n",
       "      <td>0.053866</td>\n",
       "      <td>-0.055888</td>\n",
       "      <td>-0.066044</td>\n",
       "      <td>-0.069708</td>\n",
       "      <td>-0.051938</td>\n",
       "      <td>...</td>\n",
       "      <td>0.100669</td>\n",
       "      <td>0.022804</td>\n",
       "      <td>0.028812</td>\n",
       "      <td>-0.028486</td>\n",
       "      <td>0.067529</td>\n",
       "      <td>0.045230</td>\n",
       "      <td>0.005806</td>\n",
       "      <td>0.006716</td>\n",
       "      <td>0.037341</td>\n",
       "      <td>-0.012766</td>\n",
       "    </tr>\n",
       "    <tr>\n",
       "      <th>BsmtUnfSF</th>\n",
       "      <td>-0.004213</td>\n",
       "      <td>-0.153640</td>\n",
       "      <td>0.114494</td>\n",
       "      <td>-0.015114</td>\n",
       "      <td>0.308314</td>\n",
       "      <td>-0.130969</td>\n",
       "      <td>0.145418</td>\n",
       "      <td>0.168671</td>\n",
       "      <td>0.121052</td>\n",
       "      <td>-0.478184</td>\n",
       "      <td>...</td>\n",
       "      <td>-0.009711</td>\n",
       "      <td>0.121983</td>\n",
       "      <td>0.005657</td>\n",
       "      <td>0.024225</td>\n",
       "      <td>-0.007559</td>\n",
       "      <td>-0.039596</td>\n",
       "      <td>-0.025746</td>\n",
       "      <td>0.045599</td>\n",
       "      <td>-0.037258</td>\n",
       "      <td>0.208105</td>\n",
       "    </tr>\n",
       "    <tr>\n",
       "      <th>TotalBsmtSF</th>\n",
       "      <td>-0.002172</td>\n",
       "      <td>-0.261894</td>\n",
       "      <td>0.377696</td>\n",
       "      <td>0.249686</td>\n",
       "      <td>0.543188</td>\n",
       "      <td>-0.156399</td>\n",
       "      <td>0.379627</td>\n",
       "      <td>0.277803</td>\n",
       "      <td>0.346812</td>\n",
       "      <td>0.539293</td>\n",
       "      <td>...</td>\n",
       "      <td>0.233797</td>\n",
       "      <td>0.226084</td>\n",
       "      <td>-0.097627</td>\n",
       "      <td>0.022850</td>\n",
       "      <td>0.082174</td>\n",
       "      <td>0.137540</td>\n",
       "      <td>-0.016315</td>\n",
       "      <td>-0.005134</td>\n",
       "      <td>-0.002979</td>\n",
       "      <td>0.612626</td>\n",
       "    </tr>\n",
       "    <tr>\n",
       "      <th>FstFlrSF</th>\n",
       "      <td>0.017388</td>\n",
       "      <td>-0.266183</td>\n",
       "      <td>0.424193</td>\n",
       "      <td>0.285652</td>\n",
       "      <td>0.476194</td>\n",
       "      <td>-0.132154</td>\n",
       "      <td>0.278048</td>\n",
       "      <td>0.224950</td>\n",
       "      <td>0.329187</td>\n",
       "      <td>0.463620</td>\n",
       "      <td>...</td>\n",
       "      <td>0.236344</td>\n",
       "      <td>0.188990</td>\n",
       "      <td>-0.059468</td>\n",
       "      <td>0.037922</td>\n",
       "      <td>0.078497</td>\n",
       "      <td>0.144897</td>\n",
       "      <td>-0.018234</td>\n",
       "      <td>0.001734</td>\n",
       "      <td>-0.002688</td>\n",
       "      <td>0.609607</td>\n",
       "    </tr>\n",
       "    <tr>\n",
       "      <th>SndFlrSF</th>\n",
       "      <td>0.011344</td>\n",
       "      <td>0.305101</td>\n",
       "      <td>0.075292</td>\n",
       "      <td>0.047378</td>\n",
       "      <td>0.291750</td>\n",
       "      <td>0.024658</td>\n",
       "      <td>0.029254</td>\n",
       "      <td>0.149676</td>\n",
       "      <td>0.186734</td>\n",
       "      <td>-0.137980</td>\n",
       "      <td>...</td>\n",
       "      <td>0.084973</td>\n",
       "      <td>0.194394</td>\n",
       "      <td>0.066274</td>\n",
       "      <td>-0.023660</td>\n",
       "      <td>0.046384</td>\n",
       "      <td>0.091457</td>\n",
       "      <td>0.018469</td>\n",
       "      <td>0.051877</td>\n",
       "      <td>-0.023626</td>\n",
       "      <td>0.327565</td>\n",
       "    </tr>\n",
       "    <tr>\n",
       "      <th>LowQualFinSF</th>\n",
       "      <td>-0.031723</td>\n",
       "      <td>0.025715</td>\n",
       "      <td>0.047762</td>\n",
       "      <td>-0.005692</td>\n",
       "      <td>-0.046498</td>\n",
       "      <td>-0.012523</td>\n",
       "      <td>-0.167405</td>\n",
       "      <td>-0.061454</td>\n",
       "      <td>-0.067002</td>\n",
       "      <td>-0.057921</td>\n",
       "      <td>...</td>\n",
       "      <td>-0.022739</td>\n",
       "      <td>-0.030391</td>\n",
       "      <td>0.095935</td>\n",
       "      <td>-0.013432</td>\n",
       "      <td>-0.031686</td>\n",
       "      <td>0.076262</td>\n",
       "      <td>-0.002466</td>\n",
       "      <td>-0.001464</td>\n",
       "      <td>-0.004974</td>\n",
       "      <td>-0.061246</td>\n",
       "    </tr>\n",
       "    <tr>\n",
       "      <th>GrLivArea</th>\n",
       "      <td>0.019689</td>\n",
       "      <td>0.056350</td>\n",
       "      <td>0.383355</td>\n",
       "      <td>0.252167</td>\n",
       "      <td>0.593641</td>\n",
       "      <td>-0.079334</td>\n",
       "      <td>0.217670</td>\n",
       "      <td>0.286894</td>\n",
       "      <td>0.395009</td>\n",
       "      <td>0.226952</td>\n",
       "      <td>...</td>\n",
       "      <td>0.245056</td>\n",
       "      <td>0.299762</td>\n",
       "      <td>0.018715</td>\n",
       "      <td>0.007562</td>\n",
       "      <td>0.094392</td>\n",
       "      <td>0.190568</td>\n",
       "      <td>0.001484</td>\n",
       "      <td>0.044186</td>\n",
       "      <td>-0.022022</td>\n",
       "      <td>0.721733</td>\n",
       "    </tr>\n",
       "    <tr>\n",
       "      <th>BsmtFullBath</th>\n",
       "      <td>0.006709</td>\n",
       "      <td>0.012236</td>\n",
       "      <td>0.101023</td>\n",
       "      <td>0.157815</td>\n",
       "      <td>0.110649</td>\n",
       "      <td>-0.070350</td>\n",
       "      <td>0.179311</td>\n",
       "      <td>0.117311</td>\n",
       "      <td>0.064783</td>\n",
       "      <td>0.649347</td>\n",
       "      <td>...</td>\n",
       "      <td>0.171837</td>\n",
       "      <td>0.043084</td>\n",
       "      <td>-0.057195</td>\n",
       "      <td>-0.019524</td>\n",
       "      <td>0.025734</td>\n",
       "      <td>0.076097</td>\n",
       "      <td>-0.026604</td>\n",
       "      <td>-0.051577</td>\n",
       "      <td>0.076221</td>\n",
       "      <td>0.221242</td>\n",
       "    </tr>\n",
       "    <tr>\n",
       "      <th>BsmtHalfBath</th>\n",
       "      <td>-0.021707</td>\n",
       "      <td>-0.023686</td>\n",
       "      <td>-0.004405</td>\n",
       "      <td>0.056033</td>\n",
       "      <td>-0.052130</td>\n",
       "      <td>0.132889</td>\n",
       "      <td>-0.052773</td>\n",
       "      <td>-0.014164</td>\n",
       "      <td>0.011144</td>\n",
       "      <td>0.059735</td>\n",
       "      <td>...</td>\n",
       "      <td>0.049955</td>\n",
       "      <td>-0.026752</td>\n",
       "      <td>0.006628</td>\n",
       "      <td>0.019658</td>\n",
       "      <td>0.009338</td>\n",
       "      <td>0.021841</td>\n",
       "      <td>-0.006525</td>\n",
       "      <td>0.027606</td>\n",
       "      <td>-0.063887</td>\n",
       "      <td>-0.027496</td>\n",
       "    </tr>\n",
       "    <tr>\n",
       "      <th>FullBath</th>\n",
       "      <td>0.020403</td>\n",
       "      <td>0.136120</td>\n",
       "      <td>0.175618</td>\n",
       "      <td>0.128590</td>\n",
       "      <td>0.553413</td>\n",
       "      <td>-0.172066</td>\n",
       "      <td>0.462765</td>\n",
       "      <td>0.438641</td>\n",
       "      <td>0.270912</td>\n",
       "      <td>0.059064</td>\n",
       "      <td>...</td>\n",
       "      <td>0.210658</td>\n",
       "      <td>0.255169</td>\n",
       "      <td>-0.099264</td>\n",
       "      <td>0.017494</td>\n",
       "      <td>-0.014964</td>\n",
       "      <td>0.054145</td>\n",
       "      <td>-0.013122</td>\n",
       "      <td>0.045204</td>\n",
       "      <td>-0.028319</td>\n",
       "      <td>0.571469</td>\n",
       "    </tr>\n",
       "    <tr>\n",
       "      <th>HalfBath</th>\n",
       "      <td>-0.005245</td>\n",
       "      <td>0.167203</td>\n",
       "      <td>0.065373</td>\n",
       "      <td>0.007154</td>\n",
       "      <td>0.269712</td>\n",
       "      <td>-0.064850</td>\n",
       "      <td>0.257512</td>\n",
       "      <td>0.176850</td>\n",
       "      <td>0.204737</td>\n",
       "      <td>0.005776</td>\n",
       "      <td>...</td>\n",
       "      <td>0.104947</td>\n",
       "      <td>0.206732</td>\n",
       "      <td>-0.101988</td>\n",
       "      <td>-0.000159</td>\n",
       "      <td>0.074750</td>\n",
       "      <td>0.025259</td>\n",
       "      <td>0.006597</td>\n",
       "      <td>0.005244</td>\n",
       "      <td>-0.003611</td>\n",
       "      <td>0.281280</td>\n",
       "    </tr>\n",
       "    <tr>\n",
       "      <th>BedroomAbvGr</th>\n",
       "      <td>0.037338</td>\n",
       "      <td>-0.056939</td>\n",
       "      <td>0.248373</td>\n",
       "      <td>0.131653</td>\n",
       "      <td>0.117520</td>\n",
       "      <td>0.023217</td>\n",
       "      <td>-0.055189</td>\n",
       "      <td>-0.039978</td>\n",
       "      <td>0.114893</td>\n",
       "      <td>-0.085729</td>\n",
       "      <td>...</td>\n",
       "      <td>0.071124</td>\n",
       "      <td>0.100816</td>\n",
       "      <td>0.049033</td>\n",
       "      <td>-0.024847</td>\n",
       "      <td>0.058416</td>\n",
       "      <td>0.080304</td>\n",
       "      <td>0.005714</td>\n",
       "      <td>0.089158</td>\n",
       "      <td>-0.040901</td>\n",
       "      <td>0.184871</td>\n",
       "    </tr>\n",
       "    <tr>\n",
       "      <th>KitchenAbvGr</th>\n",
       "      <td>-0.012151</td>\n",
       "      <td>0.272468</td>\n",
       "      <td>-0.004800</td>\n",
       "      <td>-0.020684</td>\n",
       "      <td>-0.207076</td>\n",
       "      <td>-0.103278</td>\n",
       "      <td>-0.174618</td>\n",
       "      <td>-0.156798</td>\n",
       "      <td>-0.034667</td>\n",
       "      <td>-0.085870</td>\n",
       "      <td>...</td>\n",
       "      <td>-0.080131</td>\n",
       "      <td>-0.072931</td>\n",
       "      <td>0.036424</td>\n",
       "      <td>-0.023751</td>\n",
       "      <td>-0.049238</td>\n",
       "      <td>-0.016349</td>\n",
       "      <td>0.070270</td>\n",
       "      <td>0.044772</td>\n",
       "      <td>0.030012</td>\n",
       "      <td>-0.142608</td>\n",
       "    </tr>\n",
       "    <tr>\n",
       "      <th>TotRmsAbvGrd</th>\n",
       "      <td>0.030051</td>\n",
       "      <td>0.023044</td>\n",
       "      <td>0.328885</td>\n",
       "      <td>0.188787</td>\n",
       "      <td>0.427244</td>\n",
       "      <td>-0.055991</td>\n",
       "      <td>0.106366</td>\n",
       "      <td>0.181211</td>\n",
       "      <td>0.285069</td>\n",
       "      <td>0.062849</td>\n",
       "      <td>...</td>\n",
       "      <td>0.176030</td>\n",
       "      <td>0.209507</td>\n",
       "      <td>0.013642</td>\n",
       "      <td>-0.010455</td>\n",
       "      <td>0.057087</td>\n",
       "      <td>0.095008</td>\n",
       "      <td>0.030355</td>\n",
       "      <td>0.060602</td>\n",
       "      <td>-0.021690</td>\n",
       "      <td>0.545265</td>\n",
       "    </tr>\n",
       "    <tr>\n",
       "      <th>Fireplaces</th>\n",
       "      <td>-0.012947</td>\n",
       "      <td>-0.038710</td>\n",
       "      <td>0.257012</td>\n",
       "      <td>0.269490</td>\n",
       "      <td>0.393828</td>\n",
       "      <td>-0.005556</td>\n",
       "      <td>0.143186</td>\n",
       "      <td>0.100741</td>\n",
       "      <td>0.247585</td>\n",
       "      <td>0.269559</td>\n",
       "      <td>...</td>\n",
       "      <td>0.195970</td>\n",
       "      <td>0.157956</td>\n",
       "      <td>-0.027125</td>\n",
       "      <td>-0.000544</td>\n",
       "      <td>0.181976</td>\n",
       "      <td>0.104353</td>\n",
       "      <td>0.001574</td>\n",
       "      <td>0.011232</td>\n",
       "      <td>-0.006855</td>\n",
       "      <td>0.455504</td>\n",
       "    </tr>\n",
       "    <tr>\n",
       "      <th>GarageYrBlt</th>\n",
       "      <td>-0.001969</td>\n",
       "      <td>0.100765</td>\n",
       "      <td>0.058655</td>\n",
       "      <td>-0.033896</td>\n",
       "      <td>0.550044</td>\n",
       "      <td>-0.318510</td>\n",
       "      <td>0.833663</td>\n",
       "      <td>0.641191</td>\n",
       "      <td>0.247877</td>\n",
       "      <td>0.152031</td>\n",
       "      <td>...</td>\n",
       "      <td>0.228030</td>\n",
       "      <td>0.226411</td>\n",
       "      <td>-0.302507</td>\n",
       "      <td>0.017844</td>\n",
       "      <td>-0.083063</td>\n",
       "      <td>-0.015013</td>\n",
       "      <td>-0.038748</td>\n",
       "      <td>-0.002263</td>\n",
       "      <td>-0.006347</td>\n",
       "      <td>0.480703</td>\n",
       "    </tr>\n",
       "    <tr>\n",
       "      <th>GarageCars</th>\n",
       "      <td>0.031754</td>\n",
       "      <td>-0.029391</td>\n",
       "      <td>0.259859</td>\n",
       "      <td>0.145704</td>\n",
       "      <td>0.604271</td>\n",
       "      <td>-0.166870</td>\n",
       "      <td>0.536343</td>\n",
       "      <td>0.431354</td>\n",
       "      <td>0.355498</td>\n",
       "      <td>0.228753</td>\n",
       "      <td>...</td>\n",
       "      <td>0.223232</td>\n",
       "      <td>0.207222</td>\n",
       "      <td>-0.161892</td>\n",
       "      <td>0.027165</td>\n",
       "      <td>0.040048</td>\n",
       "      <td>0.022897</td>\n",
       "      <td>-0.045942</td>\n",
       "      <td>0.019746</td>\n",
       "      <td>-0.025231</td>\n",
       "      <td>0.637746</td>\n",
       "    </tr>\n",
       "    <tr>\n",
       "      <th>GarageArea</th>\n",
       "      <td>0.036004</td>\n",
       "      <td>-0.092094</td>\n",
       "      <td>0.323963</td>\n",
       "      <td>0.172132</td>\n",
       "      <td>0.572896</td>\n",
       "      <td>-0.139147</td>\n",
       "      <td>0.483754</td>\n",
       "      <td>0.386742</td>\n",
       "      <td>0.377926</td>\n",
       "      <td>0.314449</td>\n",
       "      <td>...</td>\n",
       "      <td>0.220714</td>\n",
       "      <td>0.242107</td>\n",
       "      <td>-0.134431</td>\n",
       "      <td>0.030640</td>\n",
       "      <td>0.046541</td>\n",
       "      <td>0.067258</td>\n",
       "      <td>-0.030518</td>\n",
       "      <td>0.016071</td>\n",
       "      <td>-0.013878</td>\n",
       "      <td>0.625194</td>\n",
       "    </tr>\n",
       "    <tr>\n",
       "      <th>WoodDeckSF</th>\n",
       "      <td>-0.032670</td>\n",
       "      <td>-0.005901</td>\n",
       "      <td>0.072516</td>\n",
       "      <td>0.156170</td>\n",
       "      <td>0.229156</td>\n",
       "      <td>0.009187</td>\n",
       "      <td>0.232441</td>\n",
       "      <td>0.211034</td>\n",
       "      <td>0.149873</td>\n",
       "      <td>0.200977</td>\n",
       "      <td>...</td>\n",
       "      <td>1.000000</td>\n",
       "      <td>0.031517</td>\n",
       "      <td>-0.135015</td>\n",
       "      <td>-0.045642</td>\n",
       "      <td>-0.070406</td>\n",
       "      <td>0.080665</td>\n",
       "      <td>-0.012884</td>\n",
       "      <td>0.003714</td>\n",
       "      <td>0.030367</td>\n",
       "      <td>0.317230</td>\n",
       "    </tr>\n",
       "    <tr>\n",
       "      <th>OpenPorchSF</th>\n",
       "      <td>0.024923</td>\n",
       "      <td>-0.007723</td>\n",
       "      <td>0.129800</td>\n",
       "      <td>0.068481</td>\n",
       "      <td>0.302299</td>\n",
       "      <td>-0.036861</td>\n",
       "      <td>0.195812</td>\n",
       "      <td>0.213531</td>\n",
       "      <td>0.086096</td>\n",
       "      <td>0.095193</td>\n",
       "      <td>...</td>\n",
       "      <td>0.031517</td>\n",
       "      <td>1.000000</td>\n",
       "      <td>-0.094183</td>\n",
       "      <td>-0.014660</td>\n",
       "      <td>0.089940</td>\n",
       "      <td>0.067591</td>\n",
       "      <td>-0.016586</td>\n",
       "      <td>0.033646</td>\n",
       "      <td>-0.049206</td>\n",
       "      <td>0.301646</td>\n",
       "    </tr>\n",
       "    <tr>\n",
       "      <th>EnclosedPorch</th>\n",
       "      <td>-0.002723</td>\n",
       "      <td>-0.018649</td>\n",
       "      <td>0.003532</td>\n",
       "      <td>-0.011862</td>\n",
       "      <td>-0.100237</td>\n",
       "      <td>0.051643</td>\n",
       "      <td>-0.389842</td>\n",
       "      <td>-0.198599</td>\n",
       "      <td>-0.113800</td>\n",
       "      <td>-0.110568</td>\n",
       "      <td>...</td>\n",
       "      <td>-0.135015</td>\n",
       "      <td>-0.094183</td>\n",
       "      <td>1.000000</td>\n",
       "      <td>-0.034962</td>\n",
       "      <td>-0.088797</td>\n",
       "      <td>0.059178</td>\n",
       "      <td>0.014249</td>\n",
       "      <td>-0.011482</td>\n",
       "      <td>0.002313</td>\n",
       "      <td>-0.124981</td>\n",
       "    </tr>\n",
       "    <tr>\n",
       "      <th>TrdSsnPorch</th>\n",
       "      <td>-0.068839</td>\n",
       "      <td>-0.048256</td>\n",
       "      <td>0.051023</td>\n",
       "      <td>0.014013</td>\n",
       "      <td>0.022916</td>\n",
       "      <td>0.015226</td>\n",
       "      <td>0.022267</td>\n",
       "      <td>0.027320</td>\n",
       "      <td>-0.003235</td>\n",
       "      <td>0.009165</td>\n",
       "      <td>...</td>\n",
       "      <td>-0.045642</td>\n",
       "      <td>-0.014660</td>\n",
       "      <td>-0.034962</td>\n",
       "      <td>1.000000</td>\n",
       "      <td>-0.029399</td>\n",
       "      <td>-0.008579</td>\n",
       "      <td>0.001677</td>\n",
       "      <td>0.001932</td>\n",
       "      <td>0.017092</td>\n",
       "      <td>0.010292</td>\n",
       "    </tr>\n",
       "    <tr>\n",
       "      <th>ScreenPorch</th>\n",
       "      <td>0.010858</td>\n",
       "      <td>-0.035605</td>\n",
       "      <td>0.038259</td>\n",
       "      <td>0.044695</td>\n",
       "      <td>0.043778</td>\n",
       "      <td>0.053720</td>\n",
       "      <td>-0.045727</td>\n",
       "      <td>-0.051362</td>\n",
       "      <td>0.071825</td>\n",
       "      <td>0.063206</td>\n",
       "      <td>...</td>\n",
       "      <td>-0.070406</td>\n",
       "      <td>0.089940</td>\n",
       "      <td>-0.088797</td>\n",
       "      <td>-0.029399</td>\n",
       "      <td>1.000000</td>\n",
       "      <td>0.058422</td>\n",
       "      <td>0.039715</td>\n",
       "      <td>0.028034</td>\n",
       "      <td>-0.001941</td>\n",
       "      <td>0.094416</td>\n",
       "    </tr>\n",
       "    <tr>\n",
       "      <th>PoolArea</th>\n",
       "      <td>0.062212</td>\n",
       "      <td>0.009390</td>\n",
       "      <td>0.194694</td>\n",
       "      <td>0.080507</td>\n",
       "      <td>0.074022</td>\n",
       "      <td>-0.001094</td>\n",
       "      <td>0.006197</td>\n",
       "      <td>0.006577</td>\n",
       "      <td>0.013458</td>\n",
       "      <td>0.155582</td>\n",
       "      <td>...</td>\n",
       "      <td>0.080665</td>\n",
       "      <td>0.067591</td>\n",
       "      <td>0.059178</td>\n",
       "      <td>-0.008579</td>\n",
       "      <td>0.058422</td>\n",
       "      <td>1.000000</td>\n",
       "      <td>0.029207</td>\n",
       "      <td>-0.037319</td>\n",
       "      <td>-0.069040</td>\n",
       "      <td>0.101136</td>\n",
       "    </tr>\n",
       "    <tr>\n",
       "      <th>MiscVal</th>\n",
       "      <td>-0.006240</td>\n",
       "      <td>-0.004994</td>\n",
       "      <td>0.002020</td>\n",
       "      <td>0.040346</td>\n",
       "      <td>-0.029203</td>\n",
       "      <td>0.071223</td>\n",
       "      <td>-0.032909</td>\n",
       "      <td>-0.012715</td>\n",
       "      <td>-0.028203</td>\n",
       "      <td>0.006685</td>\n",
       "      <td>...</td>\n",
       "      <td>-0.012884</td>\n",
       "      <td>-0.016586</td>\n",
       "      <td>0.014249</td>\n",
       "      <td>0.001677</td>\n",
       "      <td>0.039715</td>\n",
       "      <td>0.029207</td>\n",
       "      <td>1.000000</td>\n",
       "      <td>-0.007599</td>\n",
       "      <td>0.002117</td>\n",
       "      <td>-0.018896</td>\n",
       "    </tr>\n",
       "    <tr>\n",
       "      <th>MoSold</th>\n",
       "      <td>0.041707</td>\n",
       "      <td>0.014728</td>\n",
       "      <td>0.003151</td>\n",
       "      <td>-0.020762</td>\n",
       "      <td>0.054373</td>\n",
       "      <td>-0.018803</td>\n",
       "      <td>-0.007801</td>\n",
       "      <td>0.010372</td>\n",
       "      <td>-0.014943</td>\n",
       "      <td>-0.050962</td>\n",
       "      <td>...</td>\n",
       "      <td>0.003714</td>\n",
       "      <td>0.033646</td>\n",
       "      <td>-0.011482</td>\n",
       "      <td>0.001932</td>\n",
       "      <td>0.028034</td>\n",
       "      <td>-0.037319</td>\n",
       "      <td>-0.007599</td>\n",
       "      <td>1.000000</td>\n",
       "      <td>-0.169336</td>\n",
       "      <td>0.022430</td>\n",
       "    </tr>\n",
       "    <tr>\n",
       "      <th>YrSold</th>\n",
       "      <td>0.006896</td>\n",
       "      <td>-0.019497</td>\n",
       "      <td>-0.004545</td>\n",
       "      <td>0.001316</td>\n",
       "      <td>-0.020102</td>\n",
       "      <td>0.058343</td>\n",
       "      <td>-0.026309</td>\n",
       "      <td>0.042851</td>\n",
       "      <td>-0.010435</td>\n",
       "      <td>0.019481</td>\n",
       "      <td>...</td>\n",
       "      <td>0.030367</td>\n",
       "      <td>-0.049206</td>\n",
       "      <td>0.002313</td>\n",
       "      <td>0.017092</td>\n",
       "      <td>-0.001941</td>\n",
       "      <td>-0.069040</td>\n",
       "      <td>0.002117</td>\n",
       "      <td>-0.169336</td>\n",
       "      <td>1.000000</td>\n",
       "      <td>-0.015101</td>\n",
       "    </tr>\n",
       "    <tr>\n",
       "      <th>SalePrice</th>\n",
       "      <td>-0.017679</td>\n",
       "      <td>-0.093199</td>\n",
       "      <td>0.341098</td>\n",
       "      <td>0.252393</td>\n",
       "      <td>0.791682</td>\n",
       "      <td>-0.060165</td>\n",
       "      <td>0.526712</td>\n",
       "      <td>0.507532</td>\n",
       "      <td>0.474407</td>\n",
       "      <td>0.401410</td>\n",
       "      <td>...</td>\n",
       "      <td>0.317230</td>\n",
       "      <td>0.301646</td>\n",
       "      <td>-0.124981</td>\n",
       "      <td>0.010292</td>\n",
       "      <td>0.094416</td>\n",
       "      <td>0.101136</td>\n",
       "      <td>-0.018896</td>\n",
       "      <td>0.022430</td>\n",
       "      <td>-0.015101</td>\n",
       "      <td>1.000000</td>\n",
       "    </tr>\n",
       "  </tbody>\n",
       "</table>\n",
       "<p>38 rows × 38 columns</p>\n",
       "</div>"
      ],
      "text/plain": [
       "                     Id  MSSubClass  LotFrontage   LotArea  OverallQual  \\\n",
       "Id             1.000000    0.004042    -0.010030 -0.032786    -0.016300   \n",
       "MSSubClass     0.004042    1.000000    -0.361357 -0.123985     0.012862   \n",
       "LotFrontage   -0.010030   -0.361357     1.000000  0.305660     0.232551   \n",
       "LotArea       -0.032786   -0.123985     0.305660  1.000000     0.087840   \n",
       "OverallQual   -0.016300    0.012862     0.232551  0.087840     1.000000   \n",
       "OverallCond    0.009043   -0.068393    -0.039514  0.003240    -0.077139   \n",
       "YearBuilt     -0.004670    0.046020     0.108152  0.006101     0.581078   \n",
       "YearRemodAdd  -0.022686    0.053515     0.078415  0.009516     0.555063   \n",
       "MasVnrArea    -0.054229    0.024875     0.177579  0.098801     0.412149   \n",
       "BsmtFinSF1     0.005273   -0.080225     0.240806  0.211566     0.258400   \n",
       "BsmtFinSF2    -0.009473   -0.077908     0.048184  0.128963    -0.070068   \n",
       "BsmtUnfSF     -0.004213   -0.153640     0.114494 -0.015114     0.308314   \n",
       "TotalBsmtSF   -0.002172   -0.261894     0.377696  0.249686     0.543188   \n",
       "FstFlrSF       0.017388   -0.266183     0.424193  0.285652     0.476194   \n",
       "SndFlrSF       0.011344    0.305101     0.075292  0.047378     0.291750   \n",
       "LowQualFinSF  -0.031723    0.025715     0.047762 -0.005692    -0.046498   \n",
       "GrLivArea      0.019689    0.056350     0.383355  0.252167     0.593641   \n",
       "BsmtFullBath   0.006709    0.012236     0.101023  0.157815     0.110649   \n",
       "BsmtHalfBath  -0.021707   -0.023686    -0.004405  0.056033    -0.052130   \n",
       "FullBath       0.020403    0.136120     0.175618  0.128590     0.553413   \n",
       "HalfBath      -0.005245    0.167203     0.065373  0.007154     0.269712   \n",
       "BedroomAbvGr   0.037338   -0.056939     0.248373  0.131653     0.117520   \n",
       "KitchenAbvGr  -0.012151    0.272468    -0.004800 -0.020684    -0.207076   \n",
       "TotRmsAbvGrd   0.030051    0.023044     0.328885  0.188787     0.427244   \n",
       "Fireplaces    -0.012947   -0.038710     0.257012  0.269490     0.393828   \n",
       "GarageYrBlt   -0.001969    0.100765     0.058655 -0.033896     0.550044   \n",
       "GarageCars     0.031754   -0.029391     0.259859  0.145704     0.604271   \n",
       "GarageArea     0.036004   -0.092094     0.323963  0.172132     0.572896   \n",
       "WoodDeckSF    -0.032670   -0.005901     0.072516  0.156170     0.229156   \n",
       "OpenPorchSF    0.024923   -0.007723     0.129800  0.068481     0.302299   \n",
       "EnclosedPorch -0.002723   -0.018649     0.003532 -0.011862    -0.100237   \n",
       "TrdSsnPorch   -0.068839   -0.048256     0.051023  0.014013     0.022916   \n",
       "ScreenPorch    0.010858   -0.035605     0.038259  0.044695     0.043778   \n",
       "PoolArea       0.062212    0.009390     0.194694  0.080507     0.074022   \n",
       "MiscVal       -0.006240   -0.004994     0.002020  0.040346    -0.029203   \n",
       "MoSold         0.041707    0.014728     0.003151 -0.020762     0.054373   \n",
       "YrSold         0.006896   -0.019497    -0.004545  0.001316    -0.020102   \n",
       "SalePrice     -0.017679   -0.093199     0.341098  0.252393     0.791682   \n",
       "\n",
       "               OverallCond  YearBuilt  YearRemodAdd  MasVnrArea  BsmtFinSF1  \\\n",
       "Id                0.009043  -0.004670     -0.022686   -0.054229    0.005273   \n",
       "MSSubClass       -0.068393   0.046020      0.053515    0.024875   -0.080225   \n",
       "LotFrontage      -0.039514   0.108152      0.078415    0.177579    0.240806   \n",
       "LotArea           0.003240   0.006101      0.009516    0.098801    0.211566   \n",
       "OverallQual      -0.077139   0.581078      0.555063    0.412149    0.258400   \n",
       "OverallCond       1.000000  -0.351883      0.102381   -0.120195   -0.046007   \n",
       "YearBuilt        -0.351883   1.000000      0.589805    0.306555    0.250015   \n",
       "YearRemodAdd      0.102381   0.589805      1.000000    0.171946    0.132358   \n",
       "MasVnrArea       -0.120195   0.306555      0.171946    1.000000    0.246291   \n",
       "BsmtFinSF1       -0.046007   0.250015      0.132358    0.246291    1.000000   \n",
       "BsmtFinSF2        0.053866  -0.055888     -0.066044   -0.069708   -0.051938   \n",
       "BsmtUnfSF        -0.130969   0.145418      0.168671    0.121052   -0.478184   \n",
       "TotalBsmtSF      -0.156399   0.379627      0.277803    0.346812    0.539293   \n",
       "FstFlrSF         -0.132154   0.278048      0.224950    0.329187    0.463620   \n",
       "SndFlrSF          0.024658   0.029254      0.149676    0.186734   -0.137980   \n",
       "LowQualFinSF     -0.012523  -0.167405     -0.061454   -0.067002   -0.057921   \n",
       "GrLivArea        -0.079334   0.217670      0.286894    0.395009    0.226952   \n",
       "BsmtFullBath     -0.070350   0.179311      0.117311    0.064783    0.649347   \n",
       "BsmtHalfBath      0.132889  -0.052773     -0.014164    0.011144    0.059735   \n",
       "FullBath         -0.172066   0.462765      0.438641    0.270912    0.059064   \n",
       "HalfBath         -0.064850   0.257512      0.176850    0.204737    0.005776   \n",
       "BedroomAbvGr      0.023217  -0.055189     -0.039978    0.114893   -0.085729   \n",
       "KitchenAbvGr     -0.103278  -0.174618     -0.156798   -0.034667   -0.085870   \n",
       "TotRmsAbvGrd     -0.055991   0.106366      0.181211    0.285069    0.062849   \n",
       "Fireplaces       -0.005556   0.143186      0.100741    0.247585    0.269559   \n",
       "GarageYrBlt      -0.318510   0.833663      0.641191    0.247877    0.152031   \n",
       "GarageCars       -0.166870   0.536343      0.431354    0.355498    0.228753   \n",
       "GarageArea       -0.139147   0.483754      0.386742    0.377926    0.314449   \n",
       "WoodDeckSF        0.009187   0.232441      0.211034    0.149873    0.200977   \n",
       "OpenPorchSF      -0.036861   0.195812      0.213531    0.086096    0.095193   \n",
       "EnclosedPorch     0.051643  -0.389842     -0.198599   -0.113800   -0.110568   \n",
       "TrdSsnPorch       0.015226   0.022267      0.027320   -0.003235    0.009165   \n",
       "ScreenPorch       0.053720  -0.045727     -0.051362    0.071825    0.063206   \n",
       "PoolArea         -0.001094   0.006197      0.006577    0.013458    0.155582   \n",
       "MiscVal           0.071223  -0.032909     -0.012715   -0.028203    0.006685   \n",
       "MoSold           -0.018803  -0.007801      0.010372   -0.014943   -0.050962   \n",
       "YrSold            0.058343  -0.026309      0.042851   -0.010435    0.019481   \n",
       "SalePrice        -0.060165   0.526712      0.507532    0.474407    0.401410   \n",
       "\n",
       "                 ...      WoodDeckSF  OpenPorchSF  EnclosedPorch  TrdSsnPorch  \\\n",
       "Id               ...       -0.032670     0.024923      -0.002723    -0.068839   \n",
       "MSSubClass       ...       -0.005901    -0.007723      -0.018649    -0.048256   \n",
       "LotFrontage      ...        0.072516     0.129800       0.003532     0.051023   \n",
       "LotArea          ...        0.156170     0.068481      -0.011862     0.014013   \n",
       "OverallQual      ...        0.229156     0.302299      -0.100237     0.022916   \n",
       "OverallCond      ...        0.009187    -0.036861       0.051643     0.015226   \n",
       "YearBuilt        ...        0.232441     0.195812      -0.389842     0.022267   \n",
       "YearRemodAdd     ...        0.211034     0.213531      -0.198599     0.027320   \n",
       "MasVnrArea       ...        0.149873     0.086096      -0.113800    -0.003235   \n",
       "BsmtFinSF1       ...        0.200977     0.095193      -0.110568     0.009165   \n",
       "BsmtFinSF2       ...        0.100669     0.022804       0.028812    -0.028486   \n",
       "BsmtUnfSF        ...       -0.009711     0.121983       0.005657     0.024225   \n",
       "TotalBsmtSF      ...        0.233797     0.226084      -0.097627     0.022850   \n",
       "FstFlrSF         ...        0.236344     0.188990      -0.059468     0.037922   \n",
       "SndFlrSF         ...        0.084973     0.194394       0.066274    -0.023660   \n",
       "LowQualFinSF     ...       -0.022739    -0.030391       0.095935    -0.013432   \n",
       "GrLivArea        ...        0.245056     0.299762       0.018715     0.007562   \n",
       "BsmtFullBath     ...        0.171837     0.043084      -0.057195    -0.019524   \n",
       "BsmtHalfBath     ...        0.049955    -0.026752       0.006628     0.019658   \n",
       "FullBath         ...        0.210658     0.255169      -0.099264     0.017494   \n",
       "HalfBath         ...        0.104947     0.206732      -0.101988    -0.000159   \n",
       "BedroomAbvGr     ...        0.071124     0.100816       0.049033    -0.024847   \n",
       "KitchenAbvGr     ...       -0.080131    -0.072931       0.036424    -0.023751   \n",
       "TotRmsAbvGrd     ...        0.176030     0.209507       0.013642    -0.010455   \n",
       "Fireplaces       ...        0.195970     0.157956      -0.027125    -0.000544   \n",
       "GarageYrBlt      ...        0.228030     0.226411      -0.302507     0.017844   \n",
       "GarageCars       ...        0.223232     0.207222      -0.161892     0.027165   \n",
       "GarageArea       ...        0.220714     0.242107      -0.134431     0.030640   \n",
       "WoodDeckSF       ...        1.000000     0.031517      -0.135015    -0.045642   \n",
       "OpenPorchSF      ...        0.031517     1.000000      -0.094183    -0.014660   \n",
       "EnclosedPorch    ...       -0.135015    -0.094183       1.000000    -0.034962   \n",
       "TrdSsnPorch      ...       -0.045642    -0.014660      -0.034962     1.000000   \n",
       "ScreenPorch      ...       -0.070406     0.089940      -0.088797    -0.029399   \n",
       "PoolArea         ...        0.080665     0.067591       0.059178    -0.008579   \n",
       "MiscVal          ...       -0.012884    -0.016586       0.014249     0.001677   \n",
       "MoSold           ...        0.003714     0.033646      -0.011482     0.001932   \n",
       "YrSold           ...        0.030367    -0.049206       0.002313     0.017092   \n",
       "SalePrice        ...        0.317230     0.301646      -0.124981     0.010292   \n",
       "\n",
       "               ScreenPorch  PoolArea   MiscVal    MoSold    YrSold  SalePrice  \n",
       "Id                0.010858  0.062212 -0.006240  0.041707  0.006896  -0.017679  \n",
       "MSSubClass       -0.035605  0.009390 -0.004994  0.014728 -0.019497  -0.093199  \n",
       "LotFrontage       0.038259  0.194694  0.002020  0.003151 -0.004545   0.341098  \n",
       "LotArea           0.044695  0.080507  0.040346 -0.020762  0.001316   0.252393  \n",
       "OverallQual       0.043778  0.074022 -0.029203  0.054373 -0.020102   0.791682  \n",
       "OverallCond       0.053720 -0.001094  0.071223 -0.018803  0.058343  -0.060165  \n",
       "YearBuilt        -0.045727  0.006197 -0.032909 -0.007801 -0.026309   0.526712  \n",
       "YearRemodAdd     -0.051362  0.006577 -0.012715  0.010372  0.042851   0.507532  \n",
       "MasVnrArea        0.071825  0.013458 -0.028203 -0.014943 -0.010435   0.474407  \n",
       "BsmtFinSF1        0.063206  0.155582  0.006685 -0.050962  0.019481   0.401410  \n",
       "BsmtFinSF2        0.067529  0.045230  0.005806  0.006716  0.037341  -0.012766  \n",
       "BsmtUnfSF        -0.007559 -0.039596 -0.025746  0.045599 -0.037258   0.208105  \n",
       "TotalBsmtSF       0.082174  0.137540 -0.016315 -0.005134 -0.002979   0.612626  \n",
       "FstFlrSF          0.078497  0.144897 -0.018234  0.001734 -0.002688   0.609607  \n",
       "SndFlrSF          0.046384  0.091457  0.018469  0.051877 -0.023626   0.327565  \n",
       "LowQualFinSF     -0.031686  0.076262 -0.002466 -0.001464 -0.004974  -0.061246  \n",
       "GrLivArea         0.094392  0.190568  0.001484  0.044186 -0.022022   0.721733  \n",
       "BsmtFullBath      0.025734  0.076097 -0.026604 -0.051577  0.076221   0.221242  \n",
       "BsmtHalfBath      0.009338  0.021841 -0.006525  0.027606 -0.063887  -0.027496  \n",
       "FullBath         -0.014964  0.054145 -0.013122  0.045204 -0.028319   0.571469  \n",
       "HalfBath          0.074750  0.025259  0.006597  0.005244 -0.003611   0.281280  \n",
       "BedroomAbvGr      0.058416  0.080304  0.005714  0.089158 -0.040901   0.184871  \n",
       "KitchenAbvGr     -0.049238 -0.016349  0.070270  0.044772  0.030012  -0.142608  \n",
       "TotRmsAbvGrd      0.057087  0.095008  0.030355  0.060602 -0.021690   0.545265  \n",
       "Fireplaces        0.181976  0.104353  0.001574  0.011232 -0.006855   0.455504  \n",
       "GarageYrBlt      -0.083063 -0.015013 -0.038748 -0.002263 -0.006347   0.480703  \n",
       "GarageCars        0.040048  0.022897 -0.045942  0.019746 -0.025231   0.637746  \n",
       "GarageArea        0.046541  0.067258 -0.030518  0.016071 -0.013878   0.625194  \n",
       "WoodDeckSF       -0.070406  0.080665 -0.012884  0.003714  0.030367   0.317230  \n",
       "OpenPorchSF       0.089940  0.067591 -0.016586  0.033646 -0.049206   0.301646  \n",
       "EnclosedPorch    -0.088797  0.059178  0.014249 -0.011482  0.002313  -0.124981  \n",
       "TrdSsnPorch      -0.029399 -0.008579  0.001677  0.001932  0.017092   0.010292  \n",
       "ScreenPorch       1.000000  0.058422  0.039715  0.028034 -0.001941   0.094416  \n",
       "PoolArea          0.058422  1.000000  0.029207 -0.037319 -0.069040   0.101136  \n",
       "MiscVal           0.039715  0.029207  1.000000 -0.007599  0.002117  -0.018896  \n",
       "MoSold            0.028034 -0.037319 -0.007599  1.000000 -0.169336   0.022430  \n",
       "YrSold           -0.001941 -0.069040  0.002117 -0.169336  1.000000  -0.015101  \n",
       "SalePrice         0.094416  0.101136 -0.018896  0.022430 -0.015101   1.000000  \n",
       "\n",
       "[38 rows x 38 columns]"
      ]
     },
     "execution_count": 78,
     "metadata": {},
     "output_type": "execute_result"
    }
   ],
   "source": [
    "housing_train_set.corr()"
   ]
  },
  {
   "cell_type": "code",
   "execution_count": 79,
   "metadata": {},
   "outputs": [],
   "source": [
    "import seaborn as sns"
   ]
  },
  {
   "cell_type": "code",
   "execution_count": 80,
   "metadata": {},
   "outputs": [
    {
     "data": {
      "image/png": "[encoded data removed]",
      "text/plain": [
       "<Figure size 432x72 with 1 Axes>"
      ]
     },
     "metadata": {},
     "output_type": "display_data"
    }
   ],
   "source": [
    "sns.palplot(sns.color_palette('PuBuGn'))"
   ]
  },
  {
   "cell_type": "code",
   "execution_count": 81,
   "metadata": {},
   "outputs": [
    {
     "data": {
      "image/png": "[encoded data removed]",
      "text/plain": [
       "<Figure size 432x72 with 1 Axes>"
      ]
     },
     "metadata": {},
     "output_type": "display_data"
    }
   ],
   "source": [
    "sns.palplot(sns.color_palette('PuBuGn_d'))"
   ]
  },
  {
   "cell_type": "code",
   "execution_count": 82,
   "metadata": {},
   "outputs": [
    {
     "data": {
      "text/plain": [
       "<Figure size 1152x1152 with 0 Axes>"
      ]
     },
     "execution_count": 82,
     "metadata": {},
     "output_type": "execute_result"
    },
    {
     "data": {
      "text/plain": [
       "<Figure size 1152x1152 with 0 Axes>"
      ]
     },
     "metadata": {},
     "output_type": "display_data"
    }
   ],
   "source": [
    "plt.figure(figsize = (16,16))"
   ]
  },
  {
   "cell_type": "code",
   "execution_count": 89,
   "metadata": {},
   "outputs": [
    {
     "data": {
      "image/png": "[encoded data removed]",
      "text/plain": [
       "<Figure size 432x288 with 2 Axes>"
      ]
     },
     "metadata": {},
     "output_type": "display_data"
    }
   ],
   "source": [
    "g=sns.heatmap(housing_train_set.corr(),linewidths=.5,cmap='PuBuGn')\n",
    "#list1= g.set_yticklabels(g.get_yticklabels(),rotation=45)\n",
    "#list2= g.set_xticklabels(g.get_xticklabels(),rotation=45)\n"
   ]
  },
  {
   "cell_type": "code",
   "execution_count": 2,
   "metadata": {},
   "outputs": [
    {
     "ename": "NameError",
     "evalue": "name 'housing_train_set' is not defined",
     "output_type": "error",
     "traceback": [
      "\u001b[1;31m---------------------------------------------------------------------------\u001b[0m",
      "\u001b[1;31mNameError\u001b[0m                                 Traceback (most recent call last)",
      "\u001b[1;32m<ipython-input-2-908e1c34bfc0>\u001b[0m in \u001b[0;36m<module>\u001b[1;34m()\u001b[0m\n\u001b[1;32m----> 1\u001b[1;33m \u001b[0mhousing_train_set\u001b[0m\u001b[1;33m.\u001b[0m\u001b[0mselect_dtypes\u001b[0m\u001b[1;33m(\u001b[0m\u001b[0minclude\u001b[0m \u001b[1;33m=\u001b[0m\u001b[1;33m(\u001b[0m\u001b[1;34m'int64'\u001b[0m\u001b[1;33m,\u001b[0m\u001b[1;34m'float64'\u001b[0m\u001b[1;33m)\u001b[0m\u001b[1;33m)\u001b[0m\u001b[1;33m.\u001b[0m\u001b[0mshape\u001b[0m\u001b[1;33m\u001b[0m\u001b[0m\n\u001b[0m",
      "\u001b[1;31mNameError\u001b[0m: name 'housing_train_set' is not defined"
     ]
    }
   ],
   "source": [
    "housing_train_set.select_dtypes(include =('int64','float64')).shape"
   ]
  },
  {
   "cell_type": "markdown",
   "metadata": {},
   "source": [
    "from above heatmap it is clear that GarageYrBlt is correlated wit YrBit"
   ]
  },
  {
   "cell_type": "markdown",
   "metadata": {},
   "source": [
    "lets now prove using statistic method using hypothesis "
   ]
  },
  {
   "cell_type": "code",
   "execution_count": 130,
   "metadata": {},
   "outputs": [],
   "source": [
    "# add more comments here\n",
    "import statsmodels.formula.api as smf"
   ]
  },
  {
   "cell_type": "code",
   "execution_count": 131,
   "metadata": {},
   "outputs": [],
   "source": [
    "# Ordinary least squares\n",
    "linear_model_GargeYRBLT=smf.ols(formula='GarageYrBlt~YearBuilt',data=housing_train_set).fit()"
   ]
  },
  {
   "cell_type": "code",
   "execution_count": 132,
   "metadata": {},
   "outputs": [
    {
     "data": {
      "text/html": [
       "<table class=\"simpletable\">\n",
       "<caption>OLS Regression Results</caption>\n",
       "<tr>\n",
       "  <th>Dep. Variable:</th>       <td>GarageYrBlt</td>   <th>  R-squared:         </th> <td>   0.695</td> \n",
       "</tr>\n",
       "<tr>\n",
       "  <th>Model:</th>                   <td>OLS</td>       <th>  Adj. R-squared:    </th> <td>   0.695</td> \n",
       "</tr>\n",
       "<tr>\n",
       "  <th>Method:</th>             <td>Least Squares</td>  <th>  F-statistic:       </th> <td>   2513.</td> \n",
       "</tr>\n",
       "<tr>\n",
       "  <th>Date:</th>             <td>Mon, 16 Sep 2019</td> <th>  Prob (F-statistic):</th> <td>1.14e-286</td>\n",
       "</tr>\n",
       "<tr>\n",
       "  <th>Time:</th>                 <td>11:53:50</td>     <th>  Log-Likelihood:    </th> <td> -4461.9</td> \n",
       "</tr>\n",
       "<tr>\n",
       "  <th>No. Observations:</th>      <td>  1105</td>      <th>  AIC:               </th> <td>   8928.</td> \n",
       "</tr>\n",
       "<tr>\n",
       "  <th>Df Residuals:</th>          <td>  1103</td>      <th>  BIC:               </th> <td>   8938.</td> \n",
       "</tr>\n",
       "<tr>\n",
       "  <th>Df Model:</th>              <td>     1</td>      <th>                     </th>     <td> </td>    \n",
       "</tr>\n",
       "<tr>\n",
       "  <th>Covariance Type:</th>      <td>nonrobust</td>    <th>                     </th>     <td> </td>    \n",
       "</tr>\n",
       "</table>\n",
       "<table class=\"simpletable\">\n",
       "<tr>\n",
       "      <td></td>         <th>coef</th>     <th>std err</th>      <th>t</th>      <th>P>|t|</th>  <th>[0.025</th>    <th>0.975]</th>  \n",
       "</tr>\n",
       "<tr>\n",
       "  <th>Intercept</th> <td>  591.1666</td> <td>   27.669</td> <td>   21.365</td> <td> 0.000</td> <td>  536.876</td> <td>  645.457</td>\n",
       "</tr>\n",
       "<tr>\n",
       "  <th>YearBuilt</th> <td>    0.7031</td> <td>    0.014</td> <td>   50.133</td> <td> 0.000</td> <td>    0.676</td> <td>    0.731</td>\n",
       "</tr>\n",
       "</table>\n",
       "<table class=\"simpletable\">\n",
       "<tr>\n",
       "  <th>Omnibus:</th>       <td>526.718</td> <th>  Durbin-Watson:     </th> <td>   2.093</td>\n",
       "</tr>\n",
       "<tr>\n",
       "  <th>Prob(Omnibus):</th> <td> 0.000</td>  <th>  Jarque-Bera (JB):  </th> <td>3401.778</td>\n",
       "</tr>\n",
       "<tr>\n",
       "  <th>Skew:</th>          <td> 2.119</td>  <th>  Prob(JB):          </th> <td>    0.00</td>\n",
       "</tr>\n",
       "<tr>\n",
       "  <th>Kurtosis:</th>      <td>10.478</td>  <th>  Cond. No.          </th> <td>1.32e+05</td>\n",
       "</tr>\n",
       "</table><br/><br/>Warnings:<br/>[1] Standard Errors assume that the covariance matrix of the errors is correctly specified.<br/>[2] The condition number is large, 1.32e+05. This might indicate that there are<br/>strong multicollinearity or other numerical problems."
      ],
      "text/plain": [
       "<class 'statsmodels.iolib.summary.Summary'>\n",
       "\"\"\"\n",
       "                            OLS Regression Results                            \n",
       "==============================================================================\n",
       "Dep. Variable:            GarageYrBlt   R-squared:                       0.695\n",
       "Model:                            OLS   Adj. R-squared:                  0.695\n",
       "Method:                 Least Squares   F-statistic:                     2513.\n",
       "Date:                Mon, 16 Sep 2019   Prob (F-statistic):          1.14e-286\n",
       "Time:                        11:53:50   Log-Likelihood:                -4461.9\n",
       "No. Observations:                1105   AIC:                             8928.\n",
       "Df Residuals:                    1103   BIC:                             8938.\n",
       "Df Model:                           1                                         \n",
       "Covariance Type:            nonrobust                                         \n",
       "==============================================================================\n",
       "                 coef    std err          t      P>|t|      [0.025      0.975]\n",
       "------------------------------------------------------------------------------\n",
       "Intercept    591.1666     27.669     21.365      0.000     536.876     645.457\n",
       "YearBuilt      0.7031      0.014     50.133      0.000       0.676       0.731\n",
       "==============================================================================\n",
       "Omnibus:                      526.718   Durbin-Watson:                   2.093\n",
       "Prob(Omnibus):                  0.000   Jarque-Bera (JB):             3401.778\n",
       "Skew:                           2.119   Prob(JB):                         0.00\n",
       "Kurtosis:                      10.478   Cond. No.                     1.32e+05\n",
       "==============================================================================\n",
       "\n",
       "Warnings:\n",
       "[1] Standard Errors assume that the covariance matrix of the errors is correctly specified.\n",
       "[2] The condition number is large, 1.32e+05. This might indicate that there are\n",
       "strong multicollinearity or other numerical problems.\n",
       "\"\"\""
      ]
     },
     "execution_count": 132,
     "metadata": {},
     "output_type": "execute_result"
    }
   ],
   "source": [
    "linear_model_GargeYRBLT.summary()\n",
    "# R-Squared - 69.5%\n",
    "# F1 score - F-statistic"
   ]
  },
  {
   "cell_type": "code",
   "execution_count": 133,
   "metadata": {},
   "outputs": [
    {
     "name": "stdout",
     "output_type": "stream",
     "text": [
      "Intercept     4.998186e-85\n",
      "YearBuilt    1.136836e-286\n",
      "dtype: float64\n"
     ]
    }
   ],
   "source": [
    "print(linear_model_GargeYRBLT.pvalues)"
   ]
  },
  {
   "cell_type": "markdown",
   "metadata": {},
   "source": [
    "since pvalue is less than .05 hecnce rejecting Null hypothesis (so it is dependent).\n",
    "Approch here to interpolate value from year Blt, since interpolate use index , let moev the yearblt to index"
   ]
  },
  {
   "cell_type": "code",
   "execution_count": 134,
   "metadata": {},
   "outputs": [
    {
     "data": {
      "text/plain": [
       "Int64Index([ 976,  130,  341, 1106, 1324,  479,  199,  557,  768, 1116,\n",
       "            ...\n",
       "             714, 1338, 1445,  144,  554,  652,  378, 1441,  140,  188],\n",
       "           dtype='int64', length=1168)"
      ]
     },
     "execution_count": 134,
     "metadata": {},
     "output_type": "execute_result"
    }
   ],
   "source": [
    "housing_train_set.index"
   ]
  },
  {
   "cell_type": "code",
   "execution_count": 135,
   "metadata": {},
   "outputs": [],
   "source": [
    "housing_train_set.index= housing_train_set.YearBuilt"
   ]
  },
  {
   "cell_type": "code",
   "execution_count": 136,
   "metadata": {},
   "outputs": [
    {
     "data": {
      "text/plain": [
       "Int64Index([1923, 1966, 1950, 1990, 2006, 1937, 2004, 1920, 2004, 2002,\n",
       "            ...\n",
       "            1976, 2002, 1966, 1963, 2003, 1996, 2010, 2004, 1971, 1979],\n",
       "           dtype='int64', name='YearBuilt', length=1168)"
      ]
     },
     "execution_count": 136,
     "metadata": {},
     "output_type": "execute_result"
    }
   ],
   "source": [
    "housing_train_set.index"
   ]
  },
  {
   "cell_type": "code",
   "execution_count": 137,
   "metadata": {},
   "outputs": [
    {
     "data": {
      "text/html": [
       "<div>\n",
       "<style scoped>\n",
       "    .dataframe tbody tr th:only-of-type {\n",
       "        vertical-align: middle;\n",
       "    }\n",
       "\n",
       "    .dataframe tbody tr th {\n",
       "        vertical-align: top;\n",
       "    }\n",
       "\n",
       "    .dataframe thead th {\n",
       "        text-align: right;\n",
       "    }\n",
       "</style>\n",
       "<table border=\"1\" class=\"dataframe\">\n",
       "  <thead>\n",
       "    <tr style=\"text-align: right;\">\n",
       "      <th></th>\n",
       "      <th>Id</th>\n",
       "      <th>MSSubClass</th>\n",
       "      <th>MSZoning</th>\n",
       "      <th>LotFrontage</th>\n",
       "      <th>LotArea</th>\n",
       "      <th>Street</th>\n",
       "      <th>Alley</th>\n",
       "      <th>LotShape</th>\n",
       "      <th>LandContour</th>\n",
       "      <th>Utilities</th>\n",
       "      <th>...</th>\n",
       "      <th>PoolArea</th>\n",
       "      <th>PoolQC</th>\n",
       "      <th>Fence</th>\n",
       "      <th>MiscFeature</th>\n",
       "      <th>MiscVal</th>\n",
       "      <th>MoSold</th>\n",
       "      <th>YrSold</th>\n",
       "      <th>SaleType</th>\n",
       "      <th>SaleCondition</th>\n",
       "      <th>SalePrice</th>\n",
       "    </tr>\n",
       "    <tr>\n",
       "      <th>YearBuilt</th>\n",
       "      <th></th>\n",
       "      <th></th>\n",
       "      <th></th>\n",
       "      <th></th>\n",
       "      <th></th>\n",
       "      <th></th>\n",
       "      <th></th>\n",
       "      <th></th>\n",
       "      <th></th>\n",
       "      <th></th>\n",
       "      <th></th>\n",
       "      <th></th>\n",
       "      <th></th>\n",
       "      <th></th>\n",
       "      <th></th>\n",
       "      <th></th>\n",
       "      <th></th>\n",
       "      <th></th>\n",
       "      <th></th>\n",
       "      <th></th>\n",
       "      <th></th>\n",
       "    </tr>\n",
       "  </thead>\n",
       "  <tbody>\n",
       "    <tr>\n",
       "      <th>1923</th>\n",
       "      <td>977</td>\n",
       "      <td>30</td>\n",
       "      <td>RL</td>\n",
       "      <td>51.0</td>\n",
       "      <td>5900</td>\n",
       "      <td>Pave</td>\n",
       "      <td>NaN</td>\n",
       "      <td>IR1</td>\n",
       "      <td>Bnk</td>\n",
       "      <td>AllPub</td>\n",
       "      <td>...</td>\n",
       "      <td>0</td>\n",
       "      <td>NaN</td>\n",
       "      <td>NaN</td>\n",
       "      <td>NaN</td>\n",
       "      <td>0</td>\n",
       "      <td>8</td>\n",
       "      <td>2006</td>\n",
       "      <td>WD</td>\n",
       "      <td>Normal</td>\n",
       "      <td>85500</td>\n",
       "    </tr>\n",
       "    <tr>\n",
       "      <th>1966</th>\n",
       "      <td>131</td>\n",
       "      <td>60</td>\n",
       "      <td>RL</td>\n",
       "      <td>88.0</td>\n",
       "      <td>14200</td>\n",
       "      <td>Pave</td>\n",
       "      <td>NaN</td>\n",
       "      <td>Reg</td>\n",
       "      <td>Lvl</td>\n",
       "      <td>AllPub</td>\n",
       "      <td>...</td>\n",
       "      <td>0</td>\n",
       "      <td>NaN</td>\n",
       "      <td>GdPrv</td>\n",
       "      <td>NaN</td>\n",
       "      <td>0</td>\n",
       "      <td>5</td>\n",
       "      <td>2006</td>\n",
       "      <td>WD</td>\n",
       "      <td>Normal</td>\n",
       "      <td>226000</td>\n",
       "    </tr>\n",
       "    <tr>\n",
       "      <th>1950</th>\n",
       "      <td>342</td>\n",
       "      <td>20</td>\n",
       "      <td>RH</td>\n",
       "      <td>60.0</td>\n",
       "      <td>8400</td>\n",
       "      <td>Pave</td>\n",
       "      <td>NaN</td>\n",
       "      <td>Reg</td>\n",
       "      <td>Lvl</td>\n",
       "      <td>AllPub</td>\n",
       "      <td>...</td>\n",
       "      <td>0</td>\n",
       "      <td>NaN</td>\n",
       "      <td>NaN</td>\n",
       "      <td>NaN</td>\n",
       "      <td>0</td>\n",
       "      <td>9</td>\n",
       "      <td>2009</td>\n",
       "      <td>WD</td>\n",
       "      <td>Normal</td>\n",
       "      <td>82000</td>\n",
       "    </tr>\n",
       "    <tr>\n",
       "      <th>1990</th>\n",
       "      <td>1107</td>\n",
       "      <td>20</td>\n",
       "      <td>RL</td>\n",
       "      <td>114.0</td>\n",
       "      <td>10357</td>\n",
       "      <td>Pave</td>\n",
       "      <td>NaN</td>\n",
       "      <td>IR1</td>\n",
       "      <td>Lvl</td>\n",
       "      <td>AllPub</td>\n",
       "      <td>...</td>\n",
       "      <td>0</td>\n",
       "      <td>NaN</td>\n",
       "      <td>NaN</td>\n",
       "      <td>NaN</td>\n",
       "      <td>0</td>\n",
       "      <td>5</td>\n",
       "      <td>2007</td>\n",
       "      <td>WD</td>\n",
       "      <td>Normal</td>\n",
       "      <td>179900</td>\n",
       "    </tr>\n",
       "    <tr>\n",
       "      <th>2006</th>\n",
       "      <td>1325</td>\n",
       "      <td>20</td>\n",
       "      <td>RL</td>\n",
       "      <td>75.0</td>\n",
       "      <td>9986</td>\n",
       "      <td>Pave</td>\n",
       "      <td>NaN</td>\n",
       "      <td>Reg</td>\n",
       "      <td>Lvl</td>\n",
       "      <td>AllPub</td>\n",
       "      <td>...</td>\n",
       "      <td>0</td>\n",
       "      <td>NaN</td>\n",
       "      <td>NaN</td>\n",
       "      <td>NaN</td>\n",
       "      <td>0</td>\n",
       "      <td>2</td>\n",
       "      <td>2007</td>\n",
       "      <td>New</td>\n",
       "      <td>Partial</td>\n",
       "      <td>147000</td>\n",
       "    </tr>\n",
       "  </tbody>\n",
       "</table>\n",
       "<p>5 rows × 81 columns</p>\n",
       "</div>"
      ],
      "text/plain": [
       "             Id  MSSubClass MSZoning  LotFrontage  LotArea Street Alley  \\\n",
       "YearBuilt                                                                 \n",
       "1923        977          30       RL         51.0     5900   Pave   NaN   \n",
       "1966        131          60       RL         88.0    14200   Pave   NaN   \n",
       "1950        342          20       RH         60.0     8400   Pave   NaN   \n",
       "1990       1107          20       RL        114.0    10357   Pave   NaN   \n",
       "2006       1325          20       RL         75.0     9986   Pave   NaN   \n",
       "\n",
       "          LotShape LandContour Utilities    ...     PoolArea PoolQC  Fence  \\\n",
       "YearBuilt                                   ...                              \n",
       "1923           IR1         Bnk    AllPub    ...            0    NaN    NaN   \n",
       "1966           Reg         Lvl    AllPub    ...            0    NaN  GdPrv   \n",
       "1950           Reg         Lvl    AllPub    ...            0    NaN    NaN   \n",
       "1990           IR1         Lvl    AllPub    ...            0    NaN    NaN   \n",
       "2006           Reg         Lvl    AllPub    ...            0    NaN    NaN   \n",
       "\n",
       "          MiscFeature MiscVal MoSold YrSold  SaleType  SaleCondition  \\\n",
       "YearBuilt                                                              \n",
       "1923              NaN       0      8   2006        WD         Normal   \n",
       "1966              NaN       0      5   2006        WD         Normal   \n",
       "1950              NaN       0      9   2009        WD         Normal   \n",
       "1990              NaN       0      5   2007        WD         Normal   \n",
       "2006              NaN       0      2   2007       New        Partial   \n",
       "\n",
       "           SalePrice  \n",
       "YearBuilt             \n",
       "1923           85500  \n",
       "1966          226000  \n",
       "1950           82000  \n",
       "1990          179900  \n",
       "2006          147000  \n",
       "\n",
       "[5 rows x 81 columns]"
      ]
     },
     "execution_count": 137,
     "metadata": {},
     "output_type": "execute_result"
    }
   ],
   "source": [
    "housing_train_set.head()"
   ]
  },
  {
   "cell_type": "code",
   "execution_count": 138,
   "metadata": {},
   "outputs": [
    {
     "name": "stdout",
     "output_type": "stream",
     "text": [
      "1930 1957.0\n"
     ]
    },
    {
     "data": {
      "text/plain": [
       "YearBuilt\n",
       "1923    1966.0\n",
       "1966    1966.0\n",
       "1950    1950.0\n",
       "1990    1990.0\n",
       "2006    2007.0\n",
       "1937    1995.0\n",
       "2004    2004.0\n",
       "1920    1994.0\n",
       "2004    2004.0\n",
       "2002    2002.0\n",
       "Name: GarageYrBlt, dtype: float64"
      ]
     },
     "execution_count": 138,
     "metadata": {},
     "output_type": "execute_result"
    }
   ],
   "source": [
    "interpolate_nearest = housing_train_set['GarageYrBlt'].interpolate(method='nearest').ffill().bfill()\n",
    "\n",
    "print(interpolate_nearest.index[1009],interpolate_nearest.values[1009])\n",
    "interpolate_nearest.head(10)\n",
    "#interpolate_nearest.count()\n",
    "#housing_train_set.count()"
   ]
  },
  {
   "cell_type": "markdown",
   "metadata": {},
   "source": [
    "ffill bfill  error when there's only 1 non-null value, like in your example). The remaining null values are \"edges\" which are taken care of with .bfill().ffill() for the nearest logic"
   ]
  },
  {
   "cell_type": "code",
   "execution_count": 139,
   "metadata": {},
   "outputs": [
    {
     "name": "stdout",
     "output_type": "stream",
     "text": [
      "1930 1957.0\n"
     ]
    },
    {
     "data": {
      "text/plain": [
       "YearBuilt\n",
       "1923    1966.0\n",
       "1966    1966.0\n",
       "1950    1950.0\n",
       "1990    1990.0\n",
       "2006    2007.0\n",
       "Name: GarageYrBlt, dtype: float64"
      ]
     },
     "execution_count": 139,
     "metadata": {},
     "output_type": "execute_result"
    }
   ],
   "source": [
    "interpolate_index = housing_train_set.GarageYrBlt.interpolate(method='index').ffill().bfill()\n",
    "\n",
    "print(interpolate_index.index[1009],interpolate_index.values[1009])\n",
    "interpolate_index.head()\n",
    "#interpolate_index.count()"
   ]
  },
  {
   "cell_type": "code",
   "execution_count": 140,
   "metadata": {},
   "outputs": [
    {
     "name": "stdout",
     "output_type": "stream",
     "text": [
      "1930 1957.0\n"
     ]
    },
    {
     "data": {
      "text/plain": [
       "YearBuilt\n",
       "1923    1966.0\n",
       "1966    1966.0\n",
       "1950    1950.0\n",
       "1990    1990.0\n",
       "2006    2007.0\n",
       "Name: GarageYrBlt, dtype: float64"
      ]
     },
     "execution_count": 140,
     "metadata": {},
     "output_type": "execute_result"
    }
   ],
   "source": [
    "interpolate_linear = housing_train_set.GarageYrBlt.interpolate(method='linear').ffill().bfill()\n",
    "\n",
    "print(interpolate_linear.index[1009],interpolate_linear.values[1009])\n",
    "interpolate_linear.head()\n",
    "#interpolate_linear.count()"
   ]
  },
  {
   "cell_type": "code",
   "execution_count": 141,
   "metadata": {},
   "outputs": [
    {
     "name": "stdout",
     "output_type": "stream",
     "text": [
      "1993.0\n",
      "1993.0\n",
      "1993.0\n"
     ]
    }
   ],
   "source": [
    "print(interpolate_nearest.values[375])\n",
    "print(interpolate_index.values[375])\n",
    "print(interpolate_linear.values[375])"
   ]
  },
  {
   "cell_type": "code",
   "execution_count": 142,
   "metadata": {},
   "outputs": [
    {
     "data": {
      "text/plain": [
       "True"
      ]
     },
     "execution_count": 142,
     "metadata": {},
     "output_type": "execute_result"
    }
   ],
   "source": [
    "housing_train_set.GarageYrBlt.isnull().any()"
   ]
  },
  {
   "cell_type": "code",
   "execution_count": 143,
   "metadata": {},
   "outputs": [
    {
     "data": {
      "text/plain": [
       "1105"
      ]
     },
     "execution_count": 143,
     "metadata": {},
     "output_type": "execute_result"
    }
   ],
   "source": [
    "housing_train_set.GarageYrBlt.count()"
   ]
  },
  {
   "cell_type": "code",
   "execution_count": 144,
   "metadata": {},
   "outputs": [
    {
     "data": {
      "text/plain": [
       "<matplotlib.legend.Legend at 0x2323eb56a90>"
      ]
     },
     "execution_count": 144,
     "metadata": {},
     "output_type": "execute_result"
    },
    {
     "data": {
      "image/png": "[encoded data removed]",
      "text/plain": [
       "<Figure size 432x288 with 2 Axes>"
      ]
     },
     "metadata": {},
     "output_type": "display_data"
    }
   ],
   "source": [
    "plt.subplot(1,2,1)\n",
    "plt.scatter(interpol_dumb,housing_train_set.YearBuilt,c='blue', label='dumb')\n",
    "plt.xlabel('Interpolated GarageYrBlt dumb')\n",
    "plt.ylabel('YearBuild')\n",
    "plt.legend()\n",
    "plt.subplot(1,2,2)\n",
    "plt.scatter(interpolate_nearest,housing_train_set.YearBuilt,c='red',label='Nearest')\n",
    "plt.xlabel('Interpolated GarageYeBlt Nearest')\n",
    "plt.ylabel('Yearbuilt')\n",
    "plt.legend()"
   ]
  },
  {
   "cell_type": "code",
   "execution_count": 145,
   "metadata": {},
   "outputs": [
    {
     "data": {
      "text/plain": [
       "Text(0,0.5,'Yearbuilt')"
      ]
     },
     "execution_count": 145,
     "metadata": {},
     "output_type": "execute_result"
    },
    {
     "data": {
      "image/png": "[encoded data removed]",
      "text/plain": [
       "<Figure size 432x288 with 2 Axes>"
      ]
     },
     "metadata": {},
     "output_type": "display_data"
    }
   ],
   "source": [
    "plt.subplot(1,2,1)\n",
    "plt.scatter(interpol_dumb,housing_train_set.YearBuilt, c='blue',label = 'dumb')\n",
    "plt.xlabel('Interpol_dumb')\n",
    "plt.ylabel('Yearbuilt')\n",
    "plt.subplot(1,2,2)\n",
    "plt.scatter(interpolate_index,housing_train_set.YearBuilt, c='Yellow',label = 'dumb')\n",
    "plt.xlabel('Interpol_dumb')\n",
    "plt.ylabel('Yearbuilt')"
   ]
  },
  {
   "cell_type": "code",
   "execution_count": 146,
   "metadata": {},
   "outputs": [
    {
     "data": {
      "text/plain": [
       "Text(0,0.5,'Yearbuilt')"
      ]
     },
     "execution_count": 146,
     "metadata": {},
     "output_type": "execute_result"
    },
    {
     "data": {
      "image/png": "[encoded data removed]",
      "text/plain": [
       "<Figure size 432x288 with 2 Axes>"
      ]
     },
     "metadata": {},
     "output_type": "display_data"
    }
   ],
   "source": [
    "plt.subplot(1,2,1)\n",
    "plt.scatter(interpol_dumb,housing_train_set.YearBuilt, c='blue',label = 'dumb')\n",
    "plt.xlabel('Interpol_dumb')\n",
    "plt.ylabel('Yearbuilt')\n",
    "plt.subplot(1,2,2)\n",
    "plt.scatter(interpolate_linear,housing_train_set.YearBuilt, c='Green',label = 'dumb')\n",
    "plt.xlabel('Interpol_dumb')\n",
    "plt.ylabel('Yearbuilt')"
   ]
  },
  {
   "cell_type": "code",
   "execution_count": 147,
   "metadata": {},
   "outputs": [
    {
     "data": {
      "text/html": [
       "<div>\n",
       "<style scoped>\n",
       "    .dataframe tbody tr th:only-of-type {\n",
       "        vertical-align: middle;\n",
       "    }\n",
       "\n",
       "    .dataframe tbody tr th {\n",
       "        vertical-align: top;\n",
       "    }\n",
       "\n",
       "    .dataframe thead th {\n",
       "        text-align: right;\n",
       "    }\n",
       "</style>\n",
       "<table border=\"1\" class=\"dataframe\">\n",
       "  <thead>\n",
       "    <tr style=\"text-align: right;\">\n",
       "      <th></th>\n",
       "      <th>Id</th>\n",
       "      <th>MSSubClass</th>\n",
       "      <th>MSZoning</th>\n",
       "      <th>LotFrontage</th>\n",
       "      <th>LotArea</th>\n",
       "      <th>Street</th>\n",
       "      <th>Alley</th>\n",
       "      <th>LotShape</th>\n",
       "      <th>LandContour</th>\n",
       "      <th>Utilities</th>\n",
       "      <th>...</th>\n",
       "      <th>PoolArea</th>\n",
       "      <th>PoolQC</th>\n",
       "      <th>Fence</th>\n",
       "      <th>MiscFeature</th>\n",
       "      <th>MiscVal</th>\n",
       "      <th>MoSold</th>\n",
       "      <th>YrSold</th>\n",
       "      <th>SaleType</th>\n",
       "      <th>SaleCondition</th>\n",
       "      <th>SalePrice</th>\n",
       "    </tr>\n",
       "    <tr>\n",
       "      <th>YearBuilt</th>\n",
       "      <th></th>\n",
       "      <th></th>\n",
       "      <th></th>\n",
       "      <th></th>\n",
       "      <th></th>\n",
       "      <th></th>\n",
       "      <th></th>\n",
       "      <th></th>\n",
       "      <th></th>\n",
       "      <th></th>\n",
       "      <th></th>\n",
       "      <th></th>\n",
       "      <th></th>\n",
       "      <th></th>\n",
       "      <th></th>\n",
       "      <th></th>\n",
       "      <th></th>\n",
       "      <th></th>\n",
       "      <th></th>\n",
       "      <th></th>\n",
       "      <th></th>\n",
       "    </tr>\n",
       "  </thead>\n",
       "  <tbody>\n",
       "    <tr>\n",
       "      <th>1923</th>\n",
       "      <td>977</td>\n",
       "      <td>30</td>\n",
       "      <td>RL</td>\n",
       "      <td>51.0</td>\n",
       "      <td>5900</td>\n",
       "      <td>Pave</td>\n",
       "      <td>NaN</td>\n",
       "      <td>IR1</td>\n",
       "      <td>Bnk</td>\n",
       "      <td>AllPub</td>\n",
       "      <td>...</td>\n",
       "      <td>0</td>\n",
       "      <td>NaN</td>\n",
       "      <td>NaN</td>\n",
       "      <td>NaN</td>\n",
       "      <td>0</td>\n",
       "      <td>8</td>\n",
       "      <td>2006</td>\n",
       "      <td>WD</td>\n",
       "      <td>Normal</td>\n",
       "      <td>85500</td>\n",
       "    </tr>\n",
       "    <tr>\n",
       "      <th>1966</th>\n",
       "      <td>131</td>\n",
       "      <td>60</td>\n",
       "      <td>RL</td>\n",
       "      <td>88.0</td>\n",
       "      <td>14200</td>\n",
       "      <td>Pave</td>\n",
       "      <td>NaN</td>\n",
       "      <td>Reg</td>\n",
       "      <td>Lvl</td>\n",
       "      <td>AllPub</td>\n",
       "      <td>...</td>\n",
       "      <td>0</td>\n",
       "      <td>NaN</td>\n",
       "      <td>GdPrv</td>\n",
       "      <td>NaN</td>\n",
       "      <td>0</td>\n",
       "      <td>5</td>\n",
       "      <td>2006</td>\n",
       "      <td>WD</td>\n",
       "      <td>Normal</td>\n",
       "      <td>226000</td>\n",
       "    </tr>\n",
       "    <tr>\n",
       "      <th>1950</th>\n",
       "      <td>342</td>\n",
       "      <td>20</td>\n",
       "      <td>RH</td>\n",
       "      <td>60.0</td>\n",
       "      <td>8400</td>\n",
       "      <td>Pave</td>\n",
       "      <td>NaN</td>\n",
       "      <td>Reg</td>\n",
       "      <td>Lvl</td>\n",
       "      <td>AllPub</td>\n",
       "      <td>...</td>\n",
       "      <td>0</td>\n",
       "      <td>NaN</td>\n",
       "      <td>NaN</td>\n",
       "      <td>NaN</td>\n",
       "      <td>0</td>\n",
       "      <td>9</td>\n",
       "      <td>2009</td>\n",
       "      <td>WD</td>\n",
       "      <td>Normal</td>\n",
       "      <td>82000</td>\n",
       "    </tr>\n",
       "    <tr>\n",
       "      <th>1990</th>\n",
       "      <td>1107</td>\n",
       "      <td>20</td>\n",
       "      <td>RL</td>\n",
       "      <td>114.0</td>\n",
       "      <td>10357</td>\n",
       "      <td>Pave</td>\n",
       "      <td>NaN</td>\n",
       "      <td>IR1</td>\n",
       "      <td>Lvl</td>\n",
       "      <td>AllPub</td>\n",
       "      <td>...</td>\n",
       "      <td>0</td>\n",
       "      <td>NaN</td>\n",
       "      <td>NaN</td>\n",
       "      <td>NaN</td>\n",
       "      <td>0</td>\n",
       "      <td>5</td>\n",
       "      <td>2007</td>\n",
       "      <td>WD</td>\n",
       "      <td>Normal</td>\n",
       "      <td>179900</td>\n",
       "    </tr>\n",
       "    <tr>\n",
       "      <th>2006</th>\n",
       "      <td>1325</td>\n",
       "      <td>20</td>\n",
       "      <td>RL</td>\n",
       "      <td>75.0</td>\n",
       "      <td>9986</td>\n",
       "      <td>Pave</td>\n",
       "      <td>NaN</td>\n",
       "      <td>Reg</td>\n",
       "      <td>Lvl</td>\n",
       "      <td>AllPub</td>\n",
       "      <td>...</td>\n",
       "      <td>0</td>\n",
       "      <td>NaN</td>\n",
       "      <td>NaN</td>\n",
       "      <td>NaN</td>\n",
       "      <td>0</td>\n",
       "      <td>2</td>\n",
       "      <td>2007</td>\n",
       "      <td>New</td>\n",
       "      <td>Partial</td>\n",
       "      <td>147000</td>\n",
       "    </tr>\n",
       "  </tbody>\n",
       "</table>\n",
       "<p>5 rows × 81 columns</p>\n",
       "</div>"
      ],
      "text/plain": [
       "             Id  MSSubClass MSZoning  LotFrontage  LotArea Street Alley  \\\n",
       "YearBuilt                                                                 \n",
       "1923        977          30       RL         51.0     5900   Pave   NaN   \n",
       "1966        131          60       RL         88.0    14200   Pave   NaN   \n",
       "1950        342          20       RH         60.0     8400   Pave   NaN   \n",
       "1990       1107          20       RL        114.0    10357   Pave   NaN   \n",
       "2006       1325          20       RL         75.0     9986   Pave   NaN   \n",
       "\n",
       "          LotShape LandContour Utilities    ...     PoolArea PoolQC  Fence  \\\n",
       "YearBuilt                                   ...                              \n",
       "1923           IR1         Bnk    AllPub    ...            0    NaN    NaN   \n",
       "1966           Reg         Lvl    AllPub    ...            0    NaN  GdPrv   \n",
       "1950           Reg         Lvl    AllPub    ...            0    NaN    NaN   \n",
       "1990           IR1         Lvl    AllPub    ...            0    NaN    NaN   \n",
       "2006           Reg         Lvl    AllPub    ...            0    NaN    NaN   \n",
       "\n",
       "          MiscFeature MiscVal MoSold YrSold  SaleType  SaleCondition  \\\n",
       "YearBuilt                                                              \n",
       "1923              NaN       0      8   2006        WD         Normal   \n",
       "1966              NaN       0      5   2006        WD         Normal   \n",
       "1950              NaN       0      9   2009        WD         Normal   \n",
       "1990              NaN       0      5   2007        WD         Normal   \n",
       "2006              NaN       0      2   2007       New        Partial   \n",
       "\n",
       "           SalePrice  \n",
       "YearBuilt             \n",
       "1923           85500  \n",
       "1966          226000  \n",
       "1950           82000  \n",
       "1990          179900  \n",
       "2006          147000  \n",
       "\n",
       "[5 rows x 81 columns]"
      ]
     },
     "execution_count": 147,
     "metadata": {},
     "output_type": "execute_result"
    }
   ],
   "source": [
    "housing_train_set.head()"
   ]
  },
  {
   "cell_type": "code",
   "execution_count": 156,
   "metadata": {},
   "outputs": [
    {
     "name": "stdout",
     "output_type": "stream",
     "text": [
      "YearBuilt\n",
      "1923    1966.0\n",
      "1966    1966.0\n",
      "1950    1950.0\n",
      "1990    1990.0\n",
      "2006    2007.0\n",
      "Name: GarageYrBlt, dtype: float64\n"
     ]
    }
   ],
   "source": [
    "interpol_nearest= housing_train_set.GarageYrBlt.interpolate(method='nearest').ffill().bfill()\n",
    "housing_train_set['GarageYrBlt']= interpol_nearest.values\n",
    "print(housing_train_set.GarageYrBlt.head())"
   ]
  },
  {
   "cell_type": "code",
   "execution_count": 159,
   "metadata": {},
   "outputs": [
    {
     "data": {
      "text/plain": [
       "False"
      ]
     },
     "execution_count": 159,
     "metadata": {},
     "output_type": "execute_result"
    }
   ],
   "source": [
    "housing_train_set.GarageYrBlt.isnull().any()"
   ]
  },
  {
   "cell_type": "code",
   "execution_count": 160,
   "metadata": {},
   "outputs": [
    {
     "data": {
      "text/html": [
       "<div>\n",
       "<style scoped>\n",
       "    .dataframe tbody tr th:only-of-type {\n",
       "        vertical-align: middle;\n",
       "    }\n",
       "\n",
       "    .dataframe tbody tr th {\n",
       "        vertical-align: top;\n",
       "    }\n",
       "\n",
       "    .dataframe thead th {\n",
       "        text-align: right;\n",
       "    }\n",
       "</style>\n",
       "<table border=\"1\" class=\"dataframe\">\n",
       "  <thead>\n",
       "    <tr style=\"text-align: right;\">\n",
       "      <th></th>\n",
       "      <th>Id</th>\n",
       "      <th>MSSubClass</th>\n",
       "      <th>MSZoning</th>\n",
       "      <th>LotFrontage</th>\n",
       "      <th>LotArea</th>\n",
       "      <th>Street</th>\n",
       "      <th>Alley</th>\n",
       "      <th>LotShape</th>\n",
       "      <th>LandContour</th>\n",
       "      <th>Utilities</th>\n",
       "      <th>...</th>\n",
       "      <th>PoolArea</th>\n",
       "      <th>PoolQC</th>\n",
       "      <th>Fence</th>\n",
       "      <th>MiscFeature</th>\n",
       "      <th>MiscVal</th>\n",
       "      <th>MoSold</th>\n",
       "      <th>YrSold</th>\n",
       "      <th>SaleType</th>\n",
       "      <th>SaleCondition</th>\n",
       "      <th>SalePrice</th>\n",
       "    </tr>\n",
       "  </thead>\n",
       "  <tbody>\n",
       "    <tr>\n",
       "      <th>0</th>\n",
       "      <td>977</td>\n",
       "      <td>30</td>\n",
       "      <td>RL</td>\n",
       "      <td>51.0</td>\n",
       "      <td>5900</td>\n",
       "      <td>Pave</td>\n",
       "      <td>NaN</td>\n",
       "      <td>IR1</td>\n",
       "      <td>Bnk</td>\n",
       "      <td>AllPub</td>\n",
       "      <td>...</td>\n",
       "      <td>0</td>\n",
       "      <td>NaN</td>\n",
       "      <td>NaN</td>\n",
       "      <td>NaN</td>\n",
       "      <td>0</td>\n",
       "      <td>8</td>\n",
       "      <td>2006</td>\n",
       "      <td>WD</td>\n",
       "      <td>Normal</td>\n",
       "      <td>85500</td>\n",
       "    </tr>\n",
       "    <tr>\n",
       "      <th>1</th>\n",
       "      <td>131</td>\n",
       "      <td>60</td>\n",
       "      <td>RL</td>\n",
       "      <td>88.0</td>\n",
       "      <td>14200</td>\n",
       "      <td>Pave</td>\n",
       "      <td>NaN</td>\n",
       "      <td>Reg</td>\n",
       "      <td>Lvl</td>\n",
       "      <td>AllPub</td>\n",
       "      <td>...</td>\n",
       "      <td>0</td>\n",
       "      <td>NaN</td>\n",
       "      <td>GdPrv</td>\n",
       "      <td>NaN</td>\n",
       "      <td>0</td>\n",
       "      <td>5</td>\n",
       "      <td>2006</td>\n",
       "      <td>WD</td>\n",
       "      <td>Normal</td>\n",
       "      <td>226000</td>\n",
       "    </tr>\n",
       "    <tr>\n",
       "      <th>2</th>\n",
       "      <td>342</td>\n",
       "      <td>20</td>\n",
       "      <td>RH</td>\n",
       "      <td>60.0</td>\n",
       "      <td>8400</td>\n",
       "      <td>Pave</td>\n",
       "      <td>NaN</td>\n",
       "      <td>Reg</td>\n",
       "      <td>Lvl</td>\n",
       "      <td>AllPub</td>\n",
       "      <td>...</td>\n",
       "      <td>0</td>\n",
       "      <td>NaN</td>\n",
       "      <td>NaN</td>\n",
       "      <td>NaN</td>\n",
       "      <td>0</td>\n",
       "      <td>9</td>\n",
       "      <td>2009</td>\n",
       "      <td>WD</td>\n",
       "      <td>Normal</td>\n",
       "      <td>82000</td>\n",
       "    </tr>\n",
       "    <tr>\n",
       "      <th>3</th>\n",
       "      <td>1107</td>\n",
       "      <td>20</td>\n",
       "      <td>RL</td>\n",
       "      <td>114.0</td>\n",
       "      <td>10357</td>\n",
       "      <td>Pave</td>\n",
       "      <td>NaN</td>\n",
       "      <td>IR1</td>\n",
       "      <td>Lvl</td>\n",
       "      <td>AllPub</td>\n",
       "      <td>...</td>\n",
       "      <td>0</td>\n",
       "      <td>NaN</td>\n",
       "      <td>NaN</td>\n",
       "      <td>NaN</td>\n",
       "      <td>0</td>\n",
       "      <td>5</td>\n",
       "      <td>2007</td>\n",
       "      <td>WD</td>\n",
       "      <td>Normal</td>\n",
       "      <td>179900</td>\n",
       "    </tr>\n",
       "    <tr>\n",
       "      <th>4</th>\n",
       "      <td>1325</td>\n",
       "      <td>20</td>\n",
       "      <td>RL</td>\n",
       "      <td>75.0</td>\n",
       "      <td>9986</td>\n",
       "      <td>Pave</td>\n",
       "      <td>NaN</td>\n",
       "      <td>Reg</td>\n",
       "      <td>Lvl</td>\n",
       "      <td>AllPub</td>\n",
       "      <td>...</td>\n",
       "      <td>0</td>\n",
       "      <td>NaN</td>\n",
       "      <td>NaN</td>\n",
       "      <td>NaN</td>\n",
       "      <td>0</td>\n",
       "      <td>2</td>\n",
       "      <td>2007</td>\n",
       "      <td>New</td>\n",
       "      <td>Partial</td>\n",
       "      <td>147000</td>\n",
       "    </tr>\n",
       "  </tbody>\n",
       "</table>\n",
       "<p>5 rows × 81 columns</p>\n",
       "</div>"
      ],
      "text/plain": [
       "     Id  MSSubClass MSZoning  LotFrontage  LotArea Street Alley LotShape  \\\n",
       "0   977          30       RL         51.0     5900   Pave   NaN      IR1   \n",
       "1   131          60       RL         88.0    14200   Pave   NaN      Reg   \n",
       "2   342          20       RH         60.0     8400   Pave   NaN      Reg   \n",
       "3  1107          20       RL        114.0    10357   Pave   NaN      IR1   \n",
       "4  1325          20       RL         75.0     9986   Pave   NaN      Reg   \n",
       "\n",
       "  LandContour Utilities    ...     PoolArea PoolQC  Fence MiscFeature MiscVal  \\\n",
       "0         Bnk    AllPub    ...            0    NaN    NaN         NaN       0   \n",
       "1         Lvl    AllPub    ...            0    NaN  GdPrv         NaN       0   \n",
       "2         Lvl    AllPub    ...            0    NaN    NaN         NaN       0   \n",
       "3         Lvl    AllPub    ...            0    NaN    NaN         NaN       0   \n",
       "4         Lvl    AllPub    ...            0    NaN    NaN         NaN       0   \n",
       "\n",
       "  MoSold YrSold  SaleType  SaleCondition  SalePrice  \n",
       "0      8   2006        WD         Normal      85500  \n",
       "1      5   2006        WD         Normal     226000  \n",
       "2      9   2009        WD         Normal      82000  \n",
       "3      5   2007        WD         Normal     179900  \n",
       "4      2   2007       New        Partial     147000  \n",
       "\n",
       "[5 rows x 81 columns]"
      ]
     },
     "execution_count": 160,
     "metadata": {},
     "output_type": "execute_result"
    }
   ],
   "source": [
    "housing_train_set.reset_index(drop=True).head()"
   ]
  },
  {
   "cell_type": "code",
   "execution_count": 162,
   "metadata": {},
   "outputs": [],
   "source": [
    "housing_train_set.reset_index(drop=True,inplace=True)"
   ]
  },
  {
   "cell_type": "code",
   "execution_count": 164,
   "metadata": {},
   "outputs": [
    {
     "data": {
      "text/plain": [
       "RangeIndex(start=0, stop=1168, step=1)"
      ]
     },
     "execution_count": 164,
     "metadata": {},
     "output_type": "execute_result"
    }
   ],
   "source": [
    "housing_train_set.index"
   ]
  },
  {
   "cell_type": "markdown",
   "metadata": {},
   "source": [
    "Handling missing value incategorical feature"
   ]
  },
  {
   "cell_type": "code",
   "execution_count": 594,
   "metadata": {},
   "outputs": [
    {
     "data": {
      "text/plain": [
       "Id                 int64\n",
       "MSSubClass         int64\n",
       "MSZoning          object\n",
       "LotFrontage      float64\n",
       "LotArea            int64\n",
       "Street            object\n",
       "LotShape          object\n",
       "LandContour       object\n",
       "Utilities         object\n",
       "LotConfig         object\n",
       "LandSlope         object\n",
       "Neighborhood      object\n",
       "Condition1        object\n",
       "Condition2        object\n",
       "BldgType          object\n",
       "HouseStyle        object\n",
       "OverallQual        int64\n",
       "OverallCond        int64\n",
       "YearBuilt          int64\n",
       "YearRemodAdd       int64\n",
       "RoofStyle         object\n",
       "RoofMatl          object\n",
       "Exterior1st       object\n",
       "Exterior2nd       object\n",
       "ExterQual         object\n",
       "ExterCond         object\n",
       "Foundation        object\n",
       "BsmtQual          object\n",
       "BsmtCond          object\n",
       "BsmtExposure      object\n",
       "                  ...   \n",
       "HalfBath           int64\n",
       "BedroomAbvGr       int64\n",
       "KitchenAbvGr       int64\n",
       "KitchenQual       object\n",
       "TotRmsAbvGrd       int64\n",
       "Functional        object\n",
       "Fireplaces         int64\n",
       "FireplaceQu       object\n",
       "GarageType        object\n",
       "GarageYrBlt      float64\n",
       "GarageFinish      object\n",
       "GarageCars         int64\n",
       "GarageArea         int64\n",
       "GarageQual        object\n",
       "GarageCond        object\n",
       "PavedDrive        object\n",
       "WoodDeckSF         int64\n",
       "OpenPorchSF        int64\n",
       "EnclosedPorch      int64\n",
       "TrdSsnPorch        int64\n",
       "ScreenPorch        int64\n",
       "PoolArea           int64\n",
       "MiscVal            int64\n",
       "MoSold             int64\n",
       "YrSold             int64\n",
       "SaleType          object\n",
       "SaleCondition     object\n",
       "SalePrice          int64\n",
       "SaleCondBin        int64\n",
       "MapSubClass       object\n",
       "Length: 77, dtype: object"
      ]
     },
     "execution_count": 594,
     "metadata": {},
     "output_type": "execute_result"
    }
   ],
   "source": [
    "housing_train_set.dtypes"
   ]
  },
  {
   "cell_type": "code",
   "execution_count": 182,
   "metadata": {},
   "outputs": [
    {
     "data": {
      "text/plain": [
       "MSZoning         False\n",
       "Street           False\n",
       "Alley             True\n",
       "LotShape         False\n",
       "LandContour      False\n",
       "Utilities        False\n",
       "LotConfig        False\n",
       "LandSlope        False\n",
       "Neighborhood     False\n",
       "Condition1       False\n",
       "Condition2       False\n",
       "BldgType         False\n",
       "HouseStyle       False\n",
       "RoofStyle        False\n",
       "RoofMatl         False\n",
       "Exterior1st      False\n",
       "Exterior2nd      False\n",
       "MasVnrType        True\n",
       "ExterQual        False\n",
       "ExterCond        False\n",
       "Foundation       False\n",
       "BsmtQual          True\n",
       "BsmtCond          True\n",
       "BsmtExposure      True\n",
       "BsmtFinType1      True\n",
       "BsmtFinType2      True\n",
       "Heating          False\n",
       "HeatingQC        False\n",
       "CentralAir       False\n",
       "Electrical        True\n",
       "KitchenQual      False\n",
       "Functional       False\n",
       "FireplaceQu       True\n",
       "GarageType        True\n",
       "GarageFinish      True\n",
       "GarageQual        True\n",
       "GarageCond        True\n",
       "PavedDrive       False\n",
       "PoolQC            True\n",
       "Fence             True\n",
       "MiscFeature       True\n",
       "SaleType         False\n",
       "SaleCondition    False\n",
       "dtype: bool"
      ]
     },
     "execution_count": 182,
     "metadata": {},
     "output_type": "execute_result"
    }
   ],
   "source": [
    "housing_train_set.select_dtypes(['object']).isnull().any()"
   ]
  },
  {
   "cell_type": "code",
   "execution_count": 193,
   "metadata": {},
   "outputs": [
    {
     "data": {
      "text/plain": [
       "0"
      ]
     },
     "execution_count": 193,
     "metadata": {},
     "output_type": "execute_result"
    }
   ],
   "source": [
    "len(housing_train_set[housing_train_set.GarageYrBlt.isnull()])"
   ]
  },
  {
   "cell_type": "code",
   "execution_count": 246,
   "metadata": {},
   "outputs": [],
   "source": [
    "def getNullPercentage(df,feature):\n",
    "    null_count = len(df[df[feature].isnull()])\n",
    "    percentage_null = null_count*100/len(df)\n",
    "    return null_count,percentage_null"
   ]
  },
  {
   "cell_type": "code",
   "execution_count": 247,
   "metadata": {},
   "outputs": [],
   "source": [
    "def IsFeaturedropable (df,Lst_feature,thershold=75):\n",
    "    sample_size = len(df)\n",
    "    dict_drop_feat = dict()\n",
    "    for feature in Lst_feature: \n",
    "        null_count,percentage_null= getNullPercentage(df,feature)\n",
    "        print ('null count in {0}:{1}, percentage of Null:{2}'. format(feature,null_count,percentage_null))\n",
    "        if percentage_null>thershold:\n",
    "            print('dropable:{}'.format(feature))\n",
    "            dict_drop_feat[feature]= True\n",
    "        else:\n",
    "            dict_drop_feat[feature]= False\n",
    "    return dict_drop_feat"
   ]
  },
  {
   "cell_type": "code",
   "execution_count": 248,
   "metadata": {},
   "outputs": [],
   "source": [
    "def getCatFeatureWithNull(df):\n",
    "    ser_dtypes = df.dtypes\n",
    "    str_col_with_null=[x for x in ser_dtypes.index\n",
    "                      if ser_dtypes[x] in['object']\n",
    "                      and len(df[df[x].notnull()])<len(df)]\n",
    "    return str_col_with_null"
   ]
  },
  {
   "cell_type": "code",
   "execution_count": 249,
   "metadata": {},
   "outputs": [
    {
     "data": {
      "text/plain": [
       "Id               int64\n",
       "MSSubClass       int64\n",
       "MSZoning        object\n",
       "LotFrontage    float64\n",
       "LotArea          int64\n",
       "dtype: object"
      ]
     },
     "execution_count": 249,
     "metadata": {},
     "output_type": "execute_result"
    }
   ],
   "source": [
    "housing_train_set.dtypes.head()"
   ]
  },
  {
   "cell_type": "code",
   "execution_count": 250,
   "metadata": {},
   "outputs": [
    {
     "data": {
      "text/plain": [
       "Index(['MSZoning', 'Street', 'Alley', 'LotShape', 'LandContour', 'Utilities',\n",
       "       'LotConfig', 'LandSlope', 'Neighborhood', 'Condition1', 'Condition2',\n",
       "       'BldgType', 'HouseStyle', 'RoofStyle', 'RoofMatl', 'Exterior1st',\n",
       "       'Exterior2nd', 'MasVnrType', 'ExterQual', 'ExterCond', 'Foundation',\n",
       "       'BsmtQual', 'BsmtCond', 'BsmtExposure', 'BsmtFinType1', 'BsmtFinType2',\n",
       "       'Heating', 'HeatingQC', 'CentralAir', 'Electrical', 'KitchenQual',\n",
       "       'Functional', 'FireplaceQu', 'GarageType', 'GarageFinish', 'GarageQual',\n",
       "       'GarageCond', 'PavedDrive', 'PoolQC', 'Fence', 'MiscFeature',\n",
       "       'SaleType', 'SaleCondition'],\n",
       "      dtype='object')"
      ]
     },
     "execution_count": 250,
     "metadata": {},
     "output_type": "execute_result"
    }
   ],
   "source": [
    "housing_train_set.select_dtypes(['object']).columns"
   ]
  },
  {
   "cell_type": "code",
   "execution_count": 251,
   "metadata": {},
   "outputs": [
    {
     "name": "stdout",
     "output_type": "stream",
     "text": [
      "null count in Alley:1091, percentage of Null:93.40753424657534\n",
      "dropable:Alley\n",
      "null count in MasVnrType:8, percentage of Null:0.684931506849315\n",
      "null count in BsmtQual:31, percentage of Null:2.654109589041096\n",
      "null count in BsmtCond:31, percentage of Null:2.654109589041096\n",
      "null count in BsmtExposure:32, percentage of Null:2.73972602739726\n",
      "null count in BsmtFinType1:31, percentage of Null:2.654109589041096\n",
      "null count in BsmtFinType2:32, percentage of Null:2.73972602739726\n",
      "null count in Electrical:1, percentage of Null:0.08561643835616438\n",
      "null count in FireplaceQu:542, percentage of Null:46.4041095890411\n",
      "null count in GarageType:63, percentage of Null:5.3938356164383565\n",
      "null count in GarageFinish:63, percentage of Null:5.3938356164383565\n",
      "null count in GarageQual:63, percentage of Null:5.3938356164383565\n",
      "null count in GarageCond:63, percentage of Null:5.3938356164383565\n",
      "null count in PoolQC:1161, percentage of Null:99.40068493150685\n",
      "dropable:PoolQC\n",
      "null count in Fence:938, percentage of Null:80.3082191780822\n",
      "dropable:Fence\n",
      "null count in MiscFeature:1123, percentage of Null:96.1472602739726\n",
      "dropable:MiscFeature\n"
     ]
    }
   ],
   "source": [
    "dict_drop_feat = IsFeaturedropable(housing_train_set,getCatFeatureWithNull(housing_train_set))"
   ]
  },
  {
   "cell_type": "code",
   "execution_count": 252,
   "metadata": {},
   "outputs": [
    {
     "data": {
      "text/plain": [
       "{'Alley': True,\n",
       " 'MasVnrType': False,\n",
       " 'BsmtQual': False,\n",
       " 'BsmtCond': False,\n",
       " 'BsmtExposure': False,\n",
       " 'BsmtFinType1': False,\n",
       " 'BsmtFinType2': False,\n",
       " 'Electrical': False,\n",
       " 'FireplaceQu': False,\n",
       " 'GarageType': False,\n",
       " 'GarageFinish': False,\n",
       " 'GarageQual': False,\n",
       " 'GarageCond': False,\n",
       " 'PoolQC': True,\n",
       " 'Fence': True,\n",
       " 'MiscFeature': True}"
      ]
     },
     "execution_count": 252,
     "metadata": {},
     "output_type": "execute_result"
    }
   ],
   "source": [
    "dict_drop_feat"
   ]
  },
  {
   "cell_type": "code",
   "execution_count": 259,
   "metadata": {},
   "outputs": [
    {
     "name": "stdout",
     "output_type": "stream",
     "text": [
      "(1168, 81)\n",
      "(1168, 77)\n"
     ]
    }
   ],
   "source": [
    "print(housing_train_set.shape)\n",
    "for col,flag in dict_drop_feat.items():\n",
    "    if flag:\n",
    "        housing_train_set.drop(col,axis=1,inplace=True)\n",
    "print(housing_train_set.shape)"
   ]
  },
  {
   "cell_type": "markdown",
   "metadata": {},
   "source": [
    "we have removed column for which we had more than 75 missing data \n",
    "Now let work on Univariate analysis for rest of missing column"
   ]
  },
  {
   "cell_type": "code",
   "execution_count": 266,
   "metadata": {},
   "outputs": [
    {
     "data": {
      "text/plain": [
       "1137"
      ]
     },
     "execution_count": 266,
     "metadata": {},
     "output_type": "execute_result"
    }
   ],
   "source": [
    "housing_train_set.BsmtCond.count()"
   ]
  },
  {
   "cell_type": "code",
   "execution_count": 264,
   "metadata": {},
   "outputs": [
    {
     "data": {
      "text/plain": [
       "TA    1046\n",
       "Gd      54\n",
       "Fa      35\n",
       "Po       2\n",
       "Name: BsmtCond, dtype: int64"
      ]
     },
     "execution_count": 264,
     "metadata": {},
     "output_type": "execute_result"
    }
   ],
   "source": [
    "housing_train_set.BsmtCond.value_counts()"
   ]
  },
  {
   "cell_type": "code",
   "execution_count": 271,
   "metadata": {},
   "outputs": [
    {
     "data": {
      "text/plain": [
       "31"
      ]
     },
     "execution_count": 271,
     "metadata": {},
     "output_type": "execute_result"
    }
   ],
   "source": [
    "len(housing_train_set[housing_train_set.BsmtCond.isnull()])"
   ]
  },
  {
   "cell_type": "markdown",
   "metadata": {},
   "source": [
    "Since Majority of the data falls under TA , let get this missing value TA"
   ]
  },
  {
   "cell_type": "code",
   "execution_count": 274,
   "metadata": {},
   "outputs": [],
   "source": [
    "housing_train_set.BsmtCond.fillna(value='TA',inplace=True)"
   ]
  },
  {
   "cell_type": "code",
   "execution_count": 275,
   "metadata": {},
   "outputs": [
    {
     "data": {
      "text/plain": [
       "0"
      ]
     },
     "execution_count": 275,
     "metadata": {},
     "output_type": "execute_result"
    }
   ],
   "source": [
    "len(housing_train_set[housing_train_set.BsmtCond.isnull()])"
   ]
  },
  {
   "cell_type": "code",
   "execution_count": 286,
   "metadata": {},
   "outputs": [
    {
     "data": {
      "text/plain": [
       "<matplotlib.axes._subplots.AxesSubplot at 0x2323ecfe0f0>"
      ]
     },
     "execution_count": 286,
     "metadata": {},
     "output_type": "execute_result"
    },
    {
     "data": {
      "image/png": "[encoded data removed]",
      "text/plain": [
       "<Figure size 432x288 with 1 Axes>"
      ]
     },
     "metadata": {},
     "output_type": "display_data"
    }
   ],
   "source": [
    "housing_train_set.BsmtCond.value_counts().plot(kind='Bar')"
   ]
  },
  {
   "cell_type": "code",
   "execution_count": null,
   "metadata": {},
   "outputs": [],
   "source": []
  },
  {
   "cell_type": "raw",
   "metadata": {},
   "source": [
    "sns.countplot(x='BsmtCond',data=housing_train_set)"
   ]
  },
  {
   "cell_type": "markdown",
   "metadata": {},
   "source": [
    "Bivariate Analysis"
   ]
  },
  {
   "cell_type": "code",
   "execution_count": 280,
   "metadata": {},
   "outputs": [
    {
     "data": {
      "text/plain": [
       "1168"
      ]
     },
     "execution_count": 280,
     "metadata": {},
     "output_type": "execute_result"
    }
   ],
   "source": [
    "housing_train_set.MasVnrArea.count()"
   ]
  },
  {
   "cell_type": "code",
   "execution_count": 281,
   "metadata": {},
   "outputs": [
    {
     "data": {
      "text/plain": [
       "1160"
      ]
     },
     "execution_count": 281,
     "metadata": {},
     "output_type": "execute_result"
    }
   ],
   "source": [
    "housing_train_set.MasVnrType.count()"
   ]
  },
  {
   "cell_type": "code",
   "execution_count": 284,
   "metadata": {},
   "outputs": [
    {
     "data": {
      "text/plain": [
       "None       695\n",
       "BrkFace    353\n",
       "Stone      101\n",
       "BrkCmn      11\n",
       "Name: MasVnrType, dtype: int64"
      ]
     },
     "execution_count": 284,
     "metadata": {},
     "output_type": "execute_result"
    }
   ],
   "source": [
    "housing_train_set.MasVnrType.value_counts()"
   ]
  },
  {
   "cell_type": "code",
   "execution_count": 285,
   "metadata": {},
   "outputs": [
    {
     "data": {
      "text/plain": [
       "True"
      ]
     },
     "execution_count": 285,
     "metadata": {},
     "output_type": "execute_result"
    }
   ],
   "source": [
    "housing_train_set.MasVnrType.isnull().any()"
   ]
  },
  {
   "cell_type": "code",
   "execution_count": 290,
   "metadata": {},
   "outputs": [
    {
     "data": {
      "text/html": [
       "<div>\n",
       "<style scoped>\n",
       "    .dataframe tbody tr th:only-of-type {\n",
       "        vertical-align: middle;\n",
       "    }\n",
       "\n",
       "    .dataframe tbody tr th {\n",
       "        vertical-align: top;\n",
       "    }\n",
       "\n",
       "    .dataframe thead th {\n",
       "        text-align: right;\n",
       "    }\n",
       "</style>\n",
       "<table border=\"1\" class=\"dataframe\">\n",
       "  <thead>\n",
       "    <tr style=\"text-align: right;\">\n",
       "      <th></th>\n",
       "      <th>MasVnrType</th>\n",
       "      <th>MasVnrArea</th>\n",
       "    </tr>\n",
       "  </thead>\n",
       "  <tbody>\n",
       "    <tr>\n",
       "      <th>0</th>\n",
       "      <td>None</td>\n",
       "      <td>0.0</td>\n",
       "    </tr>\n",
       "    <tr>\n",
       "      <th>1</th>\n",
       "      <td>BrkFace</td>\n",
       "      <td>309.0</td>\n",
       "    </tr>\n",
       "    <tr>\n",
       "      <th>2</th>\n",
       "      <td>None</td>\n",
       "      <td>0.0</td>\n",
       "    </tr>\n",
       "    <tr>\n",
       "      <th>3</th>\n",
       "      <td>None</td>\n",
       "      <td>0.0</td>\n",
       "    </tr>\n",
       "    <tr>\n",
       "      <th>4</th>\n",
       "      <td>BrkFace</td>\n",
       "      <td>428.0</td>\n",
       "    </tr>\n",
       "    <tr>\n",
       "      <th>5</th>\n",
       "      <td>BrkCmn</td>\n",
       "      <td>435.0</td>\n",
       "    </tr>\n",
       "    <tr>\n",
       "      <th>6</th>\n",
       "      <td>BrkFace</td>\n",
       "      <td>262.0</td>\n",
       "    </tr>\n",
       "    <tr>\n",
       "      <th>7</th>\n",
       "      <td>None</td>\n",
       "      <td>0.0</td>\n",
       "    </tr>\n",
       "    <tr>\n",
       "      <th>8</th>\n",
       "      <td>None</td>\n",
       "      <td>0.0</td>\n",
       "    </tr>\n",
       "    <tr>\n",
       "      <th>9</th>\n",
       "      <td>None</td>\n",
       "      <td>0.0</td>\n",
       "    </tr>\n",
       "    <tr>\n",
       "      <th>10</th>\n",
       "      <td>BrkFace</td>\n",
       "      <td>18.0</td>\n",
       "    </tr>\n",
       "    <tr>\n",
       "      <th>11</th>\n",
       "      <td>Stone</td>\n",
       "      <td>100.0</td>\n",
       "    </tr>\n",
       "    <tr>\n",
       "      <th>12</th>\n",
       "      <td>NaN</td>\n",
       "      <td>0.0</td>\n",
       "    </tr>\n",
       "    <tr>\n",
       "      <th>13</th>\n",
       "      <td>BrkFace</td>\n",
       "      <td>88.0</td>\n",
       "    </tr>\n",
       "    <tr>\n",
       "      <th>14</th>\n",
       "      <td>BrkFace</td>\n",
       "      <td>304.0</td>\n",
       "    </tr>\n",
       "    <tr>\n",
       "      <th>15</th>\n",
       "      <td>None</td>\n",
       "      <td>0.0</td>\n",
       "    </tr>\n",
       "    <tr>\n",
       "      <th>16</th>\n",
       "      <td>None</td>\n",
       "      <td>0.0</td>\n",
       "    </tr>\n",
       "    <tr>\n",
       "      <th>17</th>\n",
       "      <td>None</td>\n",
       "      <td>0.0</td>\n",
       "    </tr>\n",
       "    <tr>\n",
       "      <th>18</th>\n",
       "      <td>None</td>\n",
       "      <td>0.0</td>\n",
       "    </tr>\n",
       "    <tr>\n",
       "      <th>19</th>\n",
       "      <td>None</td>\n",
       "      <td>0.0</td>\n",
       "    </tr>\n",
       "    <tr>\n",
       "      <th>20</th>\n",
       "      <td>None</td>\n",
       "      <td>0.0</td>\n",
       "    </tr>\n",
       "    <tr>\n",
       "      <th>21</th>\n",
       "      <td>BrkFace</td>\n",
       "      <td>158.0</td>\n",
       "    </tr>\n",
       "    <tr>\n",
       "      <th>22</th>\n",
       "      <td>NaN</td>\n",
       "      <td>0.0</td>\n",
       "    </tr>\n",
       "    <tr>\n",
       "      <th>23</th>\n",
       "      <td>None</td>\n",
       "      <td>0.0</td>\n",
       "    </tr>\n",
       "    <tr>\n",
       "      <th>24</th>\n",
       "      <td>Stone</td>\n",
       "      <td>110.0</td>\n",
       "    </tr>\n",
       "    <tr>\n",
       "      <th>25</th>\n",
       "      <td>None</td>\n",
       "      <td>0.0</td>\n",
       "    </tr>\n",
       "    <tr>\n",
       "      <th>26</th>\n",
       "      <td>None</td>\n",
       "      <td>0.0</td>\n",
       "    </tr>\n",
       "    <tr>\n",
       "      <th>27</th>\n",
       "      <td>BrkFace</td>\n",
       "      <td>473.0</td>\n",
       "    </tr>\n",
       "    <tr>\n",
       "      <th>28</th>\n",
       "      <td>None</td>\n",
       "      <td>0.0</td>\n",
       "    </tr>\n",
       "    <tr>\n",
       "      <th>29</th>\n",
       "      <td>None</td>\n",
       "      <td>0.0</td>\n",
       "    </tr>\n",
       "    <tr>\n",
       "      <th>...</th>\n",
       "      <td>...</td>\n",
       "      <td>...</td>\n",
       "    </tr>\n",
       "    <tr>\n",
       "      <th>1138</th>\n",
       "      <td>None</td>\n",
       "      <td>0.0</td>\n",
       "    </tr>\n",
       "    <tr>\n",
       "      <th>1139</th>\n",
       "      <td>BrkFace</td>\n",
       "      <td>142.0</td>\n",
       "    </tr>\n",
       "    <tr>\n",
       "      <th>1140</th>\n",
       "      <td>Stone</td>\n",
       "      <td>132.0</td>\n",
       "    </tr>\n",
       "    <tr>\n",
       "      <th>1141</th>\n",
       "      <td>BrkFace</td>\n",
       "      <td>60.0</td>\n",
       "    </tr>\n",
       "    <tr>\n",
       "      <th>1142</th>\n",
       "      <td>BrkFace</td>\n",
       "      <td>350.0</td>\n",
       "    </tr>\n",
       "    <tr>\n",
       "      <th>1143</th>\n",
       "      <td>None</td>\n",
       "      <td>0.0</td>\n",
       "    </tr>\n",
       "    <tr>\n",
       "      <th>1144</th>\n",
       "      <td>None</td>\n",
       "      <td>0.0</td>\n",
       "    </tr>\n",
       "    <tr>\n",
       "      <th>1145</th>\n",
       "      <td>None</td>\n",
       "      <td>0.0</td>\n",
       "    </tr>\n",
       "    <tr>\n",
       "      <th>1146</th>\n",
       "      <td>BrkFace</td>\n",
       "      <td>594.0</td>\n",
       "    </tr>\n",
       "    <tr>\n",
       "      <th>1147</th>\n",
       "      <td>Stone</td>\n",
       "      <td>50.0</td>\n",
       "    </tr>\n",
       "    <tr>\n",
       "      <th>1148</th>\n",
       "      <td>None</td>\n",
       "      <td>0.0</td>\n",
       "    </tr>\n",
       "    <tr>\n",
       "      <th>1149</th>\n",
       "      <td>BrkFace</td>\n",
       "      <td>136.0</td>\n",
       "    </tr>\n",
       "    <tr>\n",
       "      <th>1150</th>\n",
       "      <td>None</td>\n",
       "      <td>0.0</td>\n",
       "    </tr>\n",
       "    <tr>\n",
       "      <th>1151</th>\n",
       "      <td>None</td>\n",
       "      <td>0.0</td>\n",
       "    </tr>\n",
       "    <tr>\n",
       "      <th>1152</th>\n",
       "      <td>None</td>\n",
       "      <td>0.0</td>\n",
       "    </tr>\n",
       "    <tr>\n",
       "      <th>1153</th>\n",
       "      <td>None</td>\n",
       "      <td>0.0</td>\n",
       "    </tr>\n",
       "    <tr>\n",
       "      <th>1154</th>\n",
       "      <td>None</td>\n",
       "      <td>0.0</td>\n",
       "    </tr>\n",
       "    <tr>\n",
       "      <th>1155</th>\n",
       "      <td>BrkFace</td>\n",
       "      <td>101.0</td>\n",
       "    </tr>\n",
       "    <tr>\n",
       "      <th>1156</th>\n",
       "      <td>None</td>\n",
       "      <td>0.0</td>\n",
       "    </tr>\n",
       "    <tr>\n",
       "      <th>1157</th>\n",
       "      <td>None</td>\n",
       "      <td>0.0</td>\n",
       "    </tr>\n",
       "    <tr>\n",
       "      <th>1158</th>\n",
       "      <td>BrkFace</td>\n",
       "      <td>289.0</td>\n",
       "    </tr>\n",
       "    <tr>\n",
       "      <th>1159</th>\n",
       "      <td>None</td>\n",
       "      <td>0.0</td>\n",
       "    </tr>\n",
       "    <tr>\n",
       "      <th>1160</th>\n",
       "      <td>None</td>\n",
       "      <td>0.0</td>\n",
       "    </tr>\n",
       "    <tr>\n",
       "      <th>1161</th>\n",
       "      <td>BrkFace</td>\n",
       "      <td>336.0</td>\n",
       "    </tr>\n",
       "    <tr>\n",
       "      <th>1162</th>\n",
       "      <td>BrkFace</td>\n",
       "      <td>292.0</td>\n",
       "    </tr>\n",
       "    <tr>\n",
       "      <th>1163</th>\n",
       "      <td>None</td>\n",
       "      <td>0.0</td>\n",
       "    </tr>\n",
       "    <tr>\n",
       "      <th>1164</th>\n",
       "      <td>Stone</td>\n",
       "      <td>350.0</td>\n",
       "    </tr>\n",
       "    <tr>\n",
       "      <th>1165</th>\n",
       "      <td>BrkFace</td>\n",
       "      <td>147.0</td>\n",
       "    </tr>\n",
       "    <tr>\n",
       "      <th>1166</th>\n",
       "      <td>None</td>\n",
       "      <td>0.0</td>\n",
       "    </tr>\n",
       "    <tr>\n",
       "      <th>1167</th>\n",
       "      <td>Stone</td>\n",
       "      <td>275.0</td>\n",
       "    </tr>\n",
       "  </tbody>\n",
       "</table>\n",
       "<p>1168 rows × 2 columns</p>\n",
       "</div>"
      ],
      "text/plain": [
       "     MasVnrType  MasVnrArea\n",
       "0          None         0.0\n",
       "1       BrkFace       309.0\n",
       "2          None         0.0\n",
       "3          None         0.0\n",
       "4       BrkFace       428.0\n",
       "5        BrkCmn       435.0\n",
       "6       BrkFace       262.0\n",
       "7          None         0.0\n",
       "8          None         0.0\n",
       "9          None         0.0\n",
       "10      BrkFace        18.0\n",
       "11        Stone       100.0\n",
       "12          NaN         0.0\n",
       "13      BrkFace        88.0\n",
       "14      BrkFace       304.0\n",
       "15         None         0.0\n",
       "16         None         0.0\n",
       "17         None         0.0\n",
       "18         None         0.0\n",
       "19         None         0.0\n",
       "20         None         0.0\n",
       "21      BrkFace       158.0\n",
       "22          NaN         0.0\n",
       "23         None         0.0\n",
       "24        Stone       110.0\n",
       "25         None         0.0\n",
       "26         None         0.0\n",
       "27      BrkFace       473.0\n",
       "28         None         0.0\n",
       "29         None         0.0\n",
       "...         ...         ...\n",
       "1138       None         0.0\n",
       "1139    BrkFace       142.0\n",
       "1140      Stone       132.0\n",
       "1141    BrkFace        60.0\n",
       "1142    BrkFace       350.0\n",
       "1143       None         0.0\n",
       "1144       None         0.0\n",
       "1145       None         0.0\n",
       "1146    BrkFace       594.0\n",
       "1147      Stone        50.0\n",
       "1148       None         0.0\n",
       "1149    BrkFace       136.0\n",
       "1150       None         0.0\n",
       "1151       None         0.0\n",
       "1152       None         0.0\n",
       "1153       None         0.0\n",
       "1154       None         0.0\n",
       "1155    BrkFace       101.0\n",
       "1156       None         0.0\n",
       "1157       None         0.0\n",
       "1158    BrkFace       289.0\n",
       "1159       None         0.0\n",
       "1160       None         0.0\n",
       "1161    BrkFace       336.0\n",
       "1162    BrkFace       292.0\n",
       "1163       None         0.0\n",
       "1164      Stone       350.0\n",
       "1165    BrkFace       147.0\n",
       "1166       None         0.0\n",
       "1167      Stone       275.0\n",
       "\n",
       "[1168 rows x 2 columns]"
      ]
     },
     "execution_count": 290,
     "metadata": {},
     "output_type": "execute_result"
    }
   ],
   "source": [
    "data = pd.concat([housing_train_set.MasVnrType,housing_train_set.MasVnrArea],axis=1)\n",
    "data"
   ]
  },
  {
   "cell_type": "code",
   "execution_count": 291,
   "metadata": {},
   "outputs": [
    {
     "data": {
      "image/png": "[encoded data removed]",
      "text/plain": [
       "<Figure size 432x288 with 1 Axes>"
      ]
     },
     "metadata": {},
     "output_type": "display_data"
    }
   ],
   "source": [
    "fig = sns.boxplot(x = 'MasVnrType', y ='MasVnrArea',data = data)"
   ]
  },
  {
   "cell_type": "markdown",
   "metadata": {},
   "source": [
    "from above we can observe that for None type the area is 0, except for few data\n",
    "lets look out for few data under None type"
   ]
  },
  {
   "cell_type": "code",
   "execution_count": 628,
   "metadata": {},
   "outputs": [
    {
     "ename": "AttributeError",
     "evalue": "'DataFrame' object has no attribute 'MasVnrType'",
     "output_type": "error",
     "traceback": [
      "\u001b[1;31m---------------------------------------------------------------------------\u001b[0m",
      "\u001b[1;31mAttributeError\u001b[0m                            Traceback (most recent call last)",
      "\u001b[1;32m<ipython-input-628-91d15afe0a55>\u001b[0m in \u001b[0;36m<module>\u001b[1;34m()\u001b[0m\n\u001b[1;32m----> 1\u001b[1;33m \u001b[0mhousing_train_set\u001b[0m\u001b[1;33m[\u001b[0m\u001b[1;33m(\u001b[0m\u001b[0mhousing_train_set\u001b[0m\u001b[1;33m.\u001b[0m\u001b[0mMasVnrType\u001b[0m\u001b[1;33m==\u001b[0m\u001b[1;34m'None'\u001b[0m\u001b[1;33m)\u001b[0m\u001b[1;33m&\u001b[0m \u001b[1;33m(\u001b[0m\u001b[0mhousing_train_set\u001b[0m\u001b[1;33m.\u001b[0m\u001b[0mMasVnrArea\u001b[0m\u001b[1;33m!=\u001b[0m\u001b[1;36m0\u001b[0m\u001b[1;33m)\u001b[0m\u001b[1;33m]\u001b[0m\u001b[1;33m[\u001b[0m\u001b[1;33m[\u001b[0m\u001b[1;34m'MasVnrType'\u001b[0m\u001b[1;33m,\u001b[0m\u001b[1;34m'MasVnrArea'\u001b[0m\u001b[1;33m]\u001b[0m\u001b[1;33m]\u001b[0m\u001b[1;33m\u001b[0m\u001b[0m\n\u001b[0m",
      "\u001b[1;32m~\\Anaconda3\\lib\\site-packages\\pandas\\core\\generic.py\u001b[0m in \u001b[0;36m__getattr__\u001b[1;34m(self, name)\u001b[0m\n\u001b[0;32m   4370\u001b[0m             \u001b[1;32mif\u001b[0m \u001b[0mself\u001b[0m\u001b[1;33m.\u001b[0m\u001b[0m_info_axis\u001b[0m\u001b[1;33m.\u001b[0m\u001b[0m_can_hold_identifiers_and_holds_name\u001b[0m\u001b[1;33m(\u001b[0m\u001b[0mname\u001b[0m\u001b[1;33m)\u001b[0m\u001b[1;33m:\u001b[0m\u001b[1;33m\u001b[0m\u001b[0m\n\u001b[0;32m   4371\u001b[0m                 \u001b[1;32mreturn\u001b[0m \u001b[0mself\u001b[0m\u001b[1;33m[\u001b[0m\u001b[0mname\u001b[0m\u001b[1;33m]\u001b[0m\u001b[1;33m\u001b[0m\u001b[0m\n\u001b[1;32m-> 4372\u001b[1;33m             \u001b[1;32mreturn\u001b[0m \u001b[0mobject\u001b[0m\u001b[1;33m.\u001b[0m\u001b[0m__getattribute__\u001b[0m\u001b[1;33m(\u001b[0m\u001b[0mself\u001b[0m\u001b[1;33m,\u001b[0m \u001b[0mname\u001b[0m\u001b[1;33m)\u001b[0m\u001b[1;33m\u001b[0m\u001b[0m\n\u001b[0m\u001b[0;32m   4373\u001b[0m \u001b[1;33m\u001b[0m\u001b[0m\n\u001b[0;32m   4374\u001b[0m     \u001b[1;32mdef\u001b[0m \u001b[0m__setattr__\u001b[0m\u001b[1;33m(\u001b[0m\u001b[0mself\u001b[0m\u001b[1;33m,\u001b[0m \u001b[0mname\u001b[0m\u001b[1;33m,\u001b[0m \u001b[0mvalue\u001b[0m\u001b[1;33m)\u001b[0m\u001b[1;33m:\u001b[0m\u001b[1;33m\u001b[0m\u001b[0m\n",
      "\u001b[1;31mAttributeError\u001b[0m: 'DataFrame' object has no attribute 'MasVnrType'"
     ]
    }
   ],
   "source": [
    "housing_train_set[(housing_train_set.MasVnrType=='None')& (housing_train_set.MasVnrArea!=0)][['MasVnrType','MasVnrArea']]"
   ]
  },
  {
   "cell_type": "code",
   "execution_count": 315,
   "metadata": {},
   "outputs": [
    {
     "data": {
      "text/html": [
       "<div>\n",
       "<style scoped>\n",
       "    .dataframe tbody tr th:only-of-type {\n",
       "        vertical-align: middle;\n",
       "    }\n",
       "\n",
       "    .dataframe tbody tr th {\n",
       "        vertical-align: top;\n",
       "    }\n",
       "\n",
       "    .dataframe thead th {\n",
       "        text-align: right;\n",
       "    }\n",
       "</style>\n",
       "<table border=\"1\" class=\"dataframe\">\n",
       "  <thead>\n",
       "    <tr style=\"text-align: right;\">\n",
       "      <th></th>\n",
       "      <th>MasVnrArea</th>\n",
       "      <th>SalePrice</th>\n",
       "    </tr>\n",
       "  </thead>\n",
       "  <tbody>\n",
       "    <tr>\n",
       "      <th>0</th>\n",
       "      <td>0.0</td>\n",
       "      <td>85500</td>\n",
       "    </tr>\n",
       "    <tr>\n",
       "      <th>1</th>\n",
       "      <td>309.0</td>\n",
       "      <td>226000</td>\n",
       "    </tr>\n",
       "    <tr>\n",
       "      <th>2</th>\n",
       "      <td>0.0</td>\n",
       "      <td>82000</td>\n",
       "    </tr>\n",
       "    <tr>\n",
       "      <th>3</th>\n",
       "      <td>0.0</td>\n",
       "      <td>179900</td>\n",
       "    </tr>\n",
       "    <tr>\n",
       "      <th>4</th>\n",
       "      <td>428.0</td>\n",
       "      <td>147000</td>\n",
       "    </tr>\n",
       "    <tr>\n",
       "      <th>5</th>\n",
       "      <td>435.0</td>\n",
       "      <td>89471</td>\n",
       "    </tr>\n",
       "    <tr>\n",
       "      <th>6</th>\n",
       "      <td>262.0</td>\n",
       "      <td>274900</td>\n",
       "    </tr>\n",
       "    <tr>\n",
       "      <th>7</th>\n",
       "      <td>0.0</td>\n",
       "      <td>108000</td>\n",
       "    </tr>\n",
       "    <tr>\n",
       "      <th>8</th>\n",
       "      <td>0.0</td>\n",
       "      <td>216837</td>\n",
       "    </tr>\n",
       "    <tr>\n",
       "      <th>9</th>\n",
       "      <td>0.0</td>\n",
       "      <td>184100</td>\n",
       "    </tr>\n",
       "    <tr>\n",
       "      <th>10</th>\n",
       "      <td>18.0</td>\n",
       "      <td>234000</td>\n",
       "    </tr>\n",
       "    <tr>\n",
       "      <th>11</th>\n",
       "      <td>100.0</td>\n",
       "      <td>339750</td>\n",
       "    </tr>\n",
       "    <tr>\n",
       "      <th>12</th>\n",
       "      <td>0.0</td>\n",
       "      <td>237000</td>\n",
       "    </tr>\n",
       "    <tr>\n",
       "      <th>13</th>\n",
       "      <td>88.0</td>\n",
       "      <td>179200</td>\n",
       "    </tr>\n",
       "    <tr>\n",
       "      <th>14</th>\n",
       "      <td>304.0</td>\n",
       "      <td>440000</td>\n",
       "    </tr>\n",
       "    <tr>\n",
       "      <th>15</th>\n",
       "      <td>0.0</td>\n",
       "      <td>135000</td>\n",
       "    </tr>\n",
       "    <tr>\n",
       "      <th>16</th>\n",
       "      <td>0.0</td>\n",
       "      <td>316600</td>\n",
       "    </tr>\n",
       "    <tr>\n",
       "      <th>17</th>\n",
       "      <td>0.0</td>\n",
       "      <td>224500</td>\n",
       "    </tr>\n",
       "    <tr>\n",
       "      <th>18</th>\n",
       "      <td>0.0</td>\n",
       "      <td>141000</td>\n",
       "    </tr>\n",
       "    <tr>\n",
       "      <th>19</th>\n",
       "      <td>0.0</td>\n",
       "      <td>220000</td>\n",
       "    </tr>\n",
       "    <tr>\n",
       "      <th>20</th>\n",
       "      <td>0.0</td>\n",
       "      <td>236500</td>\n",
       "    </tr>\n",
       "    <tr>\n",
       "      <th>21</th>\n",
       "      <td>158.0</td>\n",
       "      <td>193000</td>\n",
       "    </tr>\n",
       "    <tr>\n",
       "      <th>22</th>\n",
       "      <td>0.0</td>\n",
       "      <td>199900</td>\n",
       "    </tr>\n",
       "    <tr>\n",
       "      <th>23</th>\n",
       "      <td>0.0</td>\n",
       "      <td>138887</td>\n",
       "    </tr>\n",
       "    <tr>\n",
       "      <th>24</th>\n",
       "      <td>110.0</td>\n",
       "      <td>128000</td>\n",
       "    </tr>\n",
       "    <tr>\n",
       "      <th>25</th>\n",
       "      <td>0.0</td>\n",
       "      <td>123600</td>\n",
       "    </tr>\n",
       "    <tr>\n",
       "      <th>26</th>\n",
       "      <td>0.0</td>\n",
       "      <td>140000</td>\n",
       "    </tr>\n",
       "    <tr>\n",
       "      <th>27</th>\n",
       "      <td>473.0</td>\n",
       "      <td>315000</td>\n",
       "    </tr>\n",
       "    <tr>\n",
       "      <th>28</th>\n",
       "      <td>0.0</td>\n",
       "      <td>100000</td>\n",
       "    </tr>\n",
       "    <tr>\n",
       "      <th>29</th>\n",
       "      <td>0.0</td>\n",
       "      <td>61000</td>\n",
       "    </tr>\n",
       "    <tr>\n",
       "      <th>...</th>\n",
       "      <td>...</td>\n",
       "      <td>...</td>\n",
       "    </tr>\n",
       "    <tr>\n",
       "      <th>1138</th>\n",
       "      <td>0.0</td>\n",
       "      <td>108000</td>\n",
       "    </tr>\n",
       "    <tr>\n",
       "      <th>1139</th>\n",
       "      <td>142.0</td>\n",
       "      <td>112000</td>\n",
       "    </tr>\n",
       "    <tr>\n",
       "      <th>1140</th>\n",
       "      <td>132.0</td>\n",
       "      <td>309000</td>\n",
       "    </tr>\n",
       "    <tr>\n",
       "      <th>1141</th>\n",
       "      <td>60.0</td>\n",
       "      <td>328900</td>\n",
       "    </tr>\n",
       "    <tr>\n",
       "      <th>1142</th>\n",
       "      <td>350.0</td>\n",
       "      <td>250000</td>\n",
       "    </tr>\n",
       "    <tr>\n",
       "      <th>1143</th>\n",
       "      <td>0.0</td>\n",
       "      <td>96500</td>\n",
       "    </tr>\n",
       "    <tr>\n",
       "      <th>1144</th>\n",
       "      <td>0.0</td>\n",
       "      <td>68400</td>\n",
       "    </tr>\n",
       "    <tr>\n",
       "      <th>1145</th>\n",
       "      <td>0.0</td>\n",
       "      <td>163000</td>\n",
       "    </tr>\n",
       "    <tr>\n",
       "      <th>1146</th>\n",
       "      <td>594.0</td>\n",
       "      <td>315750</td>\n",
       "    </tr>\n",
       "    <tr>\n",
       "      <th>1147</th>\n",
       "      <td>50.0</td>\n",
       "      <td>137500</td>\n",
       "    </tr>\n",
       "    <tr>\n",
       "      <th>1148</th>\n",
       "      <td>0.0</td>\n",
       "      <td>93000</td>\n",
       "    </tr>\n",
       "    <tr>\n",
       "      <th>1149</th>\n",
       "      <td>136.0</td>\n",
       "      <td>220000</td>\n",
       "    </tr>\n",
       "    <tr>\n",
       "      <th>1150</th>\n",
       "      <td>0.0</td>\n",
       "      <td>176500</td>\n",
       "    </tr>\n",
       "    <tr>\n",
       "      <th>1151</th>\n",
       "      <td>0.0</td>\n",
       "      <td>124000</td>\n",
       "    </tr>\n",
       "    <tr>\n",
       "      <th>1152</th>\n",
       "      <td>0.0</td>\n",
       "      <td>278000</td>\n",
       "    </tr>\n",
       "    <tr>\n",
       "      <th>1153</th>\n",
       "      <td>0.0</td>\n",
       "      <td>159434</td>\n",
       "    </tr>\n",
       "    <tr>\n",
       "      <th>1154</th>\n",
       "      <td>0.0</td>\n",
       "      <td>168000</td>\n",
       "    </tr>\n",
       "    <tr>\n",
       "      <th>1155</th>\n",
       "      <td>101.0</td>\n",
       "      <td>160000</td>\n",
       "    </tr>\n",
       "    <tr>\n",
       "      <th>1156</th>\n",
       "      <td>0.0</td>\n",
       "      <td>100000</td>\n",
       "    </tr>\n",
       "    <tr>\n",
       "      <th>1157</th>\n",
       "      <td>0.0</td>\n",
       "      <td>176000</td>\n",
       "    </tr>\n",
       "    <tr>\n",
       "      <th>1158</th>\n",
       "      <td>289.0</td>\n",
       "      <td>130500</td>\n",
       "    </tr>\n",
       "    <tr>\n",
       "      <th>1159</th>\n",
       "      <td>0.0</td>\n",
       "      <td>200000</td>\n",
       "    </tr>\n",
       "    <tr>\n",
       "      <th>1160</th>\n",
       "      <td>0.0</td>\n",
       "      <td>129000</td>\n",
       "    </tr>\n",
       "    <tr>\n",
       "      <th>1161</th>\n",
       "      <td>336.0</td>\n",
       "      <td>125000</td>\n",
       "    </tr>\n",
       "    <tr>\n",
       "      <th>1162</th>\n",
       "      <td>292.0</td>\n",
       "      <td>284000</td>\n",
       "    </tr>\n",
       "    <tr>\n",
       "      <th>1163</th>\n",
       "      <td>0.0</td>\n",
       "      <td>191000</td>\n",
       "    </tr>\n",
       "    <tr>\n",
       "      <th>1164</th>\n",
       "      <td>350.0</td>\n",
       "      <td>394432</td>\n",
       "    </tr>\n",
       "    <tr>\n",
       "      <th>1165</th>\n",
       "      <td>147.0</td>\n",
       "      <td>149300</td>\n",
       "    </tr>\n",
       "    <tr>\n",
       "      <th>1166</th>\n",
       "      <td>0.0</td>\n",
       "      <td>115000</td>\n",
       "    </tr>\n",
       "    <tr>\n",
       "      <th>1167</th>\n",
       "      <td>275.0</td>\n",
       "      <td>153337</td>\n",
       "    </tr>\n",
       "  </tbody>\n",
       "</table>\n",
       "<p>1168 rows × 2 columns</p>\n",
       "</div>"
      ],
      "text/plain": [
       "      MasVnrArea  SalePrice\n",
       "0            0.0      85500\n",
       "1          309.0     226000\n",
       "2            0.0      82000\n",
       "3            0.0     179900\n",
       "4          428.0     147000\n",
       "5          435.0      89471\n",
       "6          262.0     274900\n",
       "7            0.0     108000\n",
       "8            0.0     216837\n",
       "9            0.0     184100\n",
       "10          18.0     234000\n",
       "11         100.0     339750\n",
       "12           0.0     237000\n",
       "13          88.0     179200\n",
       "14         304.0     440000\n",
       "15           0.0     135000\n",
       "16           0.0     316600\n",
       "17           0.0     224500\n",
       "18           0.0     141000\n",
       "19           0.0     220000\n",
       "20           0.0     236500\n",
       "21         158.0     193000\n",
       "22           0.0     199900\n",
       "23           0.0     138887\n",
       "24         110.0     128000\n",
       "25           0.0     123600\n",
       "26           0.0     140000\n",
       "27         473.0     315000\n",
       "28           0.0     100000\n",
       "29           0.0      61000\n",
       "...          ...        ...\n",
       "1138         0.0     108000\n",
       "1139       142.0     112000\n",
       "1140       132.0     309000\n",
       "1141        60.0     328900\n",
       "1142       350.0     250000\n",
       "1143         0.0      96500\n",
       "1144         0.0      68400\n",
       "1145         0.0     163000\n",
       "1146       594.0     315750\n",
       "1147        50.0     137500\n",
       "1148         0.0      93000\n",
       "1149       136.0     220000\n",
       "1150         0.0     176500\n",
       "1151         0.0     124000\n",
       "1152         0.0     278000\n",
       "1153         0.0     159434\n",
       "1154         0.0     168000\n",
       "1155       101.0     160000\n",
       "1156         0.0     100000\n",
       "1157         0.0     176000\n",
       "1158       289.0     130500\n",
       "1159         0.0     200000\n",
       "1160         0.0     129000\n",
       "1161       336.0     125000\n",
       "1162       292.0     284000\n",
       "1163         0.0     191000\n",
       "1164       350.0     394432\n",
       "1165       147.0     149300\n",
       "1166         0.0     115000\n",
       "1167       275.0     153337\n",
       "\n",
       "[1168 rows x 2 columns]"
      ]
     },
     "execution_count": 315,
     "metadata": {},
     "output_type": "execute_result"
    }
   ],
   "source": [
    "data1=housing_train_set[['MasVnrArea','SalePrice']]\n",
    "data1"
   ]
  },
  {
   "cell_type": "code",
   "execution_count": 316,
   "metadata": {},
   "outputs": [
    {
     "data": {
      "text/html": [
       "<div>\n",
       "<style scoped>\n",
       "    .dataframe tbody tr th:only-of-type {\n",
       "        vertical-align: middle;\n",
       "    }\n",
       "\n",
       "    .dataframe tbody tr th {\n",
       "        vertical-align: top;\n",
       "    }\n",
       "\n",
       "    .dataframe thead th {\n",
       "        text-align: right;\n",
       "    }\n",
       "</style>\n",
       "<table border=\"1\" class=\"dataframe\">\n",
       "  <thead>\n",
       "    <tr style=\"text-align: right;\">\n",
       "      <th></th>\n",
       "      <th>MasVnrArea</th>\n",
       "      <th>SalePrice</th>\n",
       "    </tr>\n",
       "  </thead>\n",
       "  <tbody>\n",
       "    <tr>\n",
       "      <th>MasVnrArea</th>\n",
       "      <td>1.000000</td>\n",
       "      <td>0.474407</td>\n",
       "    </tr>\n",
       "    <tr>\n",
       "      <th>SalePrice</th>\n",
       "      <td>0.474407</td>\n",
       "      <td>1.000000</td>\n",
       "    </tr>\n",
       "  </tbody>\n",
       "</table>\n",
       "</div>"
      ],
      "text/plain": [
       "            MasVnrArea  SalePrice\n",
       "MasVnrArea    1.000000   0.474407\n",
       "SalePrice     0.474407   1.000000"
      ]
     },
     "execution_count": 316,
     "metadata": {},
     "output_type": "execute_result"
    }
   ],
   "source": [
    "data1.corr()"
   ]
  },
  {
   "cell_type": "markdown",
   "metadata": {},
   "source": [
    "With this we can conclude that MasVnrArea has not significant , hence we can go ahead and remove MasVnrArea and Type"
   ]
  },
  {
   "cell_type": "code",
   "execution_count": 320,
   "metadata": {},
   "outputs": [
    {
     "data": {
      "text/html": [
       "<div>\n",
       "<style scoped>\n",
       "    .dataframe tbody tr th:only-of-type {\n",
       "        vertical-align: middle;\n",
       "    }\n",
       "\n",
       "    .dataframe tbody tr th {\n",
       "        vertical-align: top;\n",
       "    }\n",
       "\n",
       "    .dataframe thead th {\n",
       "        text-align: right;\n",
       "    }\n",
       "</style>\n",
       "<table border=\"1\" class=\"dataframe\">\n",
       "  <thead>\n",
       "    <tr style=\"text-align: right;\">\n",
       "      <th></th>\n",
       "      <th>MasVnrArea</th>\n",
       "      <th>SalePrice</th>\n",
       "    </tr>\n",
       "  </thead>\n",
       "  <tbody>\n",
       "    <tr>\n",
       "      <th>MasVnrArea</th>\n",
       "      <td>1.000000</td>\n",
       "      <td>0.431511</td>\n",
       "    </tr>\n",
       "    <tr>\n",
       "      <th>SalePrice</th>\n",
       "      <td>0.431511</td>\n",
       "      <td>1.000000</td>\n",
       "    </tr>\n",
       "  </tbody>\n",
       "</table>\n",
       "</div>"
      ],
      "text/plain": [
       "            MasVnrArea  SalePrice\n",
       "MasVnrArea    1.000000   0.431511\n",
       "SalePrice     0.431511   1.000000"
      ]
     },
     "execution_count": 320,
     "metadata": {},
     "output_type": "execute_result"
    }
   ],
   "source": [
    "data2 = housing_train_set[(housing_train_set.MasVnrArea!=0) & (housing_train_set.MasVnrArea.notnull())][['MasVnrArea','SalePrice']]\n",
    "data2.corr()"
   ]
  },
  {
   "cell_type": "code",
   "execution_count": 323,
   "metadata": {},
   "outputs": [
    {
     "data": {
      "text/plain": [
       "<matplotlib.collections.PathCollection at 0x232400b05c0>"
      ]
     },
     "execution_count": 323,
     "metadata": {},
     "output_type": "execute_result"
    },
    {
     "data": {
      "image/png": "[encoded data removed]",
      "text/plain": [
       "<Figure size 432x288 with 1 Axes>"
      ]
     },
     "metadata": {},
     "output_type": "display_data"
    }
   ],
   "source": [
    "plt.scatter(data2.MasVnrArea,data2.SalePrice,data=data2)"
   ]
  },
  {
   "cell_type": "code",
   "execution_count": 325,
   "metadata": {},
   "outputs": [],
   "source": [
    "housing_train_set.drop('MasVnrType',axis=1,inplace=True)"
   ]
  },
  {
   "cell_type": "code",
   "execution_count": 326,
   "metadata": {},
   "outputs": [],
   "source": [
    "housing_train_set.drop('MasVnrArea',axis=1,inplace=True)"
   ]
  },
  {
   "cell_type": "markdown",
   "metadata": {},
   "source": [
    "Categorical to Categorical"
   ]
  },
  {
   "cell_type": "code",
   "execution_count": 328,
   "metadata": {},
   "outputs": [
    {
     "data": {
      "text/plain": [
       "Normal     958\n",
       "Partial     95\n",
       "Abnorml     86\n",
       "Family      15\n",
       "Alloca      10\n",
       "AdjLand      4\n",
       "Name: SaleCondition, dtype: int64"
      ]
     },
     "execution_count": 328,
     "metadata": {},
     "output_type": "execute_result"
    }
   ],
   "source": [
    "housing_train_set.SaleCondition.value_counts()"
   ]
  },
  {
   "cell_type": "code",
   "execution_count": 329,
   "metadata": {},
   "outputs": [
    {
     "data": {
      "text/plain": [
       "1168"
      ]
     },
     "execution_count": 329,
     "metadata": {},
     "output_type": "execute_result"
    }
   ],
   "source": [
    "housing_train_set.SaleCondition.count()"
   ]
  },
  {
   "cell_type": "code",
   "execution_count": 330,
   "metadata": {},
   "outputs": [
    {
     "data": {
      "text/plain": [
       "Gtl    1110\n",
       "Mod      47\n",
       "Sev      11\n",
       "Name: LandSlope, dtype: int64"
      ]
     },
     "execution_count": 330,
     "metadata": {},
     "output_type": "execute_result"
    }
   ],
   "source": [
    "housing_train_set.LandSlope.value_counts()"
   ]
  },
  {
   "cell_type": "code",
   "execution_count": 332,
   "metadata": {},
   "outputs": [
    {
     "data": {
      "text/plain": [
       "1168"
      ]
     },
     "execution_count": 332,
     "metadata": {},
     "output_type": "execute_result"
    }
   ],
   "source": [
    "housing_train_set.LandSlope.count()"
   ]
  },
  {
   "cell_type": "code",
   "execution_count": 333,
   "metadata": {},
   "outputs": [
    {
     "data": {
      "text/plain": [
       "(1168, 75)"
      ]
     },
     "execution_count": 333,
     "metadata": {},
     "output_type": "execute_result"
    }
   ],
   "source": [
    "housing_train_set.shape"
   ]
  },
  {
   "cell_type": "markdown",
   "metadata": {},
   "source": [
    "here explaniatory/independent is LandSlope where SaleComdition is response/y axis, since this Cat to Cat and y axis has multiple cat for which we need convert int o binary , identifing the max data is in Normal so making Normal as 1 ans rest as 0 "
   ]
  },
  {
   "cell_type": "code",
   "execution_count": 391,
   "metadata": {},
   "outputs": [
    {
     "data": {
      "text/html": [
       "<div>\n",
       "<style scoped>\n",
       "    .dataframe tbody tr th:only-of-type {\n",
       "        vertical-align: middle;\n",
       "    }\n",
       "\n",
       "    .dataframe tbody tr th {\n",
       "        vertical-align: top;\n",
       "    }\n",
       "\n",
       "    .dataframe thead th {\n",
       "        text-align: right;\n",
       "    }\n",
       "</style>\n",
       "<table border=\"1\" class=\"dataframe\">\n",
       "  <thead>\n",
       "    <tr style=\"text-align: right;\">\n",
       "      <th></th>\n",
       "      <th>LandSlope</th>\n",
       "      <th>SaleCondition</th>\n",
       "    </tr>\n",
       "  </thead>\n",
       "  <tbody>\n",
       "    <tr>\n",
       "      <th>0</th>\n",
       "      <td>Gtl</td>\n",
       "      <td>Normal</td>\n",
       "    </tr>\n",
       "    <tr>\n",
       "      <th>1</th>\n",
       "      <td>Gtl</td>\n",
       "      <td>Normal</td>\n",
       "    </tr>\n",
       "    <tr>\n",
       "      <th>2</th>\n",
       "      <td>Gtl</td>\n",
       "      <td>Normal</td>\n",
       "    </tr>\n",
       "    <tr>\n",
       "      <th>3</th>\n",
       "      <td>Gtl</td>\n",
       "      <td>Normal</td>\n",
       "    </tr>\n",
       "    <tr>\n",
       "      <th>4</th>\n",
       "      <td>Gtl</td>\n",
       "      <td>Partial</td>\n",
       "    </tr>\n",
       "  </tbody>\n",
       "</table>\n",
       "</div>"
      ],
      "text/plain": [
       "  LandSlope SaleCondition\n",
       "0       Gtl        Normal\n",
       "1       Gtl        Normal\n",
       "2       Gtl        Normal\n",
       "3       Gtl        Normal\n",
       "4       Gtl       Partial"
      ]
     },
     "execution_count": 391,
     "metadata": {},
     "output_type": "execute_result"
    }
   ],
   "source": [
    "data3 = pd.concat([housing_train_set.LandSlope,housing_train_set.SaleCondition],axis=1)[['LandSlope','SaleCondition']]\n",
    "data3.head()"
   ]
  },
  {
   "cell_type": "code",
   "execution_count": 392,
   "metadata": {},
   "outputs": [],
   "source": [
    "def mapSaleConditionToBinary(Val):\n",
    "    if (Val=='Normal'):\n",
    "        return 1\n",
    "    else:\n",
    "        return 0"
   ]
  },
  {
   "cell_type": "code",
   "execution_count": 394,
   "metadata": {},
   "outputs": [],
   "source": [
    "housing_train_set['SaleCondBin']=housing_train_set.SaleCondition.apply(lambda x: mapSaleConditionToBinary(x))"
   ]
  },
  {
   "cell_type": "code",
   "execution_count": 396,
   "metadata": {},
   "outputs": [
    {
     "data": {
      "text/plain": [
       "1    958\n",
       "0    210\n",
       "Name: SaleCondBin, dtype: int64"
      ]
     },
     "execution_count": 396,
     "metadata": {},
     "output_type": "execute_result"
    }
   ],
   "source": [
    "housing_train_set.SaleCondBin.value_counts()"
   ]
  },
  {
   "cell_type": "code",
   "execution_count": 421,
   "metadata": {},
   "outputs": [
    {
     "data": {
      "text/plain": [
       "<seaborn.axisgrid.FacetGrid at 0x232416e2c88>"
      ]
     },
     "execution_count": 421,
     "metadata": {},
     "output_type": "execute_result"
    },
    {
     "data": {
      "image/png": "[encoded data removed]",
      "text/plain": [
       "<Figure size 288x288 with 1 Axes>"
      ]
     },
     "metadata": {},
     "output_type": "display_data"
    }
   ],
   "source": [
    "sns.factorplot(data = housing_train_set,x='LandSlope',y ='SaleCondBin',kind=\"bar\",ci=None)"
   ]
  },
  {
   "cell_type": "markdown",
   "metadata": {},
   "source": [
    "Cat to Quantitative MSSubclass- Cat to SalePrice(Quant)"
   ]
  },
  {
   "cell_type": "code",
   "execution_count": 416,
   "metadata": {},
   "outputs": [
    {
     "data": {
      "text/plain": [
       "20     432\n",
       "60     241\n",
       "50     112\n",
       "120     67\n",
       "30      54\n",
       "160     52\n",
       "70      48\n",
       "80      47\n",
       "90      43\n",
       "190     23\n",
       "85      14\n",
       "75      12\n",
       "45      11\n",
       "180      9\n",
       "40       3\n",
       "Name: MSSubClass, dtype: int64"
      ]
     },
     "execution_count": 416,
     "metadata": {},
     "output_type": "execute_result"
    }
   ],
   "source": [
    "housing_train_set.MSSubClass.value_counts()"
   ]
  },
  {
   "cell_type": "code",
   "execution_count": 420,
   "metadata": {},
   "outputs": [
    {
     "data": {
      "text/plain": [
       "<seaborn.axisgrid.FacetGrid at 0x23240679780>"
      ]
     },
     "execution_count": 420,
     "metadata": {},
     "output_type": "execute_result"
    },
    {
     "data": {
      "image/png": "[encoded data removed]",
      "text/plain": [
       "<Figure size 288x288 with 1 Axes>"
      ]
     },
     "metadata": {},
     "output_type": "display_data"
    }
   ],
   "source": [
    "sns.factorplot(data = housing_train_set, x = 'MSSubClass', y='SalePrice', kind ='bar', ci=None)"
   ]
  },
  {
   "cell_type": "code",
   "execution_count": 429,
   "metadata": {},
   "outputs": [],
   "source": [
    "mssub_class_dict = {20:'1 Story 1964',\n",
    "                   30:'1 story 1945',\n",
    "                   40:'1 Story Finished',\n",
    "                   45:'1 Stroy Unfinshed',\n",
    "                   50:'1,5 Story Finished',\n",
    "                   60:'2 1946',\n",
    "                   70:'2 1945',\n",
    "                   75:'2.5',\n",
    "                   80:'split',\n",
    "                   85:'split2',\n",
    "                   90:'duplx',\n",
    "                  120:'PUD',\n",
    "                  150:'1.5PUD',\n",
    "                  160:'2 PUD',\n",
    "                  180:'Mul PUD',\n",
    "                  190:'Family'}\n",
    "housing_train_set['MapSubClass']=housing_train_set.MSSubClass.map(mssub_class_dict)"
   ]
  },
  {
   "cell_type": "code",
   "execution_count": 432,
   "metadata": {},
   "outputs": [
    {
     "data": {
      "text/plain": [
       "0    1 story 1945\n",
       "1          2 1946\n",
       "2    1 Story 1964\n",
       "3    1 Story 1964\n",
       "4    1 Story 1964\n",
       "Name: MapSubClass, dtype: object"
      ]
     },
     "execution_count": 432,
     "metadata": {},
     "output_type": "execute_result"
    }
   ],
   "source": [
    "housing_train_set.MapSubClass.head()"
   ]
  },
  {
   "cell_type": "code",
   "execution_count": 438,
   "metadata": {},
   "outputs": [
    {
     "data": {
      "text/plain": [
       "<seaborn.axisgrid.FacetGrid at 0x2324177f588>"
      ]
     },
     "execution_count": 438,
     "metadata": {},
     "output_type": "execute_result"
    },
    {
     "data": {
      "image/png": "[encoded data removed]",
      "text/plain": [
       "<Figure size 576x576 with 1 Axes>"
      ]
     },
     "metadata": {},
     "output_type": "display_data"
    }
   ],
   "source": [
    "sns.factorplot(data=housing_train_set,x='MapSubClass',y='SalePrice',kind='bar',ci=None,size=8)\n"
   ]
  },
  {
   "cell_type": "code",
   "execution_count": 435,
   "metadata": {},
   "outputs": [
    {
     "data": {
      "text/plain": [
       "1 Story 1964          432\n",
       "2 1946                241\n",
       "1,5 Story Finished    112\n",
       "PUD                    67\n",
       "1 story 1945           54\n",
       "2 PUD                  52\n",
       "2 1945                 48\n",
       "split                  47\n",
       "duplx                  43\n",
       "Family                 23\n",
       "split2                 14\n",
       "2.5                    12\n",
       "1 Stroy Unfinshed      11\n",
       "Mul PUD                 9\n",
       "1 Story Finished        3\n",
       "Name: MapSubClass, dtype: int64"
      ]
     },
     "execution_count": 435,
     "metadata": {},
     "output_type": "execute_result"
    }
   ],
   "source": [
    "housing_train_set.MapSubClass.value_counts()"
   ]
  },
  {
   "cell_type": "code",
   "execution_count": 448,
   "metadata": {},
   "outputs": [
    {
     "data": {
      "text/plain": [
       "['BsmtQual',\n",
       " 'BsmtExposure',\n",
       " 'BsmtFinType1',\n",
       " 'BsmtFinType2',\n",
       " 'Electrical',\n",
       " 'FireplaceQu',\n",
       " 'GarageType',\n",
       " 'GarageFinish',\n",
       " 'GarageQual',\n",
       " 'GarageCond']"
      ]
     },
     "execution_count": 448,
     "metadata": {},
     "output_type": "execute_result"
    }
   ],
   "source": [
    "MissingFeature(housing_train_set)"
   ]
  },
  {
   "cell_type": "code",
   "execution_count": 455,
   "metadata": {},
   "outputs": [
    {
     "data": {
      "text/html": [
       "<div>\n",
       "<style scoped>\n",
       "    .dataframe tbody tr th:only-of-type {\n",
       "        vertical-align: middle;\n",
       "    }\n",
       "\n",
       "    .dataframe tbody tr th {\n",
       "        vertical-align: top;\n",
       "    }\n",
       "\n",
       "    .dataframe thead th {\n",
       "        text-align: right;\n",
       "    }\n",
       "</style>\n",
       "<table border=\"1\" class=\"dataframe\">\n",
       "  <thead>\n",
       "    <tr style=\"text-align: right;\">\n",
       "      <th></th>\n",
       "      <th>CentralAir</th>\n",
       "      <th>SalePrice</th>\n",
       "    </tr>\n",
       "  </thead>\n",
       "  <tbody>\n",
       "    <tr>\n",
       "      <th>0</th>\n",
       "      <td>Y</td>\n",
       "      <td>85500</td>\n",
       "    </tr>\n",
       "    <tr>\n",
       "      <th>1</th>\n",
       "      <td>Y</td>\n",
       "      <td>226000</td>\n",
       "    </tr>\n",
       "    <tr>\n",
       "      <th>2</th>\n",
       "      <td>Y</td>\n",
       "      <td>82000</td>\n",
       "    </tr>\n",
       "    <tr>\n",
       "      <th>3</th>\n",
       "      <td>Y</td>\n",
       "      <td>179900</td>\n",
       "    </tr>\n",
       "    <tr>\n",
       "      <th>4</th>\n",
       "      <td>Y</td>\n",
       "      <td>147000</td>\n",
       "    </tr>\n",
       "  </tbody>\n",
       "</table>\n",
       "</div>"
      ],
      "text/plain": [
       "  CentralAir  SalePrice\n",
       "0          Y      85500\n",
       "1          Y     226000\n",
       "2          Y      82000\n",
       "3          Y     179900\n",
       "4          Y     147000"
      ]
     },
     "execution_count": 455,
     "metadata": {},
     "output_type": "execute_result"
    }
   ],
   "source": [
    "df1=housing_train_set[['CentralAir','SalePrice']].dropna()\n",
    "df1.head()"
   ]
  },
  {
   "cell_type": "code",
   "execution_count": 456,
   "metadata": {},
   "outputs": [
    {
     "data": {
      "text/plain": [
       "Y    1088\n",
       "N      80\n",
       "Name: CentralAir, dtype: int64"
      ]
     },
     "execution_count": 456,
     "metadata": {},
     "output_type": "execute_result"
    }
   ],
   "source": [
    "df1.CentralAir.value_counts()"
   ]
  },
  {
   "cell_type": "code",
   "execution_count": 460,
   "metadata": {},
   "outputs": [
    {
     "data": {
      "text/html": [
       "<div>\n",
       "<style scoped>\n",
       "    .dataframe tbody tr th:only-of-type {\n",
       "        vertical-align: middle;\n",
       "    }\n",
       "\n",
       "    .dataframe tbody tr th {\n",
       "        vertical-align: top;\n",
       "    }\n",
       "\n",
       "    .dataframe thead th {\n",
       "        text-align: right;\n",
       "    }\n",
       "</style>\n",
       "<table border=\"1\" class=\"dataframe\">\n",
       "  <thead>\n",
       "    <tr style=\"text-align: right;\">\n",
       "      <th></th>\n",
       "      <th>SalePrice</th>\n",
       "    </tr>\n",
       "    <tr>\n",
       "      <th>CentralAir</th>\n",
       "      <th></th>\n",
       "    </tr>\n",
       "  </thead>\n",
       "  <tbody>\n",
       "    <tr>\n",
       "      <th>N</th>\n",
       "      <td>104601.087500</td>\n",
       "    </tr>\n",
       "    <tr>\n",
       "      <th>Y</th>\n",
       "      <td>186776.606618</td>\n",
       "    </tr>\n",
       "  </tbody>\n",
       "</table>\n",
       "</div>"
      ],
      "text/plain": [
       "                SalePrice\n",
       "CentralAir               \n",
       "N           104601.087500\n",
       "Y           186776.606618"
      ]
     },
     "execution_count": 460,
     "metadata": {},
     "output_type": "execute_result"
    }
   ],
   "source": [
    "df1.groupby('CentralAir').mean()\n"
   ]
  },
  {
   "cell_type": "code",
   "execution_count": 461,
   "metadata": {},
   "outputs": [
    {
     "data": {
      "text/html": [
       "<div>\n",
       "<style scoped>\n",
       "    .dataframe tbody tr th:only-of-type {\n",
       "        vertical-align: middle;\n",
       "    }\n",
       "\n",
       "    .dataframe tbody tr th {\n",
       "        vertical-align: top;\n",
       "    }\n",
       "\n",
       "    .dataframe thead th {\n",
       "        text-align: right;\n",
       "    }\n",
       "</style>\n",
       "<table border=\"1\" class=\"dataframe\">\n",
       "  <thead>\n",
       "    <tr style=\"text-align: right;\">\n",
       "      <th></th>\n",
       "      <th>SalePrice</th>\n",
       "    </tr>\n",
       "    <tr>\n",
       "      <th>CentralAir</th>\n",
       "      <th></th>\n",
       "    </tr>\n",
       "  </thead>\n",
       "  <tbody>\n",
       "    <tr>\n",
       "      <th>N</th>\n",
       "      <td>42211.602540</td>\n",
       "    </tr>\n",
       "    <tr>\n",
       "      <th>Y</th>\n",
       "      <td>80356.500118</td>\n",
       "    </tr>\n",
       "  </tbody>\n",
       "</table>\n",
       "</div>"
      ],
      "text/plain": [
       "               SalePrice\n",
       "CentralAir              \n",
       "N           42211.602540\n",
       "Y           80356.500118"
      ]
     },
     "execution_count": 461,
     "metadata": {},
     "output_type": "execute_result"
    }
   ],
   "source": [
    "df1.groupby('CentralAir').std()"
   ]
  },
  {
   "cell_type": "code",
   "execution_count": null,
   "metadata": {},
   "outputs": [],
   "source": [
    "import statmodels.formula.api as smf"
   ]
  },
  {
   "cell_type": "code",
   "execution_count": 464,
   "metadata": {},
   "outputs": [
    {
     "data": {
      "text/html": [
       "<table class=\"simpletable\">\n",
       "<caption>OLS Regression Results</caption>\n",
       "<tr>\n",
       "  <th>Dep. Variable:</th>        <td>SalePrice</td>    <th>  R-squared:         </th> <td>   0.066</td> \n",
       "</tr>\n",
       "<tr>\n",
       "  <th>Model:</th>                   <td>OLS</td>       <th>  Adj. R-squared:    </th> <td>   0.065</td> \n",
       "</tr>\n",
       "<tr>\n",
       "  <th>Method:</th>             <td>Least Squares</td>  <th>  F-statistic:       </th> <td>   81.95</td> \n",
       "</tr>\n",
       "<tr>\n",
       "  <th>Date:</th>             <td>Tue, 17 Sep 2019</td> <th>  Prob (F-statistic):</th> <td>5.71e-19</td> \n",
       "</tr>\n",
       "<tr>\n",
       "  <th>Time:</th>                 <td>12:50:23</td>     <th>  Log-Likelihood:    </th> <td> -14819.</td> \n",
       "</tr>\n",
       "<tr>\n",
       "  <th>No. Observations:</th>      <td>  1168</td>      <th>  AIC:               </th> <td>2.964e+04</td>\n",
       "</tr>\n",
       "<tr>\n",
       "  <th>Df Residuals:</th>          <td>  1166</td>      <th>  BIC:               </th> <td>2.965e+04</td>\n",
       "</tr>\n",
       "<tr>\n",
       "  <th>Df Model:</th>              <td>     1</td>      <th>                     </th>     <td> </td>    \n",
       "</tr>\n",
       "<tr>\n",
       "  <th>Covariance Type:</th>      <td>nonrobust</td>    <th>                     </th>     <td> </td>    \n",
       "</tr>\n",
       "</table>\n",
       "<table class=\"simpletable\">\n",
       "<tr>\n",
       "         <td></td>            <th>coef</th>     <th>std err</th>      <th>t</th>      <th>P>|t|</th>  <th>[0.025</th>    <th>0.975]</th>  \n",
       "</tr>\n",
       "<tr>\n",
       "  <th>Intercept</th>       <td> 1.046e+05</td> <td> 8760.992</td> <td>   11.939</td> <td> 0.000</td> <td> 8.74e+04</td> <td> 1.22e+05</td>\n",
       "</tr>\n",
       "<tr>\n",
       "  <th>CentralAir[T.Y]</th> <td> 8.218e+04</td> <td> 9077.374</td> <td>    9.053</td> <td> 0.000</td> <td> 6.44e+04</td> <td>    1e+05</td>\n",
       "</tr>\n",
       "</table>\n",
       "<table class=\"simpletable\">\n",
       "<tr>\n",
       "  <th>Omnibus:</th>       <td>557.583</td> <th>  Durbin-Watson:     </th> <td>   1.979</td>\n",
       "</tr>\n",
       "<tr>\n",
       "  <th>Prob(Omnibus):</th> <td> 0.000</td>  <th>  Jarque-Bera (JB):  </th> <td>3883.321</td>\n",
       "</tr>\n",
       "<tr>\n",
       "  <th>Skew:</th>          <td> 2.097</td>  <th>  Prob(JB):          </th> <td>    0.00</td>\n",
       "</tr>\n",
       "<tr>\n",
       "  <th>Kurtosis:</th>      <td>10.887</td>  <th>  Cond. No.          </th> <td>    7.51</td>\n",
       "</tr>\n",
       "</table><br/><br/>Warnings:<br/>[1] Standard Errors assume that the covariance matrix of the errors is correctly specified."
      ],
      "text/plain": [
       "<class 'statsmodels.iolib.summary.Summary'>\n",
       "\"\"\"\n",
       "                            OLS Regression Results                            \n",
       "==============================================================================\n",
       "Dep. Variable:              SalePrice   R-squared:                       0.066\n",
       "Model:                            OLS   Adj. R-squared:                  0.065\n",
       "Method:                 Least Squares   F-statistic:                     81.95\n",
       "Date:                Tue, 17 Sep 2019   Prob (F-statistic):           5.71e-19\n",
       "Time:                        12:50:23   Log-Likelihood:                -14819.\n",
       "No. Observations:                1168   AIC:                         2.964e+04\n",
       "Df Residuals:                    1166   BIC:                         2.965e+04\n",
       "Df Model:                           1                                         \n",
       "Covariance Type:            nonrobust                                         \n",
       "===================================================================================\n",
       "                      coef    std err          t      P>|t|      [0.025      0.975]\n",
       "-----------------------------------------------------------------------------------\n",
       "Intercept        1.046e+05   8760.992     11.939      0.000    8.74e+04    1.22e+05\n",
       "CentralAir[T.Y]  8.218e+04   9077.374      9.053      0.000    6.44e+04       1e+05\n",
       "==============================================================================\n",
       "Omnibus:                      557.583   Durbin-Watson:                   1.979\n",
       "Prob(Omnibus):                  0.000   Jarque-Bera (JB):             3883.321\n",
       "Skew:                           2.097   Prob(JB):                         0.00\n",
       "Kurtosis:                      10.887   Cond. No.                         7.51\n",
       "==============================================================================\n",
       "\n",
       "Warnings:\n",
       "[1] Standard Errors assume that the covariance matrix of the errors is correctly specified.\n",
       "\"\"\""
      ]
     },
     "execution_count": 464,
     "metadata": {},
     "output_type": "execute_result"
    }
   ],
   "source": [
    "ols=smf.ols(formula='SalePrice~CentralAir',data =df1).fit()\n",
    "ols.summary()"
   ]
  },
  {
   "cell_type": "code",
   "execution_count": 466,
   "metadata": {},
   "outputs": [
    {
     "data": {
      "text/html": [
       "<div>\n",
       "<style scoped>\n",
       "    .dataframe tbody tr th:only-of-type {\n",
       "        vertical-align: middle;\n",
       "    }\n",
       "\n",
       "    .dataframe tbody tr th {\n",
       "        vertical-align: top;\n",
       "    }\n",
       "\n",
       "    .dataframe thead th {\n",
       "        text-align: right;\n",
       "    }\n",
       "</style>\n",
       "<table border=\"1\" class=\"dataframe\">\n",
       "  <thead>\n",
       "    <tr style=\"text-align: right;\">\n",
       "      <th></th>\n",
       "      <th>Heating</th>\n",
       "      <th>SalePrice</th>\n",
       "    </tr>\n",
       "  </thead>\n",
       "  <tbody>\n",
       "    <tr>\n",
       "      <th>0</th>\n",
       "      <td>GasA</td>\n",
       "      <td>85500</td>\n",
       "    </tr>\n",
       "    <tr>\n",
       "      <th>1</th>\n",
       "      <td>GasA</td>\n",
       "      <td>226000</td>\n",
       "    </tr>\n",
       "    <tr>\n",
       "      <th>2</th>\n",
       "      <td>GasA</td>\n",
       "      <td>82000</td>\n",
       "    </tr>\n",
       "    <tr>\n",
       "      <th>3</th>\n",
       "      <td>GasA</td>\n",
       "      <td>179900</td>\n",
       "    </tr>\n",
       "    <tr>\n",
       "      <th>4</th>\n",
       "      <td>GasA</td>\n",
       "      <td>147000</td>\n",
       "    </tr>\n",
       "  </tbody>\n",
       "</table>\n",
       "</div>"
      ],
      "text/plain": [
       "  Heating  SalePrice\n",
       "0    GasA      85500\n",
       "1    GasA     226000\n",
       "2    GasA      82000\n",
       "3    GasA     179900\n",
       "4    GasA     147000"
      ]
     },
     "execution_count": 466,
     "metadata": {},
     "output_type": "execute_result"
    }
   ],
   "source": [
    "df2= housing_train_set[['Heating','SalePrice']]\n",
    "df2.head()"
   ]
  },
  {
   "cell_type": "code",
   "execution_count": 469,
   "metadata": {},
   "outputs": [
    {
     "data": {
      "text/plain": [
       "GasA    1141\n",
       "GasW      14\n",
       "Grav       7\n",
       "Wall       4\n",
       "OthW       2\n",
       "Name: Heating, dtype: int64"
      ]
     },
     "execution_count": 469,
     "metadata": {},
     "output_type": "execute_result"
    }
   ],
   "source": [
    "df2.Heating.value_counts()"
   ]
  },
  {
   "cell_type": "code",
   "execution_count": 474,
   "metadata": {},
   "outputs": [
    {
     "name": "stdout",
     "output_type": "stream",
     "text": [
      "             SalePrice\n",
      "Heating               \n",
      "GasA     182376.736196\n",
      "GasW     167312.785714\n",
      "Grav      75271.428571\n",
      "OthW     125750.000000\n",
      "Wall      92100.000000\n"
     ]
    }
   ],
   "source": [
    "mean=df2.groupby('Heating').mean()\n",
    "print(mean)"
   ]
  },
  {
   "cell_type": "markdown",
   "metadata": {},
   "source": [
    "Cat with more than 2 value above"
   ]
  },
  {
   "cell_type": "code",
   "execution_count": 475,
   "metadata": {},
   "outputs": [
    {
     "name": "stdout",
     "output_type": "stream",
     "text": [
      "Index(['GasA', 'GasW', 'Grav', 'OthW', 'Wall'], dtype='object', name='Heating')\n"
     ]
    }
   ],
   "source": [
    "print(mean.index)"
   ]
  },
  {
   "cell_type": "code",
   "execution_count": 495,
   "metadata": {},
   "outputs": [
    {
     "name": "stdout",
     "output_type": "stream",
     "text": [
      "Difference between 'GasA' and 'GasA' ='0' is low\n",
      "Difference between 'GasA' and 'GasW' ='15064' is High\n",
      "Difference between 'GasA' and 'Grav' ='107105' is High\n",
      "Difference between 'GasA' and 'OthW' ='56626' is High\n",
      "Difference between 'GasA' and 'Wall' ='90276' is High\n",
      "Difference between 'GasW' and 'GasA' ='-15064' is low\n",
      "Difference between 'GasW' and 'GasW' ='0' is low\n",
      "Difference between 'GasW' and 'Grav' ='92041' is High\n",
      "Difference between 'GasW' and 'OthW' ='41562' is High\n",
      "Difference between 'GasW' and 'Wall' ='75212' is High\n",
      "Difference between 'Grav' and 'GasA' ='-107105' is low\n",
      "Difference between 'Grav' and 'GasW' ='-92041' is low\n",
      "Difference between 'Grav' and 'Grav' ='0' is low\n",
      "Difference between 'Grav' and 'OthW' ='-50479' is low\n",
      "Difference between 'Grav' and 'Wall' ='-16829' is low\n",
      "Difference between 'OthW' and 'GasA' ='-56626' is low\n",
      "Difference between 'OthW' and 'GasW' ='-41562' is low\n",
      "Difference between 'OthW' and 'Grav' ='50479' is High\n",
      "Difference between 'OthW' and 'OthW' ='0' is low\n",
      "Difference between 'OthW' and 'Wall' ='33650' is High\n",
      "Difference between 'Wall' and 'GasA' ='-90276' is low\n",
      "Difference between 'Wall' and 'GasW' ='-75212' is low\n",
      "Difference between 'Wall' and 'Grav' ='16829' is High\n",
      "Difference between 'Wall' and 'OthW' ='-33650' is low\n",
      "Difference between 'Wall' and 'Wall' ='0' is low\n"
     ]
    }
   ],
   "source": [
    "unseen=list(mean.index)\n",
    "for x1 in mean.index:\n",
    "    unseen.remove(x1)\n",
    "    for x2 in mean.index:\n",
    "        if (x2 in mean.index):\n",
    "            dif=int(mean.loc[x1].values)-int(mean.loc[x2].values)\n",
    "            if ((dif)<15000):\n",
    "                print('Difference between \\'{0}\\' and \\'{1}\\' =\\'{2}\\' is low' .format(x1,x2,dif))\n",
    "            else:\n",
    "                  print('Difference between \\'{0}\\' and \\'{1}\\' =\\'{2}\\' is High' .format(x1,x2,dif))     "
   ]
  },
  {
   "cell_type": "markdown",
   "metadata": {},
   "source": [
    "here we have few low and High, this clear says that this has relation with Saleprice.let checek Ho"
   ]
  },
  {
   "cell_type": "code",
   "execution_count": 498,
   "metadata": {},
   "outputs": [
    {
     "data": {
      "text/html": [
       "<table class=\"simpletable\">\n",
       "<caption>OLS Regression Results</caption>\n",
       "<tr>\n",
       "  <th>Dep. Variable:</th>        <td>SalePrice</td>    <th>  R-squared:         </th> <td>   0.016</td> \n",
       "</tr>\n",
       "<tr>\n",
       "  <th>Model:</th>                   <td>OLS</td>       <th>  Adj. R-squared:    </th> <td>   0.012</td> \n",
       "</tr>\n",
       "<tr>\n",
       "  <th>Method:</th>             <td>Least Squares</td>  <th>  F-statistic:       </th> <td>   4.654</td> \n",
       "</tr>\n",
       "<tr>\n",
       "  <th>Date:</th>             <td>Tue, 17 Sep 2019</td> <th>  Prob (F-statistic):</th> <td>0.000992</td> \n",
       "</tr>\n",
       "<tr>\n",
       "  <th>Time:</th>                 <td>14:20:08</td>     <th>  Log-Likelihood:    </th> <td> -14849.</td> \n",
       "</tr>\n",
       "<tr>\n",
       "  <th>No. Observations:</th>      <td>  1168</td>      <th>  AIC:               </th> <td>2.971e+04</td>\n",
       "</tr>\n",
       "<tr>\n",
       "  <th>Df Residuals:</th>          <td>  1163</td>      <th>  BIC:               </th> <td>2.973e+04</td>\n",
       "</tr>\n",
       "<tr>\n",
       "  <th>Df Model:</th>              <td>     4</td>      <th>                     </th>     <td> </td>    \n",
       "</tr>\n",
       "<tr>\n",
       "  <th>Covariance Type:</th>      <td>nonrobust</td>    <th>                     </th>     <td> </td>    \n",
       "</tr>\n",
       "</table>\n",
       "<table class=\"simpletable\">\n",
       "<tr>\n",
       "           <td></td>             <th>coef</th>     <th>std err</th>      <th>t</th>      <th>P>|t|</th>  <th>[0.025</th>    <th>0.975]</th>  \n",
       "</tr>\n",
       "<tr>\n",
       "  <th>Intercept</th>          <td> 1.824e+05</td> <td> 2384.055</td> <td>   76.499</td> <td> 0.000</td> <td> 1.78e+05</td> <td> 1.87e+05</td>\n",
       "</tr>\n",
       "<tr>\n",
       "  <th>C(Heating)[T.GasW]</th> <td>-1.506e+04</td> <td> 2.17e+04</td> <td>   -0.696</td> <td> 0.487</td> <td>-5.75e+04</td> <td> 2.74e+04</td>\n",
       "</tr>\n",
       "<tr>\n",
       "  <th>C(Heating)[T.Grav]</th> <td>-1.071e+05</td> <td> 3.05e+04</td> <td>   -3.508</td> <td> 0.000</td> <td>-1.67e+05</td> <td>-4.72e+04</td>\n",
       "</tr>\n",
       "<tr>\n",
       "  <th>C(Heating)[T.OthW]</th> <td>-5.663e+04</td> <td>  5.7e+04</td> <td>   -0.994</td> <td> 0.321</td> <td>-1.68e+05</td> <td> 5.52e+04</td>\n",
       "</tr>\n",
       "<tr>\n",
       "  <th>C(Heating)[T.Wall]</th> <td>-9.028e+04</td> <td> 4.03e+04</td> <td>   -2.238</td> <td> 0.025</td> <td>-1.69e+05</td> <td>-1.11e+04</td>\n",
       "</tr>\n",
       "</table>\n",
       "<table class=\"simpletable\">\n",
       "<tr>\n",
       "  <th>Omnibus:</th>       <td>531.106</td> <th>  Durbin-Watson:     </th> <td>   1.984</td>\n",
       "</tr>\n",
       "<tr>\n",
       "  <th>Prob(Omnibus):</th> <td> 0.000</td>  <th>  Jarque-Bera (JB):  </th> <td>3408.970</td>\n",
       "</tr>\n",
       "<tr>\n",
       "  <th>Skew:</th>          <td> 2.006</td>  <th>  Prob(JB):          </th> <td>    0.00</td>\n",
       "</tr>\n",
       "<tr>\n",
       "  <th>Kurtosis:</th>      <td>10.345</td>  <th>  Cond. No.          </th> <td>    24.2</td>\n",
       "</tr>\n",
       "</table><br/><br/>Warnings:<br/>[1] Standard Errors assume that the covariance matrix of the errors is correctly specified."
      ],
      "text/plain": [
       "<class 'statsmodels.iolib.summary.Summary'>\n",
       "\"\"\"\n",
       "                            OLS Regression Results                            \n",
       "==============================================================================\n",
       "Dep. Variable:              SalePrice   R-squared:                       0.016\n",
       "Model:                            OLS   Adj. R-squared:                  0.012\n",
       "Method:                 Least Squares   F-statistic:                     4.654\n",
       "Date:                Tue, 17 Sep 2019   Prob (F-statistic):           0.000992\n",
       "Time:                        14:20:08   Log-Likelihood:                -14849.\n",
       "No. Observations:                1168   AIC:                         2.971e+04\n",
       "Df Residuals:                    1163   BIC:                         2.973e+04\n",
       "Df Model:                           4                                         \n",
       "Covariance Type:            nonrobust                                         \n",
       "======================================================================================\n",
       "                         coef    std err          t      P>|t|      [0.025      0.975]\n",
       "--------------------------------------------------------------------------------------\n",
       "Intercept           1.824e+05   2384.055     76.499      0.000    1.78e+05    1.87e+05\n",
       "C(Heating)[T.GasW] -1.506e+04   2.17e+04     -0.696      0.487   -5.75e+04    2.74e+04\n",
       "C(Heating)[T.Grav] -1.071e+05   3.05e+04     -3.508      0.000   -1.67e+05   -4.72e+04\n",
       "C(Heating)[T.OthW] -5.663e+04    5.7e+04     -0.994      0.321   -1.68e+05    5.52e+04\n",
       "C(Heating)[T.Wall] -9.028e+04   4.03e+04     -2.238      0.025   -1.69e+05   -1.11e+04\n",
       "==============================================================================\n",
       "Omnibus:                      531.106   Durbin-Watson:                   1.984\n",
       "Prob(Omnibus):                  0.000   Jarque-Bera (JB):             3408.970\n",
       "Skew:                           2.006   Prob(JB):                         0.00\n",
       "Kurtosis:                      10.345   Cond. No.                         24.2\n",
       "==============================================================================\n",
       "\n",
       "Warnings:\n",
       "[1] Standard Errors assume that the covariance matrix of the errors is correctly specified.\n",
       "\"\"\""
      ]
     },
     "execution_count": 498,
     "metadata": {},
     "output_type": "execute_result"
    }
   ],
   "source": [
    "ols2=smf.ols(formula = 'SalePrice~C(Heating)',data =df2).fit()\n",
    "ols2.summary()"
   ]
  },
  {
   "cell_type": "code",
   "execution_count": 499,
   "metadata": {},
   "outputs": [
    {
     "name": "stdout",
     "output_type": "stream",
     "text": [
      "Intercept             0.000000\n",
      "C(Heating)[T.GasW]    0.486782\n",
      "C(Heating)[T.Grav]    0.000469\n",
      "C(Heating)[T.OthW]    0.320640\n",
      "C(Heating)[T.Wall]    0.025401\n",
      "dtype: float64\n"
     ]
    }
   ],
   "source": [
    "print(ols2.pvalues)"
   ]
  },
  {
   "cell_type": "code",
   "execution_count": 508,
   "metadata": {},
   "outputs": [
    {
     "name": "stdout",
     "output_type": "stream",
     "text": [
      "    Multiple Comparison of Means - Tukey HSD,FWER=0.05    \n",
      "==========================================================\n",
      "group1 group2   meandiff      lower        upper    reject\n",
      "----------------------------------------------------------\n",
      " GasA   GasW  -15063.9505  -74224.6166   44096.7157 False \n",
      " GasA   Grav  -107105.3076 -190517.206  -23693.4093  True \n",
      " GasA   OthW  -56626.7362  -212335.9094  99082.437  False \n",
      " GasA   Wall  -90276.7362  -200476.0344  19922.562  False \n",
      " GasW   Grav  -92041.3571  -193887.7174  9805.0031  False \n",
      " GasW   OthW  -41562.7857  -207877.1956 124751.6241 False \n",
      " GasW   Wall  -75212.7857  -199948.5931  49523.0217 False \n",
      " Grav   OthW   50478.5714  -125924.4991  226881.642 False \n",
      " Grav   Wall   16828.5714  -121072.0523 154729.1951 False \n",
      " OthW   Wall    -33650.0   -224187.0931 156887.0931 False \n",
      "----------------------------------------------------------\n"
     ]
    }
   ],
   "source": [
    "import statsmodels.stats.multicomp as multi\n",
    "mc1= multi.MultiComparison(df2['SalePrice'],df2['Heating'])\n",
    "res1 = mc1.tukeyhsd()\n",
    "print(res1.summary())"
   ]
  },
  {
   "cell_type": "markdown",
   "metadata": {},
   "source": [
    "here False says to reject Ho , if amy one result in False we reject Ho. If incase we have all True we accept Ho"
   ]
  },
  {
   "cell_type": "markdown",
   "metadata": {},
   "source": [
    "Cat to cat"
   ]
  },
  {
   "cell_type": "code",
   "execution_count": 511,
   "metadata": {},
   "outputs": [
    {
     "data": {
      "text/plain": [
       "TA    524\n",
       "Gd    487\n",
       "Ex     97\n",
       "Fa     29\n",
       "Name: BsmtQual, dtype: int64"
      ]
     },
     "execution_count": 511,
     "metadata": {},
     "output_type": "execute_result"
    }
   ],
   "source": [
    "housing_train_set['BsmtQual'].value_counts()"
   ]
  },
  {
   "cell_type": "code",
   "execution_count": 512,
   "metadata": {},
   "outputs": [
    {
     "data": {
      "text/plain": [
       "5     322\n",
       "6     298\n",
       "7     261\n",
       "8     128\n",
       "4      94\n",
       "9      32\n",
       "10     15\n",
       "3      13\n",
       "2       3\n",
       "1       2\n",
       "Name: OverallQual, dtype: int64"
      ]
     },
     "execution_count": 512,
     "metadata": {},
     "output_type": "execute_result"
    }
   ],
   "source": [
    "housing_train_set['OverallQual'].value_counts()"
   ]
  },
  {
   "cell_type": "code",
   "execution_count": 515,
   "metadata": {},
   "outputs": [
    {
     "data": {
      "text/html": [
       "<div>\n",
       "<style scoped>\n",
       "    .dataframe tbody tr th:only-of-type {\n",
       "        vertical-align: middle;\n",
       "    }\n",
       "\n",
       "    .dataframe tbody tr th {\n",
       "        vertical-align: top;\n",
       "    }\n",
       "\n",
       "    .dataframe thead th {\n",
       "        text-align: right;\n",
       "    }\n",
       "</style>\n",
       "<table border=\"1\" class=\"dataframe\">\n",
       "  <thead>\n",
       "    <tr style=\"text-align: right;\">\n",
       "      <th></th>\n",
       "      <th>BsmtQual</th>\n",
       "      <th>OverallQual</th>\n",
       "    </tr>\n",
       "  </thead>\n",
       "  <tbody>\n",
       "    <tr>\n",
       "      <th>0</th>\n",
       "      <td>Gd</td>\n",
       "      <td>4</td>\n",
       "    </tr>\n",
       "    <tr>\n",
       "      <th>1</th>\n",
       "      <td>TA</td>\n",
       "      <td>7</td>\n",
       "    </tr>\n",
       "    <tr>\n",
       "      <th>2</th>\n",
       "      <td>TA</td>\n",
       "      <td>4</td>\n",
       "    </tr>\n",
       "    <tr>\n",
       "      <th>3</th>\n",
       "      <td>Gd</td>\n",
       "      <td>7</td>\n",
       "    </tr>\n",
       "    <tr>\n",
       "      <th>4</th>\n",
       "      <td>Ex</td>\n",
       "      <td>8</td>\n",
       "    </tr>\n",
       "  </tbody>\n",
       "</table>\n",
       "</div>"
      ],
      "text/plain": [
       "  BsmtQual  OverallQual\n",
       "0       Gd            4\n",
       "1       TA            7\n",
       "2       TA            4\n",
       "3       Gd            7\n",
       "4       Ex            8"
      ]
     },
     "execution_count": 515,
     "metadata": {},
     "output_type": "execute_result"
    }
   ],
   "source": [
    "df4= housing_train_set[['BsmtQual','OverallQual']]\n",
    "df4.head()"
   ]
  },
  {
   "cell_type": "code",
   "execution_count": 522,
   "metadata": {},
   "outputs": [
    {
     "data": {
      "text/html": [
       "<div>\n",
       "<style scoped>\n",
       "    .dataframe tbody tr th:only-of-type {\n",
       "        vertical-align: middle;\n",
       "    }\n",
       "\n",
       "    .dataframe tbody tr th {\n",
       "        vertical-align: top;\n",
       "    }\n",
       "\n",
       "    .dataframe thead th {\n",
       "        text-align: right;\n",
       "    }\n",
       "</style>\n",
       "<table border=\"1\" class=\"dataframe\">\n",
       "  <thead>\n",
       "    <tr style=\"text-align: right;\">\n",
       "      <th>OverallQual</th>\n",
       "      <th>1</th>\n",
       "      <th>2</th>\n",
       "      <th>3</th>\n",
       "      <th>4</th>\n",
       "      <th>5</th>\n",
       "      <th>6</th>\n",
       "      <th>7</th>\n",
       "      <th>8</th>\n",
       "      <th>9</th>\n",
       "      <th>10</th>\n",
       "      <th>All</th>\n",
       "    </tr>\n",
       "    <tr>\n",
       "      <th>BsmtQual</th>\n",
       "      <th></th>\n",
       "      <th></th>\n",
       "      <th></th>\n",
       "      <th></th>\n",
       "      <th></th>\n",
       "      <th></th>\n",
       "      <th></th>\n",
       "      <th></th>\n",
       "      <th></th>\n",
       "      <th></th>\n",
       "      <th></th>\n",
       "    </tr>\n",
       "  </thead>\n",
       "  <tbody>\n",
       "    <tr>\n",
       "      <th>Gd</th>\n",
       "      <td>0</td>\n",
       "      <td>0</td>\n",
       "      <td>0</td>\n",
       "      <td>14</td>\n",
       "      <td>50</td>\n",
       "      <td>127</td>\n",
       "      <td>204</td>\n",
       "      <td>89</td>\n",
       "      <td>3</td>\n",
       "      <td>0</td>\n",
       "      <td>487</td>\n",
       "    </tr>\n",
       "    <tr>\n",
       "      <th>TA</th>\n",
       "      <td>0</td>\n",
       "      <td>3</td>\n",
       "      <td>6</td>\n",
       "      <td>63</td>\n",
       "      <td>244</td>\n",
       "      <td>160</td>\n",
       "      <td>41</td>\n",
       "      <td>6</td>\n",
       "      <td>0</td>\n",
       "      <td>1</td>\n",
       "      <td>524</td>\n",
       "    </tr>\n",
       "    <tr>\n",
       "      <th>Ex</th>\n",
       "      <td>0</td>\n",
       "      <td>0</td>\n",
       "      <td>0</td>\n",
       "      <td>0</td>\n",
       "      <td>2</td>\n",
       "      <td>6</td>\n",
       "      <td>13</td>\n",
       "      <td>33</td>\n",
       "      <td>29</td>\n",
       "      <td>14</td>\n",
       "      <td>97</td>\n",
       "    </tr>\n",
       "    <tr>\n",
       "      <th>Fa</th>\n",
       "      <td>1</td>\n",
       "      <td>0</td>\n",
       "      <td>2</td>\n",
       "      <td>6</td>\n",
       "      <td>13</td>\n",
       "      <td>5</td>\n",
       "      <td>2</td>\n",
       "      <td>0</td>\n",
       "      <td>0</td>\n",
       "      <td>0</td>\n",
       "      <td>29</td>\n",
       "    </tr>\n",
       "    <tr>\n",
       "      <th>All</th>\n",
       "      <td>1</td>\n",
       "      <td>3</td>\n",
       "      <td>8</td>\n",
       "      <td>83</td>\n",
       "      <td>309</td>\n",
       "      <td>298</td>\n",
       "      <td>260</td>\n",
       "      <td>128</td>\n",
       "      <td>32</td>\n",
       "      <td>15</td>\n",
       "      <td>1137</td>\n",
       "    </tr>\n",
       "  </tbody>\n",
       "</table>\n",
       "</div>"
      ],
      "text/plain": [
       "OverallQual  1  2  3   4    5    6    7    8   9  10   All\n",
       "BsmtQual                                                  \n",
       "Gd           0  0  0  14   50  127  204   89   3   0   487\n",
       "TA           0  3  6  63  244  160   41    6   0   1   524\n",
       "Ex           0  0  0   0    2    6   13   33  29  14    97\n",
       "Fa           1  0  2   6   13    5    2    0   0   0    29\n",
       "All          1  3  8  83  309  298  260  128  32  15  1137"
      ]
     },
     "execution_count": 522,
     "metadata": {},
     "output_type": "execute_result"
    }
   ],
   "source": [
    "df4['BsmtQual']=pd.Categorical(df4['BsmtQual'])\n",
    "df4['OverallQual']=pd.Categorical(df4['OverallQual'])\n",
    "cross_tab = pd.crosstab(df4.BsmtQual,df4.OverallQual,margins=True)\n",
    "cross_tab"
   ]
  },
  {
   "cell_type": "code",
   "execution_count": 536,
   "metadata": {},
   "outputs": [
    {
     "data": {
      "text/plain": [
       "(943.1756427581794,\n",
       " 8.364220638300455e-172,\n",
       " 40,\n",
       " array([[4.28320141e-01, 1.28496042e+00, 3.42656113e+00, 3.55505717e+01,\n",
       "         1.32350923e+02, 1.27639402e+02, 1.11363237e+02, 5.48249780e+01,\n",
       "         1.37062445e+01, 6.42480211e+00, 4.87000000e+02],\n",
       "        [4.60861917e-01, 1.38258575e+00, 3.68689534e+00, 3.82515391e+01,\n",
       "         1.42406332e+02, 1.37336851e+02, 1.19824099e+02, 5.89903254e+01,\n",
       "         1.47475814e+01, 6.91292876e+00, 5.24000000e+02],\n",
       "        [8.53122252e-02, 2.55936675e-01, 6.82497801e-01, 7.08091469e+00,\n",
       "         2.63614776e+01, 2.54230431e+01, 2.21811785e+01, 1.09199648e+01,\n",
       "         2.72999120e+00, 1.27968338e+00, 9.70000000e+01],\n",
       "        [2.55057168e-02, 7.65171504e-02, 2.04045734e-01, 2.11697449e+00,\n",
       "         7.88126649e+00, 7.60070361e+00, 6.63148637e+00, 3.26473175e+00,\n",
       "         8.16182938e-01, 3.82585752e-01, 2.90000000e+01],\n",
       "        [1.00000000e+00, 3.00000000e+00, 8.00000000e+00, 8.30000000e+01,\n",
       "         3.09000000e+02, 2.98000000e+02, 2.60000000e+02, 1.28000000e+02,\n",
       "         3.20000000e+01, 1.50000000e+01, 1.13700000e+03]]))"
      ]
     },
     "execution_count": 536,
     "metadata": {},
     "output_type": "execute_result"
    }
   ],
   "source": [
    "import scipy.stats as stats\n",
    "c2table = stats.chi2_contingency(cross_tab)\n",
    "c2table"
   ]
  },
  {
   "cell_type": "code",
   "execution_count": 529,
   "metadata": {},
   "outputs": [
    {
     "data": {
      "text/plain": [
       "TA    524\n",
       "Gd    487\n",
       "Name: BsmtQual, dtype: int64"
      ]
     },
     "execution_count": 529,
     "metadata": {},
     "output_type": "execute_result"
    }
   ],
   "source": [
    "map1={'TA':'TA','Gd':'Gd'}\n",
    "temp3 = df4.copy()\n",
    "temp3['BsmtQual']=df4['BsmtQual'].map(map1)\n",
    "temp3.BsmtQual.value_counts()"
   ]
  },
  {
   "cell_type": "code",
   "execution_count": 531,
   "metadata": {},
   "outputs": [
    {
     "data": {
      "text/html": [
       "<div>\n",
       "<style scoped>\n",
       "    .dataframe tbody tr th:only-of-type {\n",
       "        vertical-align: middle;\n",
       "    }\n",
       "\n",
       "    .dataframe tbody tr th {\n",
       "        vertical-align: top;\n",
       "    }\n",
       "\n",
       "    .dataframe thead th {\n",
       "        text-align: right;\n",
       "    }\n",
       "</style>\n",
       "<table border=\"1\" class=\"dataframe\">\n",
       "  <thead>\n",
       "    <tr style=\"text-align: right;\">\n",
       "      <th>OverallQual</th>\n",
       "      <th>2</th>\n",
       "      <th>3</th>\n",
       "      <th>4</th>\n",
       "      <th>5</th>\n",
       "      <th>6</th>\n",
       "      <th>7</th>\n",
       "      <th>8</th>\n",
       "      <th>9</th>\n",
       "      <th>10</th>\n",
       "      <th>All</th>\n",
       "    </tr>\n",
       "    <tr>\n",
       "      <th>BsmtQual</th>\n",
       "      <th></th>\n",
       "      <th></th>\n",
       "      <th></th>\n",
       "      <th></th>\n",
       "      <th></th>\n",
       "      <th></th>\n",
       "      <th></th>\n",
       "      <th></th>\n",
       "      <th></th>\n",
       "      <th></th>\n",
       "    </tr>\n",
       "  </thead>\n",
       "  <tbody>\n",
       "    <tr>\n",
       "      <th>Gd</th>\n",
       "      <td>0</td>\n",
       "      <td>0</td>\n",
       "      <td>14</td>\n",
       "      <td>50</td>\n",
       "      <td>127</td>\n",
       "      <td>204</td>\n",
       "      <td>89</td>\n",
       "      <td>3</td>\n",
       "      <td>0</td>\n",
       "      <td>487</td>\n",
       "    </tr>\n",
       "    <tr>\n",
       "      <th>TA</th>\n",
       "      <td>3</td>\n",
       "      <td>6</td>\n",
       "      <td>63</td>\n",
       "      <td>244</td>\n",
       "      <td>160</td>\n",
       "      <td>41</td>\n",
       "      <td>6</td>\n",
       "      <td>0</td>\n",
       "      <td>1</td>\n",
       "      <td>524</td>\n",
       "    </tr>\n",
       "    <tr>\n",
       "      <th>All</th>\n",
       "      <td>3</td>\n",
       "      <td>6</td>\n",
       "      <td>77</td>\n",
       "      <td>294</td>\n",
       "      <td>287</td>\n",
       "      <td>245</td>\n",
       "      <td>95</td>\n",
       "      <td>3</td>\n",
       "      <td>1</td>\n",
       "      <td>1011</td>\n",
       "    </tr>\n",
       "  </tbody>\n",
       "</table>\n",
       "</div>"
      ],
      "text/plain": [
       "OverallQual  2  3   4    5    6    7   8  9  10   All\n",
       "BsmtQual                                             \n",
       "Gd           0  0  14   50  127  204  89  3   0   487\n",
       "TA           3  6  63  244  160   41   6  0   1   524\n",
       "All          3  6  77  294  287  245  95  3   1  1011"
      ]
     },
     "execution_count": 531,
     "metadata": {},
     "output_type": "execute_result"
    }
   ],
   "source": [
    "pd.crosstab(temp3.BsmtQual,temp3.OverallQual,margins=True)"
   ]
  },
  {
   "cell_type": "code",
   "execution_count": 544,
   "metadata": {},
   "outputs": [
    {
     "name": "stdout",
     "output_type": "stream",
     "text": [
      "calcuation ChiSquae for 'Gd'-'TA'Pair\n",
      "('Gd', '-', 'TA')\n",
      "Reject\n",
      "----------------------------------------------------------------------------------------------------\n",
      "calcuation ChiSquae for 'Gd'-'Ex'Pair\n",
      "('Gd', '-', 'Ex')\n",
      "Reject\n",
      "----------------------------------------------------------------------------------------------------\n",
      "calcuation ChiSquae for 'Gd'-'Fa'Pair\n",
      "('Gd', '-', 'Fa')\n",
      "Reject\n",
      "----------------------------------------------------------------------------------------------------\n",
      "calcuation ChiSquae for 'Gd'-'nan'Pair\n",
      "('Gd', '-', nan)\n",
      "Accept\n",
      "----------------------------------------------------------------------------------------------------\n",
      "calcuation ChiSquae for 'TA'-'Ex'Pair\n",
      "('TA', '-', 'Ex')\n",
      "Reject\n",
      "----------------------------------------------------------------------------------------------------\n",
      "calcuation ChiSquae for 'TA'-'Fa'Pair\n",
      "('TA', '-', 'Fa')\n",
      "Accept\n",
      "----------------------------------------------------------------------------------------------------\n",
      "calcuation ChiSquae for 'TA'-'nan'Pair\n",
      "('TA', '-', nan)\n",
      "Accept\n",
      "----------------------------------------------------------------------------------------------------\n",
      "calcuation ChiSquae for 'Ex'-'Fa'Pair\n",
      "('Ex', '-', 'Fa')\n",
      "Reject\n",
      "----------------------------------------------------------------------------------------------------\n",
      "calcuation ChiSquae for 'Ex'-'nan'Pair\n",
      "('Ex', '-', nan)\n",
      "Accept\n",
      "----------------------------------------------------------------------------------------------------\n",
      "calcuation ChiSquae for 'Fa'-'nan'Pair\n",
      "('Fa', '-', nan)\n",
      "Accept\n",
      "----------------------------------------------------------------------------------------------------\n"
     ]
    }
   ],
   "source": [
    "unq_cat = df4['BsmtQual'].unique()\n",
    "seen_cat = []\n",
    "accept_nh_list =[]\n",
    "relect_list =[]\n",
    "for cat1 in unq_cat:\n",
    "    seen_cat.append(cat1)\n",
    "    for cat2 in unq_cat:\n",
    "        if cat2 not in seen_cat:\n",
    "            print('calcuation ChiSquae for \\'{0}\\'-\\'{1}\\'Pair'.format(cat1,cat2))\n",
    "            df4_copy = df4.copy()\n",
    "            df4_copy['BsmtQual']= df4['BsmtQual'].map({cat1:cat1,cat2:cat2})\n",
    "            ct=pd.crosstab(df4_copy['BsmtQual'],df4_copy['OverallQual'],margins=True)\n",
    "            c3_tab=stats.chi2_contingency(ct)\n",
    "            pair=cat1, '-' ,cat2\n",
    "            print(pair)\n",
    "            if(c3_tab[1]<.005):\n",
    "                print ('Reject')\n",
    "                relect_list.append(pair)\n",
    "            else:\n",
    "                print('Accept')\n",
    "                accept_nh_list.append(pair)\n",
    "            print(100*'-')"
   ]
  },
  {
   "cell_type": "markdown",
   "metadata": {},
   "source": [
    "Data Filter and Aggregate the data"
   ]
  },
  {
   "cell_type": "code",
   "execution_count": 552,
   "metadata": {},
   "outputs": [
    {
     "data": {
      "text/html": [
       "<div>\n",
       "<style scoped>\n",
       "    .dataframe tbody tr th:only-of-type {\n",
       "        vertical-align: middle;\n",
       "    }\n",
       "\n",
       "    .dataframe tbody tr th {\n",
       "        vertical-align: top;\n",
       "    }\n",
       "\n",
       "    .dataframe thead th {\n",
       "        text-align: right;\n",
       "    }\n",
       "</style>\n",
       "<table border=\"1\" class=\"dataframe\">\n",
       "  <thead>\n",
       "    <tr style=\"text-align: right;\">\n",
       "      <th></th>\n",
       "      <th>YearBuilt</th>\n",
       "      <th>HouseStyle</th>\n",
       "      <th>SalePrice</th>\n",
       "    </tr>\n",
       "  </thead>\n",
       "  <tbody>\n",
       "    <tr>\n",
       "      <th>0</th>\n",
       "      <td>1923</td>\n",
       "      <td>1Story</td>\n",
       "      <td>85500</td>\n",
       "    </tr>\n",
       "    <tr>\n",
       "      <th>1</th>\n",
       "      <td>1966</td>\n",
       "      <td>2Story</td>\n",
       "      <td>226000</td>\n",
       "    </tr>\n",
       "    <tr>\n",
       "      <th>2</th>\n",
       "      <td>1950</td>\n",
       "      <td>1Story</td>\n",
       "      <td>82000</td>\n",
       "    </tr>\n",
       "    <tr>\n",
       "      <th>3</th>\n",
       "      <td>1990</td>\n",
       "      <td>1Story</td>\n",
       "      <td>179900</td>\n",
       "    </tr>\n",
       "    <tr>\n",
       "      <th>4</th>\n",
       "      <td>2006</td>\n",
       "      <td>1Story</td>\n",
       "      <td>147000</td>\n",
       "    </tr>\n",
       "  </tbody>\n",
       "</table>\n",
       "</div>"
      ],
      "text/plain": [
       "   YearBuilt HouseStyle  SalePrice\n",
       "0       1923     1Story      85500\n",
       "1       1966     2Story     226000\n",
       "2       1950     1Story      82000\n",
       "3       1990     1Story     179900\n",
       "4       2006     1Story     147000"
      ]
     },
     "execution_count": 552,
     "metadata": {},
     "output_type": "execute_result"
    }
   ],
   "source": [
    "housing_train_set[['YearBuilt','HouseStyle','SalePrice']].head()"
   ]
  },
  {
   "cell_type": "code",
   "execution_count": 558,
   "metadata": {},
   "outputs": [
    {
     "data": {
      "text/html": [
       "<div>\n",
       "<style scoped>\n",
       "    .dataframe tbody tr th:only-of-type {\n",
       "        vertical-align: middle;\n",
       "    }\n",
       "\n",
       "    .dataframe tbody tr th {\n",
       "        vertical-align: top;\n",
       "    }\n",
       "\n",
       "    .dataframe thead th {\n",
       "        text-align: right;\n",
       "    }\n",
       "</style>\n",
       "<table border=\"1\" class=\"dataframe\">\n",
       "  <thead>\n",
       "    <tr style=\"text-align: right;\">\n",
       "      <th>HouseStyle</th>\n",
       "      <th>1.5Fin</th>\n",
       "      <th>1.5Unf</th>\n",
       "      <th>1Story</th>\n",
       "      <th>2.5Fin</th>\n",
       "      <th>2.5Unf</th>\n",
       "      <th>2Story</th>\n",
       "      <th>SFoyer</th>\n",
       "      <th>SLvl</th>\n",
       "    </tr>\n",
       "    <tr>\n",
       "      <th>YearBuilt</th>\n",
       "      <th></th>\n",
       "      <th></th>\n",
       "      <th></th>\n",
       "      <th></th>\n",
       "      <th></th>\n",
       "      <th></th>\n",
       "      <th></th>\n",
       "      <th></th>\n",
       "    </tr>\n",
       "  </thead>\n",
       "  <tbody>\n",
       "    <tr>\n",
       "      <th>1872</th>\n",
       "      <td>NaN</td>\n",
       "      <td>NaN</td>\n",
       "      <td>NaN</td>\n",
       "      <td>NaN</td>\n",
       "      <td>NaN</td>\n",
       "      <td>122000.000000</td>\n",
       "      <td>NaN</td>\n",
       "      <td>NaN</td>\n",
       "    </tr>\n",
       "    <tr>\n",
       "      <th>1875</th>\n",
       "      <td>94000.0</td>\n",
       "      <td>NaN</td>\n",
       "      <td>NaN</td>\n",
       "      <td>NaN</td>\n",
       "      <td>NaN</td>\n",
       "      <td>NaN</td>\n",
       "      <td>NaN</td>\n",
       "      <td>NaN</td>\n",
       "    </tr>\n",
       "    <tr>\n",
       "      <th>1880</th>\n",
       "      <td>NaN</td>\n",
       "      <td>NaN</td>\n",
       "      <td>NaN</td>\n",
       "      <td>295000.0</td>\n",
       "      <td>NaN</td>\n",
       "      <td>169159.666667</td>\n",
       "      <td>NaN</td>\n",
       "      <td>NaN</td>\n",
       "    </tr>\n",
       "    <tr>\n",
       "      <th>1882</th>\n",
       "      <td>NaN</td>\n",
       "      <td>NaN</td>\n",
       "      <td>NaN</td>\n",
       "      <td>NaN</td>\n",
       "      <td>NaN</td>\n",
       "      <td>168000.000000</td>\n",
       "      <td>NaN</td>\n",
       "      <td>NaN</td>\n",
       "    </tr>\n",
       "    <tr>\n",
       "      <th>1885</th>\n",
       "      <td>NaN</td>\n",
       "      <td>NaN</td>\n",
       "      <td>100000.0</td>\n",
       "      <td>NaN</td>\n",
       "      <td>NaN</td>\n",
       "      <td>122500.000000</td>\n",
       "      <td>NaN</td>\n",
       "      <td>NaN</td>\n",
       "    </tr>\n",
       "  </tbody>\n",
       "</table>\n",
       "</div>"
      ],
      "text/plain": [
       "HouseStyle   1.5Fin  1.5Unf    1Story    2.5Fin  2.5Unf         2Story  \\\n",
       "YearBuilt                                                                \n",
       "1872            NaN     NaN       NaN       NaN     NaN  122000.000000   \n",
       "1875        94000.0     NaN       NaN       NaN     NaN            NaN   \n",
       "1880            NaN     NaN       NaN  295000.0     NaN  169159.666667   \n",
       "1882            NaN     NaN       NaN       NaN     NaN  168000.000000   \n",
       "1885            NaN     NaN  100000.0       NaN     NaN  122500.000000   \n",
       "\n",
       "HouseStyle  SFoyer  SLvl  \n",
       "YearBuilt                 \n",
       "1872           NaN   NaN  \n",
       "1875           NaN   NaN  \n",
       "1880           NaN   NaN  \n",
       "1882           NaN   NaN  \n",
       "1885           NaN   NaN  "
      ]
     },
     "execution_count": 558,
     "metadata": {},
     "output_type": "execute_result"
    }
   ],
   "source": [
    "df6=pd.pivot_table(housing_train_set,values='SalePrice',index=['YearBuilt'],columns=['HouseStyle'])\n",
    "df6.head()"
   ]
  },
  {
   "cell_type": "code",
   "execution_count": 560,
   "metadata": {},
   "outputs": [
    {
     "data": {
      "text/plain": [
       "<matplotlib.axes._subplots.AxesSubplot at 0x23241bc5b00>"
      ]
     },
     "execution_count": 560,
     "metadata": {},
     "output_type": "execute_result"
    },
    {
     "data": {
      "image/png": "[encoded data removed]",
      "text/plain": [
       "<Figure size 432x288 with 1 Axes>"
      ]
     },
     "metadata": {},
     "output_type": "display_data"
    }
   ],
   "source": [
    "df6.plot()"
   ]
  },
  {
   "cell_type": "code",
   "execution_count": 562,
   "metadata": {},
   "outputs": [
    {
     "data": {
      "text/plain": [
       "<seaborn.axisgrid.FacetGrid at 0x23242a9ac88>"
      ]
     },
     "execution_count": 562,
     "metadata": {},
     "output_type": "execute_result"
    },
    {
     "data": {
      "image/png": "[encoded data removed]",
      "text/plain": [
       "<Figure size 1440x288 with 5 Axes>"
      ]
     },
     "metadata": {},
     "output_type": "display_data"
    }
   ],
   "source": [
    "sns.factorplot(data=housing_train_set,x='GrLivArea',y='SalePrice',col='Heating')"
   ]
  },
  {
   "cell_type": "code",
   "execution_count": 590,
   "metadata": {},
   "outputs": [
    {
     "data": {
      "text/plain": [
       "MSSubClass    int64\n",
       "GrLivArea     int64\n",
       "dtype: object"
      ]
     },
     "execution_count": 590,
     "metadata": {},
     "output_type": "execute_result"
    }
   ],
   "source": [
    "housing_train_set[['MSSubClass','GrLivArea']].dtypes\n"
   ]
  },
  {
   "cell_type": "code",
   "execution_count": 617,
   "metadata": {},
   "outputs": [
    {
     "data": {
      "text/plain": [
       "None       864\n",
       "BrkFace    445\n",
       "Stone      128\n",
       "BrkCmn      15\n",
       "Name: MasVnrType, dtype: int64"
      ]
     },
     "execution_count": 617,
     "metadata": {},
     "output_type": "execute_result"
    }
   ],
   "source": [
    "housing_data.MasVnrType.value_counts()"
   ]
  },
  {
   "cell_type": "code",
   "execution_count": 621,
   "metadata": {},
   "outputs": [
    {
     "data": {
      "text/plain": [
       "Index(['MSZoning', 'Street', 'Alley', 'LotShape', 'LandContour', 'Utilities',\n",
       "       'LotConfig', 'LandSlope', 'Neighborhood', 'Condition1', 'Condition2',\n",
       "       'BldgType', 'HouseStyle', 'RoofStyle', 'RoofMatl', 'Exterior1st',\n",
       "       'Exterior2nd', 'MasVnrType', 'ExterQual', 'ExterCond', 'Foundation',\n",
       "       'BsmtQual', 'BsmtCond', 'BsmtExposure', 'BsmtFinType1', 'BsmtFinType2',\n",
       "       'Heating', 'HeatingQC', 'CentralAir', 'Electrical', 'KitchenQual',\n",
       "       'Functional', 'FireplaceQu', 'GarageType', 'GarageFinish', 'GarageQual',\n",
       "       'GarageCond', 'PavedDrive', 'PoolQC', 'Fence', 'MiscFeature',\n",
       "       'SaleType', 'SaleCondition'],\n",
       "      dtype='object')"
      ]
     },
     "execution_count": 621,
     "metadata": {},
     "output_type": "execute_result"
    }
   ],
   "source": [
    "housing_data.select_dtypes(['object']).columns"
   ]
  },
  {
   "cell_type": "code",
   "execution_count": 626,
   "metadata": {},
   "outputs": [
    {
     "data": {
      "text/plain": [
       "Index(['Id', 'MSSubClass', 'MSZoning', 'LotFrontage', 'LotArea', 'Street',\n",
       "       'Alley', 'LotShape', 'LandContour', 'Utilities', 'LotConfig',\n",
       "       'LandSlope', 'Neighborhood', 'Condition1', 'Condition2', 'BldgType',\n",
       "       'HouseStyle', 'OverallQual', 'OverallCond', 'YearBuilt', 'YearRemodAdd',\n",
       "       'RoofStyle', 'RoofMatl', 'Exterior1st', 'Exterior2nd', 'MasVnrType',\n",
       "       'MasVnrArea', 'ExterQual', 'ExterCond', 'Foundation', 'BsmtQual',\n",
       "       'BsmtCond', 'BsmtExposure', 'BsmtFinType1', 'BsmtFinSF1',\n",
       "       'BsmtFinType2', 'BsmtFinSF2', 'BsmtUnfSF', 'TotalBsmtSF', 'Heating',\n",
       "       'HeatingQC', 'CentralAir', 'Electrical', '1stFlrSF', '2ndFlrSF',\n",
       "       'LowQualFinSF', 'GrLivArea', 'BsmtFullBath', 'BsmtHalfBath', 'FullBath',\n",
       "       'HalfBath', 'BedroomAbvGr', 'KitchenAbvGr', 'KitchenQual',\n",
       "       'TotRmsAbvGrd', 'Functional', 'Fireplaces', 'FireplaceQu', 'GarageType',\n",
       "       'GarageYrBlt', 'GarageFinish', 'GarageCars', 'GarageArea', 'GarageQual',\n",
       "       'GarageCond', 'PavedDrive', 'WoodDeckSF', 'OpenPorchSF',\n",
       "       'EnclosedPorch', '3SsnPorch', 'ScreenPorch', 'PoolArea', 'PoolQC',\n",
       "       'Fence', 'MiscFeature', 'MiscVal', 'MoSold', 'YrSold', 'SaleType',\n",
       "       'SaleCondition', 'SalePrice'],\n",
       "      dtype='object')"
      ]
     },
     "execution_count": 626,
     "metadata": {},
     "output_type": "execute_result"
    }
   ],
   "source": [
    "housing_data.columns"
   ]
  },
  {
   "cell_type": "code",
   "execution_count": 625,
   "metadata": {},
   "outputs": [
    {
     "data": {
      "text/plain": [
       "0.0       861\n",
       "72.0        8\n",
       "180.0       8\n",
       "108.0       8\n",
       "120.0       7\n",
       "16.0        7\n",
       "80.0        6\n",
       "200.0       6\n",
       "106.0       6\n",
       "340.0       6\n",
       "170.0       5\n",
       "132.0       5\n",
       "360.0       5\n",
       "84.0        5\n",
       "320.0       5\n",
       "100.0       4\n",
       "196.0       4\n",
       "246.0       4\n",
       "216.0       4\n",
       "160.0       4\n",
       "183.0       4\n",
       "178.0       4\n",
       "270.0       4\n",
       "300.0       4\n",
       "210.0       4\n",
       "268.0       4\n",
       "252.0       4\n",
       "168.0       4\n",
       "336.0       4\n",
       "220.0       4\n",
       "         ... \n",
       "14.0        1\n",
       "53.0        1\n",
       "24.0        1\n",
       "127.0       1\n",
       "365.0       1\n",
       "115.0       1\n",
       "562.0       1\n",
       "259.0       1\n",
       "378.0       1\n",
       "219.0       1\n",
       "161.0       1\n",
       "247.0       1\n",
       "109.0       1\n",
       "278.0       1\n",
       "375.0       1\n",
       "225.0       1\n",
       "604.0       1\n",
       "762.0       1\n",
       "290.0       1\n",
       "299.0       1\n",
       "202.0       1\n",
       "731.0       1\n",
       "167.0       1\n",
       "309.0       1\n",
       "1129.0      1\n",
       "651.0       1\n",
       "337.0       1\n",
       "415.0       1\n",
       "293.0       1\n",
       "621.0       1\n",
       "Name: MasVnrArea, Length: 327, dtype: int64"
      ]
     },
     "execution_count": 625,
     "metadata": {},
     "output_type": "execute_result"
    }
   ],
   "source": [
    "housing_data.MasVnrArea.value_counts()"
   ]
  },
  {
   "cell_type": "code",
   "execution_count": 631,
   "metadata": {},
   "outputs": [
    {
     "data": {
      "text/html": [
       "<div>\n",
       "<style scoped>\n",
       "    .dataframe tbody tr th:only-of-type {\n",
       "        vertical-align: middle;\n",
       "    }\n",
       "\n",
       "    .dataframe tbody tr th {\n",
       "        vertical-align: top;\n",
       "    }\n",
       "\n",
       "    .dataframe thead th {\n",
       "        text-align: right;\n",
       "    }\n",
       "</style>\n",
       "<table border=\"1\" class=\"dataframe\">\n",
       "  <thead>\n",
       "    <tr style=\"text-align: right;\">\n",
       "      <th></th>\n",
       "      <th>MasVnrType</th>\n",
       "      <th>MasVnrArea</th>\n",
       "    </tr>\n",
       "  </thead>\n",
       "  <tbody>\n",
       "    <tr>\n",
       "      <th>624</th>\n",
       "      <td>None</td>\n",
       "      <td>288.0</td>\n",
       "    </tr>\n",
       "    <tr>\n",
       "      <th>773</th>\n",
       "      <td>None</td>\n",
       "      <td>1.0</td>\n",
       "    </tr>\n",
       "    <tr>\n",
       "      <th>1230</th>\n",
       "      <td>None</td>\n",
       "      <td>1.0</td>\n",
       "    </tr>\n",
       "    <tr>\n",
       "      <th>1300</th>\n",
       "      <td>None</td>\n",
       "      <td>344.0</td>\n",
       "    </tr>\n",
       "    <tr>\n",
       "      <th>1334</th>\n",
       "      <td>None</td>\n",
       "      <td>312.0</td>\n",
       "    </tr>\n",
       "  </tbody>\n",
       "</table>\n",
       "</div>"
      ],
      "text/plain": [
       "     MasVnrType  MasVnrArea\n",
       "624        None       288.0\n",
       "773        None         1.0\n",
       "1230       None         1.0\n",
       "1300       None       344.0\n",
       "1334       None       312.0"
      ]
     },
     "execution_count": 631,
     "metadata": {},
     "output_type": "execute_result"
    }
   ],
   "source": [
    "df8=housing_data[(housing_data.MasVnrType=='None')& (housing_data.MasVnrArea!=0)][['MasVnrType','MasVnrArea']]\n",
    "df8"
   ]
  },
  {
   "cell_type": "markdown",
   "metadata": {},
   "source": [
    "multivariate Analysis"
   ]
  },
  {
   "cell_type": "code",
   "execution_count": 632,
   "metadata": {},
   "outputs": [
    {
     "data": {
      "text/plain": [
       "Index(['Id', 'MSSubClass', 'LotFrontage', 'LotArea', 'OverallQual',\n",
       "       'OverallCond', 'YearBuilt', 'YearRemodAdd', 'BsmtFinSF1', 'BsmtFinSF2',\n",
       "       'BsmtUnfSF', 'TotalBsmtSF', 'FstFlrSF', 'SndFlrSF', 'LowQualFinSF',\n",
       "       'GrLivArea', 'BsmtFullBath', 'BsmtHalfBath', 'FullBath', 'HalfBath',\n",
       "       'BedroomAbvGr', 'KitchenAbvGr', 'TotRmsAbvGrd', 'Fireplaces',\n",
       "       'GarageYrBlt', 'GarageCars', 'GarageArea', 'WoodDeckSF', 'OpenPorchSF',\n",
       "       'EnclosedPorch', 'TrdSsnPorch', 'ScreenPorch', 'PoolArea', 'MiscVal',\n",
       "       'MoSold', 'YrSold', 'SalePrice', 'SaleCondBin'],\n",
       "      dtype='object')"
      ]
     },
     "execution_count": 632,
     "metadata": {},
     "output_type": "execute_result"
    }
   ],
   "source": [
    "housing_train_set.select_dtypes(['int64','float64']).columns"
   ]
  },
  {
   "cell_type": "code",
   "execution_count": 635,
   "metadata": {},
   "outputs": [],
   "source": [
    "def getNumericalNonNullFeature(df):\n",
    "    ser_dtypes = df.dtypes\n",
    "    nul_col_names= [x for x in ser_dtypes.index\n",
    "                   if ser_dtypes[x] in ['int64','float64']\n",
    "                   and df[x].shape[0]==len(df)]\n",
    "    return nul_col_names"
   ]
  },
  {
   "cell_type": "code",
   "execution_count": 636,
   "metadata": {},
   "outputs": [
    {
     "name": "stdout",
     "output_type": "stream",
     "text": [
      "['Id', 'MSSubClass', 'LotFrontage', 'LotArea', 'OverallQual', 'OverallCond', 'YearBuilt', 'YearRemodAdd', 'BsmtFinSF1', 'BsmtFinSF2', 'BsmtUnfSF', 'TotalBsmtSF', 'FstFlrSF', 'SndFlrSF', 'LowQualFinSF', 'GrLivArea', 'BsmtFullBath', 'BsmtHalfBath', 'FullBath', 'HalfBath', 'BedroomAbvGr', 'KitchenAbvGr', 'TotRmsAbvGrd', 'Fireplaces', 'GarageYrBlt', 'GarageCars', 'GarageArea', 'WoodDeckSF', 'OpenPorchSF', 'EnclosedPorch', 'TrdSsnPorch', 'ScreenPorch', 'PoolArea', 'MiscVal', 'MoSold', 'YrSold', 'SalePrice', 'SaleCondBin']\n"
     ]
    }
   ],
   "source": [
    "numerical_feature = getNumericalNonNullFeature(housing_train_set)\n",
    "print(numerical_feature)"
   ]
  },
  {
   "cell_type": "code",
   "execution_count": 638,
   "metadata": {},
   "outputs": [],
   "source": [
    "numerical_feature.remove('SalePrice')"
   ]
  },
  {
   "cell_type": "code",
   "execution_count": 640,
   "metadata": {},
   "outputs": [
    {
     "name": "stdout",
     "output_type": "stream",
     "text": [
      "['Id', 'MSSubClass', 'LotFrontage', 'LotArea', 'OverallQual', 'OverallCond', 'YearBuilt', 'YearRemodAdd', 'BsmtFinSF1', 'BsmtFinSF2', 'BsmtUnfSF', 'TotalBsmtSF', 'FstFlrSF', 'SndFlrSF', 'LowQualFinSF', 'GrLivArea', 'BsmtFullBath', 'BsmtHalfBath', 'FullBath', 'HalfBath', 'BedroomAbvGr', 'KitchenAbvGr', 'TotRmsAbvGrd', 'Fireplaces', 'GarageYrBlt', 'GarageCars', 'GarageArea', 'WoodDeckSF', 'OpenPorchSF', 'EnclosedPorch', 'TrdSsnPorch', 'ScreenPorch', 'PoolArea', 'MiscVal', 'MoSold', 'YrSold', 'SaleCondBin']\n"
     ]
    }
   ],
   "source": [
    "print(numerical_feature)"
   ]
  },
  {
   "cell_type": "code",
   "execution_count": 648,
   "metadata": {},
   "outputs": [
    {
     "data": {
      "text/html": [
       "<div>\n",
       "<style scoped>\n",
       "    .dataframe tbody tr th:only-of-type {\n",
       "        vertical-align: middle;\n",
       "    }\n",
       "\n",
       "    .dataframe tbody tr th {\n",
       "        vertical-align: top;\n",
       "    }\n",
       "\n",
       "    .dataframe thead th {\n",
       "        text-align: right;\n",
       "    }\n",
       "</style>\n",
       "<table border=\"1\" class=\"dataframe\">\n",
       "  <thead>\n",
       "    <tr style=\"text-align: right;\">\n",
       "      <th></th>\n",
       "      <th>Id</th>\n",
       "      <th>MSSubClass</th>\n",
       "      <th>LotFrontage</th>\n",
       "      <th>LotArea</th>\n",
       "      <th>OverallQual</th>\n",
       "      <th>OverallCond</th>\n",
       "      <th>YearBuilt</th>\n",
       "      <th>YearRemodAdd</th>\n",
       "      <th>BsmtFinSF1</th>\n",
       "      <th>BsmtFinSF2</th>\n",
       "      <th>...</th>\n",
       "      <th>WoodDeckSF</th>\n",
       "      <th>OpenPorchSF</th>\n",
       "      <th>EnclosedPorch</th>\n",
       "      <th>TrdSsnPorch</th>\n",
       "      <th>ScreenPorch</th>\n",
       "      <th>PoolArea</th>\n",
       "      <th>MiscVal</th>\n",
       "      <th>MoSold</th>\n",
       "      <th>YrSold</th>\n",
       "      <th>SaleCondBin</th>\n",
       "    </tr>\n",
       "  </thead>\n",
       "  <tbody>\n",
       "    <tr>\n",
       "      <th>0</th>\n",
       "      <td>239.999144</td>\n",
       "      <td>-26.819349</td>\n",
       "      <td>-19.134796</td>\n",
       "      <td>-4677.692637</td>\n",
       "      <td>-2.087329</td>\n",
       "      <td>1.440925</td>\n",
       "      <td>-48.004281</td>\n",
       "      <td>-26.851027</td>\n",
       "      <td>-441.082192</td>\n",
       "      <td>-48.105308</td>\n",
       "      <td>...</td>\n",
       "      <td>-95.776541</td>\n",
       "      <td>-46.707192</td>\n",
       "      <td>-22.422089</td>\n",
       "      <td>-3.349315</td>\n",
       "      <td>-14.585616</td>\n",
       "      <td>-3.44863</td>\n",
       "      <td>-49.010274</td>\n",
       "      <td>1.693493</td>\n",
       "      <td>-1.849315</td>\n",
       "      <td>0.179795</td>\n",
       "    </tr>\n",
       "    <tr>\n",
       "      <th>1</th>\n",
       "      <td>-606.000856</td>\n",
       "      <td>3.180651</td>\n",
       "      <td>17.865204</td>\n",
       "      <td>3622.307363</td>\n",
       "      <td>0.912671</td>\n",
       "      <td>0.440925</td>\n",
       "      <td>-5.004281</td>\n",
       "      <td>-18.851027</td>\n",
       "      <td>3.917808</td>\n",
       "      <td>-48.105308</td>\n",
       "      <td>...</td>\n",
       "      <td>9.223459</td>\n",
       "      <td>19.292808</td>\n",
       "      <td>-22.422089</td>\n",
       "      <td>-3.349315</td>\n",
       "      <td>-14.585616</td>\n",
       "      <td>-3.44863</td>\n",
       "      <td>-49.010274</td>\n",
       "      <td>-1.306507</td>\n",
       "      <td>-1.849315</td>\n",
       "      <td>0.179795</td>\n",
       "    </tr>\n",
       "    <tr>\n",
       "      <th>2</th>\n",
       "      <td>-395.000856</td>\n",
       "      <td>-36.819349</td>\n",
       "      <td>-10.134796</td>\n",
       "      <td>-2177.692637</td>\n",
       "      <td>-2.087329</td>\n",
       "      <td>-1.559075</td>\n",
       "      <td>-21.004281</td>\n",
       "      <td>-34.851027</td>\n",
       "      <td>-441.082192</td>\n",
       "      <td>-48.105308</td>\n",
       "      <td>...</td>\n",
       "      <td>154.223459</td>\n",
       "      <td>-46.707192</td>\n",
       "      <td>1.577911</td>\n",
       "      <td>-3.349315</td>\n",
       "      <td>-14.585616</td>\n",
       "      <td>-3.44863</td>\n",
       "      <td>-49.010274</td>\n",
       "      <td>2.693493</td>\n",
       "      <td>1.150685</td>\n",
       "      <td>0.179795</td>\n",
       "    </tr>\n",
       "    <tr>\n",
       "      <th>3</th>\n",
       "      <td>369.999144</td>\n",
       "      <td>-36.819349</td>\n",
       "      <td>43.865204</td>\n",
       "      <td>-220.692637</td>\n",
       "      <td>0.912671</td>\n",
       "      <td>-0.559075</td>\n",
       "      <td>18.995719</td>\n",
       "      <td>6.148973</td>\n",
       "      <td>296.917808</td>\n",
       "      <td>-48.105308</td>\n",
       "      <td>...</td>\n",
       "      <td>-95.776541</td>\n",
       "      <td>197.292808</td>\n",
       "      <td>-22.422089</td>\n",
       "      <td>-3.349315</td>\n",
       "      <td>-14.585616</td>\n",
       "      <td>-3.44863</td>\n",
       "      <td>-49.010274</td>\n",
       "      <td>-1.306507</td>\n",
       "      <td>-0.849315</td>\n",
       "      <td>0.179795</td>\n",
       "    </tr>\n",
       "    <tr>\n",
       "      <th>4</th>\n",
       "      <td>587.999144</td>\n",
       "      <td>-36.819349</td>\n",
       "      <td>4.865204</td>\n",
       "      <td>-591.692637</td>\n",
       "      <td>1.912671</td>\n",
       "      <td>-0.559075</td>\n",
       "      <td>34.995719</td>\n",
       "      <td>22.148973</td>\n",
       "      <td>-441.082192</td>\n",
       "      <td>-48.105308</td>\n",
       "      <td>...</td>\n",
       "      <td>-95.776541</td>\n",
       "      <td>2.292808</td>\n",
       "      <td>-22.422089</td>\n",
       "      <td>-3.349315</td>\n",
       "      <td>-14.585616</td>\n",
       "      <td>-3.44863</td>\n",
       "      <td>-49.010274</td>\n",
       "      <td>-4.306507</td>\n",
       "      <td>-0.849315</td>\n",
       "      <td>-0.820205</td>\n",
       "    </tr>\n",
       "  </tbody>\n",
       "</table>\n",
       "<p>5 rows × 37 columns</p>\n",
       "</div>"
      ],
      "text/plain": [
       "           Id  MSSubClass  LotFrontage      LotArea  OverallQual  OverallCond  \\\n",
       "0  239.999144  -26.819349   -19.134796 -4677.692637    -2.087329     1.440925   \n",
       "1 -606.000856    3.180651    17.865204  3622.307363     0.912671     0.440925   \n",
       "2 -395.000856  -36.819349   -10.134796 -2177.692637    -2.087329    -1.559075   \n",
       "3  369.999144  -36.819349    43.865204  -220.692637     0.912671    -0.559075   \n",
       "4  587.999144  -36.819349     4.865204  -591.692637     1.912671    -0.559075   \n",
       "\n",
       "   YearBuilt  YearRemodAdd  BsmtFinSF1  BsmtFinSF2     ...       WoodDeckSF  \\\n",
       "0 -48.004281    -26.851027 -441.082192  -48.105308     ...       -95.776541   \n",
       "1  -5.004281    -18.851027    3.917808  -48.105308     ...         9.223459   \n",
       "2 -21.004281    -34.851027 -441.082192  -48.105308     ...       154.223459   \n",
       "3  18.995719      6.148973  296.917808  -48.105308     ...       -95.776541   \n",
       "4  34.995719     22.148973 -441.082192  -48.105308     ...       -95.776541   \n",
       "\n",
       "   OpenPorchSF  EnclosedPorch  TrdSsnPorch  ScreenPorch  PoolArea    MiscVal  \\\n",
       "0   -46.707192     -22.422089    -3.349315   -14.585616  -3.44863 -49.010274   \n",
       "1    19.292808     -22.422089    -3.349315   -14.585616  -3.44863 -49.010274   \n",
       "2   -46.707192       1.577911    -3.349315   -14.585616  -3.44863 -49.010274   \n",
       "3   197.292808     -22.422089    -3.349315   -14.585616  -3.44863 -49.010274   \n",
       "4     2.292808     -22.422089    -3.349315   -14.585616  -3.44863 -49.010274   \n",
       "\n",
       "     MoSold    YrSold  SaleCondBin  \n",
       "0  1.693493 -1.849315     0.179795  \n",
       "1 -1.306507 -1.849315     0.179795  \n",
       "2  2.693493  1.150685     0.179795  \n",
       "3 -1.306507 -0.849315     0.179795  \n",
       "4 -4.306507 -0.849315    -0.820205  \n",
       "\n",
       "[5 rows x 37 columns]"
      ]
     },
     "execution_count": 648,
     "metadata": {},
     "output_type": "execute_result"
    }
   ],
   "source": [
    "c_numerical_feature = housing_train_set[numerical_feature]-housing_train_set[numerical_feature].mean()\n",
    "c_numerical_feature.head()"
   ]
  },
  {
   "cell_type": "code",
   "execution_count": 649,
   "metadata": {},
   "outputs": [
    {
     "name": "stdout",
     "output_type": "stream",
     "text": [
      "Id+MSSubClass+LotFrontage+LotArea+OverallQual+OverallCond+YearBuilt+YearRemodAdd+BsmtFinSF1+BsmtFinSF2+BsmtUnfSF+TotalBsmtSF+FstFlrSF+SndFlrSF+LowQualFinSF+GrLivArea+BsmtFullBath+BsmtHalfBath+FullBath+HalfBath+BedroomAbvGr+KitchenAbvGr+TotRmsAbvGrd+Fireplaces+GarageYrBlt+GarageCars+GarageArea+WoodDeckSF+OpenPorchSF+EnclosedPorch+TrdSsnPorch+ScreenPorch+PoolArea+MiscVal+MoSold+YrSold+SaleCondBin\n"
     ]
    }
   ],
   "source": [
    "formula_input_feature = '+'.join(numerical_feature)\n",
    "print(formula_input_feature)"
   ]
  },
  {
   "cell_type": "code",
   "execution_count": 655,
   "metadata": {},
   "outputs": [],
   "source": [
    "c_numerical_feature['SalePrice']= housing_train_set['SalePrice']"
   ]
  },
  {
   "cell_type": "code",
   "execution_count": 656,
   "metadata": {},
   "outputs": [
    {
     "data": {
      "text/plain": [
       "Index(['Id', 'MSSubClass', 'LotFrontage', 'LotArea', 'OverallQual',\n",
       "       'OverallCond', 'YearBuilt', 'YearRemodAdd', 'BsmtFinSF1', 'BsmtFinSF2',\n",
       "       'BsmtUnfSF', 'TotalBsmtSF', 'FstFlrSF', 'SndFlrSF', 'LowQualFinSF',\n",
       "       'GrLivArea', 'BsmtFullBath', 'BsmtHalfBath', 'FullBath', 'HalfBath',\n",
       "       'BedroomAbvGr', 'KitchenAbvGr', 'TotRmsAbvGrd', 'Fireplaces',\n",
       "       'GarageYrBlt', 'GarageCars', 'GarageArea', 'WoodDeckSF', 'OpenPorchSF',\n",
       "       'EnclosedPorch', 'TrdSsnPorch', 'ScreenPorch', 'PoolArea', 'MiscVal',\n",
       "       'MoSold', 'YrSold', 'SaleCondBin', 'Saleprice', 'SalePrice'],\n",
       "      dtype='object')"
      ]
     },
     "execution_count": 656,
     "metadata": {},
     "output_type": "execute_result"
    }
   ],
   "source": [
    "c_numerical_feature.columns"
   ]
  },
  {
   "cell_type": "code",
   "execution_count": 657,
   "metadata": {},
   "outputs": [
    {
     "data": {
      "text/html": [
       "<table class=\"simpletable\">\n",
       "<caption>OLS Regression Results</caption>\n",
       "<tr>\n",
       "  <th>Dep. Variable:</th>        <td>SalePrice</td>    <th>  R-squared:         </th> <td>   0.818</td> \n",
       "</tr>\n",
       "<tr>\n",
       "  <th>Model:</th>                   <td>OLS</td>       <th>  Adj. R-squared:    </th> <td>   0.812</td> \n",
       "</tr>\n",
       "<tr>\n",
       "  <th>Method:</th>             <td>Least Squares</td>  <th>  F-statistic:       </th> <td>   145.4</td> \n",
       "</tr>\n",
       "<tr>\n",
       "  <th>Date:</th>             <td>Thu, 19 Sep 2019</td> <th>  Prob (F-statistic):</th>  <td>  0.00</td>  \n",
       "</tr>\n",
       "<tr>\n",
       "  <th>Time:</th>                 <td>12:40:38</td>     <th>  Log-Likelihood:    </th> <td> -13863.</td> \n",
       "</tr>\n",
       "<tr>\n",
       "  <th>No. Observations:</th>      <td>  1168</td>      <th>  AIC:               </th> <td>2.780e+04</td>\n",
       "</tr>\n",
       "<tr>\n",
       "  <th>Df Residuals:</th>          <td>  1132</td>      <th>  BIC:               </th> <td>2.798e+04</td>\n",
       "</tr>\n",
       "<tr>\n",
       "  <th>Df Model:</th>              <td>    35</td>      <th>                     </th>     <td> </td>    \n",
       "</tr>\n",
       "<tr>\n",
       "  <th>Covariance Type:</th>      <td>nonrobust</td>    <th>                     </th>     <td> </td>    \n",
       "</tr>\n",
       "</table>\n",
       "<table class=\"simpletable\">\n",
       "<tr>\n",
       "        <td></td>           <th>coef</th>     <th>std err</th>      <th>t</th>      <th>P>|t|</th>  <th>[0.025</th>    <th>0.975]</th>  \n",
       "</tr>\n",
       "<tr>\n",
       "  <th>Intercept</th>     <td> 1.811e+05</td> <td> 1026.868</td> <td>  176.408</td> <td> 0.000</td> <td> 1.79e+05</td> <td> 1.83e+05</td>\n",
       "</tr>\n",
       "<tr>\n",
       "  <th>Id</th>            <td>   -3.6071</td> <td>    2.458</td> <td>   -1.468</td> <td> 0.143</td> <td>   -8.430</td> <td>    1.216</td>\n",
       "</tr>\n",
       "<tr>\n",
       "  <th>MSSubClass</th>    <td> -188.4100</td> <td>   31.326</td> <td>   -6.015</td> <td> 0.000</td> <td> -249.873</td> <td> -126.947</td>\n",
       "</tr>\n",
       "<tr>\n",
       "  <th>LotFrontage</th>   <td>  -50.8861</td> <td>   57.082</td> <td>   -0.891</td> <td> 0.373</td> <td> -162.885</td> <td>   61.113</td>\n",
       "</tr>\n",
       "<tr>\n",
       "  <th>LotArea</th>       <td>    0.4397</td> <td>    0.107</td> <td>    4.102</td> <td> 0.000</td> <td>    0.229</td> <td>    0.650</td>\n",
       "</tr>\n",
       "<tr>\n",
       "  <th>OverallQual</th>   <td> 1.817e+04</td> <td> 1369.339</td> <td>   13.270</td> <td> 0.000</td> <td> 1.55e+04</td> <td> 2.09e+04</td>\n",
       "</tr>\n",
       "<tr>\n",
       "  <th>OverallCond</th>   <td> 5343.0225</td> <td> 1176.081</td> <td>    4.543</td> <td> 0.000</td> <td> 3035.479</td> <td> 7650.566</td>\n",
       "</tr>\n",
       "<tr>\n",
       "  <th>YearBuilt</th>     <td>  383.1520</td> <td>   77.523</td> <td>    4.942</td> <td> 0.000</td> <td>  231.048</td> <td>  535.256</td>\n",
       "</tr>\n",
       "<tr>\n",
       "  <th>YearRemodAdd</th>  <td>  116.0730</td> <td>   77.383</td> <td>    1.500</td> <td> 0.134</td> <td>  -35.757</td> <td>  267.903</td>\n",
       "</tr>\n",
       "<tr>\n",
       "  <th>BsmtFinSF1</th>    <td>   12.2008</td> <td>    2.812</td> <td>    4.338</td> <td> 0.000</td> <td>    6.683</td> <td>   17.719</td>\n",
       "</tr>\n",
       "<tr>\n",
       "  <th>BsmtFinSF2</th>    <td>   -4.0490</td> <td>    5.063</td> <td>   -0.800</td> <td> 0.424</td> <td>  -13.982</td> <td>    5.884</td>\n",
       "</tr>\n",
       "<tr>\n",
       "  <th>BsmtUnfSF</th>     <td>   -1.1291</td> <td>    2.763</td> <td>   -0.409</td> <td> 0.683</td> <td>   -6.550</td> <td>    4.292</td>\n",
       "</tr>\n",
       "<tr>\n",
       "  <th>TotalBsmtSF</th>   <td>    7.0227</td> <td>    3.767</td> <td>    1.864</td> <td> 0.063</td> <td>   -0.368</td> <td>   14.414</td>\n",
       "</tr>\n",
       "<tr>\n",
       "  <th>FstFlrSF</th>      <td>   31.6459</td> <td>    7.332</td> <td>    4.316</td> <td> 0.000</td> <td>   17.259</td> <td>   46.032</td>\n",
       "</tr>\n",
       "<tr>\n",
       "  <th>SndFlrSF</th>      <td>   29.8592</td> <td>    6.747</td> <td>    4.426</td> <td> 0.000</td> <td>   16.621</td> <td>   43.097</td>\n",
       "</tr>\n",
       "<tr>\n",
       "  <th>LowQualFinSF</th>  <td>  -31.8549</td> <td>   18.034</td> <td>   -1.766</td> <td> 0.078</td> <td>  -67.238</td> <td>    3.528</td>\n",
       "</tr>\n",
       "<tr>\n",
       "  <th>GrLivArea</th>     <td>   29.6501</td> <td>    6.792</td> <td>    4.365</td> <td> 0.000</td> <td>   16.324</td> <td>   42.977</td>\n",
       "</tr>\n",
       "<tr>\n",
       "  <th>BsmtFullBath</th>  <td> 8659.0525</td> <td> 3026.380</td> <td>    2.861</td> <td> 0.004</td> <td> 2721.107</td> <td> 1.46e+04</td>\n",
       "</tr>\n",
       "<tr>\n",
       "  <th>BsmtHalfBath</th>  <td> -234.5311</td> <td> 4666.248</td> <td>   -0.050</td> <td> 0.960</td> <td>-9389.998</td> <td> 8920.936</td>\n",
       "</tr>\n",
       "<tr>\n",
       "  <th>FullBath</th>      <td> 2062.4419</td> <td> 3231.051</td> <td>    0.638</td> <td> 0.523</td> <td>-4277.079</td> <td> 8401.963</td>\n",
       "</tr>\n",
       "<tr>\n",
       "  <th>HalfBath</th>      <td>-2810.4183</td> <td> 3018.147</td> <td>   -0.931</td> <td> 0.352</td> <td>-8732.209</td> <td> 3111.373</td>\n",
       "</tr>\n",
       "<tr>\n",
       "  <th>BedroomAbvGr</th>  <td>-1.192e+04</td> <td> 1908.112</td> <td>   -6.245</td> <td> 0.000</td> <td>-1.57e+04</td> <td>-8171.753</td>\n",
       "</tr>\n",
       "<tr>\n",
       "  <th>KitchenAbvGr</th>  <td>-1.342e+04</td> <td> 5806.982</td> <td>   -2.310</td> <td> 0.021</td> <td>-2.48e+04</td> <td>-2021.363</td>\n",
       "</tr>\n",
       "<tr>\n",
       "  <th>TotRmsAbvGrd</th>  <td> 5218.8877</td> <td> 1378.723</td> <td>    3.785</td> <td> 0.000</td> <td> 2513.748</td> <td> 7924.027</td>\n",
       "</tr>\n",
       "<tr>\n",
       "  <th>Fireplaces</th>    <td>  996.0531</td> <td> 2031.080</td> <td>    0.490</td> <td> 0.624</td> <td>-2989.051</td> <td> 4981.157</td>\n",
       "</tr>\n",
       "<tr>\n",
       "  <th>GarageYrBlt</th>   <td>  -10.2287</td> <td>   82.947</td> <td>   -0.123</td> <td> 0.902</td> <td> -172.976</td> <td>  152.518</td>\n",
       "</tr>\n",
       "<tr>\n",
       "  <th>GarageCars</th>    <td> 1.313e+04</td> <td> 3292.299</td> <td>    3.989</td> <td> 0.000</td> <td> 6673.849</td> <td> 1.96e+04</td>\n",
       "</tr>\n",
       "<tr>\n",
       "  <th>GarageArea</th>    <td>  -12.3782</td> <td>   11.640</td> <td>   -1.063</td> <td> 0.288</td> <td>  -35.216</td> <td>   10.460</td>\n",
       "</tr>\n",
       "<tr>\n",
       "  <th>WoodDeckSF</th>    <td>   25.2124</td> <td>    9.050</td> <td>    2.786</td> <td> 0.005</td> <td>    7.456</td> <td>   42.969</td>\n",
       "</tr>\n",
       "<tr>\n",
       "  <th>OpenPorchSF</th>   <td>    2.8675</td> <td>   16.959</td> <td>    0.169</td> <td> 0.866</td> <td>  -30.407</td> <td>   36.142</td>\n",
       "</tr>\n",
       "<tr>\n",
       "  <th>EnclosedPorch</th> <td>    5.7508</td> <td>   18.890</td> <td>    0.304</td> <td> 0.761</td> <td>  -31.313</td> <td>   42.815</td>\n",
       "</tr>\n",
       "<tr>\n",
       "  <th>TrdSsnPorch</th>   <td>  -37.0720</td> <td>   34.643</td> <td>   -1.070</td> <td> 0.285</td> <td> -105.043</td> <td>   30.899</td>\n",
       "</tr>\n",
       "<tr>\n",
       "  <th>ScreenPorch</th>   <td>   49.1392</td> <td>   19.500</td> <td>    2.520</td> <td> 0.012</td> <td>   10.879</td> <td>   87.399</td>\n",
       "</tr>\n",
       "<tr>\n",
       "  <th>PoolArea</th>      <td>  -47.8834</td> <td>   24.393</td> <td>   -1.963</td> <td> 0.050</td> <td>  -95.744</td> <td>   -0.023</td>\n",
       "</tr>\n",
       "<tr>\n",
       "  <th>MiscVal</th>       <td>   -0.8504</td> <td>    1.897</td> <td>   -0.448</td> <td> 0.654</td> <td>   -4.572</td> <td>    2.871</td>\n",
       "</tr>\n",
       "<tr>\n",
       "  <th>MoSold</th>        <td>  -36.2446</td> <td>  391.852</td> <td>   -0.092</td> <td> 0.926</td> <td> -805.083</td> <td>  732.593</td>\n",
       "</tr>\n",
       "<tr>\n",
       "  <th>YrSold</th>        <td> -414.8013</td> <td>  805.041</td> <td>   -0.515</td> <td> 0.606</td> <td>-1994.341</td> <td> 1164.739</td>\n",
       "</tr>\n",
       "<tr>\n",
       "  <th>SaleCondBin</th>   <td>-7830.9792</td> <td> 2830.157</td> <td>   -2.767</td> <td> 0.006</td> <td>-1.34e+04</td> <td>-2278.036</td>\n",
       "</tr>\n",
       "</table>\n",
       "<table class=\"simpletable\">\n",
       "<tr>\n",
       "  <th>Omnibus:</th>       <td>457.477</td> <th>  Durbin-Watson:     </th> <td>   2.007</td> \n",
       "</tr>\n",
       "<tr>\n",
       "  <th>Prob(Omnibus):</th> <td> 0.000</td>  <th>  Jarque-Bera (JB):  </th> <td>94409.153</td>\n",
       "</tr>\n",
       "<tr>\n",
       "  <th>Skew:</th>          <td>-0.598</td>  <th>  Prob(JB):          </th> <td>    0.00</td> \n",
       "</tr>\n",
       "<tr>\n",
       "  <th>Kurtosis:</th>      <td>47.028</td>  <th>  Cond. No.          </th> <td>1.08e+16</td> \n",
       "</tr>\n",
       "</table><br/><br/>Warnings:<br/>[1] Standard Errors assume that the covariance matrix of the errors is correctly specified.<br/>[2] The smallest eigenvalue is 1.15e-21. This might indicate that there are<br/>strong multicollinearity problems or that the design matrix is singular."
      ],
      "text/plain": [
       "<class 'statsmodels.iolib.summary.Summary'>\n",
       "\"\"\"\n",
       "                            OLS Regression Results                            \n",
       "==============================================================================\n",
       "Dep. Variable:              SalePrice   R-squared:                       0.818\n",
       "Model:                            OLS   Adj. R-squared:                  0.812\n",
       "Method:                 Least Squares   F-statistic:                     145.4\n",
       "Date:                Thu, 19 Sep 2019   Prob (F-statistic):               0.00\n",
       "Time:                        12:40:38   Log-Likelihood:                -13863.\n",
       "No. Observations:                1168   AIC:                         2.780e+04\n",
       "Df Residuals:                    1132   BIC:                         2.798e+04\n",
       "Df Model:                          35                                         \n",
       "Covariance Type:            nonrobust                                         \n",
       "=================================================================================\n",
       "                    coef    std err          t      P>|t|      [0.025      0.975]\n",
       "---------------------------------------------------------------------------------\n",
       "Intercept      1.811e+05   1026.868    176.408      0.000    1.79e+05    1.83e+05\n",
       "Id               -3.6071      2.458     -1.468      0.143      -8.430       1.216\n",
       "MSSubClass     -188.4100     31.326     -6.015      0.000    -249.873    -126.947\n",
       "LotFrontage     -50.8861     57.082     -0.891      0.373    -162.885      61.113\n",
       "LotArea           0.4397      0.107      4.102      0.000       0.229       0.650\n",
       "OverallQual    1.817e+04   1369.339     13.270      0.000    1.55e+04    2.09e+04\n",
       "OverallCond    5343.0225   1176.081      4.543      0.000    3035.479    7650.566\n",
       "YearBuilt       383.1520     77.523      4.942      0.000     231.048     535.256\n",
       "YearRemodAdd    116.0730     77.383      1.500      0.134     -35.757     267.903\n",
       "BsmtFinSF1       12.2008      2.812      4.338      0.000       6.683      17.719\n",
       "BsmtFinSF2       -4.0490      5.063     -0.800      0.424     -13.982       5.884\n",
       "BsmtUnfSF        -1.1291      2.763     -0.409      0.683      -6.550       4.292\n",
       "TotalBsmtSF       7.0227      3.767      1.864      0.063      -0.368      14.414\n",
       "FstFlrSF         31.6459      7.332      4.316      0.000      17.259      46.032\n",
       "SndFlrSF         29.8592      6.747      4.426      0.000      16.621      43.097\n",
       "LowQualFinSF    -31.8549     18.034     -1.766      0.078     -67.238       3.528\n",
       "GrLivArea        29.6501      6.792      4.365      0.000      16.324      42.977\n",
       "BsmtFullBath   8659.0525   3026.380      2.861      0.004    2721.107    1.46e+04\n",
       "BsmtHalfBath   -234.5311   4666.248     -0.050      0.960   -9389.998    8920.936\n",
       "FullBath       2062.4419   3231.051      0.638      0.523   -4277.079    8401.963\n",
       "HalfBath      -2810.4183   3018.147     -0.931      0.352   -8732.209    3111.373\n",
       "BedroomAbvGr  -1.192e+04   1908.112     -6.245      0.000   -1.57e+04   -8171.753\n",
       "KitchenAbvGr  -1.342e+04   5806.982     -2.310      0.021   -2.48e+04   -2021.363\n",
       "TotRmsAbvGrd   5218.8877   1378.723      3.785      0.000    2513.748    7924.027\n",
       "Fireplaces      996.0531   2031.080      0.490      0.624   -2989.051    4981.157\n",
       "GarageYrBlt     -10.2287     82.947     -0.123      0.902    -172.976     152.518\n",
       "GarageCars     1.313e+04   3292.299      3.989      0.000    6673.849    1.96e+04\n",
       "GarageArea      -12.3782     11.640     -1.063      0.288     -35.216      10.460\n",
       "WoodDeckSF       25.2124      9.050      2.786      0.005       7.456      42.969\n",
       "OpenPorchSF       2.8675     16.959      0.169      0.866     -30.407      36.142\n",
       "EnclosedPorch     5.7508     18.890      0.304      0.761     -31.313      42.815\n",
       "TrdSsnPorch     -37.0720     34.643     -1.070      0.285    -105.043      30.899\n",
       "ScreenPorch      49.1392     19.500      2.520      0.012      10.879      87.399\n",
       "PoolArea        -47.8834     24.393     -1.963      0.050     -95.744      -0.023\n",
       "MiscVal          -0.8504      1.897     -0.448      0.654      -4.572       2.871\n",
       "MoSold          -36.2446    391.852     -0.092      0.926    -805.083     732.593\n",
       "YrSold         -414.8013    805.041     -0.515      0.606   -1994.341    1164.739\n",
       "SaleCondBin   -7830.9792   2830.157     -2.767      0.006   -1.34e+04   -2278.036\n",
       "==============================================================================\n",
       "Omnibus:                      457.477   Durbin-Watson:                   2.007\n",
       "Prob(Omnibus):                  0.000   Jarque-Bera (JB):            94409.153\n",
       "Skew:                          -0.598   Prob(JB):                         0.00\n",
       "Kurtosis:                      47.028   Cond. No.                     1.08e+16\n",
       "==============================================================================\n",
       "\n",
       "Warnings:\n",
       "[1] Standard Errors assume that the covariance matrix of the errors is correctly specified.\n",
       "[2] The smallest eigenvalue is 1.15e-21. This might indicate that there are\n",
       "strong multicollinearity problems or that the design matrix is singular.\n",
       "\"\"\""
      ]
     },
     "execution_count": 657,
     "metadata": {},
     "output_type": "execute_result"
    }
   ],
   "source": [
    "import statsmodels.formula.api as smf\n",
    "multi_reg_model = smf.ols(formula = 'SalePrice~'+ formula_input_feature,data=c_numerical_feature).fit()\n",
    "multi_reg_model.summary()"
   ]
  },
  {
   "cell_type": "code",
   "execution_count": 755,
   "metadata": {},
   "outputs": [
    {
     "data": {
      "text/plain": [
       "<bound method Series.sort_values of Intercept        0.000000e+00\n",
       "OverallQual      1.851839e-37\n",
       "BedroomAbvGr     5.995955e-10\n",
       "MSSubClass       2.431262e-09\n",
       "YearBuilt        8.877567e-07\n",
       "OverallCond      6.138255e-06\n",
       "SndFlrSF         1.054357e-05\n",
       "GrLivArea        1.385163e-05\n",
       "BsmtFinSF1       1.565078e-05\n",
       "FstFlrSF         1.728556e-05\n",
       "LotArea          4.384339e-05\n",
       "GarageCars       7.056278e-05\n",
       "TotRmsAbvGrd     1.615704e-04\n",
       "BsmtFullBath     4.298155e-03\n",
       "WoodDeckSF       5.426144e-03\n",
       "SaleCondBin      5.750028e-03\n",
       "ScreenPorch      1.187316e-02\n",
       "KitchenAbvGr     2.105880e-02\n",
       "PoolArea         4.989094e-02\n",
       "TotalBsmtSF      6.253870e-02\n",
       "LowQualFinSF     7.759675e-02\n",
       "YearRemodAdd     1.338970e-01\n",
       "Id               1.425146e-01\n",
       "TrdSsnPorch      2.847903e-01\n",
       "GarageArea       2.878141e-01\n",
       "HalfBath         3.519624e-01\n",
       "LotFrontage      3.728761e-01\n",
       "BsmtFinSF2       4.240080e-01\n",
       "FullBath         5.233950e-01\n",
       "YrSold           6.064755e-01\n",
       "Fireplaces       6.239419e-01\n",
       "MiscVal          6.540056e-01\n",
       "BsmtUnfSF        6.828929e-01\n",
       "EnclosedPorch    7.608565e-01\n",
       "OpenPorchSF      8.657593e-01\n",
       "GarageYrBlt      9.018786e-01\n",
       "MoSold           9.263206e-01\n",
       "BsmtHalfBath     9.599231e-01\n",
       "dtype: float64>"
      ]
     },
     "execution_count": 755,
     "metadata": {},
     "output_type": "execute_result"
    }
   ],
   "source": [
    "multi_reg_model.pvalues.sort_values"
   ]
  },
  {
   "cell_type": "markdown",
   "metadata": {},
   "source": [
    "Feature Selection"
   ]
  },
  {
   "cell_type": "code",
   "execution_count": 698,
   "metadata": {},
   "outputs": [],
   "source": [
    "sorted_pvalues=multi_reg_model.pvalues.sort_values(ascending=True)"
   ]
  },
  {
   "cell_type": "code",
   "execution_count": 734,
   "metadata": {},
   "outputs": [
    {
     "data": {
      "text/plain": [
       "'Id+MSSubClass+LotFrontage+LotArea+OverallQual+OverallCond+YearBuilt+YearRemodAdd+BsmtFinSF1+BsmtFinSF2+BsmtUnfSF+TotalBsmtSF+FstFlrSF+SndFlrSF+LowQualFinSF+GrLivArea+BsmtFullBath+BsmtHalfBath+FullBath+HalfBath+BedroomAbvGr+KitchenAbvGr+TotRmsAbvGrd+Fireplaces+GarageYrBlt+GarageCars+GarageArea+WoodDeckSF+OpenPorchSF+EnclosedPorch+TrdSsnPorch+ScreenPorch+PoolArea+MiscVal+MoSold+YrSold+SaleCondBin'"
      ]
     },
     "execution_count": 734,
     "metadata": {},
     "output_type": "execute_result"
    }
   ],
   "source": [
    "formula_input_feature"
   ]
  },
  {
   "cell_type": "code",
   "execution_count": 758,
   "metadata": {},
   "outputs": [],
   "source": [
    "def buildmodel (df,numerical_feature):\n",
    "    formula_input_feature = '+'.join(numerical_feature)\n",
    "    c_number_feature = housing_train_set[numerical_feature]-housing_train_set[numerical_feature].mean()\n",
    "    c_number_feature['SalePrice']=housing_train_set['SalePrice']\n",
    "    multi_reg_model = smf.ols(formula ='SalePrice~'+ formula_input_feature,data =c_number_feature).fit()\n",
    "    return multi_reg_model\n",
    "\n",
    "def backwordselection (df,numerical_feature):\n",
    "    for i in range(len(numerical_feature[:])):\n",
    "        multi_reg_model = buildmodel(df,numerical_feature)\n",
    "        sorted_pvalues = multi_reg_model.pvalues.sort_values(ascending=False)\n",
    "        sorted_pvalues.drop('Intercept',inplace=True)\n",
    "        #print(sorted_pvalues)\n",
    "        if (sorted_pvalues[0]>0.05):\n",
    "           # print(sorted_pvalues[0])\n",
    "            drop_feature=sorted_pvalues.index.values[0]\n",
    "            sorted_pvalues.drop(drop_feature,inplace=True)\n",
    "            numerical_feature=sorted_pvalues.index.values\n",
    "        else:\n",
    "            break\n",
    "    return numerical_feature,multi_reg_model\n",
    "        "
   ]
  },
  {
   "cell_type": "code",
   "execution_count": 759,
   "metadata": {},
   "outputs": [
    {
     "name": "stdout",
     "output_type": "stream",
     "text": [
      "['PoolArea' 'KitchenAbvGr' 'SndFlrSF' 'ScreenPorch' 'FstFlrSF'\n",
      " 'SaleCondBin' 'WoodDeckSF' 'BsmtFullBath' 'TotRmsAbvGrd' 'BsmtFinSF1'\n",
      " 'LotArea' 'GarageCars' 'OverallCond' 'MSSubClass' 'BedroomAbvGr'\n",
      " 'YearBuilt' 'OverallQual']\n",
      "                            OLS Regression Results                            \n",
      "==============================================================================\n",
      "Dep. Variable:              SalePrice   R-squared:                       0.816\n",
      "Model:                            OLS   Adj. R-squared:                  0.813\n",
      "Method:                 Least Squares   F-statistic:                     299.9\n",
      "Date:                Thu, 19 Sep 2019   Prob (F-statistic):               0.00\n",
      "Time:                        14:42:29   Log-Likelihood:                -13870.\n",
      "No. Observations:                1168   AIC:                         2.778e+04\n",
      "Df Residuals:                    1150   BIC:                         2.787e+04\n",
      "Df Model:                          17                                         \n",
      "Covariance Type:            nonrobust                                         \n",
      "================================================================================\n",
      "                   coef    std err          t      P>|t|      [0.025      0.975]\n",
      "--------------------------------------------------------------------------------\n",
      "Intercept     1.811e+05   1024.749    176.773      0.000    1.79e+05    1.83e+05\n",
      "PoolArea       -53.7662     23.742     -2.265      0.024    -100.349      -7.183\n",
      "KitchenAbvGr -1.337e+04   5542.903     -2.412      0.016   -2.42e+04   -2493.120\n",
      "SndFlrSF        58.3787      4.530     12.886      0.000      49.490      67.268\n",
      "ScreenPorch     47.0669     18.862      2.495      0.013      10.059      84.075\n",
      "FstFlrSF        65.9361      5.023     13.126      0.000      56.080      75.792\n",
      "SaleCondBin  -8398.2289   2772.628     -3.029      0.003   -1.38e+04   -2958.253\n",
      "WoodDeckSF      27.0861      8.816      3.072      0.002       9.789      44.383\n",
      "BsmtFullBath  8589.1341   2683.797      3.200      0.001    3323.446    1.39e+04\n",
      "TotRmsAbvGrd  5131.0173   1354.934      3.787      0.000    2472.598    7789.436\n",
      "BsmtFinSF1      13.0182      3.291      3.956      0.000       6.562      19.474\n",
      "LotArea          0.4369      0.103      4.228      0.000       0.234       0.640\n",
      "GarageCars     1.01e+04   1904.474      5.305      0.000    6367.096    1.38e+04\n",
      "OverallCond   5773.0210   1031.948      5.594      0.000    3748.310    7797.732\n",
      "MSSubClass    -174.5443     29.022     -6.014      0.000    -231.487    -117.602\n",
      "BedroomAbvGr   -1.2e+04   1827.645     -6.568      0.000   -1.56e+04   -8418.959\n",
      "YearBuilt      412.5646     49.974      8.256      0.000     314.513     510.616\n",
      "OverallQual   1.936e+04   1266.007     15.295      0.000    1.69e+04    2.18e+04\n",
      "==============================================================================\n",
      "Omnibus:                      477.508   Durbin-Watson:                   2.016\n",
      "Prob(Omnibus):                  0.000   Jarque-Bera (JB):            98802.341\n",
      "Skew:                          -0.693   Prob(JB):                         0.00\n",
      "Kurtosis:                      48.036   Cond. No.                     5.82e+04\n",
      "==============================================================================\n",
      "\n",
      "Warnings:\n",
      "[1] Standard Errors assume that the covariance matrix of the errors is correctly specified.\n",
      "[2] The condition number is large, 5.82e+04. This might indicate that there are\n",
      "strong multicollinearity or other numerical problems.\n"
     ]
    }
   ],
   "source": [
    "numerical_feature,multi_reg_model = backwordselection(housing_train_set,numerical_feature)\n",
    "print(numerical_feature)\n",
    "print(multi_reg_model.summary())"
   ]
  },
  {
   "cell_type": "code",
   "execution_count": 768,
   "metadata": {},
   "outputs": [
    {
     "data": {
      "text/plain": [
       "1168"
      ]
     },
     "execution_count": 768,
     "metadata": {},
     "output_type": "execute_result"
    }
   ],
   "source": [
    "housing_train_set.MSZoning.shape[0]"
   ]
  },
  {
   "cell_type": "code",
   "execution_count": 770,
   "metadata": {},
   "outputs": [
    {
     "data": {
      "text/plain": [
       "RL         921\n",
       "RM         171\n",
       "FV          52\n",
       "RH          14\n",
       "C (all)     10\n",
       "Name: MSZoning, dtype: int64"
      ]
     },
     "execution_count": 770,
     "metadata": {},
     "output_type": "execute_result"
    }
   ],
   "source": [
    "housing_train_set.MSZoning.value_counts()"
   ]
  },
  {
   "cell_type": "code",
   "execution_count": 784,
   "metadata": {},
   "outputs": [
    {
     "data": {
      "text/plain": [
       "7       C (all)\n",
       "279     C (all)\n",
       "417     C (all)\n",
       "463     C (all)\n",
       "806     C (all)\n",
       "815     C (all)\n",
       "989     C (all)\n",
       "1033    C (all)\n",
       "1041    C (all)\n",
       "1144    C (all)\n",
       "Name: MSZoning, dtype: object"
      ]
     },
     "execution_count": 784,
     "metadata": {},
     "output_type": "execute_result"
    }
   ],
   "source": [
    "housing_train_set[housing_train_set['MSZoning'].isin(['C (all)'])]['MSZoning']"
   ]
  },
  {
   "cell_type": "code",
   "execution_count": 785,
   "metadata": {},
   "outputs": [],
   "source": [
    "lst_mszoning_cat = ['A','C','FV','I','RH','RL','RP','RM']"
   ]
  },
  {
   "cell_type": "code",
   "execution_count": 787,
   "metadata": {},
   "outputs": [
    {
     "data": {
      "text/plain": [
       "7       C (all)\n",
       "279     C (all)\n",
       "417     C (all)\n",
       "463     C (all)\n",
       "806     C (all)\n",
       "815     C (all)\n",
       "989     C (all)\n",
       "1033    C (all)\n",
       "1041    C (all)\n",
       "1144    C (all)\n",
       "Name: MSZoning, dtype: object"
      ]
     },
     "execution_count": 787,
     "metadata": {},
     "output_type": "execute_result"
    }
   ],
   "source": [
    "housing_train_set[~housing_train_set.MSZoning.isin(lst_mszoning_cat)]['MSZoning']"
   ]
  },
  {
   "cell_type": "code",
   "execution_count": 789,
   "metadata": {},
   "outputs": [],
   "source": [
    "housing_train_set.loc[housing_train_set[~housing_train_set.MSZoning.isin(lst_mszoning_cat)].index, 'MSZoning']='C'"
   ]
  },
  {
   "cell_type": "code",
   "execution_count": 791,
   "metadata": {},
   "outputs": [
    {
     "data": {
      "text/plain": [
       "7       C\n",
       "279     C\n",
       "417     C\n",
       "463     C\n",
       "806     C\n",
       "815     C\n",
       "989     C\n",
       "1033    C\n",
       "1041    C\n",
       "1144    C\n",
       "Name: MSZoning, dtype: object"
      ]
     },
     "execution_count": 791,
     "metadata": {},
     "output_type": "execute_result"
    }
   ],
   "source": [
    "housing_train_set[housing_train_set.MSZoning.isin(['C'])]['MSZoning']"
   ]
  },
  {
   "cell_type": "code",
   "execution_count": 792,
   "metadata": {},
   "outputs": [
    {
     "data": {
      "text/html": [
       "<div>\n",
       "<style scoped>\n",
       "    .dataframe tbody tr th:only-of-type {\n",
       "        vertical-align: middle;\n",
       "    }\n",
       "\n",
       "    .dataframe tbody tr th {\n",
       "        vertical-align: top;\n",
       "    }\n",
       "\n",
       "    .dataframe thead th {\n",
       "        text-align: right;\n",
       "    }\n",
       "</style>\n",
       "<table border=\"1\" class=\"dataframe\">\n",
       "  <thead>\n",
       "    <tr style=\"text-align: right;\">\n",
       "      <th></th>\n",
       "      <th>Id</th>\n",
       "      <th>MSSubClass</th>\n",
       "      <th>MSZoning</th>\n",
       "      <th>LotFrontage</th>\n",
       "      <th>LotArea</th>\n",
       "      <th>Street</th>\n",
       "      <th>LotShape</th>\n",
       "      <th>LandContour</th>\n",
       "      <th>Utilities</th>\n",
       "      <th>LotConfig</th>\n",
       "      <th>...</th>\n",
       "      <th>ScreenPorch</th>\n",
       "      <th>PoolArea</th>\n",
       "      <th>MiscVal</th>\n",
       "      <th>MoSold</th>\n",
       "      <th>YrSold</th>\n",
       "      <th>SaleType</th>\n",
       "      <th>SaleCondition</th>\n",
       "      <th>SalePrice</th>\n",
       "      <th>SaleCondBin</th>\n",
       "      <th>MapSubClass</th>\n",
       "    </tr>\n",
       "  </thead>\n",
       "  <tbody>\n",
       "    <tr>\n",
       "      <th>7</th>\n",
       "      <td>558</td>\n",
       "      <td>50</td>\n",
       "      <td>C</td>\n",
       "      <td>60.0</td>\n",
       "      <td>11040</td>\n",
       "      <td>Pave</td>\n",
       "      <td>Reg</td>\n",
       "      <td>Low</td>\n",
       "      <td>AllPub</td>\n",
       "      <td>Inside</td>\n",
       "      <td>...</td>\n",
       "      <td>0</td>\n",
       "      <td>0</td>\n",
       "      <td>0</td>\n",
       "      <td>9</td>\n",
       "      <td>2006</td>\n",
       "      <td>COD</td>\n",
       "      <td>Normal</td>\n",
       "      <td>108000</td>\n",
       "      <td>1</td>\n",
       "      <td>1,5 Story Finished</td>\n",
       "    </tr>\n",
       "    <tr>\n",
       "      <th>279</th>\n",
       "      <td>917</td>\n",
       "      <td>20</td>\n",
       "      <td>C</td>\n",
       "      <td>50.0</td>\n",
       "      <td>9000</td>\n",
       "      <td>Pave</td>\n",
       "      <td>Reg</td>\n",
       "      <td>Lvl</td>\n",
       "      <td>AllPub</td>\n",
       "      <td>Inside</td>\n",
       "      <td>...</td>\n",
       "      <td>0</td>\n",
       "      <td>0</td>\n",
       "      <td>0</td>\n",
       "      <td>10</td>\n",
       "      <td>2006</td>\n",
       "      <td>WD</td>\n",
       "      <td>Abnorml</td>\n",
       "      <td>35311</td>\n",
       "      <td>0</td>\n",
       "      <td>1 Story 1964</td>\n",
       "    </tr>\n",
       "    <tr>\n",
       "      <th>417</th>\n",
       "      <td>31</td>\n",
       "      <td>70</td>\n",
       "      <td>C</td>\n",
       "      <td>50.0</td>\n",
       "      <td>8500</td>\n",
       "      <td>Pave</td>\n",
       "      <td>Reg</td>\n",
       "      <td>Lvl</td>\n",
       "      <td>AllPub</td>\n",
       "      <td>Inside</td>\n",
       "      <td>...</td>\n",
       "      <td>0</td>\n",
       "      <td>0</td>\n",
       "      <td>0</td>\n",
       "      <td>7</td>\n",
       "      <td>2008</td>\n",
       "      <td>WD</td>\n",
       "      <td>Normal</td>\n",
       "      <td>40000</td>\n",
       "      <td>1</td>\n",
       "      <td>2 1945</td>\n",
       "    </tr>\n",
       "    <tr>\n",
       "      <th>463</th>\n",
       "      <td>813</td>\n",
       "      <td>20</td>\n",
       "      <td>C</td>\n",
       "      <td>66.0</td>\n",
       "      <td>8712</td>\n",
       "      <td>Grvl</td>\n",
       "      <td>Reg</td>\n",
       "      <td>Bnk</td>\n",
       "      <td>AllPub</td>\n",
       "      <td>Inside</td>\n",
       "      <td>...</td>\n",
       "      <td>0</td>\n",
       "      <td>0</td>\n",
       "      <td>54</td>\n",
       "      <td>6</td>\n",
       "      <td>2010</td>\n",
       "      <td>WD</td>\n",
       "      <td>Alloca</td>\n",
       "      <td>55993</td>\n",
       "      <td>0</td>\n",
       "      <td>1 Story 1964</td>\n",
       "    </tr>\n",
       "    <tr>\n",
       "      <th>806</th>\n",
       "      <td>89</td>\n",
       "      <td>50</td>\n",
       "      <td>C</td>\n",
       "      <td>105.0</td>\n",
       "      <td>8470</td>\n",
       "      <td>Pave</td>\n",
       "      <td>IR1</td>\n",
       "      <td>Lvl</td>\n",
       "      <td>AllPub</td>\n",
       "      <td>Corner</td>\n",
       "      <td>...</td>\n",
       "      <td>0</td>\n",
       "      <td>0</td>\n",
       "      <td>0</td>\n",
       "      <td>10</td>\n",
       "      <td>2009</td>\n",
       "      <td>ConLD</td>\n",
       "      <td>Abnorml</td>\n",
       "      <td>85000</td>\n",
       "      <td>0</td>\n",
       "      <td>1,5 Story Finished</td>\n",
       "    </tr>\n",
       "    <tr>\n",
       "      <th>815</th>\n",
       "      <td>496</td>\n",
       "      <td>30</td>\n",
       "      <td>C</td>\n",
       "      <td>60.0</td>\n",
       "      <td>7879</td>\n",
       "      <td>Pave</td>\n",
       "      <td>Reg</td>\n",
       "      <td>Lvl</td>\n",
       "      <td>AllPub</td>\n",
       "      <td>Inside</td>\n",
       "      <td>...</td>\n",
       "      <td>0</td>\n",
       "      <td>0</td>\n",
       "      <td>0</td>\n",
       "      <td>11</td>\n",
       "      <td>2009</td>\n",
       "      <td>WD</td>\n",
       "      <td>Abnorml</td>\n",
       "      <td>34900</td>\n",
       "      <td>0</td>\n",
       "      <td>1 story 1945</td>\n",
       "    </tr>\n",
       "    <tr>\n",
       "      <th>989</th>\n",
       "      <td>94</td>\n",
       "      <td>190</td>\n",
       "      <td>C</td>\n",
       "      <td>60.0</td>\n",
       "      <td>7200</td>\n",
       "      <td>Pave</td>\n",
       "      <td>Reg</td>\n",
       "      <td>Lvl</td>\n",
       "      <td>AllPub</td>\n",
       "      <td>Corner</td>\n",
       "      <td>...</td>\n",
       "      <td>99</td>\n",
       "      <td>0</td>\n",
       "      <td>0</td>\n",
       "      <td>11</td>\n",
       "      <td>2007</td>\n",
       "      <td>WD</td>\n",
       "      <td>Normal</td>\n",
       "      <td>133900</td>\n",
       "      <td>1</td>\n",
       "      <td>Family</td>\n",
       "    </tr>\n",
       "    <tr>\n",
       "      <th>1033</th>\n",
       "      <td>712</td>\n",
       "      <td>50</td>\n",
       "      <td>C</td>\n",
       "      <td>66.0</td>\n",
       "      <td>8712</td>\n",
       "      <td>Pave</td>\n",
       "      <td>Reg</td>\n",
       "      <td>HLS</td>\n",
       "      <td>AllPub</td>\n",
       "      <td>Inside</td>\n",
       "      <td>...</td>\n",
       "      <td>0</td>\n",
       "      <td>0</td>\n",
       "      <td>0</td>\n",
       "      <td>1</td>\n",
       "      <td>2010</td>\n",
       "      <td>WD</td>\n",
       "      <td>Abnorml</td>\n",
       "      <td>102776</td>\n",
       "      <td>0</td>\n",
       "      <td>1,5 Story Finished</td>\n",
       "    </tr>\n",
       "    <tr>\n",
       "      <th>1041</th>\n",
       "      <td>1062</td>\n",
       "      <td>30</td>\n",
       "      <td>C</td>\n",
       "      <td>120.0</td>\n",
       "      <td>18000</td>\n",
       "      <td>Grvl</td>\n",
       "      <td>Reg</td>\n",
       "      <td>Low</td>\n",
       "      <td>AllPub</td>\n",
       "      <td>Inside</td>\n",
       "      <td>...</td>\n",
       "      <td>0</td>\n",
       "      <td>0</td>\n",
       "      <td>560</td>\n",
       "      <td>8</td>\n",
       "      <td>2008</td>\n",
       "      <td>ConLD</td>\n",
       "      <td>Normal</td>\n",
       "      <td>81000</td>\n",
       "      <td>1</td>\n",
       "      <td>1 story 1945</td>\n",
       "    </tr>\n",
       "    <tr>\n",
       "      <th>1144</th>\n",
       "      <td>1280</td>\n",
       "      <td>50</td>\n",
       "      <td>C</td>\n",
       "      <td>60.0</td>\n",
       "      <td>7500</td>\n",
       "      <td>Pave</td>\n",
       "      <td>Reg</td>\n",
       "      <td>Lvl</td>\n",
       "      <td>AllPub</td>\n",
       "      <td>Inside</td>\n",
       "      <td>...</td>\n",
       "      <td>0</td>\n",
       "      <td>0</td>\n",
       "      <td>0</td>\n",
       "      <td>4</td>\n",
       "      <td>2010</td>\n",
       "      <td>COD</td>\n",
       "      <td>Abnorml</td>\n",
       "      <td>68400</td>\n",
       "      <td>0</td>\n",
       "      <td>1,5 Story Finished</td>\n",
       "    </tr>\n",
       "  </tbody>\n",
       "</table>\n",
       "<p>10 rows × 77 columns</p>\n",
       "</div>"
      ],
      "text/plain": [
       "        Id  MSSubClass MSZoning  LotFrontage  LotArea Street LotShape  \\\n",
       "7      558          50        C         60.0    11040   Pave      Reg   \n",
       "279    917          20        C         50.0     9000   Pave      Reg   \n",
       "417     31          70        C         50.0     8500   Pave      Reg   \n",
       "463    813          20        C         66.0     8712   Grvl      Reg   \n",
       "806     89          50        C        105.0     8470   Pave      IR1   \n",
       "815    496          30        C         60.0     7879   Pave      Reg   \n",
       "989     94         190        C         60.0     7200   Pave      Reg   \n",
       "1033   712          50        C         66.0     8712   Pave      Reg   \n",
       "1041  1062          30        C        120.0    18000   Grvl      Reg   \n",
       "1144  1280          50        C         60.0     7500   Pave      Reg   \n",
       "\n",
       "     LandContour Utilities LotConfig         ...         ScreenPorch PoolArea  \\\n",
       "7            Low    AllPub    Inside         ...                   0        0   \n",
       "279          Lvl    AllPub    Inside         ...                   0        0   \n",
       "417          Lvl    AllPub    Inside         ...                   0        0   \n",
       "463          Bnk    AllPub    Inside         ...                   0        0   \n",
       "806          Lvl    AllPub    Corner         ...                   0        0   \n",
       "815          Lvl    AllPub    Inside         ...                   0        0   \n",
       "989          Lvl    AllPub    Corner         ...                  99        0   \n",
       "1033         HLS    AllPub    Inside         ...                   0        0   \n",
       "1041         Low    AllPub    Inside         ...                   0        0   \n",
       "1144         Lvl    AllPub    Inside         ...                   0        0   \n",
       "\n",
       "     MiscVal MoSold YrSold SaleType  SaleCondition  SalePrice  SaleCondBin  \\\n",
       "7          0      9   2006      COD         Normal     108000            1   \n",
       "279        0     10   2006       WD        Abnorml      35311            0   \n",
       "417        0      7   2008       WD         Normal      40000            1   \n",
       "463       54      6   2010       WD         Alloca      55993            0   \n",
       "806        0     10   2009    ConLD        Abnorml      85000            0   \n",
       "815        0     11   2009       WD        Abnorml      34900            0   \n",
       "989        0     11   2007       WD         Normal     133900            1   \n",
       "1033       0      1   2010       WD        Abnorml     102776            0   \n",
       "1041     560      8   2008    ConLD         Normal      81000            1   \n",
       "1144       0      4   2010      COD        Abnorml      68400            0   \n",
       "\n",
       "             MapSubClass  \n",
       "7     1,5 Story Finished  \n",
       "279         1 Story 1964  \n",
       "417               2 1945  \n",
       "463         1 Story 1964  \n",
       "806   1,5 Story Finished  \n",
       "815         1 story 1945  \n",
       "989               Family  \n",
       "1033  1,5 Story Finished  \n",
       "1041        1 story 1945  \n",
       "1144  1,5 Story Finished  \n",
       "\n",
       "[10 rows x 77 columns]"
      ]
     },
     "execution_count": 792,
     "metadata": {},
     "output_type": "execute_result"
    }
   ],
   "source": [
    "housing_train_set[housing_train_set.MSZoning == 'C']"
   ]
  },
  {
   "cell_type": "code",
   "execution_count": 804,
   "metadata": {},
   "outputs": [
    {
     "data": {
      "text/plain": [
       "RL    921\n",
       "RM    171\n",
       "FV     52\n",
       "RH     14\n",
       "C      10\n",
       "RP      0\n",
       "I       0\n",
       "A       0\n",
       "Name: MSZoning, dtype: int64"
      ]
     },
     "execution_count": 804,
     "metadata": {},
     "output_type": "execute_result"
    }
   ],
   "source": [
    "housing_train_set['MSZoning'] = pd.Categorical(housing_train_set['MSZoning'],categories=lst_mszoning_cat)\n",
    "housing_train_set.MSZoning.value_counts()"
   ]
  },
  {
   "cell_type": "code",
   "execution_count": 803,
   "metadata": {},
   "outputs": [
    {
     "data": {
      "text/plain": [
       "1168"
      ]
     },
     "execution_count": 803,
     "metadata": {},
     "output_type": "execute_result"
    }
   ],
   "source": [
    "housing_train_set.MSZoning.count()"
   ]
  },
  {
   "cell_type": "code",
   "execution_count": 801,
   "metadata": {},
   "outputs": [
    {
     "data": {
      "text/plain": [
       "Series([], Name: MSZoning, dtype: category\n",
       "Categories (8, object): [A, C, FV, I, RH, RL, RP, RM])"
      ]
     },
     "execution_count": 801,
     "metadata": {},
     "output_type": "execute_result"
    }
   ],
   "source": [
    "housing_train_set[housing_train_set.MSZoning.isnull()]['MSZoning']"
   ]
  },
  {
   "cell_type": "code",
   "execution_count": 809,
   "metadata": {},
   "outputs": [
    {
     "data": {
      "text/plain": [
       "5    921\n",
       "7    171\n",
       "2     52\n",
       "4     14\n",
       "1     10\n",
       "Name: MSZoning_cat, dtype: int64"
      ]
     },
     "execution_count": 809,
     "metadata": {},
     "output_type": "execute_result"
    }
   ],
   "source": [
    "housing_train_set['MSZoning_cat']=housing_train_set.MSZoning.cat.codes\n",
    "housing_train_set.MSZoning_cat.value_counts()"
   ]
  },
  {
   "cell_type": "code",
   "execution_count": 814,
   "metadata": {},
   "outputs": [
    {
     "data": {
      "text/plain": [
       "Index(['A', 'C', 'FV', 'I', 'RH', 'RL', 'RP', 'RM'], dtype='object')"
      ]
     },
     "execution_count": 814,
     "metadata": {},
     "output_type": "execute_result"
    }
   ],
   "source": [
    "housing_train_set.MSZoning.cat.categories"
   ]
  },
  {
   "cell_type": "code",
   "execution_count": 816,
   "metadata": {},
   "outputs": [
    {
     "data": {
      "text/plain": [
       "RL    921\n",
       "RM    171\n",
       "FV     52\n",
       "RH     14\n",
       "C      10\n",
       "RP      0\n",
       "I       0\n",
       "A       0\n",
       "Name: MSZoning, dtype: int64"
      ]
     },
     "execution_count": 816,
     "metadata": {},
     "output_type": "execute_result"
    }
   ],
   "source": [
    "housing_train_set.MSZoning.value_counts()"
   ]
  },
  {
   "cell_type": "code",
   "execution_count": 818,
   "metadata": {},
   "outputs": [
    {
     "data": {
      "text/plain": [
       "[('A', 0),\n",
       " ('C', 1),\n",
       " ('FV', 2),\n",
       " ('I', 3),\n",
       " ('RH', 4),\n",
       " ('RL', 5),\n",
       " ('RP', 6),\n",
       " ('RM', 7)]"
      ]
     },
     "execution_count": 818,
     "metadata": {},
     "output_type": "execute_result"
    }
   ],
   "source": [
    "[(category,code) for code,category in enumerate(housing_train_set.MSZoning.cat.categories)]"
   ]
  },
  {
   "cell_type": "code",
   "execution_count": 819,
   "metadata": {},
   "outputs": [
    {
     "data": {
      "text/html": [
       "<div>\n",
       "<style scoped>\n",
       "    .dataframe tbody tr th:only-of-type {\n",
       "        vertical-align: middle;\n",
       "    }\n",
       "\n",
       "    .dataframe tbody tr th {\n",
       "        vertical-align: top;\n",
       "    }\n",
       "\n",
       "    .dataframe thead th {\n",
       "        text-align: right;\n",
       "    }\n",
       "</style>\n",
       "<table border=\"1\" class=\"dataframe\">\n",
       "  <thead>\n",
       "    <tr style=\"text-align: right;\">\n",
       "      <th></th>\n",
       "      <th>Id</th>\n",
       "      <th>MSSubClass</th>\n",
       "      <th>MSZoning</th>\n",
       "      <th>LotFrontage</th>\n",
       "      <th>LotArea</th>\n",
       "      <th>Street</th>\n",
       "      <th>LotShape</th>\n",
       "      <th>LandContour</th>\n",
       "      <th>Utilities</th>\n",
       "      <th>LotConfig</th>\n",
       "      <th>...</th>\n",
       "      <th>PoolArea</th>\n",
       "      <th>MiscVal</th>\n",
       "      <th>MoSold</th>\n",
       "      <th>YrSold</th>\n",
       "      <th>SaleType</th>\n",
       "      <th>SaleCondition</th>\n",
       "      <th>SalePrice</th>\n",
       "      <th>SaleCondBin</th>\n",
       "      <th>MapSubClass</th>\n",
       "      <th>MSZoning_cat</th>\n",
       "    </tr>\n",
       "  </thead>\n",
       "  <tbody>\n",
       "    <tr>\n",
       "      <th>0</th>\n",
       "      <td>977</td>\n",
       "      <td>30</td>\n",
       "      <td>RL</td>\n",
       "      <td>51.0</td>\n",
       "      <td>5900</td>\n",
       "      <td>Pave</td>\n",
       "      <td>IR1</td>\n",
       "      <td>Bnk</td>\n",
       "      <td>AllPub</td>\n",
       "      <td>Inside</td>\n",
       "      <td>...</td>\n",
       "      <td>0</td>\n",
       "      <td>0</td>\n",
       "      <td>8</td>\n",
       "      <td>2006</td>\n",
       "      <td>WD</td>\n",
       "      <td>Normal</td>\n",
       "      <td>85500</td>\n",
       "      <td>1</td>\n",
       "      <td>1 story 1945</td>\n",
       "      <td>5</td>\n",
       "    </tr>\n",
       "    <tr>\n",
       "      <th>1</th>\n",
       "      <td>131</td>\n",
       "      <td>60</td>\n",
       "      <td>RL</td>\n",
       "      <td>88.0</td>\n",
       "      <td>14200</td>\n",
       "      <td>Pave</td>\n",
       "      <td>Reg</td>\n",
       "      <td>Lvl</td>\n",
       "      <td>AllPub</td>\n",
       "      <td>Corner</td>\n",
       "      <td>...</td>\n",
       "      <td>0</td>\n",
       "      <td>0</td>\n",
       "      <td>5</td>\n",
       "      <td>2006</td>\n",
       "      <td>WD</td>\n",
       "      <td>Normal</td>\n",
       "      <td>226000</td>\n",
       "      <td>1</td>\n",
       "      <td>2 1946</td>\n",
       "      <td>5</td>\n",
       "    </tr>\n",
       "    <tr>\n",
       "      <th>2</th>\n",
       "      <td>342</td>\n",
       "      <td>20</td>\n",
       "      <td>RH</td>\n",
       "      <td>60.0</td>\n",
       "      <td>8400</td>\n",
       "      <td>Pave</td>\n",
       "      <td>Reg</td>\n",
       "      <td>Lvl</td>\n",
       "      <td>AllPub</td>\n",
       "      <td>Inside</td>\n",
       "      <td>...</td>\n",
       "      <td>0</td>\n",
       "      <td>0</td>\n",
       "      <td>9</td>\n",
       "      <td>2009</td>\n",
       "      <td>WD</td>\n",
       "      <td>Normal</td>\n",
       "      <td>82000</td>\n",
       "      <td>1</td>\n",
       "      <td>1 Story 1964</td>\n",
       "      <td>4</td>\n",
       "    </tr>\n",
       "    <tr>\n",
       "      <th>3</th>\n",
       "      <td>1107</td>\n",
       "      <td>20</td>\n",
       "      <td>RL</td>\n",
       "      <td>114.0</td>\n",
       "      <td>10357</td>\n",
       "      <td>Pave</td>\n",
       "      <td>IR1</td>\n",
       "      <td>Lvl</td>\n",
       "      <td>AllPub</td>\n",
       "      <td>Corner</td>\n",
       "      <td>...</td>\n",
       "      <td>0</td>\n",
       "      <td>0</td>\n",
       "      <td>5</td>\n",
       "      <td>2007</td>\n",
       "      <td>WD</td>\n",
       "      <td>Normal</td>\n",
       "      <td>179900</td>\n",
       "      <td>1</td>\n",
       "      <td>1 Story 1964</td>\n",
       "      <td>5</td>\n",
       "    </tr>\n",
       "    <tr>\n",
       "      <th>4</th>\n",
       "      <td>1325</td>\n",
       "      <td>20</td>\n",
       "      <td>RL</td>\n",
       "      <td>75.0</td>\n",
       "      <td>9986</td>\n",
       "      <td>Pave</td>\n",
       "      <td>Reg</td>\n",
       "      <td>Lvl</td>\n",
       "      <td>AllPub</td>\n",
       "      <td>Inside</td>\n",
       "      <td>...</td>\n",
       "      <td>0</td>\n",
       "      <td>0</td>\n",
       "      <td>2</td>\n",
       "      <td>2007</td>\n",
       "      <td>New</td>\n",
       "      <td>Partial</td>\n",
       "      <td>147000</td>\n",
       "      <td>0</td>\n",
       "      <td>1 Story 1964</td>\n",
       "      <td>5</td>\n",
       "    </tr>\n",
       "  </tbody>\n",
       "</table>\n",
       "<p>5 rows × 78 columns</p>\n",
       "</div>"
      ],
      "text/plain": [
       "     Id  MSSubClass MSZoning  LotFrontage  LotArea Street LotShape  \\\n",
       "0   977          30       RL         51.0     5900   Pave      IR1   \n",
       "1   131          60       RL         88.0    14200   Pave      Reg   \n",
       "2   342          20       RH         60.0     8400   Pave      Reg   \n",
       "3  1107          20       RL        114.0    10357   Pave      IR1   \n",
       "4  1325          20       RL         75.0     9986   Pave      Reg   \n",
       "\n",
       "  LandContour Utilities LotConfig      ...      PoolArea MiscVal MoSold  \\\n",
       "0         Bnk    AllPub    Inside      ...             0       0      8   \n",
       "1         Lvl    AllPub    Corner      ...             0       0      5   \n",
       "2         Lvl    AllPub    Inside      ...             0       0      9   \n",
       "3         Lvl    AllPub    Corner      ...             0       0      5   \n",
       "4         Lvl    AllPub    Inside      ...             0       0      2   \n",
       "\n",
       "  YrSold SaleType SaleCondition  SalePrice  SaleCondBin   MapSubClass  \\\n",
       "0   2006       WD        Normal      85500            1  1 story 1945   \n",
       "1   2006       WD        Normal     226000            1        2 1946   \n",
       "2   2009       WD        Normal      82000            1  1 Story 1964   \n",
       "3   2007       WD        Normal     179900            1  1 Story 1964   \n",
       "4   2007      New       Partial     147000            0  1 Story 1964   \n",
       "\n",
       "   MSZoning_cat  \n",
       "0             5  \n",
       "1             5  \n",
       "2             4  \n",
       "3             5  \n",
       "4             5  \n",
       "\n",
       "[5 rows x 78 columns]"
      ]
     },
     "execution_count": 819,
     "metadata": {},
     "output_type": "execute_result"
    }
   ],
   "source": [
    "housing_train_set.head()"
   ]
  },
  {
   "cell_type": "markdown",
   "metadata": {},
   "source": [
    "one hot encoding"
   ]
  },
  {
   "cell_type": "code",
   "execution_count": 820,
   "metadata": {},
   "outputs": [
    {
     "data": {
      "text/plain": [
       "Index(['Id', 'MSSubClass', 'MSZoning', 'LotFrontage', 'LotArea', 'Street',\n",
       "       'LotShape', 'LandContour', 'Utilities', 'LotConfig', 'LandSlope',\n",
       "       'Neighborhood', 'Condition1', 'Condition2', 'BldgType', 'HouseStyle',\n",
       "       'OverallQual', 'OverallCond', 'YearBuilt', 'YearRemodAdd', 'RoofStyle',\n",
       "       'RoofMatl', 'Exterior1st', 'Exterior2nd', 'ExterQual', 'ExterCond',\n",
       "       'Foundation', 'BsmtQual', 'BsmtCond', 'BsmtExposure', 'BsmtFinType1',\n",
       "       'BsmtFinSF1', 'BsmtFinType2', 'BsmtFinSF2', 'BsmtUnfSF', 'TotalBsmtSF',\n",
       "       'Heating', 'HeatingQC', 'CentralAir', 'Electrical', 'FstFlrSF',\n",
       "       'SndFlrSF', 'LowQualFinSF', 'GrLivArea', 'BsmtFullBath', 'BsmtHalfBath',\n",
       "       'FullBath', 'HalfBath', 'BedroomAbvGr', 'KitchenAbvGr', 'KitchenQual',\n",
       "       'TotRmsAbvGrd', 'Functional', 'Fireplaces', 'FireplaceQu', 'GarageType',\n",
       "       'GarageYrBlt', 'GarageFinish', 'GarageCars', 'GarageArea', 'GarageQual',\n",
       "       'GarageCond', 'PavedDrive', 'WoodDeckSF', 'OpenPorchSF',\n",
       "       'EnclosedPorch', 'TrdSsnPorch', 'ScreenPorch', 'PoolArea', 'MiscVal',\n",
       "       'MoSold', 'YrSold', 'SaleType', 'SaleCondition', 'SalePrice',\n",
       "       'SaleCondBin', 'MapSubClass', 'MSZoning_cat'],\n",
       "      dtype='object')"
      ]
     },
     "execution_count": 820,
     "metadata": {},
     "output_type": "execute_result"
    }
   ],
   "source": [
    "housing_train_set.columns"
   ]
  },
  {
   "cell_type": "code",
   "execution_count": 821,
   "metadata": {},
   "outputs": [
    {
     "data": {
      "text/plain": [
       "1168"
      ]
     },
     "execution_count": 821,
     "metadata": {},
     "output_type": "execute_result"
    }
   ],
   "source": [
    "housing_train_set.Neighborhood.count()"
   ]
  },
  {
   "cell_type": "code",
   "execution_count": 822,
   "metadata": {},
   "outputs": [
    {
     "data": {
      "text/plain": [
       "NAmes      180\n",
       "CollgCr    120\n",
       "OldTown     90\n",
       "Edwards     80\n",
       "Somerst     69\n",
       "Gilbert     63\n",
       "NridgHt     62\n",
       "Sawyer      59\n",
       "NWAmes      58\n",
       "SawyerW     47\n",
       "BrkSide     46\n",
       "Crawfor     41\n",
       "Mitchel     39\n",
       "NoRidge     33\n",
       "IDOTRR      30\n",
       "Timber      30\n",
       "ClearCr     22\n",
       "SWISU       20\n",
       "StoneBr     20\n",
       "Blmngtn     14\n",
       "MeadowV     14\n",
       "BrDale      13\n",
       "Veenker      9\n",
       "NPkVill      7\n",
       "Blueste      2\n",
       "Name: Neighborhood, dtype: int64"
      ]
     },
     "execution_count": 822,
     "metadata": {},
     "output_type": "execute_result"
    }
   ],
   "source": [
    "housing_train_set.Neighborhood.value_counts()"
   ]
  },
  {
   "cell_type": "markdown",
   "metadata": {},
   "source": [
    "as of now assuming the category is indpend (Norminal), applying one hot encode pandas way"
   ]
  },
  {
   "cell_type": "code",
   "execution_count": 825,
   "metadata": {},
   "outputs": [],
   "source": [
    "housing_train_set = pd.get_dummies(housing_train_set,columns=['Neighborhood'],prefix=['Neighborhood'],drop_first=True)"
   ]
  },
  {
   "cell_type": "code",
   "execution_count": 826,
   "metadata": {},
   "outputs": [
    {
     "data": {
      "text/plain": [
       "(1168, 101)"
      ]
     },
     "execution_count": 826,
     "metadata": {},
     "output_type": "execute_result"
    }
   ],
   "source": [
    "housing_train_set.shape"
   ]
  },
  {
   "cell_type": "code",
   "execution_count": 827,
   "metadata": {},
   "outputs": [
    {
     "data": {
      "text/plain": [
       "Index(['Id', 'MSSubClass', 'MSZoning', 'LotFrontage', 'LotArea', 'Street',\n",
       "       'LotShape', 'LandContour', 'Utilities', 'LotConfig',\n",
       "       ...\n",
       "       'Neighborhood_NoRidge', 'Neighborhood_NridgHt', 'Neighborhood_OldTown',\n",
       "       'Neighborhood_SWISU', 'Neighborhood_Sawyer', 'Neighborhood_SawyerW',\n",
       "       'Neighborhood_Somerst', 'Neighborhood_StoneBr', 'Neighborhood_Timber',\n",
       "       'Neighborhood_Veenker'],\n",
       "      dtype='object', length=101)"
      ]
     },
     "execution_count": 827,
     "metadata": {},
     "output_type": "execute_result"
    }
   ],
   "source": [
    "housing_train_set.columns"
   ]
  },
  {
   "cell_type": "code",
   "execution_count": 828,
   "metadata": {},
   "outputs": [
    {
     "data": {
      "text/plain": [
       "0    1135\n",
       "1      33\n",
       "Name: Neighborhood_NoRidge, dtype: int64"
      ]
     },
     "execution_count": 828,
     "metadata": {},
     "output_type": "execute_result"
    }
   ],
   "source": [
    "housing_train_set.Neighborhood_NoRidge.value_counts()"
   ]
  },
  {
   "cell_type": "code",
   "execution_count": 834,
   "metadata": {},
   "outputs": [
    {
     "data": {
      "text/plain": [
       "[['Neighborhood_Blueste',\n",
       "  'Neighborhood_BrDale',\n",
       "  'Neighborhood_BrkSide',\n",
       "  'Neighborhood_ClearCr',\n",
       "  'Neighborhood_CollgCr',\n",
       "  'Neighborhood_Crawfor',\n",
       "  'Neighborhood_Edwards',\n",
       "  'Neighborhood_Gilbert',\n",
       "  'Neighborhood_IDOTRR',\n",
       "  'Neighborhood_MeadowV',\n",
       "  'Neighborhood_Mitchel',\n",
       "  'Neighborhood_NAmes',\n",
       "  'Neighborhood_NPkVill',\n",
       "  'Neighborhood_NWAmes',\n",
       "  'Neighborhood_NoRidge',\n",
       "  'Neighborhood_NridgHt',\n",
       "  'Neighborhood_OldTown',\n",
       "  'Neighborhood_SWISU',\n",
       "  'Neighborhood_Sawyer',\n",
       "  'Neighborhood_SawyerW',\n",
       "  'Neighborhood_Somerst',\n",
       "  'Neighborhood_StoneBr',\n",
       "  'Neighborhood_Timber',\n",
       "  'Neighborhood_Veenker']]"
      ]
     },
     "execution_count": 834,
     "metadata": {},
     "output_type": "execute_result"
    }
   ],
   "source": [
    "[col for col in housing_train_set.columns if 'Neighborhood' in col]"
   ]
  },
  {
   "cell_type": "code",
   "execution_count": 833,
   "metadata": {},
   "outputs": [
    {
     "data": {
      "text/html": [
       "<div>\n",
       "<style scoped>\n",
       "    .dataframe tbody tr th:only-of-type {\n",
       "        vertical-align: middle;\n",
       "    }\n",
       "\n",
       "    .dataframe tbody tr th {\n",
       "        vertical-align: top;\n",
       "    }\n",
       "\n",
       "    .dataframe thead th {\n",
       "        text-align: right;\n",
       "    }\n",
       "</style>\n",
       "<table border=\"1\" class=\"dataframe\">\n",
       "  <thead>\n",
       "    <tr style=\"text-align: right;\">\n",
       "      <th></th>\n",
       "      <th>Neighborhood_Blueste</th>\n",
       "      <th>Neighborhood_BrDale</th>\n",
       "      <th>Neighborhood_BrkSide</th>\n",
       "      <th>Neighborhood_ClearCr</th>\n",
       "      <th>Neighborhood_CollgCr</th>\n",
       "      <th>Neighborhood_Crawfor</th>\n",
       "      <th>Neighborhood_Edwards</th>\n",
       "      <th>Neighborhood_Gilbert</th>\n",
       "      <th>Neighborhood_IDOTRR</th>\n",
       "      <th>Neighborhood_MeadowV</th>\n",
       "      <th>...</th>\n",
       "      <th>Neighborhood_NoRidge</th>\n",
       "      <th>Neighborhood_NridgHt</th>\n",
       "      <th>Neighborhood_OldTown</th>\n",
       "      <th>Neighborhood_SWISU</th>\n",
       "      <th>Neighborhood_Sawyer</th>\n",
       "      <th>Neighborhood_SawyerW</th>\n",
       "      <th>Neighborhood_Somerst</th>\n",
       "      <th>Neighborhood_StoneBr</th>\n",
       "      <th>Neighborhood_Timber</th>\n",
       "      <th>Neighborhood_Veenker</th>\n",
       "    </tr>\n",
       "  </thead>\n",
       "  <tbody>\n",
       "    <tr>\n",
       "      <th>0</th>\n",
       "      <td>0</td>\n",
       "      <td>0</td>\n",
       "      <td>1</td>\n",
       "      <td>0</td>\n",
       "      <td>0</td>\n",
       "      <td>0</td>\n",
       "      <td>0</td>\n",
       "      <td>0</td>\n",
       "      <td>0</td>\n",
       "      <td>0</td>\n",
       "      <td>...</td>\n",
       "      <td>0</td>\n",
       "      <td>0</td>\n",
       "      <td>0</td>\n",
       "      <td>0</td>\n",
       "      <td>0</td>\n",
       "      <td>0</td>\n",
       "      <td>0</td>\n",
       "      <td>0</td>\n",
       "      <td>0</td>\n",
       "      <td>0</td>\n",
       "    </tr>\n",
       "    <tr>\n",
       "      <th>1</th>\n",
       "      <td>0</td>\n",
       "      <td>0</td>\n",
       "      <td>0</td>\n",
       "      <td>0</td>\n",
       "      <td>0</td>\n",
       "      <td>0</td>\n",
       "      <td>0</td>\n",
       "      <td>0</td>\n",
       "      <td>0</td>\n",
       "      <td>0</td>\n",
       "      <td>...</td>\n",
       "      <td>0</td>\n",
       "      <td>0</td>\n",
       "      <td>0</td>\n",
       "      <td>0</td>\n",
       "      <td>0</td>\n",
       "      <td>0</td>\n",
       "      <td>0</td>\n",
       "      <td>0</td>\n",
       "      <td>0</td>\n",
       "      <td>0</td>\n",
       "    </tr>\n",
       "    <tr>\n",
       "      <th>2</th>\n",
       "      <td>0</td>\n",
       "      <td>0</td>\n",
       "      <td>0</td>\n",
       "      <td>0</td>\n",
       "      <td>0</td>\n",
       "      <td>0</td>\n",
       "      <td>0</td>\n",
       "      <td>0</td>\n",
       "      <td>0</td>\n",
       "      <td>0</td>\n",
       "      <td>...</td>\n",
       "      <td>0</td>\n",
       "      <td>0</td>\n",
       "      <td>0</td>\n",
       "      <td>0</td>\n",
       "      <td>0</td>\n",
       "      <td>1</td>\n",
       "      <td>0</td>\n",
       "      <td>0</td>\n",
       "      <td>0</td>\n",
       "      <td>0</td>\n",
       "    </tr>\n",
       "    <tr>\n",
       "      <th>3</th>\n",
       "      <td>0</td>\n",
       "      <td>0</td>\n",
       "      <td>0</td>\n",
       "      <td>0</td>\n",
       "      <td>0</td>\n",
       "      <td>0</td>\n",
       "      <td>0</td>\n",
       "      <td>0</td>\n",
       "      <td>0</td>\n",
       "      <td>0</td>\n",
       "      <td>...</td>\n",
       "      <td>0</td>\n",
       "      <td>0</td>\n",
       "      <td>0</td>\n",
       "      <td>0</td>\n",
       "      <td>0</td>\n",
       "      <td>1</td>\n",
       "      <td>0</td>\n",
       "      <td>0</td>\n",
       "      <td>0</td>\n",
       "      <td>0</td>\n",
       "    </tr>\n",
       "    <tr>\n",
       "      <th>4</th>\n",
       "      <td>0</td>\n",
       "      <td>0</td>\n",
       "      <td>0</td>\n",
       "      <td>0</td>\n",
       "      <td>0</td>\n",
       "      <td>0</td>\n",
       "      <td>0</td>\n",
       "      <td>0</td>\n",
       "      <td>0</td>\n",
       "      <td>0</td>\n",
       "      <td>...</td>\n",
       "      <td>0</td>\n",
       "      <td>0</td>\n",
       "      <td>0</td>\n",
       "      <td>0</td>\n",
       "      <td>0</td>\n",
       "      <td>0</td>\n",
       "      <td>1</td>\n",
       "      <td>0</td>\n",
       "      <td>0</td>\n",
       "      <td>0</td>\n",
       "    </tr>\n",
       "  </tbody>\n",
       "</table>\n",
       "<p>5 rows × 24 columns</p>\n",
       "</div>"
      ],
      "text/plain": [
       "   Neighborhood_Blueste  Neighborhood_BrDale  Neighborhood_BrkSide  \\\n",
       "0                     0                    0                     1   \n",
       "1                     0                    0                     0   \n",
       "2                     0                    0                     0   \n",
       "3                     0                    0                     0   \n",
       "4                     0                    0                     0   \n",
       "\n",
       "   Neighborhood_ClearCr  Neighborhood_CollgCr  Neighborhood_Crawfor  \\\n",
       "0                     0                     0                     0   \n",
       "1                     0                     0                     0   \n",
       "2                     0                     0                     0   \n",
       "3                     0                     0                     0   \n",
       "4                     0                     0                     0   \n",
       "\n",
       "   Neighborhood_Edwards  Neighborhood_Gilbert  Neighborhood_IDOTRR  \\\n",
       "0                     0                     0                    0   \n",
       "1                     0                     0                    0   \n",
       "2                     0                     0                    0   \n",
       "3                     0                     0                    0   \n",
       "4                     0                     0                    0   \n",
       "\n",
       "   Neighborhood_MeadowV          ...           Neighborhood_NoRidge  \\\n",
       "0                     0          ...                              0   \n",
       "1                     0          ...                              0   \n",
       "2                     0          ...                              0   \n",
       "3                     0          ...                              0   \n",
       "4                     0          ...                              0   \n",
       "\n",
       "   Neighborhood_NridgHt  Neighborhood_OldTown  Neighborhood_SWISU  \\\n",
       "0                     0                     0                   0   \n",
       "1                     0                     0                   0   \n",
       "2                     0                     0                   0   \n",
       "3                     0                     0                   0   \n",
       "4                     0                     0                   0   \n",
       "\n",
       "   Neighborhood_Sawyer  Neighborhood_SawyerW  Neighborhood_Somerst  \\\n",
       "0                    0                     0                     0   \n",
       "1                    0                     0                     0   \n",
       "2                    0                     1                     0   \n",
       "3                    0                     1                     0   \n",
       "4                    0                     0                     1   \n",
       "\n",
       "   Neighborhood_StoneBr  Neighborhood_Timber  Neighborhood_Veenker  \n",
       "0                     0                    0                     0  \n",
       "1                     0                    0                     0  \n",
       "2                     0                    0                     0  \n",
       "3                     0                    0                     0  \n",
       "4                     0                    0                     0  \n",
       "\n",
       "[5 rows x 24 columns]"
      ]
     },
     "execution_count": 833,
     "metadata": {},
     "output_type": "execute_result"
    }
   ],
   "source": [
    "housing_train_set[[col for col in housing_train_set.columns if 'Neighborhood' in col]].head()"
   ]
  },
  {
   "cell_type": "markdown",
   "metadata": {},
   "source": [
    "Scklearn way "
   ]
  },
  {
   "cell_type": "code",
   "execution_count": 839,
   "metadata": {},
   "outputs": [
    {
     "data": {
      "text/plain": [
       "Index(['Street', 'LotShape', 'LandContour', 'Utilities', 'LotConfig',\n",
       "       'LandSlope', 'Condition1', 'Condition2', 'BldgType', 'HouseStyle',\n",
       "       'RoofStyle', 'RoofMatl', 'Exterior1st', 'Exterior2nd', 'ExterQual',\n",
       "       'ExterCond', 'Foundation', 'BsmtQual', 'BsmtCond', 'BsmtExposure',\n",
       "       'BsmtFinType1', 'BsmtFinType2', 'Heating', 'HeatingQC', 'CentralAir',\n",
       "       'Electrical', 'KitchenQual', 'Functional', 'FireplaceQu', 'GarageType',\n",
       "       'GarageFinish', 'GarageQual', 'GarageCond', 'PavedDrive', 'SaleType',\n",
       "       'SaleCondition', 'MapSubClass'],\n",
       "      dtype='object')"
      ]
     },
     "execution_count": 839,
     "metadata": {},
     "output_type": "execute_result"
    }
   ],
   "source": [
    "housing_train_set.select_dtypes(['object']).columns"
   ]
  },
  {
   "cell_type": "code",
   "execution_count": 840,
   "metadata": {},
   "outputs": [
    {
     "data": {
      "text/plain": [
       "Inside     832\n",
       "Corner     210\n",
       "CulDSac     86\n",
       "FR2         38\n",
       "FR3          2\n",
       "Name: LotConfig, dtype: int64"
      ]
     },
     "execution_count": 840,
     "metadata": {},
     "output_type": "execute_result"
    }
   ],
   "source": [
    "housing_train_set.LotConfig.value_counts()"
   ]
  },
  {
   "cell_type": "code",
   "execution_count": 843,
   "metadata": {},
   "outputs": [
    {
     "name": "stdout",
     "output_type": "stream",
     "text": [
      "[4 0 4 ... 4 2 4]\n",
      "[0 1 2 3 4]\n",
      "(1168,)\n"
     ]
    }
   ],
   "source": [
    "from sklearn.preprocessing import LabelEncoder\n",
    "encoder=LabelEncoder()\n",
    "l_enc_LotConfig = encoder.fit_transform(housing_train_set.LotConfig)\n",
    "print(l_enc_LotConfig)\n",
    "print(np.unique(l_enc_LotConfig))\n",
    "print(l_enc_LotConfig.shape)"
   ]
  },
  {
   "cell_type": "code",
   "execution_count": 845,
   "metadata": {},
   "outputs": [
    {
     "name": "stdout",
     "output_type": "stream",
     "text": [
      "['Corner' 'CulDSac' 'FR2' 'FR3' 'Inside']\n"
     ]
    }
   ],
   "source": [
    "print(encoder.classes_)"
   ]
  },
  {
   "cell_type": "code",
   "execution_count": 967,
   "metadata": {},
   "outputs": [
    {
     "name": "stdout",
     "output_type": "stream",
     "text": [
      "[4 0 4 ... 4 2 4]\n",
      "[[4]\n",
      " [0]\n",
      " [4]\n",
      " ...\n",
      " [4]\n",
      " [2]\n",
      " [4]]\n"
     ]
    }
   ],
   "source": [
    "l_enc_LotConfig_rs=l_enc_LotConfig.reshape(-1,1)\n",
    "print(l_enc_LotConfig)\n",
    "print(l_enc_LotConfig_rs)"
   ]
  },
  {
   "cell_type": "markdown",
   "metadata": {},
   "source": [
    "sklearn_onehot Encolder"
   ]
  },
  {
   "cell_type": "code",
   "execution_count": 904,
   "metadata": {},
   "outputs": [
    {
     "name": "stdout",
     "output_type": "stream",
     "text": [
      "<class 'numpy.ndarray'>\n",
      "(1168, 5)\n",
      "[[0. 0. 0. 0. 1.]\n",
      " [1. 0. 0. 0. 0.]\n",
      " [0. 0. 0. 0. 1.]\n",
      " ...\n",
      " [0. 0. 0. 0. 1.]\n",
      " [0. 0. 1. 0. 0.]\n",
      " [0. 0. 0. 0. 1.]]\n"
     ]
    }
   ],
   "source": [
    "from sklearn.preprocessing import OneHotEncoder\n",
    "oh_encode=OneHotEncoder(sparse=False)\n",
    "oh_encoder_lotconfig = oh_encode.fit_transform(l_enc_LotConfig_rs)\n",
    "print(type(oh_encoder_lotconfig))\n",
    "print(oh_encoder_lotconfig.shape)\n",
    "print(oh_encoder_lotconfig)"
   ]
  },
  {
   "cell_type": "code",
   "execution_count": 912,
   "metadata": {},
   "outputs": [
    {
     "data": {
      "text/plain": [
       "array([[0.],\n",
       "       [1.],\n",
       "       [0.],\n",
       "       ...,\n",
       "       [0.],\n",
       "       [0.],\n",
       "       [0.]])"
      ]
     },
     "execution_count": 912,
     "metadata": {},
     "output_type": "execute_result"
    }
   ],
   "source": [
    "oh_encoder_lotconfig[:,0:1]"
   ]
  },
  {
   "cell_type": "code",
   "execution_count": 865,
   "metadata": {},
   "outputs": [
    {
     "data": {
      "text/plain": [
       "array([[0., 0., 0., 0., 1.],\n",
       "       [1., 0., 0., 0., 0.],\n",
       "       [0., 0., 0., 0., 1.],\n",
       "       ...,\n",
       "       [0., 0., 0., 0., 1.],\n",
       "       [0., 0., 1., 0., 0.],\n",
       "       [0., 0., 0., 0., 1.]])"
      ]
     },
     "execution_count": 865,
     "metadata": {},
     "output_type": "execute_result"
    }
   ],
   "source": [
    "oh_encoder_lotconfig"
   ]
  },
  {
   "cell_type": "code",
   "execution_count": null,
   "metadata": {},
   "outputs": [],
   "source": []
  },
  {
   "cell_type": "code",
   "execution_count": 917,
   "metadata": {},
   "outputs": [
    {
     "data": {
      "text/plain": [
       "{'New1', 'New2', 'New3', 'New4', 'New5'}"
      ]
     },
     "execution_count": 917,
     "metadata": {},
     "output_type": "execute_result"
    }
   ],
   "source": [
    "data=OneHotEncoder.fit_transform(Cater)"
   ]
  },
  {
   "cell_type": "code",
   "execution_count": 922,
   "metadata": {},
   "outputs": [
    {
     "data": {
      "text/plain": [
       "Index(['Street', 'LotShape', 'LandContour', 'Utilities', 'LotConfig',\n",
       "       'LandSlope', 'Condition1', 'Condition2', 'BldgType', 'HouseStyle',\n",
       "       'RoofStyle', 'RoofMatl', 'Exterior1st', 'Exterior2nd', 'ExterQual',\n",
       "       'ExterCond', 'Foundation', 'BsmtQual', 'BsmtCond', 'BsmtExposure',\n",
       "       'BsmtFinType1', 'BsmtFinType2', 'Heating', 'HeatingQC', 'CentralAir',\n",
       "       'Electrical', 'KitchenQual', 'Functional', 'FireplaceQu', 'GarageType',\n",
       "       'GarageFinish', 'GarageQual', 'GarageCond', 'PavedDrive', 'SaleType',\n",
       "       'SaleCondition', 'MapSubClass'],\n",
       "      dtype='object')"
      ]
     },
     "execution_count": 922,
     "metadata": {},
     "output_type": "execute_result"
    }
   ],
   "source": [
    "housing_train_set.select_dtypes(['object']).columns"
   ]
  },
  {
   "cell_type": "code",
   "execution_count": 930,
   "metadata": {},
   "outputs": [
    {
     "data": {
      "text/plain": [
       "Lvl    1052\n",
       "Bnk      49\n",
       "HLS      41\n",
       "Low      26\n",
       "Name: LandContour, dtype: int64"
      ]
     },
     "execution_count": 930,
     "metadata": {},
     "output_type": "execute_result"
    }
   ],
   "source": [
    "housing_train_set.LandContour.value_counts()"
   ]
  },
  {
   "cell_type": "code",
   "execution_count": 926,
   "metadata": {},
   "outputs": [
    {
     "data": {
      "text/plain": [
       "False"
      ]
     },
     "execution_count": 926,
     "metadata": {},
     "output_type": "execute_result"
    }
   ],
   "source": [
    "housing_train_set['LandContour'].isnull().any()"
   ]
  },
  {
   "cell_type": "code",
   "execution_count": 966,
   "metadata": {},
   "outputs": [
    {
     "name": "stdout",
     "output_type": "stream",
     "text": [
      "[0 3 3 ... 3 3 0]\n",
      "[0 1 2 3]\n",
      "(1168,)\n",
      "[0 1 2 3]\n"
     ]
    },
    {
     "ename": "AttributeError",
     "evalue": "'Series' object has no attribute 'reshape'",
     "output_type": "error",
     "traceback": [
      "\u001b[1;31m---------------------------------------------------------------------------\u001b[0m",
      "\u001b[1;31mAttributeError\u001b[0m                            Traceback (most recent call last)",
      "\u001b[1;32m<ipython-input-966-ddea6d35a600>\u001b[0m in \u001b[0;36m<module>\u001b[1;34m()\u001b[0m\n\u001b[0;32m      7\u001b[0m \u001b[0mprint\u001b[0m\u001b[1;33m(\u001b[0m\u001b[0mencoder2\u001b[0m\u001b[1;33m.\u001b[0m\u001b[0mclasses_\u001b[0m\u001b[1;33m)\u001b[0m\u001b[1;33m\u001b[0m\u001b[0m\n\u001b[0;32m      8\u001b[0m \u001b[0mLandContour_LB_rs\u001b[0m\u001b[1;33m=\u001b[0m \u001b[0mhousing_train_set\u001b[0m\u001b[1;33m.\u001b[0m\u001b[0mLandContour\u001b[0m\u001b[1;33m\u001b[0m\u001b[0m\n\u001b[1;32m----> 9\u001b[1;33m \u001b[0mLandContour_LB_rs2\u001b[0m\u001b[1;33m=\u001b[0m\u001b[0mLandContour_LB_rs\u001b[0m\u001b[1;33m.\u001b[0m\u001b[0mreshape\u001b[0m\u001b[1;33m(\u001b[0m\u001b[1;33m-\u001b[0m\u001b[1;36m1\u001b[0m\u001b[1;33m,\u001b[0m\u001b[1;36m1\u001b[0m\u001b[1;33m)\u001b[0m\u001b[1;33m\u001b[0m\u001b[0m\n\u001b[0m",
      "\u001b[1;32m~\\Anaconda3\\lib\\site-packages\\pandas\\core\\generic.py\u001b[0m in \u001b[0;36m__getattr__\u001b[1;34m(self, name)\u001b[0m\n\u001b[0;32m   4370\u001b[0m             \u001b[1;32mif\u001b[0m \u001b[0mself\u001b[0m\u001b[1;33m.\u001b[0m\u001b[0m_info_axis\u001b[0m\u001b[1;33m.\u001b[0m\u001b[0m_can_hold_identifiers_and_holds_name\u001b[0m\u001b[1;33m(\u001b[0m\u001b[0mname\u001b[0m\u001b[1;33m)\u001b[0m\u001b[1;33m:\u001b[0m\u001b[1;33m\u001b[0m\u001b[0m\n\u001b[0;32m   4371\u001b[0m                 \u001b[1;32mreturn\u001b[0m \u001b[0mself\u001b[0m\u001b[1;33m[\u001b[0m\u001b[0mname\u001b[0m\u001b[1;33m]\u001b[0m\u001b[1;33m\u001b[0m\u001b[0m\n\u001b[1;32m-> 4372\u001b[1;33m             \u001b[1;32mreturn\u001b[0m \u001b[0mobject\u001b[0m\u001b[1;33m.\u001b[0m\u001b[0m__getattribute__\u001b[0m\u001b[1;33m(\u001b[0m\u001b[0mself\u001b[0m\u001b[1;33m,\u001b[0m \u001b[0mname\u001b[0m\u001b[1;33m)\u001b[0m\u001b[1;33m\u001b[0m\u001b[0m\n\u001b[0m\u001b[0;32m   4373\u001b[0m \u001b[1;33m\u001b[0m\u001b[0m\n\u001b[0;32m   4374\u001b[0m     \u001b[1;32mdef\u001b[0m \u001b[0m__setattr__\u001b[0m\u001b[1;33m(\u001b[0m\u001b[0mself\u001b[0m\u001b[1;33m,\u001b[0m \u001b[0mname\u001b[0m\u001b[1;33m,\u001b[0m \u001b[0mvalue\u001b[0m\u001b[1;33m)\u001b[0m\u001b[1;33m:\u001b[0m\u001b[1;33m\u001b[0m\u001b[0m\n",
      "\u001b[1;31mAttributeError\u001b[0m: 'Series' object has no attribute 'reshape'"
     ]
    }
   ],
   "source": [
    "from sklearn.preprocessing import LabelEncoder\n",
    "encoder2=LabelEncoder()\n",
    "LandContour_LB = encoder2.fit_transform(housing_train_set.LandContour)\n",
    "print(LandContour_LB)\n",
    "print(np.unique(LandContour_LB))\n",
    "print(LandContour_LB.shape)\n",
    "print(encoder2.classes_)\n",
    "LandContour_LB_rs= housing_train_set.LandContour\n",
    "LandContour_LB_rs2=LandContour_LB_rs.reshape(-1,1)"
   ]
  },
  {
   "cell_type": "code",
   "execution_count": 940,
   "metadata": {},
   "outputs": [
    {
     "name": "stdout",
     "output_type": "stream",
     "text": [
      "[0 1 2 3]\n"
     ]
    },
    {
     "data": {
      "text/html": [
       "<div>\n",
       "<style scoped>\n",
       "    .dataframe tbody tr th:only-of-type {\n",
       "        vertical-align: middle;\n",
       "    }\n",
       "\n",
       "    .dataframe tbody tr th {\n",
       "        vertical-align: top;\n",
       "    }\n",
       "\n",
       "    .dataframe thead th {\n",
       "        text-align: right;\n",
       "    }\n",
       "</style>\n",
       "<table border=\"1\" class=\"dataframe\">\n",
       "  <thead>\n",
       "    <tr style=\"text-align: right;\">\n",
       "      <th></th>\n",
       "      <th>Id</th>\n",
       "      <th>MSSubClass</th>\n",
       "      <th>MSZoning</th>\n",
       "      <th>LotFrontage</th>\n",
       "      <th>LotArea</th>\n",
       "      <th>Street</th>\n",
       "      <th>LotShape</th>\n",
       "      <th>LandContour</th>\n",
       "      <th>Utilities</th>\n",
       "      <th>LotConfig</th>\n",
       "      <th>...</th>\n",
       "      <th>Neighborhood_NoRidge</th>\n",
       "      <th>Neighborhood_NridgHt</th>\n",
       "      <th>Neighborhood_OldTown</th>\n",
       "      <th>Neighborhood_SWISU</th>\n",
       "      <th>Neighborhood_Sawyer</th>\n",
       "      <th>Neighborhood_SawyerW</th>\n",
       "      <th>Neighborhood_Somerst</th>\n",
       "      <th>Neighborhood_StoneBr</th>\n",
       "      <th>Neighborhood_Timber</th>\n",
       "      <th>Neighborhood_Veenker</th>\n",
       "    </tr>\n",
       "  </thead>\n",
       "  <tbody>\n",
       "    <tr>\n",
       "      <th>0</th>\n",
       "      <td>977</td>\n",
       "      <td>30</td>\n",
       "      <td>RL</td>\n",
       "      <td>51.0</td>\n",
       "      <td>5900</td>\n",
       "      <td>Pave</td>\n",
       "      <td>IR1</td>\n",
       "      <td>0</td>\n",
       "      <td>AllPub</td>\n",
       "      <td>Inside</td>\n",
       "      <td>...</td>\n",
       "      <td>0</td>\n",
       "      <td>0</td>\n",
       "      <td>0</td>\n",
       "      <td>0</td>\n",
       "      <td>0</td>\n",
       "      <td>0</td>\n",
       "      <td>0</td>\n",
       "      <td>0</td>\n",
       "      <td>0</td>\n",
       "      <td>0</td>\n",
       "    </tr>\n",
       "    <tr>\n",
       "      <th>1</th>\n",
       "      <td>131</td>\n",
       "      <td>60</td>\n",
       "      <td>RL</td>\n",
       "      <td>88.0</td>\n",
       "      <td>14200</td>\n",
       "      <td>Pave</td>\n",
       "      <td>Reg</td>\n",
       "      <td>3</td>\n",
       "      <td>AllPub</td>\n",
       "      <td>Corner</td>\n",
       "      <td>...</td>\n",
       "      <td>0</td>\n",
       "      <td>0</td>\n",
       "      <td>0</td>\n",
       "      <td>0</td>\n",
       "      <td>0</td>\n",
       "      <td>0</td>\n",
       "      <td>0</td>\n",
       "      <td>0</td>\n",
       "      <td>0</td>\n",
       "      <td>0</td>\n",
       "    </tr>\n",
       "    <tr>\n",
       "      <th>2</th>\n",
       "      <td>342</td>\n",
       "      <td>20</td>\n",
       "      <td>RH</td>\n",
       "      <td>60.0</td>\n",
       "      <td>8400</td>\n",
       "      <td>Pave</td>\n",
       "      <td>Reg</td>\n",
       "      <td>3</td>\n",
       "      <td>AllPub</td>\n",
       "      <td>Inside</td>\n",
       "      <td>...</td>\n",
       "      <td>0</td>\n",
       "      <td>0</td>\n",
       "      <td>0</td>\n",
       "      <td>0</td>\n",
       "      <td>0</td>\n",
       "      <td>1</td>\n",
       "      <td>0</td>\n",
       "      <td>0</td>\n",
       "      <td>0</td>\n",
       "      <td>0</td>\n",
       "    </tr>\n",
       "    <tr>\n",
       "      <th>3</th>\n",
       "      <td>1107</td>\n",
       "      <td>20</td>\n",
       "      <td>RL</td>\n",
       "      <td>114.0</td>\n",
       "      <td>10357</td>\n",
       "      <td>Pave</td>\n",
       "      <td>IR1</td>\n",
       "      <td>3</td>\n",
       "      <td>AllPub</td>\n",
       "      <td>Corner</td>\n",
       "      <td>...</td>\n",
       "      <td>0</td>\n",
       "      <td>0</td>\n",
       "      <td>0</td>\n",
       "      <td>0</td>\n",
       "      <td>0</td>\n",
       "      <td>1</td>\n",
       "      <td>0</td>\n",
       "      <td>0</td>\n",
       "      <td>0</td>\n",
       "      <td>0</td>\n",
       "    </tr>\n",
       "    <tr>\n",
       "      <th>4</th>\n",
       "      <td>1325</td>\n",
       "      <td>20</td>\n",
       "      <td>RL</td>\n",
       "      <td>75.0</td>\n",
       "      <td>9986</td>\n",
       "      <td>Pave</td>\n",
       "      <td>Reg</td>\n",
       "      <td>3</td>\n",
       "      <td>AllPub</td>\n",
       "      <td>Inside</td>\n",
       "      <td>...</td>\n",
       "      <td>0</td>\n",
       "      <td>0</td>\n",
       "      <td>0</td>\n",
       "      <td>0</td>\n",
       "      <td>0</td>\n",
       "      <td>0</td>\n",
       "      <td>1</td>\n",
       "      <td>0</td>\n",
       "      <td>0</td>\n",
       "      <td>0</td>\n",
       "    </tr>\n",
       "  </tbody>\n",
       "</table>\n",
       "<p>5 rows × 101 columns</p>\n",
       "</div>"
      ],
      "text/plain": [
       "     Id  MSSubClass MSZoning  LotFrontage  LotArea Street LotShape  \\\n",
       "0   977          30       RL         51.0     5900   Pave      IR1   \n",
       "1   131          60       RL         88.0    14200   Pave      Reg   \n",
       "2   342          20       RH         60.0     8400   Pave      Reg   \n",
       "3  1107          20       RL        114.0    10357   Pave      IR1   \n",
       "4  1325          20       RL         75.0     9986   Pave      Reg   \n",
       "\n",
       "   LandContour Utilities LotConfig         ...          Neighborhood_NoRidge  \\\n",
       "0            0    AllPub    Inside         ...                             0   \n",
       "1            3    AllPub    Corner         ...                             0   \n",
       "2            3    AllPub    Inside         ...                             0   \n",
       "3            3    AllPub    Corner         ...                             0   \n",
       "4            3    AllPub    Inside         ...                             0   \n",
       "\n",
       "  Neighborhood_NridgHt Neighborhood_OldTown Neighborhood_SWISU  \\\n",
       "0                    0                    0                  0   \n",
       "1                    0                    0                  0   \n",
       "2                    0                    0                  0   \n",
       "3                    0                    0                  0   \n",
       "4                    0                    0                  0   \n",
       "\n",
       "  Neighborhood_Sawyer  Neighborhood_SawyerW  Neighborhood_Somerst  \\\n",
       "0                   0                     0                     0   \n",
       "1                   0                     0                     0   \n",
       "2                   0                     1                     0   \n",
       "3                   0                     1                     0   \n",
       "4                   0                     0                     1   \n",
       "\n",
       "   Neighborhood_StoneBr  Neighborhood_Timber Neighborhood_Veenker  \n",
       "0                     0                    0                    0  \n",
       "1                     0                    0                    0  \n",
       "2                     0                    0                    0  \n",
       "3                     0                    0                    0  \n",
       "4                     0                    0                    0  \n",
       "\n",
       "[5 rows x 101 columns]"
      ]
     },
     "execution_count": 940,
     "metadata": {},
     "output_type": "execute_result"
    }
   ],
   "source": [
    "housing_train_set['LandContour']=encoder2.fit_transform(housing_train_set.LandContour)\n",
    "print(encoder2.classes_)\n",
    "housing_train_set.head()"
   ]
  },
  {
   "cell_type": "code",
   "execution_count": 963,
   "metadata": {},
   "outputs": [
    {
     "ename": "AttributeError",
     "evalue": "'Series' object has no attribute 'array'",
     "output_type": "error",
     "traceback": [
      "\u001b[1;31m---------------------------------------------------------------------------\u001b[0m",
      "\u001b[1;31mAttributeError\u001b[0m                            Traceback (most recent call last)",
      "\u001b[1;32m<ipython-input-963-fc93fec46296>\u001b[0m in \u001b[0;36m<module>\u001b[1;34m()\u001b[0m\n\u001b[0;32m      1\u001b[0m \u001b[1;32mfrom\u001b[0m \u001b[0msklearn\u001b[0m\u001b[1;33m.\u001b[0m\u001b[0mpreprocessing\u001b[0m \u001b[1;32mimport\u001b[0m \u001b[0mOneHotEncoder\u001b[0m\u001b[1;33m\u001b[0m\u001b[0m\n\u001b[0;32m      2\u001b[0m \u001b[0moh_encode2\u001b[0m\u001b[1;33m=\u001b[0m\u001b[0mOneHotEncoder\u001b[0m\u001b[1;33m(\u001b[0m\u001b[0msparse\u001b[0m\u001b[1;33m=\u001b[0m\u001b[1;32mFalse\u001b[0m\u001b[1;33m,\u001b[0m\u001b[0mcategorical_features\u001b[0m\u001b[1;33m=\u001b[0m\u001b[1;33m[\u001b[0m\u001b[1;36m1\u001b[0m\u001b[1;33m,\u001b[0m\u001b[1;36m2\u001b[0m\u001b[1;33m,\u001b[0m\u001b[1;36m3\u001b[0m\u001b[1;33m,\u001b[0m\u001b[1;36m4\u001b[0m\u001b[1;33m]\u001b[0m\u001b[1;33m)\u001b[0m\u001b[1;33m\u001b[0m\u001b[0m\n\u001b[1;32m----> 3\u001b[1;33m \u001b[0mLandContour_2\u001b[0m\u001b[1;33m=\u001b[0m\u001b[0mhousing_train_set\u001b[0m\u001b[1;33m.\u001b[0m\u001b[0mLandContour\u001b[0m\u001b[1;33m.\u001b[0m\u001b[0marray\u001b[0m\u001b[1;33m.\u001b[0m\u001b[0mreshape\u001b[0m\u001b[1;33m(\u001b[0m\u001b[1;36m1\u001b[0m\u001b[1;33m,\u001b[0m \u001b[1;33m-\u001b[0m\u001b[1;36m1\u001b[0m\u001b[1;33m)\u001b[0m\u001b[1;33m\u001b[0m\u001b[0m\n\u001b[0m\u001b[0;32m      4\u001b[0m \u001b[0mhousing_train_set\u001b[0m\u001b[1;33m.\u001b[0m\u001b[0mLandContour\u001b[0m \u001b[1;33m=\u001b[0m \u001b[0moh_encode2\u001b[0m\u001b[1;33m.\u001b[0m\u001b[0mfit_transform\u001b[0m\u001b[1;33m(\u001b[0m\u001b[0mhousing_train_set\u001b[0m\u001b[1;33m.\u001b[0m\u001b[0mLandContour\u001b[0m\u001b[1;33m)\u001b[0m\u001b[1;33m.\u001b[0m\u001b[0mtoarray\u001b[0m\u001b[1;33m(\u001b[0m\u001b[1;33m)\u001b[0m\u001b[1;33m\u001b[0m\u001b[0m\n\u001b[0;32m      5\u001b[0m \u001b[1;31m#print(type(oh_encoder_LandContour))\u001b[0m\u001b[1;33m\u001b[0m\u001b[1;33m\u001b[0m\u001b[0m\n",
      "\u001b[1;32m~\\Anaconda3\\lib\\site-packages\\pandas\\core\\generic.py\u001b[0m in \u001b[0;36m__getattr__\u001b[1;34m(self, name)\u001b[0m\n\u001b[0;32m   4370\u001b[0m             \u001b[1;32mif\u001b[0m \u001b[0mself\u001b[0m\u001b[1;33m.\u001b[0m\u001b[0m_info_axis\u001b[0m\u001b[1;33m.\u001b[0m\u001b[0m_can_hold_identifiers_and_holds_name\u001b[0m\u001b[1;33m(\u001b[0m\u001b[0mname\u001b[0m\u001b[1;33m)\u001b[0m\u001b[1;33m:\u001b[0m\u001b[1;33m\u001b[0m\u001b[0m\n\u001b[0;32m   4371\u001b[0m                 \u001b[1;32mreturn\u001b[0m \u001b[0mself\u001b[0m\u001b[1;33m[\u001b[0m\u001b[0mname\u001b[0m\u001b[1;33m]\u001b[0m\u001b[1;33m\u001b[0m\u001b[0m\n\u001b[1;32m-> 4372\u001b[1;33m             \u001b[1;32mreturn\u001b[0m \u001b[0mobject\u001b[0m\u001b[1;33m.\u001b[0m\u001b[0m__getattribute__\u001b[0m\u001b[1;33m(\u001b[0m\u001b[0mself\u001b[0m\u001b[1;33m,\u001b[0m \u001b[0mname\u001b[0m\u001b[1;33m)\u001b[0m\u001b[1;33m\u001b[0m\u001b[0m\n\u001b[0m\u001b[0;32m   4373\u001b[0m \u001b[1;33m\u001b[0m\u001b[0m\n\u001b[0;32m   4374\u001b[0m     \u001b[1;32mdef\u001b[0m \u001b[0m__setattr__\u001b[0m\u001b[1;33m(\u001b[0m\u001b[0mself\u001b[0m\u001b[1;33m,\u001b[0m \u001b[0mname\u001b[0m\u001b[1;33m,\u001b[0m \u001b[0mvalue\u001b[0m\u001b[1;33m)\u001b[0m\u001b[1;33m:\u001b[0m\u001b[1;33m\u001b[0m\u001b[0m\n",
      "\u001b[1;31mAttributeError\u001b[0m: 'Series' object has no attribute 'array'"
     ]
    }
   ],
   "source": [
    "from sklearn.preprocessing import OneHotEncoder\n",
    "oh_encode2=OneHotEncoder(sparse=False,categorical_features=[1,2,3,4])\n",
    "LandContour_2=housing_train_set.LandContour.array.reshape(1, -1)\n",
    "housing_train_set.LandContour = oh_encode2.fit_transform(housing_train_set.LandContour).toarray()\n",
    "#print(type(oh_encoder_LandContour))\n",
    "#print(oh_encoder_LandContour.shape)\n",
    "#print(oh_encoder_LandContour)"
   ]
  },
  {
   "cell_type": "code",
   "execution_count": 957,
   "metadata": {},
   "outputs": [
    {
     "data": {
      "text/plain": [
       "3    1052\n",
       "0      49\n",
       "1      41\n",
       "2      26\n",
       "Name: LandContour, dtype: int64"
      ]
     },
     "execution_count": 957,
     "metadata": {},
     "output_type": "execute_result"
    }
   ],
   "source": [
    "housing_train_set.LandContour.value_counts()"
   ]
  },
  {
   "cell_type": "code",
   "execution_count": 969,
   "metadata": {},
   "outputs": [
    {
     "data": {
      "text/html": [
       "<div>\n",
       "<style scoped>\n",
       "    .dataframe tbody tr th:only-of-type {\n",
       "        vertical-align: middle;\n",
       "    }\n",
       "\n",
       "    .dataframe tbody tr th {\n",
       "        vertical-align: top;\n",
       "    }\n",
       "\n",
       "    .dataframe thead th {\n",
       "        text-align: right;\n",
       "    }\n",
       "</style>\n",
       "<table border=\"1\" class=\"dataframe\">\n",
       "  <thead>\n",
       "    <tr style=\"text-align: right;\">\n",
       "      <th></th>\n",
       "      <th>Id</th>\n",
       "      <th>MSSubClass</th>\n",
       "      <th>MSZoning</th>\n",
       "      <th>LotFrontage</th>\n",
       "      <th>LotArea</th>\n",
       "      <th>Street</th>\n",
       "      <th>LotShape</th>\n",
       "      <th>LandContour</th>\n",
       "      <th>Utilities</th>\n",
       "      <th>LotConfig</th>\n",
       "      <th>...</th>\n",
       "      <th>Neighborhood_NoRidge</th>\n",
       "      <th>Neighborhood_NridgHt</th>\n",
       "      <th>Neighborhood_OldTown</th>\n",
       "      <th>Neighborhood_SWISU</th>\n",
       "      <th>Neighborhood_Sawyer</th>\n",
       "      <th>Neighborhood_SawyerW</th>\n",
       "      <th>Neighborhood_Somerst</th>\n",
       "      <th>Neighborhood_StoneBr</th>\n",
       "      <th>Neighborhood_Timber</th>\n",
       "      <th>Neighborhood_Veenker</th>\n",
       "    </tr>\n",
       "  </thead>\n",
       "  <tbody>\n",
       "    <tr>\n",
       "      <th>0</th>\n",
       "      <td>977</td>\n",
       "      <td>30</td>\n",
       "      <td>RL</td>\n",
       "      <td>51.0</td>\n",
       "      <td>5900</td>\n",
       "      <td>Pave</td>\n",
       "      <td>IR1</td>\n",
       "      <td>0</td>\n",
       "      <td>AllPub</td>\n",
       "      <td>Inside</td>\n",
       "      <td>...</td>\n",
       "      <td>0</td>\n",
       "      <td>0</td>\n",
       "      <td>0</td>\n",
       "      <td>0</td>\n",
       "      <td>0</td>\n",
       "      <td>0</td>\n",
       "      <td>0</td>\n",
       "      <td>0</td>\n",
       "      <td>0</td>\n",
       "      <td>0</td>\n",
       "    </tr>\n",
       "    <tr>\n",
       "      <th>1</th>\n",
       "      <td>131</td>\n",
       "      <td>60</td>\n",
       "      <td>RL</td>\n",
       "      <td>88.0</td>\n",
       "      <td>14200</td>\n",
       "      <td>Pave</td>\n",
       "      <td>Reg</td>\n",
       "      <td>3</td>\n",
       "      <td>AllPub</td>\n",
       "      <td>Corner</td>\n",
       "      <td>...</td>\n",
       "      <td>0</td>\n",
       "      <td>0</td>\n",
       "      <td>0</td>\n",
       "      <td>0</td>\n",
       "      <td>0</td>\n",
       "      <td>0</td>\n",
       "      <td>0</td>\n",
       "      <td>0</td>\n",
       "      <td>0</td>\n",
       "      <td>0</td>\n",
       "    </tr>\n",
       "    <tr>\n",
       "      <th>2</th>\n",
       "      <td>342</td>\n",
       "      <td>20</td>\n",
       "      <td>RH</td>\n",
       "      <td>60.0</td>\n",
       "      <td>8400</td>\n",
       "      <td>Pave</td>\n",
       "      <td>Reg</td>\n",
       "      <td>3</td>\n",
       "      <td>AllPub</td>\n",
       "      <td>Inside</td>\n",
       "      <td>...</td>\n",
       "      <td>0</td>\n",
       "      <td>0</td>\n",
       "      <td>0</td>\n",
       "      <td>0</td>\n",
       "      <td>0</td>\n",
       "      <td>1</td>\n",
       "      <td>0</td>\n",
       "      <td>0</td>\n",
       "      <td>0</td>\n",
       "      <td>0</td>\n",
       "    </tr>\n",
       "    <tr>\n",
       "      <th>3</th>\n",
       "      <td>1107</td>\n",
       "      <td>20</td>\n",
       "      <td>RL</td>\n",
       "      <td>114.0</td>\n",
       "      <td>10357</td>\n",
       "      <td>Pave</td>\n",
       "      <td>IR1</td>\n",
       "      <td>3</td>\n",
       "      <td>AllPub</td>\n",
       "      <td>Corner</td>\n",
       "      <td>...</td>\n",
       "      <td>0</td>\n",
       "      <td>0</td>\n",
       "      <td>0</td>\n",
       "      <td>0</td>\n",
       "      <td>0</td>\n",
       "      <td>1</td>\n",
       "      <td>0</td>\n",
       "      <td>0</td>\n",
       "      <td>0</td>\n",
       "      <td>0</td>\n",
       "    </tr>\n",
       "    <tr>\n",
       "      <th>4</th>\n",
       "      <td>1325</td>\n",
       "      <td>20</td>\n",
       "      <td>RL</td>\n",
       "      <td>75.0</td>\n",
       "      <td>9986</td>\n",
       "      <td>Pave</td>\n",
       "      <td>Reg</td>\n",
       "      <td>3</td>\n",
       "      <td>AllPub</td>\n",
       "      <td>Inside</td>\n",
       "      <td>...</td>\n",
       "      <td>0</td>\n",
       "      <td>0</td>\n",
       "      <td>0</td>\n",
       "      <td>0</td>\n",
       "      <td>0</td>\n",
       "      <td>0</td>\n",
       "      <td>1</td>\n",
       "      <td>0</td>\n",
       "      <td>0</td>\n",
       "      <td>0</td>\n",
       "    </tr>\n",
       "  </tbody>\n",
       "</table>\n",
       "<p>5 rows × 101 columns</p>\n",
       "</div>"
      ],
      "text/plain": [
       "     Id  MSSubClass MSZoning  LotFrontage  LotArea Street LotShape  \\\n",
       "0   977          30       RL         51.0     5900   Pave      IR1   \n",
       "1   131          60       RL         88.0    14200   Pave      Reg   \n",
       "2   342          20       RH         60.0     8400   Pave      Reg   \n",
       "3  1107          20       RL        114.0    10357   Pave      IR1   \n",
       "4  1325          20       RL         75.0     9986   Pave      Reg   \n",
       "\n",
       "   LandContour Utilities LotConfig         ...          Neighborhood_NoRidge  \\\n",
       "0            0    AllPub    Inside         ...                             0   \n",
       "1            3    AllPub    Corner         ...                             0   \n",
       "2            3    AllPub    Inside         ...                             0   \n",
       "3            3    AllPub    Corner         ...                             0   \n",
       "4            3    AllPub    Inside         ...                             0   \n",
       "\n",
       "  Neighborhood_NridgHt Neighborhood_OldTown Neighborhood_SWISU  \\\n",
       "0                    0                    0                  0   \n",
       "1                    0                    0                  0   \n",
       "2                    0                    0                  0   \n",
       "3                    0                    0                  0   \n",
       "4                    0                    0                  0   \n",
       "\n",
       "  Neighborhood_Sawyer  Neighborhood_SawyerW  Neighborhood_Somerst  \\\n",
       "0                   0                     0                     0   \n",
       "1                   0                     0                     0   \n",
       "2                   0                     1                     0   \n",
       "3                   0                     1                     0   \n",
       "4                   0                     0                     1   \n",
       "\n",
       "   Neighborhood_StoneBr  Neighborhood_Timber Neighborhood_Veenker  \n",
       "0                     0                    0                    0  \n",
       "1                     0                    0                    0  \n",
       "2                     0                    0                    0  \n",
       "3                     0                    0                    0  \n",
       "4                     0                    0                    0  \n",
       "\n",
       "[5 rows x 101 columns]"
      ]
     },
     "execution_count": 969,
     "metadata": {},
     "output_type": "execute_result"
    }
   ],
   "source": [
    "housing_train_set.head()"
   ]
  },
  {
   "cell_type": "code",
   "execution_count": 970,
   "metadata": {},
   "outputs": [],
   "source": [
    "from sklearn.preprocessing import LabelEncoder"
   ]
  },
  {
   "cell_type": "code",
   "execution_count": 991,
   "metadata": {},
   "outputs": [
    {
     "name": "stdout",
     "output_type": "stream",
     "text": [
      "<class 'numpy.ndarray'>\n",
      "(1168,)\n",
      "['IR1' 'IR2' 'IR3' 'Reg']\n",
      "[0 3 3 ... 3 3 3]\n",
      "[0 1 2 3]\n",
      "[[0]\n",
      " [3]\n",
      " [3]\n",
      " ...\n",
      " [3]\n",
      " [3]\n",
      " [3]]\n"
     ]
    }
   ],
   "source": [
    "encoder3 = LabelEncoder()\n",
    "LotConfig_2= encoder3.fit_transform(housing_train_set.LotShape)\n",
    "print(type(LotConfig_2))\n",
    "print(LotConfig_2.shape)\n",
    "print(encoder3.classes_)\n",
    "print(LotConfig_2)\n",
    "print(np.unique(LotConfig_2))\n",
    "LotConfig_2_rs =LotConfig_2.reshape(-1,1)\n",
    "print(LotConfig_2_rs)"
   ]
  },
  {
   "cell_type": "code",
   "execution_count": 1003,
   "metadata": {},
   "outputs": [
    {
     "data": {
      "text/html": [
       "<div>\n",
       "<style scoped>\n",
       "    .dataframe tbody tr th:only-of-type {\n",
       "        vertical-align: middle;\n",
       "    }\n",
       "\n",
       "    .dataframe tbody tr th {\n",
       "        vertical-align: top;\n",
       "    }\n",
       "\n",
       "    .dataframe thead th {\n",
       "        text-align: right;\n",
       "    }\n",
       "</style>\n",
       "<table border=\"1\" class=\"dataframe\">\n",
       "  <thead>\n",
       "    <tr style=\"text-align: right;\">\n",
       "      <th></th>\n",
       "      <th>Id</th>\n",
       "      <th>MSSubClass</th>\n",
       "      <th>MSZoning</th>\n",
       "      <th>LotFrontage</th>\n",
       "      <th>LotArea</th>\n",
       "      <th>Street</th>\n",
       "      <th>LotShape</th>\n",
       "      <th>LandContour</th>\n",
       "      <th>Utilities</th>\n",
       "      <th>LotConfig</th>\n",
       "      <th>...</th>\n",
       "      <th>Neighborhood_NoRidge</th>\n",
       "      <th>Neighborhood_NridgHt</th>\n",
       "      <th>Neighborhood_OldTown</th>\n",
       "      <th>Neighborhood_SWISU</th>\n",
       "      <th>Neighborhood_Sawyer</th>\n",
       "      <th>Neighborhood_SawyerW</th>\n",
       "      <th>Neighborhood_Somerst</th>\n",
       "      <th>Neighborhood_StoneBr</th>\n",
       "      <th>Neighborhood_Timber</th>\n",
       "      <th>Neighborhood_Veenker</th>\n",
       "    </tr>\n",
       "  </thead>\n",
       "  <tbody>\n",
       "    <tr>\n",
       "      <th>0</th>\n",
       "      <td>977</td>\n",
       "      <td>30</td>\n",
       "      <td>RL</td>\n",
       "      <td>51.0</td>\n",
       "      <td>5900</td>\n",
       "      <td>Pave</td>\n",
       "      <td>IR1</td>\n",
       "      <td>0</td>\n",
       "      <td>AllPub</td>\n",
       "      <td>0</td>\n",
       "      <td>...</td>\n",
       "      <td>0</td>\n",
       "      <td>0</td>\n",
       "      <td>0</td>\n",
       "      <td>0</td>\n",
       "      <td>0</td>\n",
       "      <td>0</td>\n",
       "      <td>0</td>\n",
       "      <td>0</td>\n",
       "      <td>0</td>\n",
       "      <td>0</td>\n",
       "    </tr>\n",
       "    <tr>\n",
       "      <th>1</th>\n",
       "      <td>131</td>\n",
       "      <td>60</td>\n",
       "      <td>RL</td>\n",
       "      <td>88.0</td>\n",
       "      <td>14200</td>\n",
       "      <td>Pave</td>\n",
       "      <td>Reg</td>\n",
       "      <td>3</td>\n",
       "      <td>AllPub</td>\n",
       "      <td>3</td>\n",
       "      <td>...</td>\n",
       "      <td>0</td>\n",
       "      <td>0</td>\n",
       "      <td>0</td>\n",
       "      <td>0</td>\n",
       "      <td>0</td>\n",
       "      <td>0</td>\n",
       "      <td>0</td>\n",
       "      <td>0</td>\n",
       "      <td>0</td>\n",
       "      <td>0</td>\n",
       "    </tr>\n",
       "    <tr>\n",
       "      <th>2</th>\n",
       "      <td>342</td>\n",
       "      <td>20</td>\n",
       "      <td>RH</td>\n",
       "      <td>60.0</td>\n",
       "      <td>8400</td>\n",
       "      <td>Pave</td>\n",
       "      <td>Reg</td>\n",
       "      <td>3</td>\n",
       "      <td>AllPub</td>\n",
       "      <td>3</td>\n",
       "      <td>...</td>\n",
       "      <td>0</td>\n",
       "      <td>0</td>\n",
       "      <td>0</td>\n",
       "      <td>0</td>\n",
       "      <td>0</td>\n",
       "      <td>1</td>\n",
       "      <td>0</td>\n",
       "      <td>0</td>\n",
       "      <td>0</td>\n",
       "      <td>0</td>\n",
       "    </tr>\n",
       "    <tr>\n",
       "      <th>3</th>\n",
       "      <td>1107</td>\n",
       "      <td>20</td>\n",
       "      <td>RL</td>\n",
       "      <td>114.0</td>\n",
       "      <td>10357</td>\n",
       "      <td>Pave</td>\n",
       "      <td>IR1</td>\n",
       "      <td>3</td>\n",
       "      <td>AllPub</td>\n",
       "      <td>0</td>\n",
       "      <td>...</td>\n",
       "      <td>0</td>\n",
       "      <td>0</td>\n",
       "      <td>0</td>\n",
       "      <td>0</td>\n",
       "      <td>0</td>\n",
       "      <td>1</td>\n",
       "      <td>0</td>\n",
       "      <td>0</td>\n",
       "      <td>0</td>\n",
       "      <td>0</td>\n",
       "    </tr>\n",
       "    <tr>\n",
       "      <th>4</th>\n",
       "      <td>1325</td>\n",
       "      <td>20</td>\n",
       "      <td>RL</td>\n",
       "      <td>75.0</td>\n",
       "      <td>9986</td>\n",
       "      <td>Pave</td>\n",
       "      <td>Reg</td>\n",
       "      <td>3</td>\n",
       "      <td>AllPub</td>\n",
       "      <td>3</td>\n",
       "      <td>...</td>\n",
       "      <td>0</td>\n",
       "      <td>0</td>\n",
       "      <td>0</td>\n",
       "      <td>0</td>\n",
       "      <td>0</td>\n",
       "      <td>0</td>\n",
       "      <td>1</td>\n",
       "      <td>0</td>\n",
       "      <td>0</td>\n",
       "      <td>0</td>\n",
       "    </tr>\n",
       "  </tbody>\n",
       "</table>\n",
       "<p>5 rows × 101 columns</p>\n",
       "</div>"
      ],
      "text/plain": [
       "     Id  MSSubClass MSZoning  LotFrontage  LotArea Street LotShape  \\\n",
       "0   977          30       RL         51.0     5900   Pave      IR1   \n",
       "1   131          60       RL         88.0    14200   Pave      Reg   \n",
       "2   342          20       RH         60.0     8400   Pave      Reg   \n",
       "3  1107          20       RL        114.0    10357   Pave      IR1   \n",
       "4  1325          20       RL         75.0     9986   Pave      Reg   \n",
       "\n",
       "   LandContour Utilities  LotConfig         ...          Neighborhood_NoRidge  \\\n",
       "0            0    AllPub          0         ...                             0   \n",
       "1            3    AllPub          3         ...                             0   \n",
       "2            3    AllPub          3         ...                             0   \n",
       "3            3    AllPub          0         ...                             0   \n",
       "4            3    AllPub          3         ...                             0   \n",
       "\n",
       "  Neighborhood_NridgHt Neighborhood_OldTown Neighborhood_SWISU  \\\n",
       "0                    0                    0                  0   \n",
       "1                    0                    0                  0   \n",
       "2                    0                    0                  0   \n",
       "3                    0                    0                  0   \n",
       "4                    0                    0                  0   \n",
       "\n",
       "  Neighborhood_Sawyer  Neighborhood_SawyerW  Neighborhood_Somerst  \\\n",
       "0                   0                     0                     0   \n",
       "1                   0                     0                     0   \n",
       "2                   0                     1                     0   \n",
       "3                   0                     1                     0   \n",
       "4                   0                     0                     1   \n",
       "\n",
       "   Neighborhood_StoneBr  Neighborhood_Timber Neighborhood_Veenker  \n",
       "0                     0                    0                    0  \n",
       "1                     0                    0                    0  \n",
       "2                     0                    0                    0  \n",
       "3                     0                    0                    0  \n",
       "4                     0                    0                    0  \n",
       "\n",
       "[5 rows x 101 columns]"
      ]
     },
     "execution_count": 1003,
     "metadata": {},
     "output_type": "execute_result"
    }
   ],
   "source": [
    "housing_train_set.LotConfig = LotConfig_2\n",
    "housing_train_set.LotConfig.value_counts()\n",
    "housing_train_set.head()"
   ]
  },
  {
   "cell_type": "code",
   "execution_count": 1005,
   "metadata": {},
   "outputs": [
    {
     "ename": "ValueError",
     "evalue": "Wrong number of items passed 4, placement implies 1",
     "output_type": "error",
     "traceback": [
      "\u001b[1;31m---------------------------------------------------------------------------\u001b[0m",
      "\u001b[1;31mKeyError\u001b[0m                                  Traceback (most recent call last)",
      "\u001b[1;32m~\\Anaconda3\\lib\\site-packages\\pandas\\core\\indexes\\base.py\u001b[0m in \u001b[0;36mget_loc\u001b[1;34m(self, key, method, tolerance)\u001b[0m\n\u001b[0;32m   3062\u001b[0m             \u001b[1;32mtry\u001b[0m\u001b[1;33m:\u001b[0m\u001b[1;33m\u001b[0m\u001b[0m\n\u001b[1;32m-> 3063\u001b[1;33m                 \u001b[1;32mreturn\u001b[0m \u001b[0mself\u001b[0m\u001b[1;33m.\u001b[0m\u001b[0m_engine\u001b[0m\u001b[1;33m.\u001b[0m\u001b[0mget_loc\u001b[0m\u001b[1;33m(\u001b[0m\u001b[0mkey\u001b[0m\u001b[1;33m)\u001b[0m\u001b[1;33m\u001b[0m\u001b[0m\n\u001b[0m\u001b[0;32m   3064\u001b[0m             \u001b[1;32mexcept\u001b[0m \u001b[0mKeyError\u001b[0m\u001b[1;33m:\u001b[0m\u001b[1;33m\u001b[0m\u001b[0m\n",
      "\u001b[1;32mpandas\\_libs\\index.pyx\u001b[0m in \u001b[0;36mpandas._libs.index.IndexEngine.get_loc\u001b[1;34m()\u001b[0m\n",
      "\u001b[1;32mpandas\\_libs\\index.pyx\u001b[0m in \u001b[0;36mpandas._libs.index.IndexEngine.get_loc\u001b[1;34m()\u001b[0m\n",
      "\u001b[1;32mpandas\\_libs\\hashtable_class_helper.pxi\u001b[0m in \u001b[0;36mpandas._libs.hashtable.PyObjectHashTable.get_item\u001b[1;34m()\u001b[0m\n",
      "\u001b[1;32mpandas\\_libs\\hashtable_class_helper.pxi\u001b[0m in \u001b[0;36mpandas._libs.hashtable.PyObjectHashTable.get_item\u001b[1;34m()\u001b[0m\n",
      "\u001b[1;31mKeyError\u001b[0m: ('a', 'd', 'f', 'g')",
      "\nDuring handling of the above exception, another exception occurred:\n",
      "\u001b[1;31mKeyError\u001b[0m                                  Traceback (most recent call last)",
      "\u001b[1;32m~\\Anaconda3\\lib\\site-packages\\pandas\\core\\internals.py\u001b[0m in \u001b[0;36mset\u001b[1;34m(self, item, value, check)\u001b[0m\n\u001b[0;32m   4242\u001b[0m         \u001b[1;32mtry\u001b[0m\u001b[1;33m:\u001b[0m\u001b[1;33m\u001b[0m\u001b[0m\n\u001b[1;32m-> 4243\u001b[1;33m             \u001b[0mloc\u001b[0m \u001b[1;33m=\u001b[0m \u001b[0mself\u001b[0m\u001b[1;33m.\u001b[0m\u001b[0mitems\u001b[0m\u001b[1;33m.\u001b[0m\u001b[0mget_loc\u001b[0m\u001b[1;33m(\u001b[0m\u001b[0mitem\u001b[0m\u001b[1;33m)\u001b[0m\u001b[1;33m\u001b[0m\u001b[0m\n\u001b[0m\u001b[0;32m   4244\u001b[0m         \u001b[1;32mexcept\u001b[0m \u001b[0mKeyError\u001b[0m\u001b[1;33m:\u001b[0m\u001b[1;33m\u001b[0m\u001b[0m\n",
      "\u001b[1;32m~\\Anaconda3\\lib\\site-packages\\pandas\\core\\indexes\\base.py\u001b[0m in \u001b[0;36mget_loc\u001b[1;34m(self, key, method, tolerance)\u001b[0m\n\u001b[0;32m   3064\u001b[0m             \u001b[1;32mexcept\u001b[0m \u001b[0mKeyError\u001b[0m\u001b[1;33m:\u001b[0m\u001b[1;33m\u001b[0m\u001b[0m\n\u001b[1;32m-> 3065\u001b[1;33m                 \u001b[1;32mreturn\u001b[0m \u001b[0mself\u001b[0m\u001b[1;33m.\u001b[0m\u001b[0m_engine\u001b[0m\u001b[1;33m.\u001b[0m\u001b[0mget_loc\u001b[0m\u001b[1;33m(\u001b[0m\u001b[0mself\u001b[0m\u001b[1;33m.\u001b[0m\u001b[0m_maybe_cast_indexer\u001b[0m\u001b[1;33m(\u001b[0m\u001b[0mkey\u001b[0m\u001b[1;33m)\u001b[0m\u001b[1;33m)\u001b[0m\u001b[1;33m\u001b[0m\u001b[0m\n\u001b[0m\u001b[0;32m   3066\u001b[0m \u001b[1;33m\u001b[0m\u001b[0m\n",
      "\u001b[1;32mpandas\\_libs\\index.pyx\u001b[0m in \u001b[0;36mpandas._libs.index.IndexEngine.get_loc\u001b[1;34m()\u001b[0m\n",
      "\u001b[1;32mpandas\\_libs\\index.pyx\u001b[0m in \u001b[0;36mpandas._libs.index.IndexEngine.get_loc\u001b[1;34m()\u001b[0m\n",
      "\u001b[1;32mpandas\\_libs\\hashtable_class_helper.pxi\u001b[0m in \u001b[0;36mpandas._libs.hashtable.PyObjectHashTable.get_item\u001b[1;34m()\u001b[0m\n",
      "\u001b[1;32mpandas\\_libs\\hashtable_class_helper.pxi\u001b[0m in \u001b[0;36mpandas._libs.hashtable.PyObjectHashTable.get_item\u001b[1;34m()\u001b[0m\n",
      "\u001b[1;31mKeyError\u001b[0m: ('a', 'd', 'f', 'g')",
      "\nDuring handling of the above exception, another exception occurred:\n",
      "\u001b[1;31mValueError\u001b[0m                                Traceback (most recent call last)",
      "\u001b[1;32m<ipython-input-1005-0e7577cac633>\u001b[0m in \u001b[0;36m<module>\u001b[1;34m()\u001b[0m\n\u001b[0;32m      1\u001b[0m \u001b[1;32mfrom\u001b[0m \u001b[0msklearn\u001b[0m\u001b[1;33m.\u001b[0m\u001b[0mpreprocessing\u001b[0m \u001b[1;32mimport\u001b[0m \u001b[0mOneHotEncoder\u001b[0m\u001b[1;33m\u001b[0m\u001b[0m\n\u001b[0;32m      2\u001b[0m \u001b[0mOh_encider_4\u001b[0m\u001b[1;33m=\u001b[0m \u001b[0mOneHotEncoder\u001b[0m\u001b[1;33m(\u001b[0m\u001b[0msparse\u001b[0m\u001b[1;33m=\u001b[0m\u001b[1;32mFalse\u001b[0m\u001b[1;33m)\u001b[0m\u001b[1;33m\u001b[0m\u001b[0m\n\u001b[1;32m----> 3\u001b[1;33m \u001b[0mhousing_train_set\u001b[0m\u001b[1;33m[\u001b[0m\u001b[1;34m'a'\u001b[0m\u001b[1;33m,\u001b[0m\u001b[1;34m'd'\u001b[0m\u001b[1;33m,\u001b[0m\u001b[1;34m'f'\u001b[0m\u001b[1;33m,\u001b[0m\u001b[1;34m'g'\u001b[0m\u001b[1;33m]\u001b[0m \u001b[1;33m=\u001b[0m \u001b[0mOh_encider_4\u001b[0m\u001b[1;33m.\u001b[0m\u001b[0mfit_transform\u001b[0m\u001b[1;33m(\u001b[0m\u001b[0mLotConfig_2_rs\u001b[0m\u001b[1;33m)\u001b[0m\u001b[1;33m\u001b[0m\u001b[0m\n\u001b[0m\u001b[0;32m      4\u001b[0m \u001b[0mhousing_train_set\u001b[0m\u001b[1;33m.\u001b[0m\u001b[0mhead\u001b[0m\u001b[1;33m(\u001b[0m\u001b[1;33m)\u001b[0m\u001b[1;33m\u001b[0m\u001b[0m\n",
      "\u001b[1;32m~\\Anaconda3\\lib\\site-packages\\pandas\\core\\frame.py\u001b[0m in \u001b[0;36m__setitem__\u001b[1;34m(self, key, value)\u001b[0m\n\u001b[0;32m   3114\u001b[0m         \u001b[1;32melse\u001b[0m\u001b[1;33m:\u001b[0m\u001b[1;33m\u001b[0m\u001b[0m\n\u001b[0;32m   3115\u001b[0m             \u001b[1;31m# set column\u001b[0m\u001b[1;33m\u001b[0m\u001b[1;33m\u001b[0m\u001b[0m\n\u001b[1;32m-> 3116\u001b[1;33m             \u001b[0mself\u001b[0m\u001b[1;33m.\u001b[0m\u001b[0m_set_item\u001b[0m\u001b[1;33m(\u001b[0m\u001b[0mkey\u001b[0m\u001b[1;33m,\u001b[0m \u001b[0mvalue\u001b[0m\u001b[1;33m)\u001b[0m\u001b[1;33m\u001b[0m\u001b[0m\n\u001b[0m\u001b[0;32m   3117\u001b[0m \u001b[1;33m\u001b[0m\u001b[0m\n\u001b[0;32m   3118\u001b[0m     \u001b[1;32mdef\u001b[0m \u001b[0m_setitem_slice\u001b[0m\u001b[1;33m(\u001b[0m\u001b[0mself\u001b[0m\u001b[1;33m,\u001b[0m \u001b[0mkey\u001b[0m\u001b[1;33m,\u001b[0m \u001b[0mvalue\u001b[0m\u001b[1;33m)\u001b[0m\u001b[1;33m:\u001b[0m\u001b[1;33m\u001b[0m\u001b[0m\n",
      "\u001b[1;32m~\\Anaconda3\\lib\\site-packages\\pandas\\core\\frame.py\u001b[0m in \u001b[0;36m_set_item\u001b[1;34m(self, key, value)\u001b[0m\n\u001b[0;32m   3190\u001b[0m         \u001b[0mself\u001b[0m\u001b[1;33m.\u001b[0m\u001b[0m_ensure_valid_index\u001b[0m\u001b[1;33m(\u001b[0m\u001b[0mvalue\u001b[0m\u001b[1;33m)\u001b[0m\u001b[1;33m\u001b[0m\u001b[0m\n\u001b[0;32m   3191\u001b[0m         \u001b[0mvalue\u001b[0m \u001b[1;33m=\u001b[0m \u001b[0mself\u001b[0m\u001b[1;33m.\u001b[0m\u001b[0m_sanitize_column\u001b[0m\u001b[1;33m(\u001b[0m\u001b[0mkey\u001b[0m\u001b[1;33m,\u001b[0m \u001b[0mvalue\u001b[0m\u001b[1;33m)\u001b[0m\u001b[1;33m\u001b[0m\u001b[0m\n\u001b[1;32m-> 3192\u001b[1;33m         \u001b[0mNDFrame\u001b[0m\u001b[1;33m.\u001b[0m\u001b[0m_set_item\u001b[0m\u001b[1;33m(\u001b[0m\u001b[0mself\u001b[0m\u001b[1;33m,\u001b[0m \u001b[0mkey\u001b[0m\u001b[1;33m,\u001b[0m \u001b[0mvalue\u001b[0m\u001b[1;33m)\u001b[0m\u001b[1;33m\u001b[0m\u001b[0m\n\u001b[0m\u001b[0;32m   3193\u001b[0m \u001b[1;33m\u001b[0m\u001b[0m\n\u001b[0;32m   3194\u001b[0m         \u001b[1;31m# check if we are modifying a copy\u001b[0m\u001b[1;33m\u001b[0m\u001b[1;33m\u001b[0m\u001b[0m\n",
      "\u001b[1;32m~\\Anaconda3\\lib\\site-packages\\pandas\\core\\generic.py\u001b[0m in \u001b[0;36m_set_item\u001b[1;34m(self, key, value)\u001b[0m\n\u001b[0;32m   2595\u001b[0m \u001b[1;33m\u001b[0m\u001b[0m\n\u001b[0;32m   2596\u001b[0m     \u001b[1;32mdef\u001b[0m \u001b[0m_set_item\u001b[0m\u001b[1;33m(\u001b[0m\u001b[0mself\u001b[0m\u001b[1;33m,\u001b[0m \u001b[0mkey\u001b[0m\u001b[1;33m,\u001b[0m \u001b[0mvalue\u001b[0m\u001b[1;33m)\u001b[0m\u001b[1;33m:\u001b[0m\u001b[1;33m\u001b[0m\u001b[0m\n\u001b[1;32m-> 2597\u001b[1;33m         \u001b[0mself\u001b[0m\u001b[1;33m.\u001b[0m\u001b[0m_data\u001b[0m\u001b[1;33m.\u001b[0m\u001b[0mset\u001b[0m\u001b[1;33m(\u001b[0m\u001b[0mkey\u001b[0m\u001b[1;33m,\u001b[0m \u001b[0mvalue\u001b[0m\u001b[1;33m)\u001b[0m\u001b[1;33m\u001b[0m\u001b[0m\n\u001b[0m\u001b[0;32m   2598\u001b[0m         \u001b[0mself\u001b[0m\u001b[1;33m.\u001b[0m\u001b[0m_clear_item_cache\u001b[0m\u001b[1;33m(\u001b[0m\u001b[1;33m)\u001b[0m\u001b[1;33m\u001b[0m\u001b[0m\n\u001b[0;32m   2599\u001b[0m \u001b[1;33m\u001b[0m\u001b[0m\n",
      "\u001b[1;32m~\\Anaconda3\\lib\\site-packages\\pandas\\core\\internals.py\u001b[0m in \u001b[0;36mset\u001b[1;34m(self, item, value, check)\u001b[0m\n\u001b[0;32m   4244\u001b[0m         \u001b[1;32mexcept\u001b[0m \u001b[0mKeyError\u001b[0m\u001b[1;33m:\u001b[0m\u001b[1;33m\u001b[0m\u001b[0m\n\u001b[0;32m   4245\u001b[0m             \u001b[1;31m# This item wasn't present, just insert at end\u001b[0m\u001b[1;33m\u001b[0m\u001b[1;33m\u001b[0m\u001b[0m\n\u001b[1;32m-> 4246\u001b[1;33m             \u001b[0mself\u001b[0m\u001b[1;33m.\u001b[0m\u001b[0minsert\u001b[0m\u001b[1;33m(\u001b[0m\u001b[0mlen\u001b[0m\u001b[1;33m(\u001b[0m\u001b[0mself\u001b[0m\u001b[1;33m.\u001b[0m\u001b[0mitems\u001b[0m\u001b[1;33m)\u001b[0m\u001b[1;33m,\u001b[0m \u001b[0mitem\u001b[0m\u001b[1;33m,\u001b[0m \u001b[0mvalue\u001b[0m\u001b[1;33m)\u001b[0m\u001b[1;33m\u001b[0m\u001b[0m\n\u001b[0m\u001b[0;32m   4247\u001b[0m             \u001b[1;32mreturn\u001b[0m\u001b[1;33m\u001b[0m\u001b[0m\n\u001b[0;32m   4248\u001b[0m \u001b[1;33m\u001b[0m\u001b[0m\n",
      "\u001b[1;32m~\\Anaconda3\\lib\\site-packages\\pandas\\core\\internals.py\u001b[0m in \u001b[0;36minsert\u001b[1;34m(self, loc, item, value, allow_duplicates)\u001b[0m\n\u001b[0;32m   4345\u001b[0m \u001b[1;33m\u001b[0m\u001b[0m\n\u001b[0;32m   4346\u001b[0m         block = make_block(values=value, ndim=self.ndim,\n\u001b[1;32m-> 4347\u001b[1;33m                            placement=slice(loc, loc + 1))\n\u001b[0m\u001b[0;32m   4348\u001b[0m \u001b[1;33m\u001b[0m\u001b[0m\n\u001b[0;32m   4349\u001b[0m         \u001b[1;32mfor\u001b[0m \u001b[0mblkno\u001b[0m\u001b[1;33m,\u001b[0m \u001b[0mcount\u001b[0m \u001b[1;32min\u001b[0m \u001b[0m_fast_count_smallints\u001b[0m\u001b[1;33m(\u001b[0m\u001b[0mself\u001b[0m\u001b[1;33m.\u001b[0m\u001b[0m_blknos\u001b[0m\u001b[1;33m[\u001b[0m\u001b[0mloc\u001b[0m\u001b[1;33m:\u001b[0m\u001b[1;33m]\u001b[0m\u001b[1;33m)\u001b[0m\u001b[1;33m:\u001b[0m\u001b[1;33m\u001b[0m\u001b[0m\n",
      "\u001b[1;32m~\\Anaconda3\\lib\\site-packages\\pandas\\core\\internals.py\u001b[0m in \u001b[0;36mmake_block\u001b[1;34m(values, placement, klass, ndim, dtype, fastpath)\u001b[0m\n\u001b[0;32m   3203\u001b[0m                      placement=placement, dtype=dtype)\n\u001b[0;32m   3204\u001b[0m \u001b[1;33m\u001b[0m\u001b[0m\n\u001b[1;32m-> 3205\u001b[1;33m     \u001b[1;32mreturn\u001b[0m \u001b[0mklass\u001b[0m\u001b[1;33m(\u001b[0m\u001b[0mvalues\u001b[0m\u001b[1;33m,\u001b[0m \u001b[0mndim\u001b[0m\u001b[1;33m=\u001b[0m\u001b[0mndim\u001b[0m\u001b[1;33m,\u001b[0m \u001b[0mplacement\u001b[0m\u001b[1;33m=\u001b[0m\u001b[0mplacement\u001b[0m\u001b[1;33m)\u001b[0m\u001b[1;33m\u001b[0m\u001b[0m\n\u001b[0m\u001b[0;32m   3206\u001b[0m \u001b[1;33m\u001b[0m\u001b[0m\n\u001b[0;32m   3207\u001b[0m \u001b[1;31m# TODO: flexible with index=None and/or items=None\u001b[0m\u001b[1;33m\u001b[0m\u001b[1;33m\u001b[0m\u001b[0m\n",
      "\u001b[1;32m~\\Anaconda3\\lib\\site-packages\\pandas\\core\\internals.py\u001b[0m in \u001b[0;36m__init__\u001b[1;34m(self, values, placement, ndim)\u001b[0m\n\u001b[0;32m    123\u001b[0m             raise ValueError(\n\u001b[0;32m    124\u001b[0m                 \u001b[1;34m'Wrong number of items passed {val}, placement implies '\u001b[0m\u001b[1;33m\u001b[0m\u001b[0m\n\u001b[1;32m--> 125\u001b[1;33m                 '{mgr}'.format(val=len(self.values), mgr=len(self.mgr_locs)))\n\u001b[0m\u001b[0;32m    126\u001b[0m \u001b[1;33m\u001b[0m\u001b[0m\n\u001b[0;32m    127\u001b[0m     \u001b[1;32mdef\u001b[0m \u001b[0m_check_ndim\u001b[0m\u001b[1;33m(\u001b[0m\u001b[0mself\u001b[0m\u001b[1;33m,\u001b[0m \u001b[0mvalues\u001b[0m\u001b[1;33m,\u001b[0m \u001b[0mndim\u001b[0m\u001b[1;33m)\u001b[0m\u001b[1;33m:\u001b[0m\u001b[1;33m\u001b[0m\u001b[0m\n",
      "\u001b[1;31mValueError\u001b[0m: Wrong number of items passed 4, placement implies 1"
     ]
    }
   ],
   "source": [
    "from sklearn.preprocessing import OneHotEncoder\n",
    "Oh_encider_4= OneHotEncoder(sparse=False)\n",
    "housing_train_set['a','d','f','g'] = Oh_encider_4.fit_transform(LotConfig_2_rs)\n",
    "housing_train_set.head()"
   ]
  },
  {
   "cell_type": "code",
   "execution_count": 998,
   "metadata": {},
   "outputs": [
    {
     "data": {
      "text/plain": [
       "Id                       0\n",
       "MSSubClass               0\n",
       "MSZoning                 0\n",
       "LotFrontage              0\n",
       "LotArea                  0\n",
       "Street                   0\n",
       "LotShape                 0\n",
       "LandContour              0\n",
       "Utilities                0\n",
       "LotConfig                0\n",
       "LandSlope                0\n",
       "Condition1               0\n",
       "Condition2               0\n",
       "BldgType                 0\n",
       "HouseStyle               0\n",
       "OverallQual              0\n",
       "OverallCond              0\n",
       "YearBuilt                0\n",
       "YearRemodAdd             0\n",
       "RoofStyle                0\n",
       "RoofMatl                 0\n",
       "Exterior1st              0\n",
       "Exterior2nd              0\n",
       "ExterQual                0\n",
       "ExterCond                0\n",
       "Foundation               0\n",
       "BsmtQual                31\n",
       "BsmtCond                 0\n",
       "BsmtExposure            32\n",
       "BsmtFinType1            31\n",
       "                        ..\n",
       "SaleType                 0\n",
       "SaleCondition            0\n",
       "SalePrice                0\n",
       "SaleCondBin              0\n",
       "MapSubClass              0\n",
       "MSZoning_cat             0\n",
       "Neighborhood_Blueste     0\n",
       "Neighborhood_BrDale      0\n",
       "Neighborhood_BrkSide     0\n",
       "Neighborhood_ClearCr     0\n",
       "Neighborhood_CollgCr     0\n",
       "Neighborhood_Crawfor     0\n",
       "Neighborhood_Edwards     0\n",
       "Neighborhood_Gilbert     0\n",
       "Neighborhood_IDOTRR      0\n",
       "Neighborhood_MeadowV     0\n",
       "Neighborhood_Mitchel     0\n",
       "Neighborhood_NAmes       0\n",
       "Neighborhood_NPkVill     0\n",
       "Neighborhood_NWAmes      0\n",
       "Neighborhood_NoRidge     0\n",
       "Neighborhood_NridgHt     0\n",
       "Neighborhood_OldTown     0\n",
       "Neighborhood_SWISU       0\n",
       "Neighborhood_Sawyer      0\n",
       "Neighborhood_SawyerW     0\n",
       "Neighborhood_Somerst     0\n",
       "Neighborhood_StoneBr     0\n",
       "Neighborhood_Timber      0\n",
       "Neighborhood_Veenker     0\n",
       "Length: 101, dtype: int64"
      ]
     },
     "execution_count": 998,
     "metadata": {},
     "output_type": "execute_result"
    }
   ],
   "source": [
    "housing_train_set.isnull().sum()"
   ]
  },
  {
   "cell_type": "code",
   "execution_count": 1007,
   "metadata": {},
   "outputs": [
    {
     "data": {
      "text/plain": [
       "<matplotlib.axes._subplots.AxesSubplot at 0x2324bd5ab38>"
      ]
     },
     "execution_count": 1007,
     "metadata": {},
     "output_type": "execute_result"
    },
    {
     "data": {
      "image/png": "[encoded data removed]",
      "text/plain": [
       "<Figure size 432x288 with 1 Axes>"
      ]
     },
     "metadata": {},
     "output_type": "display_data"
    }
   ],
   "source": [
    "sns.heatmap(housing_train_set.isnull(),yticklabels=False,cbar=False,cmap='YlGnBu')"
   ]
  },
  {
   "cell_type": "code",
   "execution_count": 1008,
   "metadata": {},
   "outputs": [
    {
     "data": {
      "text/plain": [
       "Id                       0\n",
       "MSSubClass               0\n",
       "MSZoning                 0\n",
       "LotFrontage              0\n",
       "LotArea                  0\n",
       "Street                   0\n",
       "LotShape                 0\n",
       "LandContour              0\n",
       "Utilities                0\n",
       "LotConfig                0\n",
       "LandSlope                0\n",
       "Condition1               0\n",
       "Condition2               0\n",
       "BldgType                 0\n",
       "HouseStyle               0\n",
       "OverallQual              0\n",
       "OverallCond              0\n",
       "YearBuilt                0\n",
       "YearRemodAdd             0\n",
       "RoofStyle                0\n",
       "RoofMatl                 0\n",
       "Exterior1st              0\n",
       "Exterior2nd              0\n",
       "ExterQual                0\n",
       "ExterCond                0\n",
       "Foundation               0\n",
       "BsmtQual                31\n",
       "BsmtCond                 0\n",
       "BsmtExposure            32\n",
       "BsmtFinType1            31\n",
       "                        ..\n",
       "SaleType                 0\n",
       "SaleCondition            0\n",
       "SalePrice                0\n",
       "SaleCondBin              0\n",
       "MapSubClass              0\n",
       "MSZoning_cat             0\n",
       "Neighborhood_Blueste     0\n",
       "Neighborhood_BrDale      0\n",
       "Neighborhood_BrkSide     0\n",
       "Neighborhood_ClearCr     0\n",
       "Neighborhood_CollgCr     0\n",
       "Neighborhood_Crawfor     0\n",
       "Neighborhood_Edwards     0\n",
       "Neighborhood_Gilbert     0\n",
       "Neighborhood_IDOTRR      0\n",
       "Neighborhood_MeadowV     0\n",
       "Neighborhood_Mitchel     0\n",
       "Neighborhood_NAmes       0\n",
       "Neighborhood_NPkVill     0\n",
       "Neighborhood_NWAmes      0\n",
       "Neighborhood_NoRidge     0\n",
       "Neighborhood_NridgHt     0\n",
       "Neighborhood_OldTown     0\n",
       "Neighborhood_SWISU       0\n",
       "Neighborhood_Sawyer      0\n",
       "Neighborhood_SawyerW     0\n",
       "Neighborhood_Somerst     0\n",
       "Neighborhood_StoneBr     0\n",
       "Neighborhood_Timber      0\n",
       "Neighborhood_Veenker     0\n",
       "Length: 101, dtype: int64"
      ]
     },
     "execution_count": 1008,
     "metadata": {},
     "output_type": "execute_result"
    }
   ],
   "source": [
    "housing_train_set.isnull().sum()"
   ]
  },
  {
   "cell_type": "code",
   "execution_count": null,
   "metadata": {},
   "outputs": [],
   "source": []
  }
 ],
 "metadata": {
  "kernelspec": {
   "display_name": "Python 3",
   "language": "python",
   "name": "python3"
  },
  "language_info": {
   "codemirror_mode": {
    "name": "ipython",
    "version": 3
   },
   "file_extension": ".py",
   "mimetype": "text/x-python",
   "name": "python",
   "nbconvert_exporter": "python",
   "pygments_lexer": "ipython3",
   "version": "3.7.4"
  }
 },
 "nbformat": 4,
 "nbformat_minor": 2
}
